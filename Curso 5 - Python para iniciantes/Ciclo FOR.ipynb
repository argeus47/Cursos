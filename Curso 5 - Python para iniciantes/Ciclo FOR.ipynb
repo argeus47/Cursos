{
 "cells": [
  {
   "cell_type": "markdown",
   "metadata": {},
   "source": [
    "# Ciclo For"
   ]
  },
  {
   "cell_type": "code",
   "execution_count": 31,
   "metadata": {},
   "outputs": [
    {
     "name": "stdout",
     "output_type": "stream",
     "text": [
      "Introduce una palabra: hola\n",
      "a\n",
      "l\n",
      "o\n",
      "h\n"
     ]
    }
   ],
   "source": [
    "x=str(input(\"Introduce una palabra: \"))\n",
    "\n",
    "i = []\n",
    "for i in range(len(x)-1, -1, -1): ## función range = Inicio, fin, paso \n",
    "    print(x[i])"
   ]
  },
  {
   "cell_type": "code",
   "execution_count": 2,
   "metadata": {},
   "outputs": [
    {
     "name": "stdout",
     "output_type": "stream",
     "text": [
      "0\n",
      "1\n",
      "2\n",
      "3\n",
      "4\n"
     ]
    }
   ],
   "source": [
    "for x in range(5): # Cadena de caracteres el cual va siendo guardado en X pero es un rango del 0 al 4\n",
    "    print(x)"
   ]
  },
  {
   "cell_type": "code",
   "execution_count": 3,
   "metadata": {},
   "outputs": [
    {
     "name": "stdout",
     "output_type": "stream",
     "text": [
      "20\n",
      "21\n",
      "22\n",
      "23\n",
      "24\n",
      "25\n",
      "26\n",
      "27\n",
      "28\n",
      "29\n",
      "30\n"
     ]
    }
   ],
   "source": [
    "for x in range(20,31): # Cadena de caracteres que va siendo guardado en x pero es un rango del 20 al 31\n",
    "    print(x)"
   ]
  },
  {
   "cell_type": "code",
   "execution_count": 4,
   "metadata": {},
   "outputs": [
    {
     "name": "stdout",
     "output_type": "stream",
     "text": [
      "1\n",
      "3\n",
      "5\n",
      "7\n",
      "9\n",
      "11\n",
      "13\n",
      "15\n",
      "17\n",
      "19\n"
     ]
    }
   ],
   "source": [
    "for x in range(1,20,2): # cadena del 1 al 20 pero solo cuenta cada 2 espacios\n",
    "    print(x)"
   ]
  },
  {
   "cell_type": "markdown",
   "metadata": {},
   "source": [
    "Desarrollar un programa que permita la carga de 10 valores por teclado \n",
    "y nos muestre posteriormente la suma de los valores ingresados y su promedio. \n",
    "Este problema ya lo desarrollamos, lo resolveremos empleando la estructura for para repetir la carga de los diez valores por teclado."
   ]
  },
  {
   "cell_type": "code",
   "execution_count": 15,
   "metadata": {},
   "outputs": [
    {
     "name": "stdout",
     "output_type": "stream",
     "text": [
      "Ingrese un rango: 5\n",
      "Inserir valor: 5\n",
      "Inserir valor: 4\n",
      "Inserir valor: 3\n",
      "Inserir valor: 2\n",
      "Inserir valor: 1\n",
      "el resultado de la suma total es:  15\n",
      "El resultado del promedio total es:  3.0\n"
     ]
    }
   ],
   "source": [
    "r = int(input(\"Ingrese un rango: \"))\n",
    "x = []\n",
    "suma = 0\n",
    "for i in range(r):\n",
    "    x = int(input(\"Inserir valor: \" ))\n",
    "    suma = suma+x\n",
    "    promedio = suma/r\n",
    "    \n",
    "print(\"el resultado de la suma total es: \", suma)\n",
    "print(\"El resultado del promedio total es: \", promedio)"
   ]
  },
  {
   "cell_type": "code",
   "execution_count": null,
   "metadata": {},
   "outputs": [],
   "source": []
  },
  {
   "cell_type": "markdown",
   "metadata": {},
   "source": [
    "Escribir un programa que solicite por teclado 10 \n",
    "notas de alumnos y nos informe cuántos tienen notas \n",
    "mayores o iguales a 7 y cuántos menores."
   ]
  },
  {
   "cell_type": "code",
   "execution_count": 25,
   "metadata": {},
   "outputs": [
    {
     "name": "stdout",
     "output_type": "stream",
     "text": [
      "Ingrese la cantidad de notas: 7\n",
      "Inserir valor de la nota: 9\n",
      "Inserir valor de la nota: 8\n",
      "Inserir valor de la nota: 7\n",
      "Inserir valor de la nota: 6\n",
      "Inserir valor de la nota: 5\n",
      "Inserir valor de la nota: 2\n",
      "Inserir valor de la nota: 9\n",
      " \n",
      "Notas mayores que 7 son:  4\n",
      "Notas menores que 7 3\n"
     ]
    }
   ],
   "source": [
    "n = int(input(\"Ingrese la cantidad de notas: \"))\n",
    "x = []\n",
    "M = 0\n",
    "m = 0\n",
    "for i in range(n):\n",
    "    x = int(input(\"Inserir valor de la nota: \" ))\n",
    "    \n",
    "    if x>=7:\n",
    "        M = M+1\n",
    "        \n",
    "    else:\n",
    "        m = 1+m\n",
    "print(\" \") # Lo hce para sacar un espacio de inserir valor a la respuesta impresa       \n",
    "print(\"Notas mayores que 7 son: \", M)\n",
    "print(\"Notas menores que 7\", m)"
   ]
  },
  {
   "cell_type": "code",
   "execution_count": null,
   "metadata": {},
   "outputs": [],
   "source": []
  },
  {
   "cell_type": "markdown",
   "metadata": {},
   "source": [
    "Escribir un programa que lea 10 números enteros y luego \n",
    "muestre cuántos valores ingresados fueron múltiplos de 3 y cuántos de 5. \n",
    "Debemos tener en cuenta que hay números que son múltiplos de 3 y de 5 a la vez."
   ]
  },
  {
   "cell_type": "code",
   "execution_count": 29,
   "metadata": {},
   "outputs": [
    {
     "name": "stdout",
     "output_type": "stream",
     "text": [
      "Ingrese la longitud del rango: 9\n",
      "Inserir valor: 9\n",
      "Inserir valor: 25\n",
      "Inserir valor: 15\n",
      "Inserir valor: 35\n",
      "Inserir valor: 81\n",
      "Inserir valor: 27\n",
      "Inserir valor: 65\n",
      "Inserir valor: 12\n",
      "Inserir valor: 21\n",
      " \n",
      "cantidad de multiplos de 3 =  6\n",
      "cantidad de multiplos de 5 =  4\n",
      "cantidad de multiplos de 35 =  1\n"
     ]
    }
   ],
   "source": [
    "n = int(input(\"Ingrese la longitud del rango: \"))\n",
    "x = []\n",
    "suma3 = 0\n",
    "suma5 = 0\n",
    "suma35 = 0\n",
    "for i in range(n):\n",
    "    x = int(input(\"Inserir valor: \" ))\n",
    "    if x%3==0:\n",
    "        suma3= suma3+1 # Para el contador\n",
    "    if x%5==0:\n",
    "        suma5 = suma5+1 # Para el contador\n",
    "    if x%5==0 and x%3==0:\n",
    "        suma35 = suma35+1 # Para el contador\n",
    "print(\" \")\n",
    "print(\"cantidad de multiplos de 3 = \", suma3)\n",
    "print(\"cantidad de multiplos de 5 = \", suma5)\n",
    "print(\"cantidad de multiplos de 35 = \", suma35)"
   ]
  },
  {
   "cell_type": "code",
   "execution_count": null,
   "metadata": {},
   "outputs": [],
   "source": []
  },
  {
   "cell_type": "markdown",
   "metadata": {},
   "source": [
    "Codificar un programa que lea n números enteros y calcule la cantidad de \n",
    "valores mayores o iguales a 1000 (n se carga por teclado)\n",
    "Este tipo de problemas también se puede resolver empleando la estructura repetitiva for. \n",
    "Lo primero que se hace es cargar una variable que indique la cantidad de valores a ingresar. \n",
    "Dicha variable se carga antes de entrar a la estructura repetitiva for."
   ]
  },
  {
   "cell_type": "code",
   "execution_count": 33,
   "metadata": {},
   "outputs": [
    {
     "name": "stdout",
     "output_type": "stream",
     "text": [
      "Ingrese la longitud del rango: 7\n",
      "Inserir valor que sea 1000 mayor o menor: 1050\n",
      "Inserir valor que sea 1000 mayor o menor: 1500\n",
      "Inserir valor que sea 1000 mayor o menor: 3000\n",
      "Inserir valor que sea 1000 mayor o menor: 500\n",
      "Inserir valor que sea 1000 mayor o menor: 900\n",
      "Inserir valor que sea 1000 mayor o menor: 150\n",
      "Inserir valor que sea 1000 mayor o menor: 0\n",
      " \n",
      "cantidad de numeros inseridos mayor a 1000 son =  3\n",
      "cantidad de numeros inseridos menor a 1000 son =  4\n"
     ]
    }
   ],
   "source": [
    "n = int(input(\"Ingrese la longitud del rango: \"))\n",
    "x = []\n",
    "SUMAMAYOR = 0\n",
    "sumamenor = 0\n",
    "\n",
    "for i in range(n):\n",
    "    x = int(input(\"Inserir valor que sea 1000 mayor o menor: \" ))\n",
    "    if x >= 1000:\n",
    "        SUMAMAYOR= SUMAMAYOR+1# Para el contador\n",
    "    else:\n",
    "        sumamenor = sumamenor+1# Para el contador\n",
    "    \n",
    "print(\" \")\n",
    "print(\"cantidad de numeros inseridos mayor a 1000 son = \", SUMAMAYOR)\n",
    "print(\"cantidad de numeros inseridos menor a 1000 son = \", sumamenor)"
   ]
  },
  {
   "cell_type": "code",
   "execution_count": null,
   "metadata": {},
   "outputs": [],
   "source": []
  },
  {
   "cell_type": "markdown",
   "metadata": {},
   "source": [
    "Confeccionar un programa que lea n pares de datos, cada par de datos \n",
    "corresponde a la medida de la base y la altura de un triángulo. \n",
    "El programa deberá informar:\n",
    "a) De cada triángulo la medida de su base, su altura y su superficie.\n",
    "b) La cantidad de triángulos cuya (superficie = area) es mayor a 12."
   ]
  },
  {
   "cell_type": "code",
   "execution_count": 47,
   "metadata": {},
   "outputs": [
    {
     "name": "stdout",
     "output_type": "stream",
     "text": [
      "Cantidad de datos para leer: 3\n",
      "Inserir un valor para la base: 5\n",
      "Inserir un valor para la altura: 4\n",
      "base:  5 altura:  4 superficie:  10.0\n",
      "Inserir un valor para la base: 3\n",
      "Inserir un valor para la altura: 4\n",
      "base:  3 altura:  4 superficie:  6.0\n",
      "Inserir un valor para la base: 12\n",
      "Inserir un valor para la altura: 20\n",
      "base:  12 altura:  20 superficie:  120.0\n",
      "La cantidad de triangulos cuya superficie es mayor a 12 es:  1\n"
     ]
    }
   ],
   "source": [
    "import math\n",
    "\n",
    "n = int(input(\"Cantidad de datos para leer: \"))\n",
    "\n",
    "base=[]\n",
    "altura = []\n",
    "superficie = []\n",
    "contsuperficie = 0 # Para el contador contador\n",
    "for i in range(n):\n",
    "    base = int(input(\"Inserir un valor para la base: \"))\n",
    "    altura = int(input(\"Inserir un valor para la altura: \"))\n",
    "    superficie = (base*altura)/2\n",
    "    \n",
    "   \n",
    "    if superficie>12:\n",
    "        contsuperficie = contsuperficie+1 # Para el contador\n",
    "    \n",
    "    \n",
    "    print(\"base: \", base, \"altura: \", altura, \"superficie: \", superficie)\n",
    "print(\"La cantidad de triangulos cuya superficie es mayor a 12 es: \", contsuperficie)"
   ]
  },
  {
   "cell_type": "code",
   "execution_count": null,
   "metadata": {},
   "outputs": [],
   "source": []
  },
  {
   "cell_type": "markdown",
   "metadata": {},
   "source": [
    "Desarrollar un programa que solicite la carga de 10 números e imprima la suma \n",
    "de los últimos 5 valores ingresados.\n"
   ]
  },
  {
   "cell_type": "code",
   "execution_count": 8,
   "metadata": {},
   "outputs": [
    {
     "name": "stdout",
     "output_type": "stream",
     "text": [
      "Cantidad de datos para leer: 9\n",
      "Inserir un valor : 9\n",
      "Inserir un valor : 8\n",
      "Inserir un valor : 7\n",
      "Inserir un valor : 6\n",
      "Inserir un valor : 5\n",
      "Inserir un valor : 4\n",
      "Inserir un valor : 3\n",
      "Inserir un valor : 2\n",
      "Inserir un valor : 1\n",
      "La suma de los ultimos 5 valores es:  10\n"
     ]
    }
   ],
   "source": [
    "n = int(input(\"Cantidad de datos para leer: \"))\n",
    "valor = []\n",
    "suma = 0\n",
    "for i in range(n):\n",
    "    valor = int(input(\"Inserir un valor : \"))\n",
    "    if i>= 5:\n",
    "        suma = valor+suma\n",
    "   \n",
    "\n",
    "print(\"La suma de los ultimos 5 valores es: \", suma)"
   ]
  },
  {
   "cell_type": "code",
   "execution_count": null,
   "metadata": {},
   "outputs": [],
   "source": []
  },
  {
   "cell_type": "markdown",
   "metadata": {},
   "source": [
    "Desarrollar un programa que muestre la tabla de multiplicar insiriendo el rango"
   ]
  },
  {
   "cell_type": "code",
   "execution_count": 28,
   "metadata": {},
   "outputs": [
    {
     "name": "stdout",
     "output_type": "stream",
     "text": [
      "Inserir un valor minimo: 3\n",
      "Inserir un valor maximo: 5\n",
      "3 . 0 = 0\n",
      "3 . 1 = 3\n",
      "3 . 2 = 6\n",
      "3 . 3 = 9\n",
      "3 . 4 = 12\n",
      "3 . 5 = 15\n",
      "3 . 6 = 18\n",
      "3 . 7 = 21\n",
      "3 . 8 = 24\n",
      "3 . 9 = 27\n",
      "4 . 0 = 0\n",
      "4 . 1 = 4\n",
      "4 . 2 = 8\n",
      "4 . 3 = 12\n",
      "4 . 4 = 16\n",
      "4 . 5 = 20\n",
      "4 . 6 = 24\n",
      "4 . 7 = 28\n",
      "4 . 8 = 32\n",
      "4 . 9 = 36\n",
      "5 . 0 = 0\n",
      "5 . 1 = 5\n",
      "5 . 2 = 10\n",
      "5 . 3 = 15\n",
      "5 . 4 = 20\n",
      "5 . 5 = 25\n",
      "5 . 6 = 30\n",
      "5 . 7 = 35\n",
      "5 . 8 = 40\n",
      "5 . 9 = 45\n"
     ]
    }
   ],
   "source": [
    "m= int(input(\"Inserir un valor minimo: \"))\n",
    "M= int(input(\"Inserir un valor maximo: \"))\n",
    "f= []\n",
    "for i in range(m, M+1): # Le coloco +1 al rango final para que me aparezca en el resultado\n",
    "    for f in range(0,10):\n",
    "        x = i*f\n",
    "        print(i, \".\", f, \"=\", x)"
   ]
  },
  {
   "cell_type": "code",
   "execution_count": null,
   "metadata": {},
   "outputs": [],
   "source": []
  },
  {
   "cell_type": "markdown",
   "metadata": {},
   "source": [
    "Desarrollar un programa que muestre la tabla de multiplicar del 5 (del 5 a un numero \"M\")\n",
    "del resultado 5 hasta la ultima multiplicación que da como resultado 50."
   ]
  },
  {
   "cell_type": "code",
   "execution_count": 44,
   "metadata": {},
   "outputs": [
    {
     "name": "stdout",
     "output_type": "stream",
     "text": [
      "Inserir un valor maximo: 100\n",
      "5 . 0 = 0\n",
      "5 . 1 = 5\n",
      "5 . 2 = 10\n",
      "5 . 3 = 15\n",
      "5 . 4 = 20\n",
      "5 . 5 = 25\n",
      "5 . 6 = 30\n",
      "5 . 7 = 35\n",
      "5 . 8 = 40\n",
      "5 . 9 = 45\n",
      "5 . 10 = 50\n"
     ]
    }
   ],
   "source": [
    "M= int(input(\"Inserir un valor maximo: \"))\n",
    "x= []\n",
    "for i in range(1, M+1): # Le coloco +1 al rango final para que me aparezca en el resultado\n",
    "    x = i*5\n",
    "    \n",
    "    if x <= 50: # Esto es para que no pase del valor 50\n",
    "        print(5, \".\", i, \"=\", x)\n",
    "        "
   ]
  },
  {
   "cell_type": "code",
   "execution_count": null,
   "metadata": {},
   "outputs": [],
   "source": []
  },
  {
   "cell_type": "markdown",
   "metadata": {},
   "source": [
    "Confeccionar un programa que permita ingresar un valor del 1 al 10 y nos muestre \n",
    "la tabla de multiplicar del mismo (los primeros 12 términos)\n",
    "Ejemplo: Si ingreso 3 deberá aparecer en pantalla los valores 3, 6, 9, hasta el 36."
   ]
  },
  {
   "cell_type": "code",
   "execution_count": 64,
   "metadata": {},
   "outputs": [
    {
     "name": "stdout",
     "output_type": "stream",
     "text": [
      "Inserir un valor maximo: 3\n",
      "3 . 1 =  3\n",
      "3 . 2 =  6\n",
      "3 . 3 =  9\n",
      "3 . 4 =  12\n",
      "3 . 5 =  15\n",
      "3 . 6 =  18\n",
      "3 . 7 =  21\n",
      "3 . 8 =  24\n",
      "3 . 9 =  27\n",
      "3 . 10 =  30\n",
      "3 . 11 =  33\n",
      "3 . 12 =  36\n"
     ]
    }
   ],
   "source": [
    "M= int(input(\"Inserir un valor maximo: \"))\n",
    "f= []\n",
    "for i in range(1, 13): \n",
    "    f = i*M\n",
    "    print(M, \".\", i, \"= \", f)\n",
    "        "
   ]
  },
  {
   "cell_type": "code",
   "execution_count": null,
   "metadata": {},
   "outputs": [],
   "source": []
  },
  {
   "cell_type": "markdown",
   "metadata": {},
   "source": [
    "Realizar un programa que lea los lados de n triángulos, e informar:\n",
    "a) De cada uno de ellos, qué tipo de triángulo es: equilátero (tres lados iguales), isósceles (dos lados iguales), o escaleno (ningún lado igual)\n",
    "b) Cantidad de triángulos de cada tipo"
   ]
  },
  {
   "cell_type": "code",
   "execution_count": 79,
   "metadata": {},
   "outputs": [
    {
     "name": "stdout",
     "output_type": "stream",
     "text": [
      "Cantidad de datos para leer: 2\n",
      "Inserir un valor para la base: 1\n",
      "Inserir un valor para la altura: 1\n",
      "Inserir un valor para la hipotenusa: 1\n",
      "Equilatero:\n",
      "base:  1 altura:  1 superficie:  1\n",
      "Inserir un valor para la base: 2\n",
      "Inserir un valor para la altura: 2\n",
      "Inserir un valor para la hipotenusa: 2\n",
      "Equilatero:\n",
      "base:  2 altura:  2 superficie:  2\n",
      "Cantidad de equilatero tres lados iguales)=:  2\n",
      "Cantidad de escaleno ningún lado igual)=:  0\n",
      "Cantidad de isoseles dos lados iguales=:  0\n"
     ]
    }
   ],
   "source": [
    "import math\n",
    "\n",
    "n = int(input(\"Cantidad de datos para leer: \"))\n",
    "\n",
    "base=[]\n",
    "altura = []\n",
    "hipotenusa = []\n",
    "equilatero = 0 # Para el contador contador\n",
    "isoseles = 0\n",
    "escaleno = 0\n",
    "for i in range(n):\n",
    "    base = int(input(\"Inserir un valor para la base: \"))\n",
    "    altura = int(input(\"Inserir un valor para la altura: \"))\n",
    "    hipotenusa = int(input(\"Inserir un valor para la hipotenusa: \"))\n",
    "    \n",
    "    if base == altura:\n",
    "        if base == hipotenusa:\n",
    "            equilatero = equilatero + 1 # Contador\n",
    "            print(\"Equilatero:\")\n",
    "    if base != altura:\n",
    "        if base != hipotenusa:\n",
    "            escaleno = escaleno + 1 # Contador\n",
    "            print(\"Escaleno:\")\n",
    "        \n",
    "    if base == altura:\n",
    "        if base != hipotenusa:\n",
    "            isoseles = isoseles + 1 # Contador\n",
    "            print(\"Isoseles:\")\n",
    "    \n",
    "    print(\"base: \", base, \"altura: \", altura, \"superficie: \", hipotenusa)\n",
    "print(\"Cantidad de equilatero tres lados iguales)=: \", equilatero)\n",
    "print(\"Cantidad de escaleno ningún lado igual)=: \", escaleno)\n",
    "print(\"Cantidad de isoseles dos lados iguales=: \", isoseles)\n"
   ]
  },
  {
   "cell_type": "code",
   "execution_count": null,
   "metadata": {},
   "outputs": [],
   "source": []
  },
  {
   "cell_type": "markdown",
   "metadata": {},
   "source": [
    "Escribir un programa que pida ingresar coordenadas (x,y) que representan puntos en el plano.\n",
    "Informar cuántos puntos se han ingresado en el primer, segundo, tercer y cuarto cuadrante. Al comenzar el programa se pide que se ingrese la cantidad de puntos a procesar."
   ]
  },
  {
   "cell_type": "code",
   "execution_count": 6,
   "metadata": {},
   "outputs": [
    {
     "name": "stdout",
     "output_type": "stream",
     "text": [
      "Ingresa la cantidad de puntos en el plano que quiere leer: 3\n",
      "Introduce un numero real para el Eje X: 1\n",
      "Introduce un numero real para el Eje y: 2\n",
      "Esta en el I cuadrante del eje cartesiano\n",
      " \n",
      "Introduce un numero real para el Eje X: 5\n",
      "Introduce un numero real para el Eje y: -2\n",
      "Esta en el IV cuadrante del eje cartesiano\n",
      "Introduce un numero real para el Eje X: -3\n",
      "Introduce un numero real para el Eje y: -2\n",
      "Esta en el III cuadrante del eje cartesiano\n",
      "La cantidad de puntos en el cuadrante 1 es:  1\n",
      "La cantidad de puntos en el cuadrante 2 es:  0\n",
      "La cantidad de puntos en el cuadrante 3 es:  1\n",
      "La cantidad de puntos en el cuadrante 4 es:  1\n"
     ]
    }
   ],
   "source": [
    "n = int(input(\"Ingresa la cantidad de puntos en el plano que quiere leer: \"))\n",
    "\n",
    "cuadrante1 = 0\n",
    "cuadrante2 = 0\n",
    "cuadrante3 = 0\n",
    "cuadrante4 = 0\n",
    "i = []\n",
    "\n",
    "for i in range(n):\n",
    "    x = float(input('Introduce un numero real para el Eje X: '))\n",
    "    y = float(input('Introduce un numero real para el Eje y: '))\n",
    "    \n",
    "    if x> 0 and y>0:\n",
    "        print(\"Esta en el I cuadrante del eje cartesiano\")\n",
    "        cuadrante1 = cuadrante1 + 1\n",
    "        \n",
    "    if x<0 and y>0:\n",
    "        print(\"Esta en el II cuadrante del eje cartesiano\")\n",
    "        cuadrante2 = cuadrante2 + 1\n",
    "        \n",
    "    elif x<0 and y < 0:\n",
    "        print(\"Esta en el III cuadrante del eje cartesiano\")\n",
    "        cuadrante3 = cuadrante3 + 1\n",
    "        \n",
    "    elif x>0 and y <0:\n",
    "        print(\"Esta en el IV cuadrante del eje cartesiano\")\n",
    "        cuadrante4 = cuadrante4 + 1\n",
    "        \n",
    "    else:\n",
    "        print(\" \")\n",
    "\n",
    "print(\"La cantidad de puntos en el cuadrante 1 es: \", cuadrante1)\n",
    "print(\"La cantidad de puntos en el cuadrante 2 es: \", cuadrante2)\n",
    "print(\"La cantidad de puntos en el cuadrante 3 es: \", cuadrante3)\n",
    "print(\"La cantidad de puntos en el cuadrante 4 es: \", cuadrante4)"
   ]
  },
  {
   "cell_type": "code",
   "execution_count": null,
   "metadata": {},
   "outputs": [],
   "source": []
  },
  {
   "cell_type": "markdown",
   "metadata": {},
   "source": [
    "Se realiza la carga de 10 valores enteros por teclado. Se desea conocer:\n",
    "a) La cantidad de valores ingresados negativos.\n",
    "b) La cantidad de valores ingresados positivos.\n",
    "c) La cantidad de múltiplos de 15.\n",
    "d) El valor acumulado de los números ingresados que son pares."
   ]
  },
  {
   "cell_type": "code",
   "execution_count": 10,
   "metadata": {},
   "outputs": [
    {
     "name": "stdout",
     "output_type": "stream",
     "text": [
      "Ingrese una cantidad que quiera leer: 10\n",
      "Ingrese un valor desde - infinito hasta infinito: 135\n",
      "Ingrese un valor desde - infinito hasta infinito: -135\n",
      "Ingrese un valor desde - infinito hasta infinito: 40\n",
      "Ingrese un valor desde - infinito hasta infinito: 12\n",
      "Ingrese un valor desde - infinito hasta infinito: 24\n",
      "Ingrese un valor desde - infinito hasta infinito: -2\n",
      "Ingrese un valor desde - infinito hasta infinito: -5\n",
      "Ingrese un valor desde - infinito hasta infinito: -40\n",
      "Ingrese un valor desde - infinito hasta infinito: 38\n",
      "Ingrese un valor desde - infinito hasta infinito: 36\n",
      "Cantida de numeros positivos:  6\n",
      "Cantida de numeros negativos:  4\n",
      "Cantida de numeros multiplos de 15:  2\n",
      "Valor acumulado de los pares:  108\n"
     ]
    }
   ],
   "source": [
    "n = int(input(\"Ingrese una cantidad que quiera leer: \"))\n",
    "i = []\n",
    "contadorpositivos = 0\n",
    "contadornegativos = 0\n",
    "multiplos15 = 0\n",
    "acum = 0\n",
    "\n",
    "for i in range(n):\n",
    "    valor = int(input(\"Ingrese un valor desde - infinito hasta infinito: \"))\n",
    "    if valor > 0:\n",
    "        contadorpositivos = contadorpositivos+1\n",
    "    else:\n",
    "        contadornegativos = contadornegativos+1\n",
    "    if valor % 15 ==0:\n",
    "        multiplos15 = multiplos15+1\n",
    "    if valor % 2 ==0:\n",
    "        acum = acum + valor\n",
    "print(\"Cantida de numeros positivos: \", contadorpositivos)\n",
    "print(\"Cantida de numeros negativos: \", contadornegativos)\n",
    "print(\"Cantida de numeros multiplos de 15: \", multiplos15)\n",
    "print(\"Valor acumulado de los pares: \", acum)"
   ]
  },
  {
   "cell_type": "code",
   "execution_count": null,
   "metadata": {},
   "outputs": [],
   "source": []
  },
  {
   "cell_type": "markdown",
   "metadata": {},
   "source": [
    "Se cuenta con la siguiente información:\n",
    "Las edades de 5 estudiantes del turno mañana.\n",
    "Las edades de 6 estudiantes del turno tarde.\n",
    "Las edades de 11 estudiantes del turno noche.\n",
    "Las edades de cada estudiante deben ingresarse por teclado.\n",
    "a) Obtener el promedio de las edades de cada turno (tres promedios)\n",
    "b) Imprimir dichos promedios (promedio de cada turno)\n",
    "c) Mostrar por pantalla un mensaje que indique cual de los tres turnos tiene un promedio de edades mayor."
   ]
  },
  {
   "cell_type": "code",
   "execution_count": 7,
   "metadata": {},
   "outputs": [
    {
     "name": "stdout",
     "output_type": "stream",
     "text": [
      "Cuantas veces quieres correr el programa?: 1\n",
      "Ingrese una cantidad que quiera leer de estudiantes del turno de la mañana: 3\n",
      "Ingrese una cantidad que quiera leer de estudiantes del turno de la tarde: 3\n",
      "Ingrese una cantidad que quiera leer de estudiantes del turno de la noche: 3\n",
      "Ingrese la edad del turno de la mañana: 20\n",
      "Ingrese la edad del turno de la mañana: 45\n",
      "Ingrese la edad del turno de la mañana: 50\n",
      "Ingrese la edad del turno de la tarde: 35\n",
      "Ingrese la edad del turno de la tarde: 40\n",
      "Ingrese la edad del turno de la tarde: 60\n",
      "Ingrese la edad del turno de la noche 30\n",
      "Ingrese la edad del turno de la noche 30\n",
      "Ingrese la edad del turno de la noche 12\n",
      "Promedio del 1er turno:  38.33\n",
      "Promedio del 2do turno:  45.0\n",
      "Promedio del 3er turno:  24.0\n",
      "Promedio total de los 3 turnos:  35.78\n",
      "Promedio del 2do turno es mayor a todos:  45.0\n"
     ]
    }
   ],
   "source": [
    "n = int(input(\"Cuantas veces quieres correr el programa?: \"))\n",
    "\n",
    "edad1 = []\n",
    "edad2= []\n",
    "edad3= []\n",
    "acum1 = 0\n",
    "acum2 = 0 \n",
    "acum3 = 0\n",
    "\n",
    "for i in range(n):\n",
    "    \n",
    "    n1 = int(input(\"Ingrese una cantidad que quiera leer de estudiantes del turno de la mañana: \"))\n",
    "    n2 = int(input(\"Ingrese una cantidad que quiera leer de estudiantes del turno de la tarde: \"))\n",
    "    n3 = int(input(\"Ingrese una cantidad que quiera leer de estudiantes del turno de la noche: \"))\n",
    "    \n",
    "    for edad1 in range(n1):\n",
    "        turno1 = int(input(\"Ingrese la edad del turno de la mañana: \"))\n",
    "        acum1 = turno1 + acum1\n",
    "        promedio1 = acum1/n1\n",
    "    \n",
    "    for edad2 in range(n2):\n",
    "        turno2 = int(input(\"Ingrese la edad del turno de la tarde: \"))\n",
    "        acum2 = turno2 + acum2\n",
    "        promedio2 = acum2/n2\n",
    "    \n",
    "    for edad3 in range(n3):\n",
    "        turno3 = int(input(\"Ingrese la edad del turno de la noche \"))\n",
    "        acum3 = turno3 + acum3\n",
    "        promedio3 = acum3/n3\n",
    "        \n",
    "promediototal = (promedio1+promedio2+promedio3)/3\n",
    "\n",
    "print(\"Promedio del 1er turno: \", round(promedio1, 2))\n",
    "print(\"Promedio del 2do turno: \", round(promedio2, 2))\n",
    "print(\"Promedio del 3er turno: \", round(promedio3, 2))\n",
    "print(\"Promedio total de los 3 turnos: \", round(promediototal, 2))\n",
    "\n",
    "if promedio1>promedio2:\n",
    "    print(\"Promedio del 1er turno es mayor a todos: \", round(promedio1,2))\n",
    "    \n",
    "if promedio2>promedio3:\n",
    "    print(\"Promedio del 2do turno es mayor a todos: \", round(promedio2, 2))\n",
    "    \n",
    "if promedio3>promedio1:\n",
    "    print(\"Promedio del 3er turno es mayor a todos: \", round(promedio3, 2))"
   ]
  },
  {
   "cell_type": "code",
   "execution_count": null,
   "metadata": {},
   "outputs": [],
   "source": []
  },
  {
   "cell_type": "markdown",
   "metadata": {},
   "source": [
    "Crea un programa que muestre en pantalla una cantidad números dados por el usuario con un sola función print."
   ]
  },
  {
   "cell_type": "code",
   "execution_count": 1,
   "metadata": {},
   "outputs": [
    {
     "name": "stdout",
     "output_type": "stream",
     "text": [
      "ingrese un rango: 5\n",
      "Ingrese un valor: 20\n",
      "Ingrese un valor: 30\n",
      "Ingrese un valor: 40\n",
      "Ingrese un valor: 100\n",
      "Ingrese un valor: 5\n",
      "Los valores ingresados de la lista son:  [20, 30, 40, 100, 5]\n"
     ]
    }
   ],
   "source": [
    "r = int(input(\"ingrese un rango: \"))\n",
    "\n",
    "lista = []\n",
    "for i in range(1, r+1):\n",
    "    valor = int(input(\"Ingrese un valor: \"))\n",
    "    lista.append(valor)\n",
    "\n",
    "print(\"Los valores ingresados de la lista son: \", lista)"
   ]
  },
  {
   "cell_type": "code",
   "execution_count": null,
   "metadata": {},
   "outputs": [],
   "source": [
    "L1 = 20.25\n",
    "Am = 1.3\n",
    "#Ver como convertir la expresión abajo en un ciclo. \n",
    "#L2 = L1 + Am\n",
    "#L3 = L2 + Am\n",
    "#L4 = L3 + Am\n",
    "#L5 = L4 + Am\n",
    "#L6 = L5 + Am\n",
    "#L7 = L6 + Am\n",
    "#L8 = L7 + Am\n",
    "#L9 = L8 + Am\n",
    "#L10 = L9 + Am\n",
    "#L11 = L10 + Am\n",
    "#L = [L1,L2,L3,L4,L5,L6,L7,L8,L9,L10,L11]\n",
    "#L\n",
    "\n",
    "#Conviertiendo a 2 cifras significativas.\n",
    "#L= [round(num, 2) for num in X]\n",
    "#L\n",
    "\n",
    "#Ver como hacer el acululando a partir de L1\n",
    "\n",
    "# Codigo 1\n",
    "#Lista por extensión\n",
    "[n*Am #Multiplico n que es la cantidad de muestras a estudiar * Am que es la amplitud de intervalos\n",
    " + L1 \n",
    " for n in range(0,11)] #Aplico el for desde la posición n hasta el 11\n",
    "\n",
    "#Codigo 2\n",
    "\n",
    "lista=[L1] #Creo una lista con el primer numero ya en ella\n",
    "for i in range(10): #Recorrido de las veces que se deve repetir\n",
    "    lista.append(lista[i]+Am) #El append adiciona el valor a la lista obtenido \n",
    "                              #y lista(i) es para hacer el recorrido\n",
    "lista\n"
   ]
  },
  {
   "cell_type": "markdown",
   "metadata": {},
   "source": [
    "# FOR ANIDADOS"
   ]
  },
  {
   "cell_type": "markdown",
   "metadata": {},
   "source": [
    "En el ejemplo anterior, el bucle externo (el controlado por i) se ejecuta 3 veces \n",
    "y el bucle interno (el controlado por j) se ejecuta dos veces por cada valor de i.\n",
    "\n",
    "Por ello la instrucción print() se ejecuta en total 6 veces (3 veces que se ejecuta el bucle\n",
    "externo x 2 veces que se ejecuta cada vez el bucle interno = 6 veces)."
   ]
  },
  {
   "cell_type": "code",
   "execution_count": 8,
   "metadata": {},
   "outputs": [
    {
     "name": "stdout",
     "output_type": "stream",
     "text": [
      "i vale 0 y j vale 0\n",
      "i vale 0 y j vale 1\n",
      "i vale 1 y j vale 0\n",
      "i vale 1 y j vale 1\n",
      "i vale 2 y j vale 0\n",
      "i vale 2 y j vale 1\n"
     ]
    }
   ],
   "source": [
    "for i in range(3):\n",
    "    for j in range(2):\n",
    "        print(f\"i vale {i} y j vale {j}\")"
   ]
  },
  {
   "cell_type": "code",
   "execution_count": null,
   "metadata": {},
   "outputs": [],
   "source": []
  },
  {
   "cell_type": "markdown",
   "metadata": {},
   "source": [
    "En este caso, la última instrucción forma parte del cuerpo del bucle interno. Por tanto el valor de i se escribe cada vez que se ejecuta el bucle interno.\n",
    "\n",
    "Puede ver la ejecución paso a paso de este programa utilizando los iconos de avance y retroceso situados abajo a la derecha."
   ]
  },
  {
   "cell_type": "code",
   "execution_count": 9,
   "metadata": {},
   "outputs": [
    {
     "name": "stdout",
     "output_type": "stream",
     "text": [
      "11 1 12 1 11 2 12 2 11 3 12 3 "
     ]
    }
   ],
   "source": [
    "for i in [1, 2, 3]:\n",
    "    for j in [11, 12]:\n",
    "        print(j, end=\" \")\n",
    "        print(i, end=\" \")"
   ]
  },
  {
   "cell_type": "code",
   "execution_count": null,
   "metadata": {},
   "outputs": [],
   "source": []
  },
  {
   "cell_type": "markdown",
   "metadata": {},
   "source": [
    "En este caso, la última instrucción forma parte del cuerpo del bucle externo, pero no del interno. Por tanto el valor de i se escribe cada vez que se ha terminado de ejecutar el bucle interno.\n",
    "\n",
    "Puede ver la ejecución paso a paso de este programa utilizando los iconos de avance y retroceso situados abajo a la derecha."
   ]
  },
  {
   "cell_type": "code",
   "execution_count": 10,
   "metadata": {},
   "outputs": [
    {
     "name": "stdout",
     "output_type": "stream",
     "text": [
      "11 12 1 11 12 2 11 12 3 "
     ]
    }
   ],
   "source": [
    "for i in [1, 2, 3]:\n",
    "    for j in [11, 12]:\n",
    "        print(j, end=\" \")\n",
    "    print(i, end=\" \")"
   ]
  },
  {
   "cell_type": "code",
   "execution_count": null,
   "metadata": {},
   "outputs": [],
   "source": []
  },
  {
   "cell_type": "markdown",
   "metadata": {},
   "source": [
    "En este caso, la última instrucción no forma forma parte de ningún bucle. Por tanto el valor de i se escribe una sola vez, al terminarse de ejecutar el bucle externo.\n",
    "\n",
    "Puede ver la ejecución paso a paso de este programa utilizando los iconos de avance y retroceso situados abajo a la derech"
   ]
  },
  {
   "cell_type": "code",
   "execution_count": 11,
   "metadata": {},
   "outputs": [
    {
     "name": "stdout",
     "output_type": "stream",
     "text": [
      "11 12 11 12 11 12 3 "
     ]
    }
   ],
   "source": [
    "for i in [1, 2, 3]:\n",
    "    for j in [11, 12]:\n",
    "        print(j, end=\" \")\n",
    "print(i, end=\" \")"
   ]
  },
  {
   "cell_type": "code",
   "execution_count": null,
   "metadata": {},
   "outputs": [],
   "source": []
  },
  {
   "cell_type": "markdown",
   "metadata": {},
   "source": [
    "La costumbre más extendida es utilizar la letra \"i\" como nombre de la variable de control del bucle externo y la letra \"j\" como nombre de la variable de control del bucle interno (o \"k\" si hay un tercer nivel de anidamiento), pero se puede utilizar cualquier otro nombre válido."
   ]
  },
  {
   "cell_type": "code",
   "execution_count": 12,
   "metadata": {},
   "outputs": [
    {
     "name": "stdout",
     "output_type": "stream",
     "text": [
      "i (externa) vale 0\n",
      "i (interna) vale 0\n",
      "i (interna) vale 1\n",
      "i (externa) vale 1\n",
      "i (interna) vale 0\n",
      "i (interna) vale 1\n",
      "i (externa) vale 2\n",
      "i (interna) vale 0\n",
      "i (interna) vale 1\n"
     ]
    }
   ],
   "source": [
    "for i in range(3):\n",
    "    print(f\"i (externa) vale {i}\")\n",
    "    for i in range(2):\n",
    "        print(f\"i (interna) vale {i}\")"
   ]
  },
  {
   "cell_type": "code",
   "execution_count": null,
   "metadata": {},
   "outputs": [],
   "source": []
  },
  {
   "cell_type": "markdown",
   "metadata": {},
   "source": [
    "Se dice que las variables de los bucles son dependientes cuando los valores que toma la variable de control del bucle interno dependen del valor de la variable de control del bucle externo. Por ejemplo:\n",
    "\n",
    "En el siguiente, el bucle externo (el controlado por i) se ejecuta 3 veces y el bucle interno (el controlado por j) se ejecuta 1, 2 y 3 veces. Por ello la instrucción print() se ejecuta en total 6 veces.\n",
    "\n",
    "La variable i toma los valores de 1 a 3 y la variable j toma los valores de 0 a i, por lo que cada vez el bucle interno se ejecuta un número diferente de veces:\n",
    "\n",
    "Cuando i vale 1, range(i) devuelve la lista [0] y por tanto el bucle interno se ejecuta una sola vez y el programa escribe una sola línea en la que i vale 1 (y j vale 0).\n",
    "Cuando i vale 2, range(i) devuelve la lista [0, 1] y por tanto el bucle interno se ejecuta dos veces y el programa escribe dos líneas en la que i vale 2 (y j vale 0 o 1 en cada una de ellas).\n",
    "Cuando i vale 3, range(i) devuelve la lista [0, 1, 2] y por tanto el bucle interno se ejecuta tres veces y el programa escribe tres líneas en la que i vale 3 (y j vale 0, 1 o 2 en cada una de ellas)."
   ]
  },
  {
   "cell_type": "code",
   "execution_count": 13,
   "metadata": {},
   "outputs": [
    {
     "name": "stdout",
     "output_type": "stream",
     "text": [
      "i vale 1 y j vale 0\n",
      "i vale 2 y j vale 0\n",
      "i vale 2 y j vale 1\n",
      "i vale 3 y j vale 0\n",
      "i vale 3 y j vale 1\n",
      "i vale 3 y j vale 2\n"
     ]
    }
   ],
   "source": [
    "for i in [1, 2, 3]:\n",
    "    for j in range(i):\n",
    "        print(f\"i vale {i} y j vale {j}\")"
   ]
  },
  {
   "cell_type": "markdown",
   "metadata": {},
   "source": []
  },
  {
   "cell_type": "markdown",
   "metadata": {},
   "source": [
    "# Criba de Eratóstenes hecha por mi limitada hasta 20\n",
    "Te doy una pista: usa dos bucles, uno par ael dividendo y otro para el divisor y así poder comprobar el resto"
   ]
  },
  {
   "cell_type": "code",
   "execution_count": null,
   "metadata": {},
   "outputs": [],
   "source": [
    "x = int(input('Introduce un numero natural: '))\n",
    "i = []\n",
    "for i in list(range(2, x)):\n",
    "    if i % 2 != 0 or i ==2:\n",
    "        if i%3 != 0 or i==3:\n",
    "            lista = i\n",
    "            print(lista)"
   ]
  },
  {
   "cell_type": "code",
   "execution_count": null,
   "metadata": {},
   "outputs": [],
   "source": [
    "\n",
    "x = int(input('Introduce un numero natural para determinar cuales son primos: '))\n",
    "\n",
    "n = []\n",
    "for n in range(2, x):\n",
    "    i = []\n",
    "    for i in range(2, n):\n",
    "        if n%i ==0:\n",
    "            break\n",
    "    else:\n",
    "        print(n)"
   ]
  },
  {
   "cell_type": "code",
   "execution_count": null,
   "metadata": {},
   "outputs": [],
   "source": []
  },
  {
   "cell_type": "markdown",
   "metadata": {},
   "source": [
    "4) Crea un diccionario que tenga como claves las letras del alfabeto castellano y como valores los símbolos del código morse (los tienes todos en la Wikipedia). A continuación crea un programa que lea una frase del teclado y te la convierta a Morse utilizando el diccionario anterior."
   ]
  },
  {
   "cell_type": "code",
   "execution_count": null,
   "metadata": {},
   "outputs": [],
   "source": [
    "import unicodedata\n",
    "morse = {\n",
    "    \"A\": \".-\"   ,  \"K\": \"-.- \" , \"U\": \"..- \", \"5\": \" .....\",\n",
    "    \"B\": \"-...\" ,  \"L\": \".-..\" , \"V\": \"...-\", \"6\": \"-....\" ,\n",
    "    \"C\": \"-.-.\" ,  \"M\": \" -- \" , \"W\": \" .--\", \"7\": \" --...\",\n",
    "    \"D\": \"-..\"  ,  \"N\": \"-.\"   , \"X\": \"-..-\", \"8\": \"---..\" ,\n",
    "    \"E\": \".  \"  , \"O\": \"--- \"  , \"Y\": \"-.--\", \"9\": \" ----.\",\n",
    "    \"F\": \"..-.\" , \"P\": \".--.\"  , \"Z\": \"--..\", \"0\": \"---- \" ,\n",
    "    \"G\": \"--.\"  , \"Q\": \"--.- \" , \"1\": \".----\" ,\n",
    "    \"H\": \"....\" , \"R\": \".-.  \" , \"2\": \"..---\" ,\n",
    "    \"I\": \"..  \" , \"S\": \"... \"  , \"3\": \"...--\" ,\n",
    "    \"J\": \".---\" , \"T\": \"- \"    , \"4\": \"....-\" ,\n",
    "    }\n",
    "\n",
    "\n",
    "x = str(input(\"ingrese una frase o palabra que sea palindromo: \"))\n",
    "print(\" \")\n",
    "\n",
    "#Elimino las tildes\n",
    "trans_tab = dict.fromkeys(map(ord, u'\\u0301\\u0308'), None)\n",
    "x = unicodedata.normalize('NFKC', unicodedata.normalize('NFKD', x).translate(trans_tab))\n",
    "t = x.upper()\n",
    "print(x)\n",
    "\n",
    "morse1 = []\n",
    "for i in t:\n",
    "    print(i)\n",
    "    if i in morse:\n",
    "        morse1.append(morse[i])\n",
    "    elif i == \" \":\n",
    "        morse1.append(\" \")\n",
    "        \n",
    "print(\"Codigo morse es: \", morse1)"
   ]
  },
  {
   "cell_type": "markdown",
   "metadata": {},
   "source": [
    "###### cifrado de cesar:"
   ]
  },
  {
   "cell_type": "code",
   "execution_count": 3,
   "metadata": {},
   "outputs": [
    {
     "name": "stdout",
     "output_type": "stream",
     "text": [
      "posicion original de la letra en el abc:  0\n",
      "Desplazamiento de 3 en el abc:  3\n",
      "modulo:  3\n",
      "D\n",
      " \n",
      "posicion original de la letra en el abc:  1\n",
      "Desplazamiento de 3 en el abc:  4\n",
      "modulo:  4\n",
      "DE\n",
      " \n",
      "posicion original de la letra en el abc:  0\n",
      "Desplazamiento de 3 en el abc:  3\n",
      "modulo:  3\n",
      "DED\n",
      " \n",
      "ABA Texto cifrado en codigo cesar:  DED\n"
     ]
    }
   ],
   "source": [
    "abc = 'ABCDEFGHIJKLMNÑOPQRSTUVWXYZ'\n",
    "\n",
    "clave = 3 #Es la clave del cifrado\n",
    "\n",
    "cifrado = '' # va a guardar el texto cifrado\n",
    "t = \"ABA\" #Texto a cifrar\n",
    "for letra in t:\n",
    "    \n",
    "    if letra in abc:\n",
    "    \n",
    "        suma = abc.index(letra) #Obtiene la posición de la letra en forma numerica\n",
    "        print(\"posicion original de la letra en el abc: \", suma)\n",
    "        \n",
    "        # E(x) = x+3*mod(27) = el 27 es la longitud del abc\n",
    "        suma = suma + clave # La clave es el numero de posiciones que va a recorrer el texto codificado\n",
    "        \n",
    "        print(\"Desplazamiento de 3 en el abc: \", suma)\n",
    "        \n",
    "        modulo = suma % len(abc) # Indica algebraicamente la nueva posición de la letra. que esta dentro de abc\n",
    "        \n",
    "        print(\"modulo: \", modulo)\n",
    "        \n",
    "        cifrado += abc[modulo] # += Añade la letra al cifrado. La posición del modulo que esta dentro del abc\n",
    "        print(cifrado)\n",
    "        print(\" \")\n",
    "    else: #da respuesta si la letra no esta en el alfabeto \n",
    "        cifrado += letra #Con esta función añade la letra en el alfabeto\n",
    "        \n",
    "\n",
    "print(t, \"Texto cifrado en codigo cesar: \", cifrado)"
   ]
  },
  {
   "cell_type": "code",
   "execution_count": null,
   "metadata": {},
   "outputs": [],
   "source": []
  },
  {
   "cell_type": "code",
   "execution_count": 6,
   "metadata": {},
   "outputs": [
    {
     "name": "stdout",
     "output_type": "stream",
     "text": [
      "posicion original de la letra en el abc:  0 A\n",
      "Desplazamiento de 3 en el abc:  3\n",
      "modulo:  3\n",
      "D\n",
      " \n",
      "posicion original de la letra en el abc:  1 B\n",
      "Desplazamiento de 3 en el abc:  4\n",
      "modulo:  4\n",
      "DE\n",
      " \n",
      "posicion original de la letra en el abc:  0 A\n",
      "Desplazamiento de 3 en el abc:  3\n",
      "modulo:  3\n",
      "DED\n",
      " \n",
      "ABA Texto cifrado en codigo cesar:  DED\n"
     ]
    }
   ],
   "source": [
    "abc = 'ABCDEFGHIJKLMNÑOPQRSTUVWXYZ'\n",
    "\n",
    "clave = 3 #Es la clave del cifrado\n",
    "\n",
    "cifrado = '' # va a guardar el texto cifrado\n",
    "t = \"ABA\" #Texto a cifrar\n",
    "for letra in t:\n",
    "    \n",
    "    if letra in abc:\n",
    "    \n",
    "        suma = abc.index(letra) #Obtiene la posición de la letra en forma numerica\n",
    "        print(\"posicion original de la letra en el abc: \", suma, abc[suma])\n",
    "        \n",
    "        # E(x) = x+3*mod(27) = el 27 es la longitud del abc\n",
    "        suma = suma + clave # La clave es el numero de posiciones que va a recorrer el texto codificado\n",
    "        \n",
    "        print(\"Desplazamiento de 3 en el abc: \", suma)\n",
    "        \n",
    "        modulo = suma % len(abc) # Indica algebraicamente la nueva posición de la letra. que esta dentro de abc\n",
    "        \n",
    "        print(\"modulo: \", modulo)\n",
    "        \n",
    "        cifrado += abc[modulo] # += Añade la letra al cifrado. La posición del modulo que esta dentro del abc\n",
    "        print(cifrado)\n",
    "        print(\" \")\n",
    "    else: #da respuesta si la letra no esta en el alfabeto \n",
    "        cifrado += letra #Con esta función añade la letra en el alfabeto\n",
    "        \n",
    "\n",
    "print(t, \"Texto cifrado en codigo cesar: \", cifrado)"
   ]
  },
  {
   "cell_type": "code",
   "execution_count": null,
   "metadata": {},
   "outputs": [],
   "source": []
  },
  {
   "cell_type": "markdown",
   "metadata": {},
   "source": [
    "Contador de letras repetidas"
   ]
  },
  {
   "cell_type": "code",
   "execution_count": null,
   "metadata": {},
   "outputs": [],
   "source": [
    "entrada=input(\"Introduce una cadena: \")\n",
    " \n",
    "diccionario={}\n",
    " \n",
    "for letra in entrada:\n",
    "    if letra in diccionario:\n",
    "        diccionario[letra]=diccionario[letra]+1\n",
    "    else:\n",
    "        diccionario[letra]=1\n",
    "\n",
    "        \n",
    "        \n",
    "print(diccionario)"
   ]
  },
  {
   "cell_type": "code",
   "execution_count": null,
   "metadata": {},
   "outputs": [],
   "source": []
  },
  {
   "cell_type": "code",
   "execution_count": null,
   "metadata": {},
   "outputs": [],
   "source": []
  }
 ],
 "metadata": {
  "kernelspec": {
   "display_name": "Python 3",
   "language": "python",
   "name": "python3"
  },
  "language_info": {
   "codemirror_mode": {
    "name": "ipython",
    "version": 3
   },
   "file_extension": ".py",
   "mimetype": "text/x-python",
   "name": "python",
   "nbconvert_exporter": "python",
   "pygments_lexer": "ipython3",
   "version": "3.8.5"
  }
 },
 "nbformat": 4,
 "nbformat_minor": 4
}
