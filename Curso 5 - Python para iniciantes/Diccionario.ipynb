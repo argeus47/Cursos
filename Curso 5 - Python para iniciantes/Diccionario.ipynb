{
 "cells": [
  {
   "cell_type": "markdown",
   "metadata": {},
   "source": [
    "# Diccionarios"
   ]
  },
  {
   "cell_type": "markdown",
   "metadata": {},
   "source": [
    "#### 1. Para definir un diccionario, se encierra el listado de valores entre llaves. Las parejas de clave y valor se separan con comas, y la clave y el valor se separan con dos puntos."
   ]
  },
  {
   "cell_type": "code",
   "execution_count": 2,
   "metadata": {},
   "outputs": [],
   "source": [
    "diccionario = {'nombre' : 'Carlos', 'edad' : 22, 'cursos': ['Python','Django','JavaScript'] }"
   ]
  },
  {
   "cell_type": "markdown",
   "metadata": {},
   "source": [
    "#### 2. Podemos acceder al elemento de un Diccionario mediante la clave de este elemento, como veremos a continuación"
   ]
  },
  {
   "cell_type": "code",
   "execution_count": 4,
   "metadata": {},
   "outputs": [
    {
     "name": "stdout",
     "output_type": "stream",
     "text": [
      "Carlos\n",
      "22\n",
      "['Python', 'Django', 'JavaScript']\n"
     ]
    }
   ],
   "source": [
    "print(diccionario['nombre'])  #Carlos\n",
    "print(diccionario['edad']) #22\n",
    "print(diccionario['cursos']) # ['Python','Django','JavaScript']"
   ]
  },
  {
   "cell_type": "markdown",
   "metadata": {},
   "source": [
    "#### 3. También es posible insertar una lista dentro de un diccionario. Para acceder a cada uno de los cursos usamos los índices:"
   ]
  },
  {
   "cell_type": "code",
   "execution_count": 5,
   "metadata": {},
   "outputs": [
    {
     "name": "stdout",
     "output_type": "stream",
     "text": [
      "Python\n",
      "Django\n",
      "JavaScript\n"
     ]
    }
   ],
   "source": [
    "print(diccionario['cursos'][0])#Python\n",
    "print(diccionario['cursos'][1])#Django\n",
    "print(diccionario['cursos'][2])#JavaScript"
   ]
  },
  {
   "cell_type": "markdown",
   "metadata": {},
   "source": [
    "#### 4. Para recorrer todo el Diccionario, podemos hacer uso de la estructura for:"
   ]
  },
  {
   "cell_type": "code",
   "execution_count": 6,
   "metadata": {},
   "outputs": [
    {
     "name": "stdout",
     "output_type": "stream",
     "text": [
      "nombre : Carlos\n",
      "edad : 22\n",
      "cursos : ['Python', 'Django', 'JavaScript']\n"
     ]
    }
   ],
   "source": [
    "for key in diccionario:\n",
    "    print(key, \":\", diccionario[key])"
   ]
  },
  {
   "cell_type": "code",
   "execution_count": null,
   "metadata": {},
   "outputs": [],
   "source": []
  },
  {
   "cell_type": "markdown",
   "metadata": {},
   "source": [
    "## Métodos de los Diccionarios"
   ]
  },
  {
   "cell_type": "markdown",
   "metadata": {},
   "source": [
    "#### dict ()\n",
    "\n",
    "#### Recibe como parámetro una representación de un diccionario y si es factible, devuelve un diccionario de datos."
   ]
  },
  {
   "cell_type": "code",
   "execution_count": 8,
   "metadata": {},
   "outputs": [
    {
     "name": "stdout",
     "output_type": "stream",
     "text": [
      "{'nombre': 'nestor', 'apellido': 'Plasencia', 'edad': 22}\n"
     ]
    }
   ],
   "source": [
    "dic =  dict(nombre='nestor', apellido='Plasencia', edad=22)\n",
    "\n",
    "print(dic)"
   ]
  },
  {
   "cell_type": "markdown",
   "metadata": {},
   "source": [
    "#### zip()\n",
    "\n",
    "#### Recibe como parámetro dos elementos iterables, ya sea una cadena, una lista o una tupla. Ambos parámetros deben tener el mismo número de elementos. Se devolverá un diccionario relacionando el elemento i-esimo de cada uno de los iterables."
   ]
  },
  {
   "cell_type": "code",
   "execution_count": 9,
   "metadata": {},
   "outputs": [
    {
     "name": "stdout",
     "output_type": "stream",
     "text": [
      "{'a': 1, 'b': 2, 'c': 3, 'd': 4}\n"
     ]
    }
   ],
   "source": [
    "dic = dict(zip('abcd',[1,2,3,4]))\n",
    "\n",
    "print(dic)"
   ]
  },
  {
   "cell_type": "markdown",
   "metadata": {},
   "source": [
    "#### items()\n",
    "\n",
    "#### Devuelve una lista de tuplas, cada tupla se compone de dos elementos: el primero será la clave y el segundo, su valor."
   ]
  },
  {
   "cell_type": "code",
   "execution_count": 11,
   "metadata": {},
   "outputs": [
    {
     "name": "stdout",
     "output_type": "stream",
     "text": [
      "dict_items([('a', 1), ('b', 2), ('c', 3), ('d', 4)])\n"
     ]
    }
   ],
   "source": [
    "dic =   {'a' : 1, 'b' : 2, 'c' : 3 , 'd' : 4}\n",
    "items = dic.items()\n",
    "\n",
    "print(items)\n"
   ]
  },
  {
   "cell_type": "markdown",
   "metadata": {},
   "source": [
    "#### keys()\n",
    "\n",
    "#### Retorna una lista de elementos, los cuales serán las claves de nuestro diccionario."
   ]
  },
  {
   "cell_type": "code",
   "execution_count": 13,
   "metadata": {},
   "outputs": [
    {
     "name": "stdout",
     "output_type": "stream",
     "text": [
      "dict_keys(['a', 'b', 'c', 'd'])\n"
     ]
    }
   ],
   "source": [
    "dic =  {'a' : 1, 'b' : 2, 'c' : 3 , 'd' : 4}\n",
    "keys= dic.keys()\n",
    "\n",
    "print(keys)"
   ]
  },
  {
   "cell_type": "markdown",
   "metadata": {},
   "source": [
    "#### values()\n",
    "\n",
    "#### Retorna una lista de elementos, que serán los valores de nuestro diccionario."
   ]
  },
  {
   "cell_type": "code",
   "execution_count": 15,
   "metadata": {},
   "outputs": [
    {
     "name": "stdout",
     "output_type": "stream",
     "text": [
      "dict_values([1, 2, 3, 4])\n"
     ]
    }
   ],
   "source": [
    "dic =  {'a' : 1, 'b' : 2, 'c' : 3 , 'd' : 4}\n",
    "values= dic.values()\n",
    "\n",
    "print(values)"
   ]
  },
  {
   "cell_type": "markdown",
   "metadata": {},
   "source": [
    "#### clear()\n",
    "\n",
    "#### Elimina todos los ítems del diccionario dejándolo vacío."
   ]
  },
  {
   "cell_type": "code",
   "execution_count": 18,
   "metadata": {},
   "outputs": [
    {
     "name": "stdout",
     "output_type": "stream",
     "text": [
      "None\n"
     ]
    }
   ],
   "source": [
    "dic1 =  {'a' : 1, 'b' : 2, 'c' : 3 , 'd' : 4}\n",
    "t = dic1.clear()\n",
    "\n",
    "print(t)"
   ]
  },
  {
   "cell_type": "markdown",
   "metadata": {},
   "source": [
    "#### copy()\n",
    "\n",
    "#### Retorna una copia del diccionario original."
   ]
  },
  {
   "cell_type": "code",
   "execution_count": 19,
   "metadata": {},
   "outputs": [
    {
     "name": "stdout",
     "output_type": "stream",
     "text": [
      "{'a': 1, 'b': 2, 'c': 3, 'd': 4}\n"
     ]
    }
   ],
   "source": [
    "dic = {'a' : 1, 'b' : 2, 'c' : 3 , 'd' : 4}\n",
    "dic1 = dic.copy()\n",
    "\n",
    "print(dic1)"
   ]
  },
  {
   "cell_type": "markdown",
   "metadata": {},
   "source": [
    "#### fromkeys()\n",
    "\n",
    "#### Recibe como parámetros un iterable y un valor, devolviendo un diccionario que contiene como claves los elementos del iterable con el mismo valor ingresado. Si el valor no es ingresado, devolverá none para todas las claves."
   ]
  },
  {
   "cell_type": "code",
   "execution_count": 20,
   "metadata": {},
   "outputs": [
    {
     "name": "stdout",
     "output_type": "stream",
     "text": [
      "{'a': 1, 'b': 1, 'c': 1, 'd': 1}\n"
     ]
    }
   ],
   "source": [
    "dic = dict.fromkeys(['a','b','c','d'],1)\n",
    "\n",
    "print(dic)"
   ]
  },
  {
   "cell_type": "markdown",
   "metadata": {},
   "source": [
    "#### get()\n",
    "\n",
    "#### Recibe como parámetro una clave, devuelve el valor de la clave. Si no lo encuentra, devuelve un objeto none."
   ]
  },
  {
   "cell_type": "code",
   "execution_count": 21,
   "metadata": {},
   "outputs": [
    {
     "name": "stdout",
     "output_type": "stream",
     "text": [
      "2\n"
     ]
    }
   ],
   "source": [
    "dic = {'a' : 1, 'b' : 2, 'c' : 3 , 'd' : 4}\n",
    "valor = dic.get('b') \n",
    "\n",
    "print(valor)"
   ]
  },
  {
   "cell_type": "markdown",
   "metadata": {},
   "source": [
    "#### pop()\n",
    "\n",
    "#### Recibe como parámetro una clave, elimina esta y devuelve su valor. Si no lo encuentra, devuelve error."
   ]
  },
  {
   "cell_type": "code",
   "execution_count": 26,
   "metadata": {},
   "outputs": [
    {
     "name": "stdout",
     "output_type": "stream",
     "text": [
      "valor de b eliminado el cual es:  2\n",
      "{'a': 1, 'c': 3, 'd': 4}\n"
     ]
    }
   ],
   "source": [
    "dic = {'a' : 1, 'b' : 2, 'c' : 3 , 'd' : 4}\n",
    "valor = dic.pop('b') \n",
    "print(\"valor de b eliminado el cual es: \", valor)\n",
    "print(dic)"
   ]
  },
  {
   "cell_type": "markdown",
   "metadata": {},
   "source": [
    "#### setdefault()\n",
    "\n",
    "#### Funciona de dos formas. En la primera como get"
   ]
  },
  {
   "cell_type": "code",
   "execution_count": 27,
   "metadata": {},
   "outputs": [
    {
     "name": "stdout",
     "output_type": "stream",
     "text": [
      "1\n"
     ]
    }
   ],
   "source": [
    "dic = {'a' : 1, 'b' : 2, 'c' : 3 , 'd' : 4}\n",
    "valor = dic.setdefault('a')\n",
    "print(valor)"
   ]
  },
  {
   "cell_type": "markdown",
   "metadata": {},
   "source": [
    " #### Y en la segunda forma, nos sirve para agregar un nuevo elemento a nuestro diccionario."
   ]
  },
  {
   "cell_type": "code",
   "execution_count": 29,
   "metadata": {},
   "outputs": [
    {
     "name": "stdout",
     "output_type": "stream",
     "text": [
      "{'a': 1, 'b': 2, 'c': 3, 'd': 4, 'e': 5}\n"
     ]
    }
   ],
   "source": [
    "dic = {'a' : 1, 'b' : 2, 'c' : 3 , 'd' : 4}\n",
    "valor = dic.setdefault('e',5)\n",
    "print(dic)"
   ]
  },
  {
   "cell_type": "markdown",
   "metadata": {},
   "source": [
    "#### update()\n",
    "\n",
    "#### Recibe como parámetro otro diccionario. Si se tienen claves iguales, actualiza el valor de la clave repetida; si no hay claves iguales, este par clave-valor es agregado al diccionario."
   ]
  },
  {
   "cell_type": "code",
   "execution_count": 36,
   "metadata": {},
   "outputs": [
    {
     "name": "stdout",
     "output_type": "stream",
     "text": [
      "{'a': 1, 'b': 5, 'c': 6, 'd': 4, 'e': 9, 'f': 10}\n"
     ]
    }
   ],
   "source": [
    "dic1 = {'a' : 1, 'b' : 2, 'c' : 3 , 'd' : 4}\n",
    "dic2 = {'c' : 6, 'b' : 5, 'e' : 9 , 'f' : 10}\n",
    "dic1.update(dic2) # Solo hacer la funcion y llamar el dic1 que es el nuevo diccionario completo\n",
    "\n",
    "print(dic1)"
   ]
  },
  {
   "cell_type": "markdown",
   "metadata": {},
   "source": [
    "4) Crea un diccionario que tenga como claves las letras del alfabeto castellano y como valores los símbolos del código morse (los tienes todos en la Wikipedia). A continuación crea un programa que lea una frase del teclado y te la convierta a Morse utilizando el diccionario anterior."
   ]
  },
  {
   "cell_type": "code",
   "execution_count": null,
   "metadata": {},
   "outputs": [],
   "source": [
    "import unicodedata\n",
    "morse = {\n",
    "    \"A\": \".-\"   ,  \"K\": \"-.- \" , \"U\": \"..- \", \"5\": \" .....\",\n",
    "    \"B\": \"-...\" ,  \"L\": \".-..\" , \"V\": \"...-\", \"6\": \"-....\" ,\n",
    "    \"C\": \"-.-.\" ,  \"M\": \" -- \" , \"W\": \" .--\", \"7\": \" --...\",\n",
    "    \"D\": \"-..\"  ,  \"N\": \"-.\"   , \"X\": \"-..-\", \"8\": \"---..\" ,\n",
    "    \"E\": \".  \"  , \"O\": \"--- \"  , \"Y\": \"-.--\", \"9\": \" ----.\",\n",
    "    \"F\": \"..-.\" , \"P\": \".--.\"  , \"Z\": \"--..\", \"0\": \"---- \" ,\n",
    "    \"G\": \"--.\"  , \"Q\": \"--.- \" , \"1\": \".----\" ,\n",
    "    \"H\": \"....\" , \"R\": \".-.  \" , \"2\": \"..---\" ,\n",
    "    \"I\": \"..  \" , \"S\": \"... \"  , \"3\": \"...--\" ,\n",
    "    \"J\": \".---\" , \"T\": \"- \"    , \"4\": \"....-\" ,\n",
    "    }\n",
    "\n",
    "\n",
    "x = str(input(\"ingrese una frase o palabra que sea palindromo: \"))\n",
    "print(\" \")\n",
    "\n",
    "#Elimino las tildes\n",
    "trans_tab = dict.fromkeys(map(ord, u'\\u0301\\u0308'), None)\n",
    "x = unicodedata.normalize('NFKC', unicodedata.normalize('NFKD', x).translate(trans_tab))\n",
    "t = x.upper()\n",
    "print(x)\n",
    "\n",
    "morse1 = []\n",
    "for i in t:\n",
    "    \n",
    "    \n",
    "    if i in morse:\n",
    "        morse1.append(morse[i])\n",
    "        \n",
    "    elif i == \" \":\n",
    "        morse1.append(\" \")\n",
    "        \n",
    "        \n",
    "print(\"Codigo morse es: \", morse1)"
   ]
  },
  {
   "cell_type": "markdown",
   "metadata": {},
   "source": [
    "3) Crea un diccionario que tenga por claves los números del 1 al 10 y como valores sus raíces cuadradas"
   ]
  },
  {
   "cell_type": "code",
   "execution_count": null,
   "metadata": {},
   "outputs": [],
   "source": [
    "import math\n",
    "\n",
    "diccionario = {\n",
    "    1: math.sqrt(1), \n",
    "    2: math.sqrt(2), \n",
    "    3: math.sqrt(3), \n",
    "    4: math.sqrt(4), \n",
    "    5: math.sqrt(5),\n",
    "    6: math.sqrt(6),\n",
    "    7: math.sqrt(7),\n",
    "    8: math.sqrt(8),\n",
    "    9: math.sqrt(9),\n",
    "    10: math.sqrt(10),\n",
    "}\n",
    "\n",
    "\n",
    "\n",
    "t = int(input(\"Introduce un numero del 1 al 10 para saber que valor en raiz cuadrada tiene: \"))\n",
    "print(\"Recordando que puede salir escribiendo -1\")\n",
    "print(diccionario.get(t)) # el .get se usa para buscar el resultado de la clave del diccionario.\n",
    "\n",
    "while t !=-1:\n",
    "    t = int(input(\"Introduce un numero del 1 al 10 para saber que valor en raiz cuadrada tiene: \"))\n",
    "    print(\"Recordando que puede salir del bucle escribiendo -1\")\n",
    "    z = diccionario.get(t)\n",
    "    \n",
    "    if z == None:\n",
    "        print(\" \")    \n",
    "    else:\n",
    "        print(z)\n",
    "    \n",
    "else:\n",
    "    print(\"Fin del programa\")"
   ]
  },
  {
   "cell_type": "code",
   "execution_count": null,
   "metadata": {},
   "outputs": [],
   "source": []
  },
  {
   "cell_type": "markdown",
   "metadata": {},
   "source": [
    "Contador de letras repetidas "
   ]
  },
  {
   "cell_type": "code",
   "execution_count": null,
   "metadata": {},
   "outputs": [],
   "source": [
    "entrada=input(\"Introduce una cadena: \")\n",
    " \n",
    "diccionario={}\n",
    " \n",
    "for letra in entrada:\n",
    "    if letra in diccionario:\n",
    "        diccionario[letra]=diccionario[letra]+1\n",
    "    else:\n",
    "        diccionario[letra]=1\n",
    "\n",
    "        \n",
    "        \n",
    "print(diccionario)"
   ]
  },
  {
   "cell_type": "code",
   "execution_count": null,
   "metadata": {},
   "outputs": [],
   "source": []
  },
  {
   "cell_type": "code",
   "execution_count": null,
   "metadata": {},
   "outputs": [],
   "source": []
  },
  {
   "cell_type": "code",
   "execution_count": null,
   "metadata": {},
   "outputs": [],
   "source": []
  },
  {
   "cell_type": "code",
   "execution_count": null,
   "metadata": {},
   "outputs": [],
   "source": []
  },
  {
   "cell_type": "code",
   "execution_count": null,
   "metadata": {},
   "outputs": [],
   "source": []
  },
  {
   "cell_type": "code",
   "execution_count": null,
   "metadata": {},
   "outputs": [],
   "source": []
  },
  {
   "cell_type": "code",
   "execution_count": null,
   "metadata": {},
   "outputs": [],
   "source": []
  }
 ],
 "metadata": {
  "kernelspec": {
   "display_name": "Python 3",
   "language": "python",
   "name": "python3"
  },
  "language_info": {
   "codemirror_mode": {
    "name": "ipython",
    "version": 3
   },
   "file_extension": ".py",
   "mimetype": "text/x-python",
   "name": "python",
   "nbconvert_exporter": "python",
   "pygments_lexer": "ipython3",
   "version": "3.7.6"
  }
 },
 "nbformat": 4,
 "nbformat_minor": 4
}
