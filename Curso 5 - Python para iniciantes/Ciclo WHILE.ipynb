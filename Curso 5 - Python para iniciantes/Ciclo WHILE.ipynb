{
 "cells": [
  {
   "cell_type": "markdown",
   "metadata": {},
   "source": [
    "# Ciclo While"
   ]
  },
  {
   "cell_type": "code",
   "execution_count": 1,
   "metadata": {},
   "outputs": [
    {
     "name": "stdout",
     "output_type": "stream",
     "text": [
      "1\n",
      "2\n",
      "3\n",
      "Programa terminado\n"
     ]
    }
   ],
   "source": [
    "i = 1\n",
    "while i <= 3:\n",
    "    print(i)\n",
    "    i += 1\n",
    "print(\"Programa terminado\")"
   ]
  },
  {
   "cell_type": "markdown",
   "metadata": {},
   "source": [
    "La segunda vez vale 1 por eso resultado es 4 la tercera vez i vale 4 por eso es 13 y la cuarta vez i vale 13 por eso el resultado es 40."
   ]
  },
  {
   "cell_type": "code",
   "execution_count": 2,
   "metadata": {},
   "outputs": [
    {
     "name": "stdout",
     "output_type": "stream",
     "text": [
      "1\n",
      "4\n",
      "13\n",
      "40\n",
      "Programa terminado\n"
     ]
    }
   ],
   "source": [
    "i = 1\n",
    "while i <= 50:\n",
    "    print(i)\n",
    "    i = 3 * i + 1 \n",
    "print(\"Programa terminado\")"
   ]
  },
  {
   "cell_type": "code",
   "execution_count": null,
   "metadata": {},
   "outputs": [],
   "source": []
  },
  {
   "cell_type": "code",
   "execution_count": 4,
   "metadata": {},
   "outputs": [
    {
     "name": "stdout",
     "output_type": "stream",
     "text": [
      "Escriba un número positivo: -3\n",
      "¡Ha escrito un número negativo! Inténtelo de nuevo\n",
      "Escriba un número positivo: -5\n",
      "¡Ha escrito un número negativo! Inténtelo de nuevo\n",
      "Escriba un número positivo: 50\n",
      "Gracias por su colaboración\n"
     ]
    }
   ],
   "source": [
    "numero = int(input(\"Escriba un número positivo: \"))\n",
    "while numero < 0:\n",
    "    print(\"¡Ha escrito un número negativo! Inténtelo de nuevo\")\n",
    "    numero = int(input(\"Escriba un número positivo: \"))\n",
    "print(\"Gracias por su colaboración\")"
   ]
  },
  {
   "cell_type": "code",
   "execution_count": null,
   "metadata": {},
   "outputs": [],
   "source": []
  },
  {
   "cell_type": "markdown",
   "metadata": {},
   "source": [
    "En este ejemplo tiene un contador con un valor inicial de cero, cada iteración del while manipula esta variable de manera que incremente su valor en 1, por lo que después de su primera iteración el contador tendrá un valor de 1, luego 2, y así sucesivamente.\n",
    "\n",
    "Eventualmente cuando el contador llegue a tener un valor de 10, la condición del ciclo numero <= 10 sera False, por lo que el ciclo terminará arrojando el siguiente resultado."
   ]
  },
  {
   "cell_type": "code",
   "execution_count": 17,
   "metadata": {},
   "outputs": [
    {
     "name": "stdout",
     "output_type": "stream",
     "text": [
      "numero:  1 Acumulador  0\n",
      "numero:  2 Acumulador  1\n",
      "numero:  3 Acumulador  3\n",
      "numero:  4 Acumulador  6\n",
      "numero:  5 Acumulador  10\n",
      "numero:  6 Acumulador  15\n",
      "numero:  7 Acumulador  21\n",
      "numero:  8 Acumulador  28\n",
      "numero:  9 Acumulador  36\n",
      "numero:  10 Acumulador  45\n",
      "numero:  11 Acumulador  55\n"
     ]
    }
   ],
   "source": [
    "numero, acum = 0, 0\n",
    "\n",
    "while numero <= 10:\n",
    "    acum = numero + acum # Acumulador\n",
    "    numero = numero + 1 # Contador\n",
    "    \n",
    "    print(\"numero: \", numero, \"Acumulador \", acum)"
   ]
  },
  {
   "cell_type": "code",
   "execution_count": null,
   "metadata": {},
   "outputs": [],
   "source": []
  },
  {
   "cell_type": "markdown",
   "metadata": {},
   "source": [
    "En este casi el evento que se dispara cuando el usuario ingresa el valor -1, causando que el bucle while se interrumpo o no se inicie."
   ]
  },
  {
   "cell_type": "code",
   "execution_count": 31,
   "metadata": {},
   "outputs": [
    {
     "name": "stdout",
     "output_type": "stream",
     "text": [
      "Introduzca la nota de un estudiante (-1 para salir): \n",
      "5\n",
      "Introduzca la nota de un estudiante (-1 para salir): \n",
      "9\n",
      "Introduzca la nota de un estudiante (-1 para salir): \n",
      "12\n",
      "Introduzca la nota de un estudiante (-1 para salir): \n",
      "20\n",
      "Introduzca la nota de un estudiante (-1 para salir): \n",
      "30\n",
      "Introduzca la nota de un estudiante (-1 para salir): \n",
      "45\n",
      "Introduzca la nota de un estudiante (-1 para salir): \n",
      "-1\n",
      "Promedio de notas del grado escolar es: 20.166666666666668\n"
     ]
    }
   ],
   "source": [
    "promedio, total, contar = 0.0, 0, 0\n",
    "\n",
    "print(\"Introduzca la nota de un estudiante (-1 para salir): \")\n",
    "\n",
    "grado = int(input())\n",
    "\n",
    "while grado != -1:\n",
    "    \n",
    "    total = total + grado # Acumulador\n",
    "    contar = contar + 1 # contador\n",
    "    print(\"Introduzca la nota de un estudiante (-1 para salir): \")\n",
    "    grado = int(input())\n",
    "    \n",
    "promedio = total / contar #Division del acumulador / contador da resultado el promedio.\n",
    "\n",
    "print(\"Promedio de notas del grado escolar es: \" +str(promedio))"
   ]
  },
  {
   "cell_type": "code",
   "execution_count": null,
   "metadata": {},
   "outputs": [],
   "source": []
  },
  {
   "cell_type": "markdown",
   "metadata": {},
   "source": [
    "Al igual que la sentencia if, la estructura while también puede combinarse con una sentencia else).\n",
    "\n",
    "El nombre de la sentencia else es equivocada, ya que el bloque else se ejecutará en todos los casos, es decir, cuando la expresión condicional del while sea False, (a comparación de la sentencia if)."
   ]
  },
  {
   "cell_type": "code",
   "execution_count": null,
   "metadata": {},
   "outputs": [
    {
     "name": "stdout",
     "output_type": "stream",
     "text": [
      "Introduzca la nota de un estudiante (-1 para salir): 3\n",
      "Introduzca la nota de un estudiante (-1 para salir): 5\n",
      "Introduzca la nota de un estudiante (-1 para salir): 8\n",
      "Introduzca la nota de un estudiante (-1 para salir): 12\n"
     ]
    }
   ],
   "source": [
    "promedio, total, contar = 0.0, 0, 0\n",
    "mensaje = \"Introduzca la nota de un estudiante (-1 para salir): \"\n",
    "\n",
    "grado = int(input(mensaje))\n",
    "\n",
    "while grado != -1:\n",
    "    total = total + grado\n",
    "    contar += 1\n",
    "    grado = int(input(mensaje))\n",
    "    \n",
    "else:\n",
    "    promedio = total / contar\n",
    "    print(\"Promedio de notas del grado escolar: \" +str(promedio)) "
   ]
  },
  {
   "cell_type": "code",
   "execution_count": null,
   "metadata": {},
   "outputs": [],
   "source": []
  },
  {
   "cell_type": "markdown",
   "metadata": {},
   "source": [
    "Adicionalmente existe una forma alternativa de interrumpir o cortar los ciclos utilizando la palabra reservada break.\n",
    "\n",
    "Esta nos permite salir del ciclo incluso si la expresión evaluada en while (o en otro ciclo como for) permanece siendo True. Para comprender mejor use el mismo ejemplo anterior pero se interrumpe el ciclo usando la sentencia break."
   ]
  },
  {
   "cell_type": "code",
   "execution_count": 34,
   "metadata": {},
   "outputs": [
    {
     "name": "stdout",
     "output_type": "stream",
     "text": [
      "Actual valor de variable: 10\n",
      "Actual valor de variable: 9\n",
      "Actual valor de variable: 8\n",
      "Actual valor de variable: 7\n",
      "Actual valor de variable: 6\n"
     ]
    }
   ],
   "source": [
    "variable = 10\n",
    "\n",
    "while variable > 0:\n",
    "    print('Actual valor de variable:', variable) \n",
    "    variable = variable -1\n",
    "    if variable == 5:\n",
    "        break"
   ]
  },
  {
   "cell_type": "code",
   "execution_count": null,
   "metadata": {},
   "outputs": [],
   "source": []
  },
  {
   "cell_type": "markdown",
   "metadata": {},
   "source": [
    "La sentencia continue hace que pase de nuevo al principio del bucle aunque no se haya terminado de ejecutar el ciclo anterior."
   ]
  },
  {
   "cell_type": "code",
   "execution_count": 35,
   "metadata": {},
   "outputs": [
    {
     "name": "stdout",
     "output_type": "stream",
     "text": [
      "Actual valor de variable: 9\n",
      "Actual valor de variable: 8\n",
      "Actual valor de variable: 7\n",
      "Actual valor de variable: 6\n",
      "Actual valor de variable: 4\n",
      "Actual valor de variable: 3\n",
      "Actual valor de variable: 2\n",
      "Actual valor de variable: 1\n",
      "Actual valor de variable: 0\n"
     ]
    }
   ],
   "source": [
    "variable = 10\n",
    "\n",
    "while variable > 0:              \n",
    "    variable = variable -1\n",
    "    if variable == 5:\n",
    "        continue\n",
    "    \n",
    "    print('Actual valor de variable:', variable) "
   ]
  },
  {
   "cell_type": "code",
   "execution_count": null,
   "metadata": {},
   "outputs": [],
   "source": []
  },
  {
   "cell_type": "markdown",
   "metadata": {},
   "source": [
    " Sucesión de Fibonacci\n",
    "Ejemplo de la Sucesión de Fibonacci con bucle while:"
   ]
  },
  {
   "cell_type": "code",
   "execution_count": 49,
   "metadata": {},
   "outputs": [
    {
     "name": "stdout",
     "output_type": "stream",
     "text": [
      "1\n",
      "1\n",
      "2\n",
      "3\n",
      "5\n",
      "8\n",
      "13\n",
      "21\n",
      "34\n"
     ]
    }
   ],
   "source": [
    "a, b = 0, 1\n",
    "while b < 40:\n",
    "    print(b) # Se coloca antes de la formula para que se repita el 1 dos veces. \n",
    "    a, b = b, a + b # Es un acumulador \n",
    "    \n",
    "   "
   ]
  },
  {
   "cell_type": "markdown",
   "metadata": {},
   "source": [
    "# CRIBA QUE HIZO UN MAMAGUEVO CHINO DEL 2 AL 100"
   ]
  },
  {
   "cell_type": "code",
   "execution_count": null,
   "metadata": {},
   "outputs": [],
   "source": [
    "\n",
    "i = 2\n",
    "while(i < 100):\n",
    "    j = 2\n",
    "    while(j <= (i/j)):\n",
    "        if not(i%j): break\n",
    "        j = j + 1\n",
    "    if (j > i/j) : print(i), \n",
    "    i = i + 1"
   ]
  },
  {
   "cell_type": "code",
   "execution_count": null,
   "metadata": {},
   "outputs": [],
   "source": []
  },
  {
   "cell_type": "markdown",
   "metadata": {},
   "source": [
    "1) Crea una función que reciba los tres coeficientes a, b y c para resolver una ecuación de segundo grado. Muestra la solución por pantalla y ayúdate de la librería Math para acceder a la función raíz cuadrada."
   ]
  },
  {
   "cell_type": "code",
   "execution_count": null,
   "metadata": {},
   "outputs": [],
   "source": [
    "import math\n",
    "\n",
    "a = int(input(\"Ingrese el valor de x^2: \"))\n",
    "b = int(input(\"Ingrese el valor de x: \"))\n",
    "c = int(input(\"Ingrese el valor de c: \"))\n",
    "raiz = (b**2) - (4*a*c)\n",
    "\n",
    "while raiz<0:\n",
    "    \n",
    "    print(\"la raiz es negativa por lo tanto no hay solución real. Intentalo nuevamente: \")\n",
    "    \n",
    "    a = int(input(\"Ingrese el valor de x^2: \"))\n",
    "    b = int(input(\"Ingrese el valor de x: \"))\n",
    "    c = int(input(\"Ingrese el valor de c: \"))\n",
    "    raiz = (b**2) - (4*a*c)\n",
    "        \n",
    "else:\n",
    "    \n",
    "    x1 = (-b+ math.sqrt(raiz)) / (2*a)\n",
    "    x2 = (-b- math.sqrt(raiz)) / (2*a)\n",
    "    print(\" \")\n",
    "    print(\"Por dar un resultado real sigue: \")\n",
    "    print(\" \")\n",
    "    print(\"Valor del lado positivo o solución 1: \", x1)\n",
    "    print(\"Valor del lado negativo o solución 2: \", x2)"
   ]
  },
  {
   "cell_type": "code",
   "execution_count": null,
   "metadata": {},
   "outputs": [],
   "source": []
  },
  {
   "cell_type": "markdown",
   "metadata": {},
   "source": [
    "2) Crea una función que lea una frase de teclado y nos diga si es o no un palíndromo (frase que se lee igual de izquierda a derecha o al revés como por ejemplo La ruta nos aportó otro paso natural.)"
   ]
  },
  {
   "cell_type": "code",
   "execution_count": 1,
   "metadata": {},
   "outputs": [
    {
     "name": "stdout",
     "output_type": "stream",
     "text": [
      "ingrese una frase o palabra que sea palindromo: aba\n",
      " \n",
      "palabra palindromo ['a', 'b', 'a']\n",
      "palabra palindromo ['a', 'b', 'a']\n",
      "Programa finalizado\n"
     ]
    }
   ],
   "source": [
    "import unicodedata\n",
    "\n",
    "x = str(input(\"ingrese una frase o palabra que sea palindromo: \"))\n",
    "print(\" \")\n",
    "#Elimino las tildes\n",
    "trans_tab = dict.fromkeys(map(ord, u'\\u0301\\u0308'), None)\n",
    "x = unicodedata.normalize('NFKC', unicodedata.normalize('NFKD', x).translate(trans_tab))\n",
    "\n",
    "x = x.replace(\" \", \"\") # Elimino los espacios\n",
    "x = x.lower() # Elimino las mayusculas\n",
    "x = list(x) # Lo convierto en lista\n",
    "x1 = x.copy() # Hago una copia para comparar\n",
    "\n",
    "r = list(reversed(x1)) # Invierto las posiciones\n",
    "\n",
    "\n",
    "while x != r:\n",
    "    \n",
    "    print(\"No es una frase palindromo vuelve intentarlo\")\n",
    "    \n",
    "    x = str(input(\"ingrese una frase o palabra que sea palindromo: \"))\n",
    "    print(\" \")\n",
    "    #Elimino las tildes\n",
    "    trans_tab = dict.fromkeys(map(ord, u'\\u0301\\u0308'), None)\n",
    "    x = unicodedata.normalize('NFKC', unicodedata.normalize('NFKD', x).translate(trans_tab))\n",
    "    \n",
    "    x = x.replace(\" \", \"\") # Elimino los espacios\n",
    "    x = x.lower() # Elimino las mayusculas\n",
    "    x = list(x) # Lo convierto en lista\n",
    "    x1 = x.copy() # Hago una copia para comparar\n",
    "    r = list(reversed(x1)) # Invierto las posiciones\n",
    "    \n",
    "else:\n",
    "    \n",
    "    print(\"palabra palindromo\", x)\n",
    "    print(\"palabra palindromo\", r)\n",
    "    print(\"Programa finalizado\")"
   ]
  },
  {
   "cell_type": "markdown",
   "metadata": {},
   "source": []
  },
  {
   "cell_type": "markdown",
   "metadata": {},
   "source": [
    "3) Crea un diccionario que tenga por claves los números del 1 al 10 y como valores sus raíces cuadradas"
   ]
  },
  {
   "cell_type": "code",
   "execution_count": null,
   "metadata": {},
   "outputs": [],
   "source": [
    "import math\n",
    "\n",
    "diccionario = {\n",
    "    1: math.sqrt(1), \n",
    "    2: math.sqrt(2), \n",
    "    3: math.sqrt(3), \n",
    "    4: math.sqrt(4), \n",
    "    5: math.sqrt(5),\n",
    "    6: math.sqrt(6),\n",
    "    7: math.sqrt(7),\n",
    "    8: math.sqrt(8),\n",
    "    9: math.sqrt(9),\n",
    "    10: math.sqrt(10),\n",
    "}\n",
    "\n",
    "\n",
    "\n",
    "t = int(input(\"Introduce un numero del 1 al 10 para saber que valor en raiz cuadrada tiene: \"))\n",
    "print(\"Recordando que puede salir escribiendo -1\")\n",
    "print(diccionario.get(t)) # el .get se usa para buscar el resultado de la clave del diccionario.\n",
    "\n",
    "while t !=-1:\n",
    "    t = int(input(\"Introduce un numero del 1 al 10 para saber que valor en raiz cuadrada tiene: \"))\n",
    "    print(\"Recordando que puede salir del bucle escribiendo -1\")\n",
    "    z = diccionario.get(t)\n",
    "    \n",
    "    if z == None:\n",
    "        print(\" \")    \n",
    "    else:\n",
    "        print(z)\n",
    "    \n",
    "else:\n",
    "    print(\"Fin del programa\")"
   ]
  },
  {
   "cell_type": "markdown",
   "metadata": {},
   "source": [
    "8) Crea una función que calcule el máximo común divisor de dos números introducidos por el usuario por teclado."
   ]
  },
  {
   "cell_type": "code",
   "execution_count": null,
   "metadata": {},
   "outputs": [],
   "source": [
    "print(\"Calculo del maximo comun divisor (MCD)\")\n",
    "print(\" \")\n",
    "\n",
    "a = int(input(\"Ingrese el valor Mayor: \"))\n",
    "b = int(input(\"Ingrese el valor Menor: \"))\n",
    "\n",
    "print(\" \")\n",
    "\n",
    "resto = 0\n",
    "\n",
    "while b > 0:\n",
    "    if a>b:\n",
    "        resto = b\n",
    "        b = a % b\n",
    "        a = resto\n",
    "        print(\"Divisor: \", a, \"Resto: \", b)\n",
    "\n",
    "    else:\n",
    "        print(\"No cumple la condicion inicial de valores mayor a 0 o no posee MCD\")\n",
    "        break\n",
    "          \n",
    "if a>b:\n",
    "    print(\" \")    \n",
    "    print(\"Resultado del MCD es: \", a)"
   ]
  },
  {
   "cell_type": "code",
   "execution_count": null,
   "metadata": {},
   "outputs": [],
   "source": []
  },
  {
   "cell_type": "markdown",
   "metadata": {},
   "source": [
    "10) Dado una lista de nombres de persona, escribe un algoritmo que los ordene de tres formas diferentes:\n",
    "\n",
    "A. De forma alfabética\n",
    "\n",
    "B. De forma alfabética invertida\n",
    "\n",
    "C. De nombre más corto al más largo."
   ]
  },
  {
   "cell_type": "code",
   "execution_count": null,
   "metadata": {},
   "outputs": [],
   "source": [
    "import unicodedata\n",
    "print(\"Orden de nombres. Para salir del programa usar -1\")\n",
    "\n",
    "print(\" \")\n",
    "\n",
    "nombre = str(input(\"Introduzca un nombre: \"))\n",
    "trans_tab = dict.fromkeys(map(ord, u'\\u0301\\u0308'), None)\n",
    "nombre = unicodedata.normalize('NFKC', unicodedata.normalize('NFKD', nombre).translate(trans_tab))\n",
    "t = nombre.title()\n",
    "\n",
    "nombre1 = [t, ]\n",
    "\n",
    "while t != '-1':\n",
    "    \n",
    "    t = str(input(\"Introduzca un nombre: \"))\n",
    "    \n",
    "    if not t == \"-1\":\n",
    "        nombre1.append(t.title())\n",
    "        orden = nombre1\n",
    "        orden.sort(key=len)\n",
    "    \n",
    "else:\n",
    "    print(nombre1)\n",
    "    print(\"Ordenar alfabeticamente: \", sorted(nombre1))\n",
    "    print(\"Ordenar alfabeticamente invertida: \", sorted(nombre1, reverse = True))\n",
    "    print(\"Orden del nombre mas corto al mas largo: \", orden )\n",
    "    print(\"Fin del programa\")"
   ]
  },
  {
   "cell_type": "markdown",
   "metadata": {},
   "source": [
    "Escribe un programa que lea repetidamente numeros hasta que el usuario introduzca 'Fin'. \n",
    "Una vez se haya introducido 'fin', \n",
    "muestra por pantalla el total, la cantidad de números y la media de esos numeros. \n",
    "Si el usuario introduce cualquier otra cosa que no sea un número, detecta su fallo usando truy y except, muestra un mensaje de error y pasa al número siguiente."
   ]
  },
  {
   "cell_type": "code",
   "execution_count": 9,
   "metadata": {},
   "outputs": [
    {
     "name": "stdout",
     "output_type": "stream",
     "text": [
      "Para salir del programa debes escrivir Fin\n",
      " \n",
      "Ingrese un numero: a\n",
      "Caracter introducido incorrecto, vuelve a intentarlo\n",
      "Ingrese un numero: s\n",
      "Caracter introducido incorrecto, vuelve a intentarlo\n",
      "Ingrese un numero: 1\n",
      "Ingrese un numero: 2\n",
      "Ingrese un numero: Fin\n",
      "Valor total de todos lo numeros:  3 Valor de la media 1.5 Total de numeros inseridos:  2\n",
      "Fin del programa\n"
     ]
    }
   ],
   "source": [
    "print('Para salir del programa debes escrivir Fin')\n",
    "print(' ')\n",
    "\n",
    "x = str(input(\"Ingrese un numero: \"))\n",
    "\n",
    "try:\n",
    "    z = 0\n",
    "    if x != int(x):\n",
    "        z = int(x)\n",
    "\n",
    "except ValueError:\n",
    "    print(\"Caracter introducido incorrecto, vuelve a intentarlo\")\n",
    "\n",
    "total = 0 + z\n",
    "contar = 0 + z\n",
    "promedio =0\n",
    "\n",
    "while x != 'Fin':\n",
    "    \n",
    "    try:        \n",
    "        x = str(input(\"Ingrese un numero: \"))\n",
    "        t = int(x)\n",
    "        total = total + t  # Acumulador\n",
    "        contar = contar + 1 # contador\n",
    "        promedio = total / contar #Division del acumulador / contador da resultado el promedio.\n",
    "\n",
    "    except ValueError:\n",
    "        if x.strip() =='Fin':\n",
    "            break\n",
    "        else:\n",
    "            print(\"Caracter introducido incorrecto, vuelve a intentarlo\")\n",
    "        \n",
    "print('Valor total de todos lo numeros: ', total, \"Valor de la media \" +str(promedio), \"Total de numeros inseridos: \", contar)\n",
    "print('Fin del programa')"
   ]
  },
  {
   "cell_type": "code",
   "execution_count": null,
   "metadata": {},
   "outputs": [],
   "source": []
  }
 ],
 "metadata": {
  "kernelspec": {
   "display_name": "Python 3",
   "language": "python",
   "name": "python3"
  },
  "language_info": {
   "codemirror_mode": {
    "name": "ipython",
    "version": 3
   },
   "file_extension": ".py",
   "mimetype": "text/x-python",
   "name": "python",
   "nbconvert_exporter": "python",
   "pygments_lexer": "ipython3",
   "version": "3.8.5"
  }
 },
 "nbformat": 4,
 "nbformat_minor": 4
}
