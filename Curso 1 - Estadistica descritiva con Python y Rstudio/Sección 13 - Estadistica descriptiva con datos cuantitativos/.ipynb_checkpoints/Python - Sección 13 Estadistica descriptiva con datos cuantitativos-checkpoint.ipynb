{
 "cells": [
  {
   "cell_type": "markdown",
   "metadata": {},
   "source": [
    "# Datos de planetas\n",
    "Vamos usar el paquete seaborn. Nos da información de planetas que los astronomos lo hicieron"
   ]
  },
  {
   "cell_type": "code",
   "execution_count": 5,
   "metadata": {},
   "outputs": [],
   "source": [
    "import seaborn as ab"
   ]
  },
  {
   "cell_type": "code",
   "execution_count": 6,
   "metadata": {},
   "outputs": [
    {
     "name": "stdout",
     "output_type": "stream",
     "text": [
      "(1035, 6)\n",
      "            method  number  orbital_period   mass  distance  year\n",
      "0  Radial Velocity       1         269.300   7.10     77.40  2006\n",
      "1  Radial Velocity       1         874.774   2.21     56.95  2008\n",
      "2  Radial Velocity       1         763.000   2.60     19.84  2011\n",
      "3  Radial Velocity       1         326.030  19.40    110.62  2007\n",
      "4  Radial Velocity       1         516.220  10.50    119.47  2009\n"
     ]
    }
   ],
   "source": [
    "planets = ab.load_dataset('planets')\n",
    "print(planets.shape) #1035 planetas con 6 variables diferentes\n",
    "print(planets.head())"
   ]
  },
  {
   "cell_type": "code",
   "execution_count": 9,
   "metadata": {},
   "outputs": [
    {
     "name": "stdout",
     "output_type": "stream",
     "text": [
      "            number  orbital_period        mass     distance         year\n",
      "count  1035.000000      992.000000  513.000000   808.000000  1035.000000\n",
      "mean      1.785507     2002.917596    2.638161   264.069282  2009.070531\n",
      "std       1.240976    26014.728304    3.818617   733.116493     3.972567\n",
      "min       1.000000        0.090706    0.003600     1.350000  1989.000000\n",
      "25%       1.000000        5.442540    0.229000    32.560000  2007.000000\n",
      "50%       1.000000       39.979500    1.260000    55.250000  2010.000000\n",
      "75%       2.000000      526.005000    3.040000   178.500000  2012.000000\n",
      "max       7.000000   730000.000000   25.000000  8500.000000  2014.000000\n",
      " \n",
      "          number  orbital_period        mass    distance         year\n",
      "count  498.00000      498.000000  498.000000  498.000000   498.000000\n",
      "mean     1.73494      835.778671    2.509320   52.068213  2007.377510\n",
      "std      1.17572     1469.128259    3.636274   46.596041     4.167284\n",
      "min      1.00000        1.328300    0.003600    1.350000  1989.000000\n",
      "25%      1.00000       38.272250    0.212500   24.497500  2005.000000\n",
      "50%      1.00000      357.000000    1.245000   39.940000  2009.000000\n",
      "75%      2.00000      999.600000    2.867500   59.332500  2011.000000\n",
      "max      6.00000    17337.500000   25.000000  354.000000  2014.000000\n"
     ]
    }
   ],
   "source": [
    "print(planets.describe())#aqui considera los NA como estudio\n",
    "print(' ')\n",
    "print(planets.dropna().describe()) #Haciendo un drecribe para tener todos los datos estadisticos\n",
    "#Hice el dropna para eliminar los na del data set\n"
   ]
  },
  {
   "cell_type": "code",
   "execution_count": 7,
   "metadata": {},
   "outputs": [],
   "source": [
    "import pandas as pd"
   ]
  },
  {
   "cell_type": "markdown",
   "metadata": {},
   "source": [
    "mad = Desviación de la media absoluta =\n",
    "$$\\frac{\\sum^n_{i=1} \\mid x_i-\\bar{x} \\mid }{n}$$"
   ]
  },
  {
   "cell_type": "code",
   "execution_count": null,
   "metadata": {},
   "outputs": [],
   "source": []
  },
  {
   "cell_type": "code",
   "execution_count": 11,
   "metadata": {},
   "outputs": [
    {
     "name": "stdout",
     "output_type": "stream",
     "text": [
      "213367.98000000004\n",
      "inf\n",
      "318.100885452407\n",
      "537459.7922212934\n",
      "733.1164929404422\n"
     ]
    }
   ],
   "source": [
    "print(planets.distance.sum()) #La variable distance sumo todas\n",
    "print(planets.distance.prod()) #La variable distance las multiplico da infinito\n",
    "print(planets.distance.mad()) #Desviación de la media absoluta\n",
    "print(planets.distance.var()) #Calculo del a varianza\n",
    "print(planets.distance.std()) #Calculo de la desviación estandar"
   ]
  },
  {
   "cell_type": "code",
   "execution_count": 15,
   "metadata": {},
   "outputs": [
    {
     "name": "stdout",
     "output_type": "stream",
     "text": [
      "method\n",
      "Astrometry                         631.180000\n",
      "Eclipse Timing Variations         4343.500000\n",
      "Imaging                          27500.000000\n",
      "Microlensing                      3300.000000\n",
      "Orbital Brightness Modulation        0.342887\n",
      "Pulsar Timing                       66.541900\n",
      "Pulsation Timing Variations       1170.000000\n",
      "Radial Velocity                    360.200000\n",
      "Transit                              5.714932\n",
      "Transit Timing Variations           57.011000\n",
      "Name: orbital_period, dtype: float64\n"
     ]
    }
   ],
   "source": [
    "#Función method = Para que metodo forma parte de dicha agrupación\n",
    "planets.groupby('method') #Invovamos un objeto generico de pandas para hacer lo siguiente=\n",
    "print(planets.groupby('method')['orbital_period'].median()) #Calculo la mediana\n",
    "#En este caso para calcular el periodo orbital el que es mas preciso es el metodo\n",
    "#Orbital brightness modulation 0.34 dias, \n",
    "#sigue transit 5.71 dias y despues van los demas - \n",
    "#los valores son referentes a dias para el calculo del periodo orbital"
   ]
  },
  {
   "cell_type": "code",
   "execution_count": 16,
   "metadata": {},
   "outputs": [
    {
     "name": "stdout",
     "output_type": "stream",
     "text": [
      "Astrometry                     shape =(2, 6)\n",
      "Eclipse Timing Variations      shape =(9, 6)\n",
      "Imaging                        shape =(38, 6)\n",
      "Microlensing                   shape =(23, 6)\n",
      "Orbital Brightness Modulation  shape =(3, 6)\n",
      "Pulsar Timing                  shape =(5, 6)\n",
      "Pulsation Timing Variations    shape =(1, 6)\n",
      "Radial Velocity                shape =(553, 6)\n",
      "Transit                        shape =(397, 6)\n",
      "Transit Timing Variations      shape =(4, 6)\n"
     ]
    }
   ],
   "source": [
    "#Función method = Para que metodo forma parte de dicha agrupación\n",
    "#va desde group mi variable y cada fila de planets.groupby('method')\n",
    "for (method, group) in planets.groupby('method'):\n",
    "    print('{0:30s} shape ={1}'.format(method, group.shape)) \n",
    "    #La primera variable que va a invocar sustituira la primera 0:30\n",
    "    #La segunda variable sustituira la segunda 1\n",
    "\n",
    "#Referente al codigo\n",
    "#para cada uno de los métodos utilizados 'for (method,''\n",
    "#y el grupo de datos 'for (method, group)''\n",
    "#en cuestión 'for (method, group) in planets.groupby('method'):''\n",
    "#vamos a sacar el método y el tamaño de datos por tanto usando la técnica\n",
    "\n",
    "#Referente al resultado\n",
    "#Astrometry pues sólo hay dos planetas que se hayan calculado.\n",
    "#Vemos que el metodo mas comun es velocidad radial porque tiene mas observaciones\n",
    "#La menos usada es pulsation timming variations porque solo se uso en 1 planeta"
   ]
  },
  {
   "cell_type": "code",
   "execution_count": 17,
   "metadata": {},
   "outputs": [
    {
     "data": {
      "text/html": [
       "<div>\n",
       "<style scoped>\n",
       "    .dataframe tbody tr th:only-of-type {\n",
       "        vertical-align: middle;\n",
       "    }\n",
       "\n",
       "    .dataframe tbody tr th {\n",
       "        vertical-align: top;\n",
       "    }\n",
       "\n",
       "    .dataframe thead th {\n",
       "        text-align: right;\n",
       "    }\n",
       "</style>\n",
       "<table border=\"1\" class=\"dataframe\">\n",
       "  <thead>\n",
       "    <tr style=\"text-align: right;\">\n",
       "      <th></th>\n",
       "      <th>count</th>\n",
       "      <th>mean</th>\n",
       "      <th>std</th>\n",
       "      <th>min</th>\n",
       "      <th>25%</th>\n",
       "      <th>50%</th>\n",
       "      <th>75%</th>\n",
       "      <th>max</th>\n",
       "    </tr>\n",
       "    <tr>\n",
       "      <th>method</th>\n",
       "      <th></th>\n",
       "      <th></th>\n",
       "      <th></th>\n",
       "      <th></th>\n",
       "      <th></th>\n",
       "      <th></th>\n",
       "      <th></th>\n",
       "      <th></th>\n",
       "    </tr>\n",
       "  </thead>\n",
       "  <tbody>\n",
       "    <tr>\n",
       "      <th>Astrometry</th>\n",
       "      <td>2.0</td>\n",
       "      <td>2011.500000</td>\n",
       "      <td>2.121320</td>\n",
       "      <td>2010.0</td>\n",
       "      <td>2010.75</td>\n",
       "      <td>2011.5</td>\n",
       "      <td>2012.25</td>\n",
       "      <td>2013.0</td>\n",
       "    </tr>\n",
       "    <tr>\n",
       "      <th>Eclipse Timing Variations</th>\n",
       "      <td>9.0</td>\n",
       "      <td>2010.000000</td>\n",
       "      <td>1.414214</td>\n",
       "      <td>2008.0</td>\n",
       "      <td>2009.00</td>\n",
       "      <td>2010.0</td>\n",
       "      <td>2011.00</td>\n",
       "      <td>2012.0</td>\n",
       "    </tr>\n",
       "    <tr>\n",
       "      <th>Imaging</th>\n",
       "      <td>38.0</td>\n",
       "      <td>2009.131579</td>\n",
       "      <td>2.781901</td>\n",
       "      <td>2004.0</td>\n",
       "      <td>2008.00</td>\n",
       "      <td>2009.0</td>\n",
       "      <td>2011.00</td>\n",
       "      <td>2013.0</td>\n",
       "    </tr>\n",
       "    <tr>\n",
       "      <th>Microlensing</th>\n",
       "      <td>23.0</td>\n",
       "      <td>2009.782609</td>\n",
       "      <td>2.859697</td>\n",
       "      <td>2004.0</td>\n",
       "      <td>2008.00</td>\n",
       "      <td>2010.0</td>\n",
       "      <td>2012.00</td>\n",
       "      <td>2013.0</td>\n",
       "    </tr>\n",
       "    <tr>\n",
       "      <th>Orbital Brightness Modulation</th>\n",
       "      <td>3.0</td>\n",
       "      <td>2011.666667</td>\n",
       "      <td>1.154701</td>\n",
       "      <td>2011.0</td>\n",
       "      <td>2011.00</td>\n",
       "      <td>2011.0</td>\n",
       "      <td>2012.00</td>\n",
       "      <td>2013.0</td>\n",
       "    </tr>\n",
       "    <tr>\n",
       "      <th>Pulsar Timing</th>\n",
       "      <td>5.0</td>\n",
       "      <td>1998.400000</td>\n",
       "      <td>8.384510</td>\n",
       "      <td>1992.0</td>\n",
       "      <td>1992.00</td>\n",
       "      <td>1994.0</td>\n",
       "      <td>2003.00</td>\n",
       "      <td>2011.0</td>\n",
       "    </tr>\n",
       "    <tr>\n",
       "      <th>Pulsation Timing Variations</th>\n",
       "      <td>1.0</td>\n",
       "      <td>2007.000000</td>\n",
       "      <td>NaN</td>\n",
       "      <td>2007.0</td>\n",
       "      <td>2007.00</td>\n",
       "      <td>2007.0</td>\n",
       "      <td>2007.00</td>\n",
       "      <td>2007.0</td>\n",
       "    </tr>\n",
       "    <tr>\n",
       "      <th>Radial Velocity</th>\n",
       "      <td>553.0</td>\n",
       "      <td>2007.518987</td>\n",
       "      <td>4.249052</td>\n",
       "      <td>1989.0</td>\n",
       "      <td>2005.00</td>\n",
       "      <td>2009.0</td>\n",
       "      <td>2011.00</td>\n",
       "      <td>2014.0</td>\n",
       "    </tr>\n",
       "    <tr>\n",
       "      <th>Transit</th>\n",
       "      <td>397.0</td>\n",
       "      <td>2011.236776</td>\n",
       "      <td>2.077867</td>\n",
       "      <td>2002.0</td>\n",
       "      <td>2010.00</td>\n",
       "      <td>2012.0</td>\n",
       "      <td>2013.00</td>\n",
       "      <td>2014.0</td>\n",
       "    </tr>\n",
       "    <tr>\n",
       "      <th>Transit Timing Variations</th>\n",
       "      <td>4.0</td>\n",
       "      <td>2012.500000</td>\n",
       "      <td>1.290994</td>\n",
       "      <td>2011.0</td>\n",
       "      <td>2011.75</td>\n",
       "      <td>2012.5</td>\n",
       "      <td>2013.25</td>\n",
       "      <td>2014.0</td>\n",
       "    </tr>\n",
       "  </tbody>\n",
       "</table>\n",
       "</div>"
      ],
      "text/plain": [
       "                               count         mean       std     min      25%  \\\n",
       "method                                                                         \n",
       "Astrometry                       2.0  2011.500000  2.121320  2010.0  2010.75   \n",
       "Eclipse Timing Variations        9.0  2010.000000  1.414214  2008.0  2009.00   \n",
       "Imaging                         38.0  2009.131579  2.781901  2004.0  2008.00   \n",
       "Microlensing                    23.0  2009.782609  2.859697  2004.0  2008.00   \n",
       "Orbital Brightness Modulation    3.0  2011.666667  1.154701  2011.0  2011.00   \n",
       "Pulsar Timing                    5.0  1998.400000  8.384510  1992.0  1992.00   \n",
       "Pulsation Timing Variations      1.0  2007.000000       NaN  2007.0  2007.00   \n",
       "Radial Velocity                553.0  2007.518987  4.249052  1989.0  2005.00   \n",
       "Transit                        397.0  2011.236776  2.077867  2002.0  2010.00   \n",
       "Transit Timing Variations        4.0  2012.500000  1.290994  2011.0  2011.75   \n",
       "\n",
       "                                  50%      75%     max  \n",
       "method                                                  \n",
       "Astrometry                     2011.5  2012.25  2013.0  \n",
       "Eclipse Timing Variations      2010.0  2011.00  2012.0  \n",
       "Imaging                        2009.0  2011.00  2013.0  \n",
       "Microlensing                   2010.0  2012.00  2013.0  \n",
       "Orbital Brightness Modulation  2011.0  2012.00  2013.0  \n",
       "Pulsar Timing                  1994.0  2003.00  2011.0  \n",
       "Pulsation Timing Variations    2007.0  2007.00  2007.0  \n",
       "Radial Velocity                2009.0  2011.00  2014.0  \n",
       "Transit                        2012.0  2013.00  2014.0  \n",
       "Transit Timing Variations      2012.5  2013.25  2014.0  "
      ]
     },
     "execution_count": 17,
     "metadata": {},
     "output_type": "execute_result"
    }
   ],
   "source": [
    "#Usando la función described para usar 1 conjunto de datos\n",
    "#Describir para cada metodo como se comporta la variable Años 'year'\n",
    "planets.groupby('method')['year'].describe()"
   ]
  },
  {
   "cell_type": "code",
   "execution_count": 25,
   "metadata": {},
   "outputs": [
    {
     "name": "stdout",
     "output_type": "stream",
     "text": [
      "method                         decade\n",
      "Astrometry                     2010s       2\n",
      "Eclipse Timing Variations      2000s       5\n",
      "                               2010s      10\n",
      "Imaging                        2000s      29\n",
      "                               2010s      21\n",
      "Microlensing                   2000s      12\n",
      "                               2010s      15\n",
      "Orbital Brightness Modulation  2010s       5\n",
      "Pulsar Timing                  1990s       9\n",
      "                               2000s       1\n",
      "                               2010s       1\n",
      "Pulsation Timing Variations    2000s       1\n",
      "Radial Velocity                1980s       1\n",
      "                               1990s      52\n",
      "                               2000s     475\n",
      "                               2010s     424\n",
      "Transit                        2000s      64\n",
      "                               2010s     712\n",
      "Transit Timing Variations      2010s       9\n",
      "Name: number, dtype: int64\n"
     ]
    }
   ],
   "source": [
    "#A//B = Cociente de la división entera\n",
    "decade = 10*(planets['year']//10) #Calculo la decada \n",
    "decade = decade.astype(str)+'s' #Converti una variable numerica para factor de agrupación\n",
    "                                #Le agrege una s al final para que se identifique como decada\n",
    "decade.name = 'decade' #Le estoy dando un nombre porque vamos añadir una columna adicional al data frame\n",
    "\n",
    "#Metodo de agrupación por año de descubrimiento y por metodo\n",
    "#grouby para agrupar por metodo\n",
    "#Corchete para indicar una lista\n",
    "\n",
    "\n",
    "\n",
    "print(planets.groupby(['method', #Primero agrupo por metodo (method)\n",
    "                 decade])['number'].sum()) # y agrego el vecto de 'decadas'\n",
    "                                    #Nos quedamos con el numero de descubrimientos 'number'\n",
    "                                    #Sumo la variables\n",
    "\n",
    "#El resultado son la cantidad de descubrimientos por decadas y tipo de metodo ejemplo\n"
   ]
  },
  {
   "cell_type": "code",
   "execution_count": 27,
   "metadata": {},
   "outputs": [
    {
     "name": "stdout",
     "output_type": "stream",
     "text": [
      "decade                         1980s  1990s  2000s  2010s\n",
      "method                                                   \n",
      "Astrometry                       NaN    NaN    NaN    2.0\n",
      "Eclipse Timing Variations        NaN    NaN    5.0   10.0\n",
      "Imaging                          NaN    NaN   29.0   21.0\n",
      "Microlensing                     NaN    NaN   12.0   15.0\n",
      "Orbital Brightness Modulation    NaN    NaN    NaN    5.0\n",
      "Pulsar Timing                    NaN    9.0    1.0    1.0\n",
      "Pulsation Timing Variations      NaN    NaN    1.0    NaN\n",
      "Radial Velocity                  1.0   52.0  475.0  424.0\n",
      "Transit                          NaN    NaN   64.0  712.0\n",
      "Transit Timing Variations        NaN    NaN    NaN    9.0\n",
      " \n",
      "decade                         1980s  1990s  2000s  2010s\n",
      "method                                                   \n",
      "Astrometry                       0.0    0.0    0.0    2.0\n",
      "Eclipse Timing Variations        0.0    0.0    5.0   10.0\n",
      "Imaging                          0.0    0.0   29.0   21.0\n",
      "Microlensing                     0.0    0.0   12.0   15.0\n",
      "Orbital Brightness Modulation    0.0    0.0    0.0    5.0\n",
      "Pulsar Timing                    0.0    9.0    1.0    1.0\n",
      "Pulsation Timing Variations      0.0    0.0    1.0    0.0\n",
      "Radial Velocity                  1.0   52.0  475.0  424.0\n",
      "Transit                          0.0    0.0   64.0  712.0\n",
      "Transit Timing Variations        0.0    0.0    0.0    9.0\n"
     ]
    }
   ],
   "source": [
    "#Función unastack es para convertir en una tabla\n",
    "print(planets.groupby(['method', #Primero agrupo por metodo (method)\n",
    "                 decade])['number'].sum().unstack()) # y agrego el vecto de 'decadas'\n",
    "                                    #Nos quedamos con el numero de descubrimientos 'number'\n",
    "                                    #Sumo la variables\n",
    "print(' ')\n",
    "#Se observa que aparecieron muchos NAN eso significa que no se descubrieron planetas\n",
    "#En esas decadas para ese metodo. para eliminarlo usa la función fillna(0)\n",
    "print(planets.groupby(['method', #Primero agrupo por metodo (method)\n",
    "                 decade])['number'].sum().unstack().fillna(0)) # y agrego el vecto de 'decadas'\n",
    "                                    #Nos quedamos con el numero de descubrimientos 'number'\n",
    "                                    #Sumo la variables"
   ]
  },
  {
   "cell_type": "code",
   "execution_count": null,
   "metadata": {},
   "outputs": [],
   "source": []
  },
  {
   "cell_type": "markdown",
   "metadata": {},
   "source": [
    "# Diagramas de cajas y bigotes "
   ]
  },
  {
   "cell_type": "code",
   "execution_count": 8,
   "metadata": {},
   "outputs": [],
   "source": [
    "import numpy as np\n",
    "import matplotlib.pyplot as plt"
   ]
  },
  {
   "cell_type": "code",
   "execution_count": 9,
   "metadata": {},
   "outputs": [],
   "source": [
    "np.random.seed(19880519) #Estos son para que los datos aleatorios que genere sean igual a los del curso"
   ]
  },
  {
   "cell_type": "code",
   "execution_count": 10,
   "metadata": {},
   "outputs": [],
   "source": [
    "dist1 = 100*np.random.rand(50) #50 numeros aleatorios entre 0 y 1 - Pero al multiplicarlo por 100\n",
    "                                #El resultado sera entre 0 y 100 el estudio\n",
    "dist2 = 50*np.ones(25) #Genera un vector de 1 una cantidad de 25 numeros. \n",
    "                    #Al multiplicarlo por 50 sera 25 numeros de valor 50\n",
    "dist3 = 100+100*np.random.rand(10) #Creo 10 outlaiers por arriba \n",
    "                            #Multiplico x 100 para que sean valores de 0 hasta 100\n",
    "                            #Le sumo 100 para que queden numeros entre 100 y 200 despues de la transformación\n",
    "dist4 = -100*np.random.rand(10) #Creo 10 outlaiers por abajo \n",
    "                            #Multiplico x -100 para que sean valores de 0 hasta -100 \n",
    "\n",
    "#Lo concateno usando numpy Para juntar las 4 distribuciones ya creadas\n",
    "data = np.concatenate((dist1, dist2, dist3, dist4))\n",
    "                            "
   ]
  },
  {
   "cell_type": "code",
   "execution_count": 33,
   "metadata": {},
   "outputs": [
    {
     "data": {
      "text/plain": [
       "{'whiskers': [<matplotlib.lines.Line2D at 0x7f5bb88a9be0>,\n",
       "  <matplotlib.lines.Line2D at 0x7f5bb8897460>],\n",
       " 'caps': [<matplotlib.lines.Line2D at 0x7f5bb88979a0>,\n",
       "  <matplotlib.lines.Line2D at 0x7f5bb84723d0>],\n",
       " 'boxes': [<matplotlib.lines.Line2D at 0x7f5bb88a94f0>],\n",
       " 'medians': [<matplotlib.lines.Line2D at 0x7f5bb8472ca0>],\n",
       " 'fliers': [<matplotlib.lines.Line2D at 0x7f5bb8abef40>],\n",
       " 'means': []}"
      ]
     },
     "execution_count": 33,
     "metadata": {},
     "output_type": "execute_result"
    },
    {
     "data": {
      "image/png": "[encoded data removed]",
      "text/plain": [
       "<Figure size 432x288 with 1 Axes>"
      ]
     },
     "metadata": {
      "needs_background": "light"
     },
     "output_type": "display_data"
    }
   ],
   "source": [
    "#Grafico\n",
    "fig1, ax1 = plt.subplots()\n",
    "ax1.set_title('boxplot básico')\n",
    "ax1.boxplot(data)"
   ]
  },
  {
   "cell_type": "code",
   "execution_count": null,
   "metadata": {},
   "outputs": [],
   "source": [
    "# Parametros"
   ]
  },
  {
   "cell_type": "code",
   "execution_count": 34,
   "metadata": {},
   "outputs": [
    {
     "data": {
      "text/plain": [
       "{'whiskers': [<matplotlib.lines.Line2D at 0x7f5bb87e8c70>,\n",
       "  <matplotlib.lines.Line2D at 0x7f5bb87e1520>],\n",
       " 'caps': [<matplotlib.lines.Line2D at 0x7f5bb87e1a90>,\n",
       "  <matplotlib.lines.Line2D at 0x7f5bb87db7c0>],\n",
       " 'boxes': [<matplotlib.lines.Line2D at 0x7f5bb87e8880>],\n",
       " 'medians': [<matplotlib.lines.Line2D at 0x7f5bb87db9d0>],\n",
       " 'fliers': [<matplotlib.lines.Line2D at 0x7f5bb87db370>],\n",
       " 'means': []}"
      ]
     },
     "execution_count": 34,
     "metadata": {},
     "output_type": "execute_result"
    },
    {
     "data": {
      "image/png": "[encoded data removed]",
      "text/plain": [
       "<Figure size 432x288 with 1 Axes>"
      ]
     },
     "metadata": {
      "needs_background": "light"
     },
     "output_type": "display_data"
    }
   ],
   "source": [
    "#Parametro notch = T para que aparezcan muescas\n",
    "fig2, ax2 = plt.subplots()\n",
    "ax2.set_title('boxplot básico')\n",
    "ax2.boxplot(data, notch = True)"
   ]
  },
  {
   "cell_type": "code",
   "execution_count": 36,
   "metadata": {},
   "outputs": [
    {
     "data": {
      "text/plain": [
       "{'whiskers': [<matplotlib.lines.Line2D at 0x7f5bb7866190>,\n",
       "  <matplotlib.lines.Line2D at 0x7f5bb78664f0>],\n",
       " 'caps': [<matplotlib.lines.Line2D at 0x7f5bb7866850>,\n",
       "  <matplotlib.lines.Line2D at 0x7f5bb7866bb0>],\n",
       " 'boxes': [<matplotlib.lines.Line2D at 0x7f5bb78d6df0>],\n",
       " 'medians': [<matplotlib.lines.Line2D at 0x7f5bb7866f40>],\n",
       " 'fliers': [<matplotlib.lines.Line2D at 0x7f5bb786f2e0>],\n",
       " 'means': []}"
      ]
     },
     "execution_count": 36,
     "metadata": {},
     "output_type": "execute_result"
    },
    {
     "data": {
      "image/png": "[encoded data removed]",
      "text/plain": [
       "<Figure size 432x288 with 1 Axes>"
      ]
     },
     "metadata": {
      "needs_background": "light"
     },
     "output_type": "display_data"
    }
   ],
   "source": [
    "#parametro flierprops = Para especificar los ouliers \n",
    "\n",
    "#Con el uso de diccionario los outliers convierto en diamante y los pinto en verde\n",
    "green_diamond = dict(markerfacecolor = 'g', #Color verde\n",
    "                    marker = 'D') #Convierto los circulos en diamantes\n",
    "\n",
    "fig3, ax3 = plt.subplots()\n",
    "ax3.set_title('boxplot con outliers personalizados')\n",
    "ax3.boxplot(data, #llamo los valores para el diagrama\n",
    "            flierprops=green_diamond) #Convierto los outliers en diamantes de color verde"
   ]
  },
  {
   "cell_type": "code",
   "execution_count": 41,
   "metadata": {},
   "outputs": [
    {
     "data": {
      "text/plain": [
       "{'whiskers': [<matplotlib.lines.Line2D at 0x7f5bb7761400>,\n",
       "  <matplotlib.lines.Line2D at 0x7f5bb7761760>],\n",
       " 'caps': [<matplotlib.lines.Line2D at 0x7f5bb7761ac0>,\n",
       "  <matplotlib.lines.Line2D at 0x7f5bb7761e50>],\n",
       " 'boxes': [<matplotlib.lines.Line2D at 0x7f5bb77610a0>],\n",
       " 'medians': [<matplotlib.lines.Line2D at 0x7f5bb76ec1f0>],\n",
       " 'fliers': [<matplotlib.lines.Line2D at 0x7f5bb76ec550>],\n",
       " 'means': []}"
      ]
     },
     "execution_count": 41,
     "metadata": {},
     "output_type": "execute_result"
    },
    {
     "data": {
      "image/png": "[encoded data removed]",
      "text/plain": [
       "<Figure size 432x288 with 1 Axes>"
      ]
     },
     "metadata": {
      "needs_background": "light"
     },
     "output_type": "display_data"
    }
   ],
   "source": [
    "#Volteando la grafica a vertical usando vert = False\n",
    "# Función whis = (numero 0.xx) Para que los bigotes se alejen o se acerquen de la caja\n",
    "#Con el uso de diccionario los outliers convierto en cuadrados y los pinto en rojo\n",
    "red_square = dict(markerfacecolor = 'r', #Color rojo\n",
    "                    marker = 's') #Convierto los circulos en cuadrados\n",
    "\n",
    "fig3a, ax3a = plt.subplots()\n",
    "ax3a.set_title('boxplot con outliers personalizados')\n",
    "ax3a.boxplot(data, #llamo los valores para el diagrama\n",
    "             vert = False, #Convierto el boxplot en vertical\n",
    "             whis = 0.75, #Función para determinar el tamaño de los bigotes en este caso\n",
    "                            # Los bigotes ahora son mas pequeños ou mas cerca de la caja\n",
    "            flierprops=red_square) #Convierto los outliers en cuadrados de color rojo"
   ]
  },
  {
   "cell_type": "code",
   "execution_count": 18,
   "metadata": {},
   "outputs": [
    {
     "data": {
      "text/plain": [
       "{'whiskers': [<matplotlib.lines.Line2D at 0x7f1cfd6a52e0>,\n",
       "  <matplotlib.lines.Line2D at 0x7f1cfd6a5640>],\n",
       " 'caps': [<matplotlib.lines.Line2D at 0x7f1cfd6a59a0>,\n",
       "  <matplotlib.lines.Line2D at 0x7f1cfd6a5d00>],\n",
       " 'boxes': [<matplotlib.lines.Line2D at 0x7f1cfd695f40>],\n",
       " 'medians': [<matplotlib.lines.Line2D at 0x7f1cfd6b30a0>],\n",
       " 'fliers': [],\n",
       " 'means': []}"
      ]
     },
     "execution_count": 18,
     "metadata": {},
     "output_type": "execute_result"
    },
    {
     "data": {
      "image/png": "[encoded data removed]",
      "text/plain": [
       "<Figure size 432x288 with 1 Axes>"
      ]
     },
     "metadata": {
      "needs_background": "light"
     },
     "output_type": "display_data"
    }
   ],
   "source": [
    "# Eliminando outliers del grafico con el parametro showfliers = False\n",
    "\n",
    "fig4, ax4 = plt.subplots()\n",
    "ax4.set_title('boxplot sin outliers')\n",
    "ax4.boxplot(data, #llamos los datos para el grafico\n",
    "           showfliers = False) #Elimino los outliers"
   ]
  },
  {
   "cell_type": "code",
   "execution_count": null,
   "metadata": {},
   "outputs": [],
   "source": [
    "#Haciendo varios boxplots en 1 mismo grafico"
   ]
  },
  {
   "cell_type": "code",
   "execution_count": 53,
   "metadata": {},
   "outputs": [],
   "source": [
    "import numpy as np\n",
    "import matplotlib.pyplot as plt\n",
    "dist1 = 100*np.random.rand(50) #50 numeros aleatorios entre 0 y 1 - Pero al multiplicarlo por 100\n",
    "                                #El resultado sera entre 0 y 100 el estudio\n",
    "dist2 = 40*np.ones(25) #Genera un vector de 1 una cantidad de 25 numeros. \n",
    "                    #Al multiplicarlo por 50 sera 25 numeros de valor 50\n",
    "dist3 = 100+100*np.random.rand(10) #Creo 10 outlaiers por arriba \n",
    "                            #Multiplico x 100 para que sean valores de 0 hasta 100\n",
    "                            #Le sumo 100 para que queden numeros entre 100 y 200 despues de la transformación\n",
    "dist4 = -100*np.random.rand(10) #Creo 10 outlaiers por abajo \n",
    "                            #Multiplico x -100 para que sean valores de 0 hasta -100 \n",
    "data2 = np.concatenate((dist1,dist2,dist3,dist4))"
   ]
  },
  {
   "cell_type": "code",
   "execution_count": 54,
   "metadata": {},
   "outputs": [
    {
     "data": {
      "image/png": "[encoded data removed]",
      "text/plain": [
       "<Figure size 432x288 with 1 Axes>"
      ]
     },
     "metadata": {
      "needs_background": "light"
     },
     "output_type": "display_data"
    }
   ],
   "source": [
    "data.shape = (-1,1) #Modifico el conjunto de datos para convertirlos en un array bidimensional\n",
    "data2.shape = (-1,1)#Modifico el conjunto de datos para convertirlos en un array bidimensional\n",
    "                            #data2 el primer 2 puntos (:) Para escoger todos los datos\n",
    "                            \n",
    "#Función flatten() es para convertir los arrays de 2 dimensiones para 1 sola. Si no se hace eso\n",
    "#No va a graficar y va arrojar un error de que tiene mas de 2 dimensiones las informaciones\n",
    "fulldata = [data.flatten(), data2.flatten(), data2[::2,#El segundo (:) donde queda :: es para que los valores sean de 2 en 2\n",
    "                             0].flatten()]# El 0 es para que tome la primera columna\n",
    "\n",
    "fig7, ax7 = plt.subplots()\n",
    "ax7.set_title(\"Múltiples muestras de diferentes naturaleza\")\n",
    "ax7.boxplot(fulldata)\n",
    "plt.show()"
   ]
  },
  {
   "cell_type": "code",
   "execution_count": null,
   "metadata": {},
   "outputs": [],
   "source": []
  }
 ],
 "metadata": {
  "kernelspec": {
   "display_name": "Python 3",
   "language": "python",
   "name": "python3"
  },
  "language_info": {
   "codemirror_mode": {
    "name": "ipython",
    "version": 3
   },
   "file_extension": ".py",
   "mimetype": "text/x-python",
   "name": "python",
   "nbconvert_exporter": "python",
   "pygments_lexer": "ipython3",
   "version": "3.8.5"
  }
 },
 "nbformat": 4,
 "nbformat_minor": 4
}
