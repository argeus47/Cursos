{
 "cells": [
  {
   "cell_type": "markdown",
   "metadata": {},
   "source": [
    "# Regresión lineal en Python"
   ]
  },
  {
   "cell_type": "markdown",
   "metadata": {},
   "source": [
    "## Ejercicio de Diabetes"
   ]
  },
  {
   "cell_type": "code",
   "execution_count": 3,
   "metadata": {},
   "outputs": [],
   "source": [
    "import matplotlib.pyplot as plt\n",
    "import numpy as np\n",
    "from sklearn import datasets, linear_model\n",
    "from sklearn.metrics import mean_squared_error, r2_score"
   ]
  },
  {
   "cell_type": "code",
   "execution_count": null,
   "metadata": {},
   "outputs": [],
   "source": [
    "# linear_model = para hacer el equivalente de (lm) de Rstudio\n",
    "# sklearn.metrics = subpaquete, \n",
    "# mean_squared_error = mide como la recta se aproxima o aleja del conjunto de datos\n",
    "# r2_score = Coeficiente de determinación del modelo lineal"
   ]
  },
  {
   "cell_type": "code",
   "execution_count": 4,
   "metadata": {},
   "outputs": [
    {
     "name": "stdout",
     "output_type": "stream",
     "text": [
      "<class 'sklearn.utils.Bunch'>\n",
      "<class 'numpy.ndarray'>\n",
      "(442, 10)\n"
     ]
    }
   ],
   "source": [
    "diabetes = datasets.load_diabetes()\n",
    "print(type(diabetes)) #Es un aglomerado de datos preparado especialmente para sklearn\n",
    "#Es la forma en que sklearn identifica los arhivos por lo que necesitamos transformarlos\n",
    "\n",
    "print(type(diabetes.data)) #Esa opción ya es un array para poder trabajar\n",
    "\n",
    "print(diabetes.data.shape) #Observo las filas y las columnas"
   ]
  },
  {
   "cell_type": "code",
   "execution_count": 9,
   "metadata": {},
   "outputs": [
    {
     "name": "stdout",
     "output_type": "stream",
     "text": [
      "[[ 0.06169621]\n",
      " [-0.05147406]\n",
      " [ 0.04445121]\n",
      " [-0.01159501]\n",
      " [-0.03638469]]\n",
      "[151.  75. 141. 206. 135.]\n"
     ]
    }
   ],
   "source": [
    "#Me quedo con la segunda columna solo y todas las filas y creo 2 variable\n",
    "# Variable x para array de datos\n",
    "# Variable y para la predicción\n",
    "\n",
    "x0 = diabetes.data[:, #Todas las filas\n",
    "                  2] #Solo la segunda columna\n",
    "# x0 por ser un array multimidimensional \n",
    "#necesitamos convertilo en unidimensional con 1 sola columna para ello hacemos:\n",
    "\n",
    "x1 = diabetes.data[:,2].reshape(-1,1) #Otra forma de redimensionar el array para 1 sola dimensión\n",
    "\n",
    "x = diabetes.data[:, #Todas las filas\n",
    "                  np.newaxis, #Parametro para convertir en 1 sola dimensión\n",
    "                  #Lo que hace es crear una nueva dimensión con los datos de la 2da columna\n",
    "                  2] #Solo la segunda columna\n",
    "\n",
    "y = diabetes.target # Target es el objetivo del valor, valor que se desea extraer de la predicción\n",
    "\n",
    "#Como son 442 filas verifico las primeras 5 solamente para ver os valores.\n",
    "\n",
    "print(x[:5]) #Obteniendo solo los primeros 5 valores del array\n",
    "print(y[:5]) #Obteniendo solo los primeros 5 valores de la predicción"
   ]
  },
  {
   "cell_type": "code",
   "execution_count": 10,
   "metadata": {},
   "outputs": [
    {
     "name": "stdout",
     "output_type": "stream",
     "text": [
      "LinearRegression()\n",
      "[949.43526038]\n",
      "152.1334841628967\n"
     ]
    }
   ],
   "source": [
    "# 1) Creando el modelo lineal\n",
    "\n",
    "mod = linear_model.LinearRegression() #Aqui obtengo el modelo de regresión lineal\n",
    "#Depues de esto solo ajustamos los datos.\n",
    "\n",
    "# 2) Ajustamos los datos con la x e y\n",
    "print(mod.fit(x, y)) #Calcula los coeficientes de la regresión con la forma de los datos\n",
    "\n",
    "# 3) Mostrando los coeficientes de la regresión lineal\n",
    "print(mod.coef_) #Coeficiente del eje de las X\n",
    "\n",
    "# 4) creando la ordenada en el origen de la regresión lineal\n",
    "print(mod.intercept_) #Ordenada en el origen"
   ]
  },
  {
   "cell_type": "markdown",
   "metadata": {},
   "source": [
    "$$\\tilde{y} = 949.43526038 \\cdot x + 152.13348416289594$$"
   ]
  },
  {
   "cell_type": "code",
   "execution_count": 11,
   "metadata": {},
   "outputs": [
    {
     "data": {
      "image/png": "[encoded data removed]",
      "text/plain": [
       "<Figure size 432x288 with 1 Axes>"
      ]
     },
     "metadata": {
      "needs_background": "light"
     },
     "output_type": "display_data"
    }
   ],
   "source": [
    "#Graficando\n",
    "\n",
    "#Calculando y mostrando la regresión junto con los puntos\n",
    "plt.scatter(x,y, color = 'black')\n",
    "\n",
    "#Superponemos encima una recta de regresión\n",
    "plt.plot(x,  #adjunto las mismas x del conjunto de datos\n",
    "         mod.predict(x), #Modelo predictivo de los datos \n",
    "         color = 'blue', \n",
    "         linewidth = 3) #Grosor de la linea\n",
    "plt.show()"
   ]
  },
  {
   "cell_type": "markdown",
   "metadata": {},
   "source": [
    "#### Formula del error cuadrado medio"
   ]
  },
  {
   "cell_type": "markdown",
   "metadata": {},
   "source": [
    "$$MSE = \\frac{\\sum^n_{i=1}(y_i-\\tilde{y}_i)^2}{n}$$"
   ]
  },
  {
   "cell_type": "code",
   "execution_count": 12,
   "metadata": {},
   "outputs": [
    {
     "data": {
      "text/plain": [
       "3890.4565854612724"
      ]
     },
     "execution_count": 12,
     "metadata": {},
     "output_type": "execute_result"
    }
   ],
   "source": [
    "#Comprovar si esta bien o no es calculado el R^2\n",
    "\n",
    "#Calculando el error cuadrado medio\n",
    "mean_squared_error(y, #datos del eje y\n",
    "                  mod.predict(x)) #Modelo predictivo de los datos en x\n"
   ]
  },
  {
   "cell_type": "code",
   "execution_count": 13,
   "metadata": {},
   "outputs": [
    {
     "data": {
      "text/plain": [
       "0.3439237602253803"
      ]
     },
     "execution_count": 13,
     "metadata": {},
     "output_type": "execute_result"
    }
   ],
   "source": [
    "# Valor de r^2 es entre 0 y 1 y mientras mas se aproxime a 1\n",
    "# Los datos se aproximan mas al modelo lineal\n",
    "r2_score(y, mod.predict(x))"
   ]
  },
  {
   "cell_type": "markdown",
   "metadata": {},
   "source": [
    "Analisis:\n",
    "\n",
    "En el estudio no se saca ninguna conclusión porque el conjunto de datos no se aproxima al modelo de regresión linal "
   ]
  },
  {
   "cell_type": "code",
   "execution_count": null,
   "metadata": {},
   "outputs": [],
   "source": []
  },
  {
   "cell_type": "markdown",
   "metadata": {},
   "source": [
    "# Tecnica usada para algoritmos de machine learning\n",
    "\n",
    "1) Toma todos los datos a estudiar\n",
    "2) divido el conjunto de datos a estudiar \n",
    "\n",
    "Una técnica que utilizo muchísimo cuando hago algoritmos de machine learning en particular la regresión\n",
    "lineal que os he explicado en la clase anterior es un algoritmo de machine learning o de aprendizaje\n",
    "automatizado es \n",
    "\n",
    "1) el de dividir el conjunto de datos del que dispongo para que no todos todos formen parte del modelo que creo. \n",
    "\n",
    "* Tomo un 80 por ciento aproximadamente en un 75 80 por ciento de los datos para crear el modelo \n",
    "* El otro 20 25 por ciento restante para validar que el modelo ha sido creado correctamente.\n",
    "\n",
    "Esta técnica se llama **la técnica de dividir en conjunto de entrenamiento y conjunto de validación** \n",
    "Sirve precisamente para evitar un problema muy típico que es el problema del Over fitting.\n",
    "\n",
    "Si vosotros aportáis muchísimos datos a un modelo, el modelo no acaba aprendiendo. La tendencia global del mismo si no acaba aprendiendo el detalle específico de cada uno de ellos."
   ]
  },
  {
   "cell_type": "code",
   "execution_count": 14,
   "metadata": {},
   "outputs": [],
   "source": [
    "import matplotlib.pyplot as plt\n",
    "import numpy as np\n",
    "from sklearn import datasets, linear_model\n",
    "from sklearn.metrics import mean_squared_error, r2_score"
   ]
  },
  {
   "cell_type": "markdown",
   "metadata": {},
   "source": [
    "### Fase 1 de Train"
   ]
  },
  {
   "cell_type": "code",
   "execution_count": 15,
   "metadata": {},
   "outputs": [],
   "source": [
    "# 1) Conjunto de datos a estudiar\n",
    "diabetes = datasets.load_diabetes()\n",
    "\n",
    "# 2) Creo el vector X e Y\n",
    "x1 = diabetes.data[:,2].reshape(-1,1) #Otra forma de redimensionar el array para 1 sola dimensión\n",
    "y = diabetes.target # Target es el objetivo del valor, valor que se desea extraer de la predicción"
   ]
  },
  {
   "cell_type": "markdown",
   "metadata": {},
   "source": [
    "3) \n",
    "Dividir el conjunto de datos X e Y en X para entrenar y X para probar para testear de modo que uno vendría aquí crearía su variable su variable x Trainee y tomaría de la X todas las filas"
   ]
  },
  {
   "cell_type": "code",
   "execution_count": 16,
   "metadata": {},
   "outputs": [],
   "source": [
    "# 3.1) Divido el conjunto de dato X\n",
    "\n",
    "# X para entrenar\n",
    "x1_train = x1[:-60] #Tomo todas las filas a excepción de las ultimas 60\n",
    "\n",
    "# X para testear\n",
    "x1_test = x1[-60:] #Todas de las ultimas 60 en adelante\n",
    "\n",
    "# 3.2) Divido el conjunto de dato Y\n",
    "\n",
    "# XY para entrenar\n",
    "y_train = y[:-60] #Tomo todas las filas a excepción de las ultimas 60\n",
    "\n",
    "# Y para testear\n",
    "y_test = y[-60:] #Todas de las ultimas 60 en adelante\n",
    "\n",
    "#Con esto tenemos que vamos a usar todos los datos excepto los ultimos 60 para crear la regresión lineal"
   ]
  },
  {
   "cell_type": "code",
   "execution_count": 17,
   "metadata": {},
   "outputs": [
    {
     "name": "stdout",
     "output_type": "stream",
     "text": [
      "LinearRegression()\n",
      "[940.05574082]\n",
      "152.80161883617347\n"
     ]
    }
   ],
   "source": [
    "# Creando el modelo lineal\n",
    "\n",
    "mod = linear_model.LinearRegression() #Aqui obtengo el modelo de regresión lineal\n",
    "#Depues de esto solo ajustamos los datos.\n",
    "\n",
    "# Ajustamos los datos con la x e y\n",
    "print(mod.fit(x1_train, y_train)) #Calcula los coeficientes de la regresión con la forma de los datos\n",
    "\n",
    "# Mostrando los coeficientes de la regresión lineal\n",
    "print(mod.coef_) #Coeficiente del eje de las X\n",
    "\n",
    "# 4) creando la ordenada en el origen de la regresión lineal\n",
    "print(mod.intercept_) #Ordenada en el or"
   ]
  },
  {
   "cell_type": "markdown",
   "metadata": {},
   "source": [
    "$$\\tilde{y} = 940.05574082 \\cdot x + 152.80161883617347$$"
   ]
  },
  {
   "cell_type": "code",
   "execution_count": 19,
   "metadata": {},
   "outputs": [
    {
     "data": {
      "image/png": "[encoded data removed]",
      "text/plain": [
       "<Figure size 432x288 with 1 Axes>"
      ]
     },
     "metadata": {
      "needs_background": "light"
     },
     "output_type": "display_data"
    }
   ],
   "source": [
    "#Graficando con el 80% de los datos\n",
    "\n",
    "#Calculando y mostrando la regresión junto con los puntos\n",
    "plt.scatter(x1_train,y_train, color = 'black')\n",
    "\n",
    "#Superponemos encima una recta de regresión\n",
    "plt.plot(x1_train,  #adjunto las mismas x del conjunto de datos\n",
    "         mod.predict(x1_train), #Modelo predictivo de los datos \n",
    "         color = 'blue', \n",
    "         linewidth = 3) #Grosor de la linea\n",
    "plt.show()"
   ]
  },
  {
   "cell_type": "code",
   "execution_count": 21,
   "metadata": {},
   "outputs": [
    {
     "data": {
      "text/plain": [
       "3954.0083497655914"
      ]
     },
     "execution_count": 21,
     "metadata": {},
     "output_type": "execute_result"
    }
   ],
   "source": [
    "#Comprovar si esta bien o no es calculado el R^2\n",
    "\n",
    "#Calculando el error cuadrado medio\n",
    "mean_squared_error(y_train, #datos del eje y\n",
    "                  mod.predict(x1_train)) #Modelo predictivo de los datos en x"
   ]
  },
  {
   "cell_type": "code",
   "execution_count": 20,
   "metadata": {},
   "outputs": [
    {
     "data": {
      "text/plain": [
       "0.3331463299382712"
      ]
     },
     "execution_count": 20,
     "metadata": {},
     "output_type": "execute_result"
    }
   ],
   "source": [
    "# Valor de r^2 es entre 0 y 1 y mientras mas se aproxime a 0\n",
    "# Los datos se aproximan mas al modelo lineal\n",
    "r2_score(y_train, mod.predict(x1_train))"
   ]
  },
  {
   "cell_type": "markdown",
   "metadata": {},
   "source": [
    "### Fase 2 de Testing"
   ]
  },
  {
   "cell_type": "markdown",
   "metadata": {},
   "source": [
    "En la fase de testing lo que hace es:\n",
    "Tomar el conjunto de datos de testing para con el modelo creado con los datos de entrenamiento, ajustarlo y ver como le quedan los datos."
   ]
  },
  {
   "cell_type": "code",
   "execution_count": 22,
   "metadata": {},
   "outputs": [
    {
     "data": {
      "text/plain": [
       "3490.5984515464324"
      ]
     },
     "execution_count": 22,
     "metadata": {},
     "output_type": "execute_result"
    }
   ],
   "source": [
    "y_pred = mod.predict(x1_test)\n",
    "mean_squared_error(y_test,y_pred) #Esto siginfica que no sufre problemas de over fittign\n",
    "#Eso es en razon de que se aproxima al error cuadrado medio calculado para xtrain"
   ]
  },
  {
   "cell_type": "code",
   "execution_count": 31,
   "metadata": {},
   "outputs": [
    {
     "name": "stdout",
     "output_type": "stream",
     "text": [
      "3954.0083497655914\n",
      "3490.5984515464324\n",
      "4.63409898219159\n"
     ]
    }
   ],
   "source": [
    "#Verificando\n",
    "print(mean_squared_error(y_train,mod.predict(x1_train)))\n",
    "print(mean_squared_error(y_test,y_pred))\n",
    "\n",
    "#Tiene una diferencia de 4,6%\n",
    "print((mean_squared_error(y_train,mod.predict(x1_train))-mean_squared_error(y_test,y_pred))/100)"
   ]
  },
  {
   "cell_type": "code",
   "execution_count": 32,
   "metadata": {},
   "outputs": [
    {
     "data": {
      "text/plain": [
       "0.4103896998623372"
      ]
     },
     "execution_count": 32,
     "metadata": {},
     "output_type": "execute_result"
    }
   ],
   "source": [
    "r2_score(y_test,y_pred) #Este valor de R^2 es superioro al calculado anteriormente\n",
    "#Por lo que se puede demostrar que se aproximas mas al modelo lineal"
   ]
  },
  {
   "cell_type": "code",
   "execution_count": 33,
   "metadata": {},
   "outputs": [
    {
     "data": {
      "image/png": "[encoded data removed]",
      "text/plain": [
       "<Figure size 432x288 with 1 Axes>"
      ]
     },
     "metadata": {
      "needs_background": "light"
     },
     "output_type": "display_data"
    }
   ],
   "source": [
    "#Graficando en la fase de testing\n",
    "\n",
    "#Calculando y mostrando la regresión junto con los puntos\n",
    "plt.scatter(x1_train,y_train, color = 'black')\n",
    "plt.scatter(x1_test, y_test, color = 'red') #Para verificar como quedan los datos de validación \n",
    "                                            #en comparación a los originales\n",
    "\n",
    "\n",
    "#Superponemos encima una recta de regresión\n",
    "plt.plot(x1_train,  #adjunto las mismas x del conjunto de datos\n",
    "         mod.predict(x1_train), #Modelo predictivo de los datos \n",
    "         color = 'blue', \n",
    "         linewidth = 3) #Grosor de la linea\n",
    "plt.show()"
   ]
  }
 ],
 "metadata": {
  "kernelspec": {
   "display_name": "Python 3",
   "language": "python",
   "name": "python3"
  },
  "language_info": {
   "codemirror_mode": {
    "name": "ipython",
    "version": 3
   },
   "file_extension": ".py",
   "mimetype": "text/x-python",
   "name": "python",
   "nbconvert_exporter": "python",
   "pygments_lexer": "ipython3",
   "version": "3.8.5"
  }
 },
 "nbformat": 4,
 "nbformat_minor": 4
}
