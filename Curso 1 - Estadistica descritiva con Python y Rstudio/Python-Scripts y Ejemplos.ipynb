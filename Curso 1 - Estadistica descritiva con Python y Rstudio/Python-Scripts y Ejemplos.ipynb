{
 "cells": [
  {
   "cell_type": "code",
   "execution_count": null,
   "metadata": {},
   "outputs": [],
   "source": [
    "#Saber versión de python\n",
    "import sys\n",
    "print(sys.version)"
   ]
  },
  {
   "cell_type": "markdown",
   "metadata": {},
   "source": [
    "Los # es para hacer titulos ou que no lea el codigo, \n",
    "tiene que ir de primero y donde esta el code deve ir Markdown. Ejemplo:"
   ]
  },
  {
   "cell_type": "markdown",
   "metadata": {},
   "source": [
    "# Titulo 1"
   ]
  },
  {
   "cell_type": "markdown",
   "metadata": {},
   "source": [
    "Para hacer textos donde tiene code se deve mudar para markdown."
   ]
  },
  {
   "cell_type": "markdown",
   "metadata": {},
   "source": [
    "Para hacer funciones matematicas deves hacer: importar la libreria math"
   ]
  },
  {
   "cell_type": "code",
   "execution_count": 2,
   "metadata": {},
   "outputs": [],
   "source": [
    "import math"
   ]
  },
  {
   "cell_type": "code",
   "execution_count": 3,
   "metadata": {},
   "outputs": [
    {
     "data": {
      "text/plain": [
       "3.141592653589793"
      ]
     },
     "execution_count": 3,
     "metadata": {},
     "output_type": "execute_result"
    }
   ],
   "source": [
    "math.pi # Valor de pi"
   ]
  },
  {
   "cell_type": "code",
   "execution_count": null,
   "metadata": {},
   "outputs": [],
   "source": [
    "math.e #Valor de e"
   ]
  },
  {
   "cell_type": "code",
   "execution_count": null,
   "metadata": {},
   "outputs": [],
   "source": [
    "math.exp(3)  # Es el valor de e^3"
   ]
  },
  {
   "cell_type": "code",
   "execution_count": null,
   "metadata": {},
   "outputs": [],
   "source": [
    "math.expm1(1) # es lo mismo que decir math.e - 1"
   ]
  },
  {
   "cell_type": "code",
   "execution_count": null,
   "metadata": {},
   "outputs": [],
   "source": [
    "math.tau #Valor de Tau"
   ]
  },
  {
   "cell_type": "code",
   "execution_count": null,
   "metadata": {},
   "outputs": [],
   "source": [
    "math.inf #Numero infinito"
   ]
  },
  {
   "cell_type": "code",
   "execution_count": 4,
   "metadata": {},
   "outputs": [
    {
     "data": {
      "text/plain": [
       "-inf"
      ]
     },
     "execution_count": 4,
     "metadata": {},
     "output_type": "execute_result"
    }
   ],
   "source": [
    "-math.inf #Numero - infinito"
   ]
  },
  {
   "cell_type": "code",
   "execution_count": null,
   "metadata": {},
   "outputs": [],
   "source": [
    "math.nan #Valor que da cuando no se puede calcular una función"
   ]
  },
  {
   "cell_type": "code",
   "execution_count": 5,
   "metadata": {},
   "outputs": [],
   "source": [
    "x = math.sqrt(5) #Raiz cuadrada. en este caso es de 5"
   ]
  },
  {
   "cell_type": "code",
   "execution_count": 6,
   "metadata": {},
   "outputs": [
    {
     "data": {
      "text/plain": [
       "5.000000000000001"
      ]
     },
     "execution_count": 6,
     "metadata": {},
     "output_type": "execute_result"
    }
   ],
   "source": [
    "math.pow(x, 2) #Función para elevar valores - math.pow(Numero, Potencia)"
   ]
  },
  {
   "cell_type": "code",
   "execution_count": null,
   "metadata": {},
   "outputs": [],
   "source": [
    "math.ceil(math.pi) #Función para redondear hacia arriba"
   ]
  },
  {
   "cell_type": "code",
   "execution_count": null,
   "metadata": {},
   "outputs": [],
   "source": [
    "#Codigo para redondear decimales.\n",
    "def round_up(n, decimals=0):\n",
    "    multiplier = 10 ** decimals\n",
    "    return math.ceil(n * multiplier) / multiplier\n",
    "#Redondeando decimales, \n",
    "#>>> round_up(1.1)\n",
    "#R - 2.0\n",
    "\n",
    "# >>> round_up(1.23, 1)\n",
    "# R - 1.3\n",
    "\n",
    "# >>> round_up(1.543, 2)\n",
    "# R - 1.55"
   ]
  },
  {
   "cell_type": "code",
   "execution_count": null,
   "metadata": {},
   "outputs": [],
   "source": [
    "math.floor(math.e) #Función para redondear hacia abajo"
   ]
  },
  {
   "cell_type": "markdown",
   "metadata": {},
   "source": [
    "Ejemplo de un latex en python para escribir formulas matematicas.\n",
    "###### integral = $\\int_0^1 x^2 dx$ = se marca como markdwon"
   ]
  },
  {
   "cell_type": "code",
   "execution_count": 7,
   "metadata": {},
   "outputs": [
    {
     "data": {
      "text/plain": [
       "5.0"
      ]
     },
     "execution_count": 7,
     "metadata": {},
     "output_type": "execute_result"
    }
   ],
   "source": [
    "math.fabs(-5) #Valor absoluto de las funciones."
   ]
  },
  {
   "cell_type": "code",
   "execution_count": null,
   "metadata": {},
   "outputs": [],
   "source": [
    "math.trunc(math.pi) #Trunca los valores, es decir quita los decimales"
   ]
  },
  {
   "cell_type": "code",
   "execution_count": null,
   "metadata": {},
   "outputs": [],
   "source": [
    "4**2 #Para elevar numeros hay que usar 2 asteriscos"
   ]
  },
  {
   "cell_type": "code",
   "execution_count": null,
   "metadata": {},
   "outputs": [],
   "source": [
    "math.factorial(4) #Para realizar factorial en una función"
   ]
  },
  {
   "cell_type": "code",
   "execution_count": null,
   "metadata": {},
   "outputs": [],
   "source": [
    "math.fmod(7,3) #Da el resto de la división math.fmod(dividendo,divisor) = 7/3"
   ]
  },
  {
   "cell_type": "code",
   "execution_count": null,
   "metadata": {},
   "outputs": [],
   "source": [
    "math.remainder(7,3)#Da el resto de la división math.fmod(dividendo,divisor) = 7/3"
   ]
  },
  {
   "cell_type": "code",
   "execution_count": null,
   "metadata": {},
   "outputs": [],
   "source": [
    "7%3 #Se puede hallar el resto pero solo aplica para resultados enteros."
   ]
  },
  {
   "cell_type": "code",
   "execution_count": null,
   "metadata": {},
   "outputs": [],
   "source": [
    "20//2 #Da como resultado el cociente de la división entera"
   ]
  },
  {
   "cell_type": "code",
   "execution_count": null,
   "metadata": {},
   "outputs": [],
   "source": [
    "math.modf(math.pi) #Separa la parte decimal de la parte entera"
   ]
  },
  {
   "cell_type": "code",
   "execution_count": null,
   "metadata": {},
   "outputs": [],
   "source": [
    "math.gcd(24,36) #Da como resultado el MCD = maximo comun divisor"
   ]
  },
  {
   "cell_type": "code",
   "execution_count": null,
   "metadata": {},
   "outputs": [],
   "source": [
    "math.isfinite(math.pi) #Pregunta si es finito el numero"
   ]
  },
  {
   "cell_type": "code",
   "execution_count": null,
   "metadata": {},
   "outputs": [],
   "source": [
    "math.isinf(math.pi) #Pregunta si es infinito el numero"
   ]
  },
  {
   "cell_type": "code",
   "execution_count": null,
   "metadata": {},
   "outputs": [],
   "source": [
    "math.isnan(math.pi) #Pregunta si es Not-A-Number (não é um número"
   ]
  },
  {
   "cell_type": "code",
   "execution_count": null,
   "metadata": {},
   "outputs": [],
   "source": [
    "math.sqrt(2)**2 == 2 #El signo == es usado para comparar 2 valores si son exacteamente iguales o no"
   ]
  },
  {
   "cell_type": "code",
   "execution_count": null,
   "metadata": {},
   "outputs": [],
   "source": [
    "math.isclose(math.sqrt(2)**2, 2) #Da como resultado si el valor esta suficientemene cerca del otro"
   ]
  },
  {
   "cell_type": "code",
   "execution_count": null,
   "metadata": {},
   "outputs": [],
   "source": [
    "#Calculo simple de decadas\n",
    "(1969//10)*10 #Da como resultado decada de 1960, eso es devido a que cuando hace \n",
    "              # Paso 1: 1969//10 = El resultado es el resto de la división numerica que es 196\n",
    "              # Paso 2: 196 * 10 = 1960, Ese resultado es para determinar decadas de un año ou variables\n",
    "              # donde el interes son los 3 primeros digitos"
   ]
  },
  {
   "cell_type": "code",
   "execution_count": null,
   "metadata": {},
   "outputs": [],
   "source": [
    "print(\"El valor de X es: \"+str(2)) #Hicimos un casting, converti un numero entero \n",
    "                                   #para un string Aplica para los numeros"
   ]
  },
  {
   "cell_type": "code",
   "execution_count": null,
   "metadata": {},
   "outputs": [],
   "source": [
    "z = 'h'\n",
    "print('La variable es un caracter = ' +z) #Aplica para los caractereres solamente"
   ]
  },
  {
   "cell_type": "code",
   "execution_count": null,
   "metadata": {},
   "outputs": [],
   "source": [
    "t= input(\"Introduce aqui tu nombre:  \") #Para pedir datos al usuario.Convierte automaticamente a string"
   ]
  },
  {
   "cell_type": "code",
   "execution_count": null,
   "metadata": {},
   "outputs": [],
   "source": [
    "n = int(input(\"Introduce aqui tu edad:  \")) ##Para pedir datos al usuario. Convierte automaticamente a numero (int)"
   ]
  },
  {
   "cell_type": "markdown",
   "metadata": {},
   "source": [
    "# Condicional if"
   ]
  },
  {
   "cell_type": "code",
   "execution_count": null,
   "metadata": {},
   "outputs": [],
   "source": [
    "x = int(input('Escribe un número: '))\n",
    "if x == 5: #El condiciónal que si se cumple pasa para la segunda linea y la ejecuta\n",
    "    print('Escribiste el numero 5')"
   ]
  },
  {
   "cell_type": "code",
   "execution_count": null,
   "metadata": {},
   "outputs": [],
   "source": [
    "if x < 5: #Se cumple si el numero que agregaron es menor que 5\n",
    "    print(\"Escribiste un numero menor que 5\")\n",
    "elif x < 10: #Se cumple si el numero es mayor que 5 pero menor que 10\n",
    "    print('Haz escrito un número menor que 10 y mayor o igual a 5')\n",
    "else: #Finaliza con un caso por defecto en este caso si es mayor que 10\n",
    "    print('El numero que escribiste es mayor o igual que 10')"
   ]
  },
  {
   "cell_type": "markdown",
   "metadata": {},
   "source": [
    "# and"
   ]
  },
  {
   "cell_type": "code",
   "execution_count": null,
   "metadata": {},
   "outputs": [],
   "source": [
    "x = int(input('Escribe un número: '))\n",
    "if x > 0 and x <10: #Ejemplo de condición booleana si se cumple el valor de 0 hasta 10 ejecuta el comando de abajo.\n",
    "                    #Aplica solo si se cumplen las 2 funciones\n",
    "    print('Has escrito un numero en el rango de [0 , 10]')"
   ]
  },
  {
   "cell_type": "markdown",
   "metadata": {},
   "source": [
    "# or"
   ]
  },
  {
   "cell_type": "code",
   "execution_count": null,
   "metadata": {},
   "outputs": [],
   "source": [
    "x = int(input('Escribe un número: '))\n",
    "if x < 0 or x >10: #Ejemplo de condición booleana si se cumple el valor de menor a cero ou mayor a 10 \n",
    "                   #ejecuta el comando de abajo.\n",
    "                   #Aplica solo si se cumple 1 sola\n",
    "    print('Tu numero escrito no se encuentra dentro del rango [0 , 10]')"
   ]
  },
  {
   "cell_type": "code",
   "execution_count": null,
   "metadata": {},
   "outputs": [],
   "source": []
  },
  {
   "cell_type": "markdown",
   "metadata": {},
   "source": [
    "## Algunas operaciones matematicas"
   ]
  },
  {
   "cell_type": "code",
   "execution_count": null,
   "metadata": {},
   "outputs": [],
   "source": [
    "print(math.log(12)) # Cuando se hace esa función es el ln = logaritmo neperiano pra mudar la base deves:\n",
    "print(math.log(12, 2) )#Es logaritmo de 12 con base 2"
   ]
  },
  {
   "cell_type": "code",
   "execution_count": null,
   "metadata": {},
   "outputs": [],
   "source": [
    "print(math.sin(180)) #Seno de 180 esta en radianes\n",
    "print(math.cos(math.pi)) #Coseno de pi\n",
    "print(math.tan(math.pi/2)) #Tangente de pi/2\n",
    "print(math.asin(1)) #Radianes arc seno\n",
    "print(math.acos(1)) #Arc coseno en radianes\n",
    "print(math.atan(1)) #Arc tangente"
   ]
  },
  {
   "cell_type": "code",
   "execution_count": null,
   "metadata": {},
   "outputs": [],
   "source": [
    "print(math.degrees(math.atan(1)) ) #Convierte de radianes a grados\n",
    "print(math.radians(60))#Convierte los valores de grados para radianes"
   ]
  },
  {
   "cell_type": "code",
   "execution_count": null,
   "metadata": {},
   "outputs": [],
   "source": [
    "print(math.radians(60)) #60 grados lo pasa a radianes\n",
    "print(math.cos(math.radians(60))) #Da el resultado de radianes para la distancia en cm que seria 1/2"
   ]
  },
  {
   "cell_type": "code",
   "execution_count": null,
   "metadata": {},
   "outputs": [],
   "source": [
    "print(math.hypot(3,4))  # Saber el valor de un vector 3 = Ancho = eje 'x' y 4 = alto = eje 'y'\n",
    "                 #da como valor tambien la hipotenusa recordando que h^2 = a^2+b^2 Ejeplo:\n",
    "print(math.sqrt(3**2+4**2))\n",
    "#Podemos calcular tambien el angulo de ese vector\n",
    "print(math.atan2(4, 3)) #Se deve invertir es el eje de las 'Y' primero y despues el eje de las 'X' \n",
    "                #y el resultado siempre va a ser de -pi hasta pi\n",
    "    \n",
    "#Como el resultado es en radianes lo paso a grados:\n",
    "print(math.degrees(math.atan2(4, 3)))"
   ]
  },
  {
   "cell_type": "code",
   "execution_count": 1,
   "metadata": {},
   "outputs": [],
   "source": [
    "#hiperbolicas\n",
    "print(math.sinh(0))\n",
    "print(math.cosh(0))\n",
    "print(math.tanh(0))\n",
    "print(math.asinh(0))\n",
    "# print(math.acosh(0)) No existe esa función da error arc coseno hiperbolico\n",
    "print(math.atanh(0))"
   ]
  },
  {
   "cell_type": "markdown",
   "metadata": {},
   "source": [
    "la función gamma o la función ERF (math.erf(0)) o la función de error \n",
    "está la función de x que se utiliza típicamente para funciones estadísticas relacionadas con la distribución\n",
    "normal a la hora de calcular la distribución normal.\n",
    "Se pasa por la función de error.\n",
    "Entonces la función de error de 0 cero o la función de error punto de Pi punto Pi sería cero coma nueve\n",
    "nueve nueve nueve casi 1\n",
    "Se utiliza para ya os digo se utiliza sobre todo para obtener la función de\n",
    "distribución acumulada de la distribución normal.\n",
    "Cuando trabajamos con de distribuciones normales con campanas de Gauss muchas veces aparece la función ERF"
   ]
  },
  {
   "cell_type": "code",
   "execution_count": null,
   "metadata": {},
   "outputs": [],
   "source": [
    "print(math.erf(math.pi) )\n",
    "print(math.erfc(math.pi)) #función complementaria de erf si la sumo con erf da 1 de resultado. ejempl:\n",
    "\n",
    "print(math.erfc(math.pi)+math.erf(math.pi) )"
   ]
  },
  {
   "cell_type": "code",
   "execution_count": null,
   "metadata": {},
   "outputs": [],
   "source": [
    "print(math.gamma(5)) #se denomina como el factorial generalizado da como resultado el factorial de 4\n",
    "print(4*3*2*1 ) #Ejemplo del factorial de 4"
   ]
  },
  {
   "cell_type": "markdown",
   "metadata": {},
   "source": [
    "# Como definir funciones en Python"
   ]
  },
  {
   "cell_type": "code",
   "execution_count": null,
   "metadata": {},
   "outputs": [],
   "source": [
    "#Creo una clase que va a ser operaciones se definen con parentices y dentro la letra object\n",
    "#defino abajo el metodo de suma para la clase operaciones\n",
    "#La diferencia es que ahora esta dentro de la clase operaciones\n",
    "#Dentro de la clase el 1er parametro es self y despues van las variables que van a realizar la función\n",
    "class Operaciones(object):\n",
    "    def suma(self, x, y):\n",
    "        self.resultado = x+y\n",
    "        return self.resultado\n",
    "    \n",
    "#En esta se puede usar para una serie grande de funciones para tener resultados.\n",
    "operinstance = Operaciones() #Se crea el objeto de la clase\n",
    "operinstance.suma(3,4) #Se invoca la clase"
   ]
  },
  {
   "cell_type": "code",
   "execution_count": null,
   "metadata": {},
   "outputs": [],
   "source": [
    "# Ejemplo 1\n",
    "def suma1(x, y): #Defino una función suma, que los valores 'x, y' los sume\n",
    "    return x+y\n",
    "#Es limitado para hacer los calculos\n",
    "suma1(3,4) #Resultado de la def suma1"
   ]
  },
  {
   "cell_type": "code",
   "execution_count": null,
   "metadata": {},
   "outputs": [],
   "source": [
    "# Ejemplo 2\n",
    "#Usando 2 funciones\n",
    "def sumaresta(x,y):\n",
    "    suma = x+y #Función suma\n",
    "    resta = x-y #Función resta\n",
    "    return(suma,resta)#Para poder tener el retorno de ambas funciones deve estar \n",
    "                       # definida las respuestas en el return\n",
    "\n",
    "sumaresta(2,5) #Valor para operacionalizar"
   ]
  },
  {
   "cell_type": "code",
   "execution_count": null,
   "metadata": {},
   "outputs": [],
   "source": [
    "# Ejemplo 3\n",
    "def saludar():\n",
    "    print('Hola estoy programando')\n",
    "    return\n",
    "\n",
    "saludar()"
   ]
  },
  {
   "cell_type": "code",
   "execution_count": null,
   "metadata": {},
   "outputs": [],
   "source": [
    "# Ejemplo 4\n",
    "def saludar():\n",
    "    name = str(input('Introduce tu nombre: '))\n",
    "    if name: #Aplica si un nombre fue introducido\n",
    "        print('Hola '+name) #Puede ustar el + porque es string\n",
    "    else:  #Aplica si no introducen nada\n",
    "        print('Hola estoy programando')\n",
    "    return"
   ]
  },
  {
   "cell_type": "code",
   "execution_count": null,
   "metadata": {},
   "outputs": [],
   "source": [
    "# Ejemplo 4 continuación\n",
    "saludar() #Da como resultado lo anterior realizado"
   ]
  },
  {
   "cell_type": "code",
   "execution_count": null,
   "metadata": {},
   "outputs": [],
   "source": [
    "# Ejemplo 5\n",
    "def buscapares():\n",
    "    for x in range(10):  #Para cada x en el rango de 10\n",
    "                         #En este la x vale 1 despues pasa para 2 y asi hasta 10\n",
    "        if x % 2 == 0: #Función para determinar un par (Aplica para todo numero que tenga resto = 0)\n",
    "            return\n",
    "    print('Fin de la ejecución')\n",
    "buscapares() #No da como resultado nada porque en la primera que encuentre un numero par\n",
    "             # el programa va a finalizar devido al return en la posición que esta"
   ]
  },
  {
   "cell_type": "markdown",
   "metadata": {},
   "source": [
    "###### Argumentos\n",
    "Por ejemplo si vosotros queréis sumar los elementos que tienen un vector o calcular sus cuadrados pues\n",
    "típicamente no sabéis si el vector va a traer dos coordenadas tres coordenadas o 58 coordenadas.\n",
    "Ese es el caso donde cuando no sabemos el número exacto de argumentos que queremos pasarle a una función\n",
    "conviene utilizar la sintaxis de asterisco delante de un argumento."
   ]
  },
  {
   "cell_type": "code",
   "execution_count": null,
   "metadata": {},
   "outputs": [],
   "source": [
    "# Ejemplo 6\n",
    "# Se puede hacer una suma de argumentos o varios numeros a la vez ejemplo\n",
    "def suma(*args):\n",
    "    return sum(args) #sum() = Es una función ya definida en python que suma todos los elementos del vector\n",
    "                    #o colección de datos automaticamente.\n",
    "                    #El asterisco no es necesario ya que se uso al principio como parametro de la letra args\n",
    "        \n",
    "print(suma(1,2,3,4,5)) #Suma del argumento, con ese * hace que acepte argumentos de longitud variable\n",
    "                        #Es decir puede tener 5 numeros como pueden ser 10, 20 ou mas ou menos de 5.\n",
    "print(1+2+3+4+5) #Comprobación de la suma del argumento\n"
   ]
  },
  {
   "cell_type": "code",
   "execution_count": null,
   "metadata": {},
   "outputs": [],
   "source": [
    "# Ejemplo 7\n",
    "def sumacuadrados(*datos):\n",
    "    total = 0 #Total de la suma inicialmente comienza en 0\n",
    "    for d in datos: #Con esto hace que cada numero va a elevarse al cuadrado, es decir:\n",
    "                    #d dentro de datos es:\n",
    "        total = total + d**2 #un acumulador donde:\n",
    "                            #1ra vez que corre total = 0\n",
    "                            #2da vez que corre total = 1 y asi sucesivamente va acumulando y incrementando el valor\n",
    "                            \n",
    "    return total  #Cuando acaba el bucle lo cierro."
   ]
  },
  {
   "cell_type": "code",
   "execution_count": null,
   "metadata": {},
   "outputs": [],
   "source": [
    "#Continuación del ejemplo 7\n",
    "sumacuadrados(2,4) # es lo mismo que decir 2^2+4^2 = 20"
   ]
  },
  {
   "cell_type": "markdown",
   "metadata": {},
   "source": [
    "total = total + d**2 Esa sintaxis puede definirse tambien como:\n",
    "total += d**2 Va a valer lo mismo"
   ]
  },
  {
   "cell_type": "markdown",
   "metadata": {},
   "source": [
    "###### Funciones anónimas tambien denominadas lambda"
   ]
  },
  {
   "cell_type": "code",
   "execution_count": null,
   "metadata": {},
   "outputs": [],
   "source": [
    "#Ej. 1\n",
    "doble = lambda x:x*2 #Defino la función para que el valor de doble realize la operación\n",
    "                    #x * 2 Donde x es cualquier numero agregado\n",
    "doble(3) # En este caso es 3x2"
   ]
  },
  {
   "cell_type": "code",
   "execution_count": null,
   "metadata": {},
   "outputs": [],
   "source": [
    "#Ej. 2\n",
    "cuadrado = lambda x:x**2 #Aqui determino el cuadrado de algun numero\n",
    "cuadrado(3) #En este caso es 3^2"
   ]
  },
  {
   "cell_type": "code",
   "execution_count": null,
   "metadata": {},
   "outputs": [],
   "source": [
    "#Ej. 3\n",
    "suma = lambda x, y : x+y  #se refere a la funcion suma dado 2 parametros 'x' e 'y' realizan la operación x+y\n",
    "suma(3,2) #Da como resultado 5"
   ]
  },
  {
   "cell_type": "code",
   "execution_count": null,
   "metadata": {},
   "outputs": [],
   "source": [
    "###### Ej. 4 de uso de lambda para filtrar datos:\n",
    "\n",
    "Paquete functools herramientas de funciones que es un paquete básico y que viene instalado\n",
    "de serie en Python por defecto."
   ]
  },
  {
   "cell_type": "code",
   "execution_count": null,
   "metadata": {},
   "outputs": [],
   "source": [
    "from functools import reduce #Se denomina el paquete y se importa la función que ser equier\n",
    "z = (1,2,3,4,5,6,7,8,9) #Vector de datos\n",
    "filtrar_dato = list(filter(lambda x: (x*2>8), z)) #Filtro datos que todo numero multiplicado por 2\n",
    "                                                  #si es mayor a 8 de mi resultado\n",
    "filtrar_dato #Aqui da 5,6,7,8,9 todos esos numeros multiplicados por 2 da mayor a 8"
   ]
  },
  {
   "cell_type": "code",
   "execution_count": null,
   "metadata": {},
   "outputs": [],
   "source": [
    "# Ej. 5\n",
    "#Puedo usar la lambda para mapear y transformar los datos en este caso multiplicarlo por 2 y me de ese resultado\n",
    "mapped_data = list(map(lambda x:x*2, z) )\n",
    "mapped_data #Aqui me da como resultado todos los numeros que estan en Z y los multiplica por 2 y me da el resultado"
   ]
  },
  {
   "cell_type": "code",
   "execution_count": null,
   "metadata": {},
   "outputs": [],
   "source": [
    "#Ej. 6\n",
    "#Por ejemplo si quiero sumar todos lo único que tendría que hacer es X Massi dado el resultado de la\n",
    "#suma parcial anterior con el nuevo dato actual Sumo ambos.\n",
    "#Recordando que z = data en estos ejemplos\n",
    "reduce_data = reduce(lambda x, y: x+y, z)  #suma parcial anterior 'x', con el nuevo dato 'y:x+y' actual, Sumo ambos\n",
    " #Esto me sumará al vector entero si se lo pasa como parámetro Aqui para data.\n",
    "\n",
    "reduce_data\n",
    "#Lo que hace es \n",
    "#1ra corrida toma 0 (Valor inicial)+ 1 = 1(nuevo valor), \n",
    "#1+2 = 3 (Nuevo valor) \n",
    "#3(Se convierte en el valor antiguo para la nueva operación) +3 = 6 (Nuevo valor)\n",
    "#6(Se convierte en el valor antiguo para la nueva operación) + 4 = 10 ... y asi va hasta convertirse en 45"
   ]
  },
  {
   "cell_type": "markdown",
   "metadata": {},
   "source": [
    "Recursos adicionales de Python\n",
    "\n",
    "Aquí tenéis 3 links que os serán de utilidad a la hora de trabajar con Python. Echadles un ojo\n",
    "\n",
    "\n",
    "https://www.datacamp.com/community/data-science-cheatsheets\n",
    "\n",
    "https://github.com/ml874/Data-Science-Cheatsheet/blob/master/data-science-cheatsheet.pdf\n",
    "\n",
    "https://github.com/FavioVazquez/ds-cheatsheets"
   ]
  },
  {
   "cell_type": "code",
   "execution_count": null,
   "metadata": {},
   "outputs": [],
   "source": []
  },
  {
   "cell_type": "markdown",
   "metadata": {},
   "source": [
    "# Sección 8 Estructura de datos en python\n",
    "# Listas"
   ]
  },
  {
   "cell_type": "code",
   "execution_count": null,
   "metadata": {},
   "outputs": [],
   "source": [
    "L1 = [] #Lista vacia\n",
    "L2 = ['a','b','c','d'] # Lista con valores iniciales\n",
    "L3 = [1,2,3,4,5] # Lista con numeros enteros\n",
    "L4 = ['a', 2, True, 'ARTURO CASTRO'] # Lista mezclada con los 4 diferentes tipos de caracteres\n",
    "L5 = [0]*10\n",
    "print(L5) # Aparece 10 veces el 0\n",
    "print(L2[0]) # Las listas en python comienzan en 0 en este caso va a dar resultado \"a\""
   ]
  },
  {
   "cell_type": "code",
   "execution_count": null,
   "metadata": {},
   "outputs": [],
   "source": [
    "L2[3] = 5 # Esto es para cambiar la posición 4 el valor por otro \n",
    "L2"
   ]
  },
  {
   "cell_type": "code",
   "execution_count": null,
   "metadata": {},
   "outputs": [],
   "source": [
    "print(L2[0:3]) # Da como resultado los valores comprendidos de 0 hasta 3\n",
    "L2[0:3] = (5,4,3) # PAra alterar los valores de los primeros 3\n",
    "print(L2)"
   ]
  },
  {
   "cell_type": "code",
   "execution_count": null,
   "metadata": {},
   "outputs": [],
   "source": [
    "L2.append(9) # Añade un nuevo elemento al final de la lista\n",
    "print(L2)\n",
    "L2.remove(3) # Elimina el primer parametro que sea igual al que se quiere eliminar en este caso es el numero 3\n",
    "print(L2)\n",
    "print(len(L2)) # Longitud de la lista"
   ]
  },
  {
   "cell_type": "code",
   "execution_count": null,
   "metadata": {},
   "outputs": [],
   "source": [
    "L5 = [0,1,2,3,3.1415]\n",
    "L5.reverse() #Aparecen los objetos de la lista al contrario\n",
    "print(L5)\n",
    "print(L5.count(0)) #Cuenta la cantidad de objetos que tiene la lista\n",
    "print(L5.index(2)) #Imprime el index que esta en la posición 2"
   ]
  },
  {
   "cell_type": "code",
   "execution_count": null,
   "metadata": {},
   "outputs": [],
   "source": [
    "L6= [1,2,3,4,5,6,7,8,9,10]\n",
    "print(L6[1::2]) # Para determinar los valores a cada 2 espacios (De 1 en adelante : selecionando de : 2 en 2)\n",
    "#Por eso tiene :: - Determino los elementos de la posición impar\n",
    "print(L6[:]) #Al hacer eso es para colocar toda la lista\n",
    "print(L6[::2]) #Puedo sacar los elementos pares de la lista\n",
    "print(L6[-1]) # Da como resultado el ultimo elemento"
   ]
  },
  {
   "cell_type": "code",
   "execution_count": null,
   "metadata": {},
   "outputs": [],
   "source": [
    "20 in L6 # Con esto me da de resultado una condición boolena que si se cumple dice TRUE y si no es verdad \n",
    "#dice FALSE"
   ]
  },
  {
   "cell_type": "markdown",
   "metadata": {},
   "source": [
    "# BUCLES"
   ]
  },
  {
   "cell_type": "code",
   "execution_count": null,
   "metadata": {},
   "outputs": [],
   "source": [
    "#El codigo que escribo dentro del for se ejecuta para cada numero de la lista\n",
    "L6= [1,2,3,4,5,6,7,8,9,10]\n",
    "for numero in L6: #Va desde numero que inicia en 0 hasta L6 que tiene valores del 1 al 10\n",
    "    print(numero) #Para cada numero de la lista L6 se imprime"
   ]
  },
  {
   "cell_type": "code",
   "execution_count": null,
   "metadata": {},
   "outputs": [],
   "source": [
    "#Hacer range(10) = range(0,10)\n",
    "for x in range(10): #Aqui puedo hacer una lista sin incluir el ultimo valor\n",
    "    print(x) #Los resultados son del 0 al 9"
   ]
  },
  {
   "cell_type": "code",
   "execution_count": null,
   "metadata": {},
   "outputs": [],
   "source": [
    "#Se puede hacer tambien para los caracteres\n",
    "for c in \"Arturo Castro\": #va recociendo cada posición del string que tengo\n",
    "    print(c)"
   ]
  },
  {
   "cell_type": "code",
   "execution_count": null,
   "metadata": {},
   "outputs": [],
   "source": [
    "notas = [3.5, 4.9, 5.2, 1.2, 2] # Calculo de la media arimetica ejemplo\n",
    "suma = 0\n",
    "for nota in notas: #Cada nota dentro de la lista de notas\n",
    "    suma = suma + nota #toma el valor que tuviera más la nueva nota un acumulador\n",
    "print(round(   #Round para dejar solo con 2 cifras significativas en este caso\n",
    "    suma/len(notas), #Determino la media donde len da como resultado la longitud de la lista\n",
    "    3))  #Para colocar 2 cifras significativas es necesario colocar 3 porque considera el 1er numero siempre"
   ]
  },
  {
   "cell_type": "code",
   "execution_count": null,
   "metadata": {},
   "outputs": [],
   "source": [
    "# Criba de Eratóstenes hecha por mi limitada hasta 20\n",
    "#Te doy una pista: usa dos bucles, uno par ael dividendo y otro para el divisor y así poder comprobar el resto\n",
    "x = int(input('Introduce un numero natural para determinar cuales son primos: '))\n",
    "\n",
    "n = []\n",
    "for n in range(2, x):\n",
    "    i = []\n",
    "    for i in range(2, n):\n",
    "        if n%i ==0:\n",
    "            break\n",
    "    else:\n",
    "        print(n)"
   ]
  },
  {
   "cell_type": "code",
   "execution_count": null,
   "metadata": {},
   "outputs": [],
   "source": [
    "#Otro ejemplo de criba\n",
    "i = 2\n",
    "while(i < 100):\n",
    "    j = 2\n",
    "    while(j <= (i/j)):\n",
    "        if not(i%j): break\n",
    "        j = j + 1\n",
    "    if (j > i/j) : print(i), \n",
    "    i = i + 1"
   ]
  },
  {
   "cell_type": "code",
   "execution_count": null,
   "metadata": {},
   "outputs": [],
   "source": [
    "#Otro ejemplo de criba 2\n",
    "n = int(input('Introduce un numero natural: '))\n",
    "def criba(n): \n",
    "    \n",
    "    x1 = []\n",
    "    for num in range(2, n):\n",
    "        x1.append(num)\n",
    "                \n",
    "    x2 = []\n",
    "    for num in x1:  \n",
    "        x2.append(num)\n",
    "        \n",
    "    for index, num in enumerate(x1):\n",
    "        if index < len(x1) - 1:                \n",
    "            next_index = index + 1\n",
    "            while next_index < len(x1):\n",
    "                if x1[next_index] % num == 0 and x1[next_index] in x2:                \n",
    "                    x2.remove(x1[next_index])\n",
    "                                    \n",
    "                next_index = next_index + 1    \n",
    "                            \n",
    "    return x2            \n",
    "0                \n",
    "print(criba(n))  "
   ]
  },
  {
   "cell_type": "markdown",
   "metadata": {},
   "source": [
    "# Bucle *While* \n",
    "Se repite hasta que la condición booleana deja de ser verdadera"
   ]
  },
  {
   "cell_type": "code",
   "execution_count": null,
   "metadata": {},
   "outputs": [],
   "source": [
    "#Siempre ejecutar el fragmento de codigo desde que la condición sea verdadera para evitar bucles infinitos\n",
    "count = 0\n",
    "while count < 10: #Mientras while count sea < 10 imprimir count\n",
    "    \n",
    "    #Primero va el print y despues el count porque comienza de 0 y despues de eso necesita agregarle 1\n",
    "    #Si coloco el count antes comenzaria en 1 porque se ejecutaria la suma de primero\n",
    "    \n",
    "    print(count)\n",
    "    #Despues de imprimir el 0 el count va a sumarle 1 unidad para volver a verificar en el ciclo while\n",
    "    #Si se cumple vuelve y le suma otro 1 para que el valor 0+1=1 y ahi vuelve a preguntar si es <10 y asi va\n",
    "    #Hasta llegar a 10\n",
    "    count +=1 # Hago esto para que lo incremente de 1 en 1, si no se convierte en bucle infinito "
   ]
  },
  {
   "cell_type": "code",
   "execution_count": null,
   "metadata": {},
   "outputs": [],
   "source": [
    "primos = [2,3,5,7,11,13,17,19,23,29]\n",
    "#Para poner la posición de 1 lado y el valor del otro usamos los siguientes comandos\n",
    "#idx, (variable del valor) in enmumerate(nombre de la lista) Ejemplo:\n",
    "for idx, p in enumerate(primos):\n",
    "    print(idx, p)"
   ]
  },
  {
   "cell_type": "code",
   "execution_count": null,
   "metadata": {},
   "outputs": [],
   "source": [
    "#Para determinar las posiciones pares o impares \n",
    "for idx in range(len(primos)):\n",
    "    # primos[idx] con esa función caso sólo se recorre la posición de los objetos \n",
    "    #para luego acceder al valor de los mismos \n",
    "    print(idx, primos[idx]) #Aqui obtengo los indices, las posiciones de cada elemento de la lista primos"
   ]
  },
  {
   "cell_type": "markdown",
   "metadata": {},
   "source": [
    "# Tuplas\n",
    "Colección de objetos que no puede modificarse, (Tiene tamaño y contenido fijo)\n",
    "se sabe porque esta dentro de un parentices (..."
   ]
  },
  {
   "cell_type": "code",
   "execution_count": null,
   "metadata": {},
   "outputs": [],
   "source": [
    "# asignando variables en una tupla donde \n",
    "t1= (3,5,2,3.1412) # Hago la tupla inicialmente\n",
    "a,b,c,d = t1 # Asigno variables a cada tupla\n",
    "print(a,b,c,d) # Imprimo las variables"
   ]
  },
  {
   "cell_type": "code",
   "execution_count": null,
   "metadata": {},
   "outputs": [],
   "source": [
    "# Convertir una tupla en lista\n",
    "L1 = list(t1)\n",
    "print(L1) # Se sabe que es una lista porque esta dentro de corchetes\n",
    "\n",
    "# Convertir una lista en tupla \n",
    "L2 = [1,2,3,4,5,6,7]\n",
    "t2 = tuple(L2)\n",
    "print(t2) # Se sabe que es una tupla porque esta dentro de parentises"
   ]
  },
  {
   "cell_type": "code",
   "execution_count": null,
   "metadata": {},
   "outputs": [],
   "source": [
    "# Función split separa una cadena de letras (Str) con apostrofos ejemple:\n",
    "print(\"Hola como estas\".split(\" \")) #  \" debe tener solo espacio entre las comillas o no resulta\"\n",
    "print(\"hola ocmo estas\".split(\"  \")) # tiene mas de 1 espacio por eso no da el resultado correcto"
   ]
  },
  {
   "cell_type": "code",
   "execution_count": null,
   "metadata": {},
   "outputs": [],
   "source": [
    "# hacer un programa que permita leer del teclado toda una colección de numeros, separados por el caracter \n",
    "# de la coma, utilice la función split para para pasarlo primero a lista, y luego utiliza a función tupla \n",
    "# para convertirlo en una tupla de objetos\n",
    "r = int(input(\"ingrese un rango: \"))\n",
    "\n",
    "lista = []\n",
    "for i in range(1, r+1):\n",
    "    valor = str(input(\"Ingrese un valor: \"))#Hice un casting pase de entero a string y \n",
    "    lista.append(valor)                     #para cambiarlo nuevamente solo debo hacerlo \n",
    "                                            # int(y escribir la variable adentro)\n",
    "tupla = tuple(lista)\n",
    "\n",
    "print(\"Los valores ingresados de la lista son: \", lista)\n",
    "print(\"Los valores convertidos en tupla son: \", tupla )"
   ]
  },
  {
   "cell_type": "code",
   "execution_count": null,
   "metadata": {},
   "outputs": [],
   "source": [
    "# Otra forma de hacer el ejercicio anterior.\n",
    "\n",
    "numeros = input(\"Ingrese los numeros separandolos con comas ,\")\n",
    "numerosL = numeros.split(\",\")\n",
    "print(numerosL)\n",
    "numerosT = tuple(numerosL)\n",
    "print(numerosT)"
   ]
  },
  {
   "cell_type": "markdown",
   "metadata": {},
   "source": []
  },
  {
   "cell_type": "code",
   "execution_count": null,
   "metadata": {},
   "outputs": [],
   "source": [
    "#Uso del %s, %d, %f y %.3f\n",
    "nombre = input(\"Ingrese un nombre: \")\n",
    "numero = int(input(\"Ingrese un numero: \"))\n",
    "decimal = float(input(\"Ingrese un numero decimal: \"))\n",
    "\n",
    "#al hacer un %s es un Pleiss Wolder de que quiero sustituir lo que\n",
    "#sea que vaya aquí en la zona del porcentaje por una variable de tipo string\n",
    "print(\"Hola %s\"%nombre)  #Uso ese %s de la manera que esta para añadir una variable tipo string.\n",
    "\n",
    "#al hacer un %d es un Pleiss Wolder de que quiero sustituir lo que\n",
    "#sea que vaya aquí en la zona del porcentaje por una variable de tipo int\n",
    "print(\"Esto es para un numero %d\"%numero) # Se usa el %d para añadir una variable tipo numero entera\n",
    "\n",
    "#al hacer un %f es un Pleiss Wolder de que quiero sustituir lo que\n",
    "#sea que vaya aquí en la zona del porcentaje por una variable de tipo flotante\n",
    "print(\"Esto es para un numero %f\"%decimal) # Se usa el %f para añadir una variable tipo flotante\n",
    "\n",
    "#al hacer un %.3f es un Pleiss Wolder de que quiero sustituir lo que\n",
    "#sea que vaya aquí en la zona del porcentaje \n",
    "#por una variable de tipo flotante pero con la cantidad de decimales que necesitas\n",
    "print(\"Esto es para un numero %.3f\"%decimal) # Se usa el %f para añadir una variable tipo flotante y \n",
    "                                             #antes de la f \n",
    "                                             #agregar un punto y la cantidad de decimales que desea \n",
    "                                             #en este caso con 3 decimales por eso queda como .3"
   ]
  },
  {
   "cell_type": "code",
   "execution_count": null,
   "metadata": {},
   "outputs": [],
   "source": []
  },
  {
   "cell_type": "markdown",
   "metadata": {},
   "source": [
    "# DiccionariO"
   ]
  },
  {
   "cell_type": "code",
   "execution_count": null,
   "metadata": {},
   "outputs": [],
   "source": [
    "# Mejor manera de organizar un diccionario:\n",
    "diccionario = {\n",
    "    \"A\": 10, \n",
    "    \"E\": 40, \n",
    "    \"I\": 30, \n",
    "    \"O\": 34, \n",
    "    \"U\":32\n",
    "}\n",
    "\n",
    "#Imprimir los valores\n",
    "diccionario[\"A\"]"
   ]
  },
  {
   "cell_type": "code",
   "execution_count": null,
   "metadata": {},
   "outputs": [],
   "source": [
    "# Para alterar el valor si esta mal puede ser:\n",
    "diccionario[\"A\"]= 100\n",
    "diccionario"
   ]
  },
  {
   "cell_type": "code",
   "execution_count": null,
   "metadata": {},
   "outputs": [],
   "source": [
    "print(diccionario.keys()) # Para saber cuales son las claves\n",
    "print(diccionario.values()) # Para saber cada valor que posse el diccionario\n",
    "# Para eliminar valores puede ser con la funcion del\n",
    "\n",
    "del diccionario[\"A\"] \n",
    "print(diccionario)"
   ]
  },
  {
   "cell_type": "code",
   "execution_count": null,
   "metadata": {},
   "outputs": [],
   "source": [
    "#Para hacer condicionales y determinar longitud \n",
    "print(len(diccionario)) #Resultado la longitud del diccionario\n",
    "print('E' in diccionario) #Condición booleana si esta informa TRUE si no esta informa FALSE"
   ]
  },
  {
   "cell_type": "markdown",
   "metadata": {},
   "source": [
    "# Libreria Numpy y los arrays\n",
    "En los numpy haciendo los arrays los datos deben ser homogeneos no mixturar string con float o int"
   ]
  },
  {
   "cell_type": "code",
   "execution_count": null,
   "metadata": {},
   "outputs": [],
   "source": [
    "#Aqui pra llamarla solo hacer import numpy\n",
    "#Como son muchas letras de reduce a np\n",
    "import numpy as np\n",
    "\n",
    "# Otra forma de poder llarmar la libreria y reduzir la nomenclatura para llarmar es>:\n",
    " #from numpy import *\n",
    "# A veces no es bueno porque puede tener porque puede tener igualdades con otras librerias"
   ]
  },
  {
   "cell_type": "code",
   "execution_count": null,
   "metadata": {},
   "outputs": [],
   "source": [
    "L1 = [1,2,3,4,5,6,7,8,9] #Se definen lista entre corchete\n",
    "x1 = np.array(L1)# Lo convierto en un array\n",
    "print(x1)\n",
    "x2 = np.array(L1, dtype= 'float32') #Defino el array para que sea tipo flotante\n",
    "print(x2)"
   ]
  },
  {
   "cell_type": "code",
   "execution_count": null,
   "metadata": {},
   "outputs": [],
   "source": [
    "#para crear matrices ou arrays tiene 2 maneras:\n",
    "print(np.zeros((3,4)))\n",
    "print(' ')\n",
    "print(np.ones((4,3)))"
   ]
  },
  {
   "cell_type": "code",
   "execution_count": null,
   "metadata": {},
   "outputs": [],
   "source": [
    "print(np.arange(10)) #Para crear un array de 10 numeros contando del 0 al 9\n",
    "print(np.arange(3,12, dtype=np.float)) #Creo array.Se pueden decidir los rangos en este caso de 3 hasta 12\n",
    "print(np.arange(4, 5, 0.1)) # De 4 hasta 5 en intervalos de 0.1"
   ]
  },
  {
   "cell_type": "code",
   "execution_count": null,
   "metadata": {},
   "outputs": [],
   "source": [
    "#También una variante de arange parecida es Linspace \n",
    "#es una función que sirve para crear una arange raíz con el número \n",
    "#especificado de elementos separados de forma equivalente \n",
    "#entre el valor de inicio y el valor de 100.\n",
    "\n",
    "np.linspace(1., 7., #Inicia en 1 y acaba en 7\n",
    "            12) #Genero 12 numeros diferentes entre el intervalo pasado"
   ]
  },
  {
   "cell_type": "code",
   "execution_count": null,
   "metadata": {},
   "outputs": [],
   "source": [
    "#Para poder crear la matriz identidad\n",
    "np.eye(5) #Crea una matrix de 5x5 con una diagonal de 1 - Indico el tamaño de la matriz"
   ]
  },
  {
   "cell_type": "code",
   "execution_count": null,
   "metadata": {},
   "outputs": [],
   "source": [
    "#Se pueden modificar las matrices ou arrays:\n",
    "x = np.zeros((8,3)) #Cre una matriz de 8 filas y 3 columnas\n",
    "print(x)\n",
    "print(' ')\n",
    "print(x.reshape((6,4))) #Redestribuyo la matrix x en 6 filas e 4 columnas\n",
    "print(' ')\n",
    "#Cambiando el valor para 24 valores de arange\n",
    "x1 = np.arange((24)) # Aqui creo un Arange de 1 fila con 24 numeros\n",
    "print(x1.reshape(6,4)) #Convierto ese arange de 1 fila para 6 filas y 4 columans"
   ]
  },
  {
   "cell_type": "code",
   "execution_count": null,
   "metadata": {},
   "outputs": [],
   "source": [
    "#Para entender como funciona la función ravel sigue:\n",
    "x = np.array(([1,2,3,4], [5,6,7,8])) #Creo una matriz de 2 filas y 4 columnas\n",
    "print(x)\n",
    "print(' ')\n",
    "\n",
    "# Para aplanar la matriz anterior solo hago:\n",
    "print(np.ravel(x)) #Convierto la matriz de 2 filas 4 columnas en 1 de 1 fila \n",
    "print(' ')\n",
    "\n",
    "#Otra forma de manipular el array es con flatten:\n",
    "print(x.flatten()) # Este es una copia del array por lo tanto si lo altero no sucede nada con el original\n",
    "print(np.ravel(x)) #Convierto la matriz de 2 filas 4 columnas en 1 de 1 fila \n",
    "print(' ')\n",
    "\n",
    "# Para transporner de filas a columnas\n",
    "print(np.transpose(x))\n",
    "print(' ')\n",
    "# Para hacer una matriz aplicando el resize llega hasta el ultimo valor y comienza nuevamente:\n",
    "np.resize(x,(5,3)) #Hazme un resize de x de 5 filas y 3 columnas"
   ]
  },
  {
   "cell_type": "code",
   "execution_count": null,
   "metadata": {},
   "outputs": [],
   "source": [
    "### Ejercicios array\n",
    "#1. Crear un array de datos con valores entre 5 y 100\n",
    "#2. Crear una matriz 4x4 con los valores desde 0 hasta 15\n",
    "#3. Crear la identidad 7x7\n",
    "#4. Crear un array de 20 elementos y transformarlos en una matrix 5x4\n",
    "#5. Crear un array con 20 números con los valores entre 0 y 5 espaciados de forma uniforme\n",
    "np.arange(5,101) # Respuesta 1\n",
    "matrix = np.arange((16)) # Respuesta 2\n",
    "print(np.resize(matrix, (4,4)))\n",
    "np.eye(7,7) # Respuesta 3\n",
    "m = np.arange((21)) # respuesta de la 4\n",
    "print(np.resize(m, (5,4)))\n",
    "np.linspace(1. , 5. , 20) # Respuesta de la 5"
   ]
  },
  {
   "cell_type": "markdown",
   "metadata": {},
   "source": [
    "# Propiedades de los arrays\n",
    "Aqui vamos a ver las cosas que podemos hacer con los arrays e informaciones que podemos tener\n",
    "Dimensiones, tipo de dato entre otras mas..."
   ]
  },
  {
   "cell_type": "code",
   "execution_count": null,
   "metadata": {},
   "outputs": [],
   "source": [
    "x = np.arange(12)\n",
    "x = x.reshape((3,4))\n",
    "print(x)\n",
    "\n",
    "\n",
    "print(x.ndim) # Para saber el numero de dimensiones\n",
    "print(\" \")\n",
    "\n",
    "print(x.shape) # Para saber cuales son las dimensiones\n",
    "print(\" \")\n",
    "\n",
    "print(x.size) # Cantidad de elementos que tiene la matriz\n",
    "print(\" \")\n",
    "\n",
    "print(x.dtype) # Tipo de dato que tiene la matriz\n",
    "print(\" \")\n",
    "\n",
    "print(x.itemsize) # Da como valor la cantidad de bits en información que ocupa en el ordenador\n",
    "print(\" \")\n",
    "\n",
    "print(x.data) # Da el valor el lugar de la ram donde almaceno la matriz\n",
    "print(\" \")\n",
    "\n",
    "print(x[2]) # Para saber los valores de la columna 2 de la matriz \n",
    "            #(recordando que tien columna 0 columna 1 y columna 2)\n",
    "print(\" \")\n",
    "\n",
    "print(x[2,1]) # Valor columna 2 y fila 1\n",
    "print(\" \")\n",
    "\n",
    "x.shape = (4,3)# Para redimencionar la matriz\n",
    "print(x) # Para redimencionar la matriz\n",
    "print(\" \")\n",
    "\n",
    "# Para imprimir una minimatriz de 1:3 columna y 0:2 en fila\n",
    "print(\"Para imprimir una minimatriz de 1:3 columna y 0:2 en fila: \", x[1:3, 0:2]) \n",
    "print(\" \")\n",
    "\n",
    "y = np.arange(12) #Determino un array para luego sacar los numeros del 1 al 7 en intervalos de 2\n",
    "print(y)\n",
    "print(y[3:8]) #llamo el array desde la posición 3 hasta la 8\n",
    "print(\"Del rango 1 al 7 en intervalos de 2 es: \", y[1:7:2])\n",
    "print(\" \")\n",
    "\n",
    "z = np.arange(10, 6, -1) # Para hacer un array en forma decreciente\n",
    "print(z)\n",
    "print(\" \")"
   ]
  },
  {
   "cell_type": "code",
   "execution_count": null,
   "metadata": {},
   "outputs": [],
   "source": [
    "#Numpy es flexible y se pueden determinar valores por condición booleana \n",
    "x = np.arange(50)\n",
    "print(x)\n",
    "print(\"Del valor de los 50 numeros de x ahora determino los mayores a 30\", x[x>30])\n",
    "print(\" \")\n",
    "\n",
    "# Para determinar los valores hay otra manera:\n",
    "cond = (x<25) #Creo un vector logico\n",
    "print(\"Para terner la condicion booleana sigue: \", cond)\n",
    "print(\"Para tener los valores de la condicion booleana sigue: \", x[cond])\n",
    "print(\" \")\n",
    "\n",
    "#Para assignar valores en un intervalo del array\n",
    "x[12:24] = 1 # de la posición 12 hasta la 24 el valor va  a ser 1\n",
    "print(x)\n",
    "print(\" \")\n",
    "\n",
    "# Para alterar un conjunto de valores se hace:\n",
    "x[13:16] = [150,155,160]\n",
    "print(x) # nuevos valores alterados de la posición 13 a la 16"
   ]
  },
  {
   "cell_type": "code",
   "execution_count": null,
   "metadata": {},
   "outputs": [],
   "source": [
    "#Numpy el tipo de dato tiene que ser homogeneo, no existe heterogeneidodad. Ejepmlo:\n",
    "print(x) #Array original\n",
    "print(x.dtype) #Determino el tipo de dato\n",
    "print(' ')\n",
    "#Altero el dato 5 para 3.1415\n",
    "x[5] = 3.1415\n",
    "print(x) #Aqui aparece que el dato 5 vale 3 eso es en razon de que numpy no acepta la heterogeneidad\n",
    "#Deven ser todos iguales para que los valores aparescan correctamente\n",
    "#Es decir si tienes numeros enteros e intentas cambiarlo por un flotante\n",
    "#Numpy va a tomar es el numero entero ya que no acepta los decimales en el array."
   ]
  },
  {
   "cell_type": "markdown",
   "metadata": {},
   "source": [
    "# Copia y vistas de arrays"
   ]
  },
  {
   "cell_type": "code",
   "execution_count": null,
   "metadata": {},
   "outputs": [],
   "source": [
    "x = np.arange(10)\n",
    "y = x #Aqui le cambio la nomenclatura de x para y\n",
    "y.shape = (2,5) # Redimensionar la matriz\n",
    "\n",
    "print(x)\n",
    "print(\" \")\n",
    "\n",
    "# Hago una copia de x\n",
    "z = x.copy() #Comparte información pero no propiedades porque si se altera no muda el original\n",
    "print(z)\n",
    "print(\" \")\n",
    "\n",
    "#Realizo una pregunta\n",
    "print(z is x) # Va a decir que es falsa porque en realidad es una copia y no el valor original\n",
    "print(\" \")\n",
    "\n",
    "#Cuando se crea una vista comparte la información, no propiedades. \n",
    "#Pero si se modifica la vista el original lo modifica\n",
    "t = x.view() #Genero la vista de x (NO ES COPIA)\n",
    "print(t)\n",
    "#Altero la vista que tengo\n",
    "t.shape = (5,2)\n",
    "print(\"Va a mostrar el valor alterado de 5 filas y 2 columnas\", t)\n",
    "print(\"Va a mostrar mi x original\", x)\n",
    "print(\" \")\n",
    "\n",
    "# Si saco la mini matriz con un nuevo valor esta adopta una nueva variable que no me afecta\n",
    "# La original ejemplo:\n",
    "s = x[0:2, 1:3] #Estoy seleccionando una vista del array ya creado antes\n",
    "#Aqui el objeto S se ha quedado desvinculado del objeto x\n",
    "#Puedo alterar todo si yo quiero\n",
    "print(\"La nueva matriz con valor s es: \", s)\n",
    "s[:] = 5\n",
    "print(\"El nuevo s con valor 5 es: \", s)\n",
    "print(\"Mi valor original de x se modifica\",x )\n",
    "print(\"Mi valor de z que es una copia permanece igual: \", z)\n",
    "\n",
    "#Las vistas son parte del conjunto global con parte de la información pero con propiedades diferentes"
   ]
  },
  {
   "cell_type": "code",
   "execution_count": null,
   "metadata": {},
   "outputs": [],
   "source": []
  },
  {
   "cell_type": "markdown",
   "metadata": {},
   "source": [
    "#  Potencial de numpy"
   ]
  },
  {
   "cell_type": "code",
   "execution_count": null,
   "metadata": {},
   "outputs": [],
   "source": [
    "import numpy as np\n",
    "x = np.arange(10)\n",
    "print(x)\n",
    "print(\"Suma: \", x+3)\n",
    "print(\"Resta: \", x-3)\n",
    "print(\"Multiplicación: \", x*3)\n",
    "print(\"División: \", x/3)\n",
    "print(\" \")\n",
    "\n",
    "#Propiedades trigonometricas hiperbolicas y asi\n",
    "alpha = np.linspace(0, 2*np.pi, 4) # Valores de 0 a 2 pi con 4 espacios\n",
    "print(alpha)\n",
    "print(np.sin(alpha))\n",
    "print(np.cos(alpha))\n",
    "print(\" \")\n",
    "\n",
    "# operaciones exponenciales\n",
    "print(np.exp(x))# Se eleva (e) a cada elemento del vector\n",
    "print(np.exp2(x)) # Potencia base 2\n",
    "print(np.power(3,x)) # potencia de 3\n",
    "print(np.power(x,2)) # el cuadrado de cada valor de x\n",
    "print(\" \")\n",
    "\n",
    "#En estadistica\n",
    "print(np.sum(x)) # Para sumar los valores del x\n",
    "print(np.prod(x)) #Determina el productor de x\n",
    "print(np.nansum(x)) # Elimina los NAN si esta dentro de esa lista\n",
    "print(np.mean(x)) # La mediana\n",
    "print(np.median(x)) # La mediana\n",
    "print(np.std(x)) # Desviasion tipica o varianza\n",
    "print(np.var(x)) # Varianza\n",
    "print(np.min(x)) # El minimo de la lista\n",
    "print(np.max(x)) # El maximo de la lista\n",
    "print(np.argmin(x)) # Indica la posición que tiene el valor mas pequeño\n",
    "print(np.argmax(x)) # Indica la posición que tiene el valor mas grande\n",
    "print(np.percentile(x, q=0.95)) # Calcula el percentir en este caso el 95\n",
    "print(\" \")\n",
    "\n",
    "y = np.array([True, True, True] )\n",
    "print(np.any(y)) # Si tiene al menos 1 verdadero da true\n",
    "print(np.all(y)) # si tiene 1 falso da falso\n",
    "print(\" \")\n",
    "\n",
    "#para sumar por filas o por columnas\n",
    "z = np.random.random((3,5)) # 3 filas y 5 columnas de datos aleatorios\n",
    "print(z)\n",
    "print(\"Para la suma de todos los valores de la variable z: \", z.sum())\n",
    "print(\"Para la suma por columnas de z: \", z.sum(axis=0))\n",
    "print(\"Para la suma por filas de z: \", z.sum(axis=1))\n",
    "print(\" \")\n",
    "\n",
    "#Parammetro semilla aleatoria\n",
    "np.random.seed(1988) #Establesco como randon el mismo conjunto de valores para no cambiarlo\n",
    "#Esto es para tener los mismos valores aleatorios siempre (deve estar antes de generar el aleatorio)"
   ]
  },
  {
   "cell_type": "code",
   "execution_count": null,
   "metadata": {},
   "outputs": [],
   "source": []
  },
  {
   "cell_type": "markdown",
   "metadata": {},
   "source": [
    "# Un poco de algebra lineal con python"
   ]
  },
  {
   "cell_type": "markdown",
   "metadata": {},
   "source": [
    "### Tema 1 - Matriz\n",
    "Crear una matriz usando la libreria 'numpy'"
   ]
  },
  {
   "cell_type": "code",
   "execution_count": null,
   "metadata": {},
   "outputs": [],
   "source": [
    "row = [1,2,3] # 1 corchete crea un vector fila\n",
    "print(row)\n",
    "print(\" \")\n",
    "\n",
    "col = [[1],[2],[3]] # 2 corchetes para que sea solo la columna, donde cada corchete es una fila.\n",
    "print(col)\n",
    "print(\" \")\n",
    "\n",
    "M = [[1,2,3], \n",
    "     [4,5,6], \n",
    "     [7,8,9]] #Matriz ya hecha 3x3 donde cada corchete es una fila\n",
    "print(M)\n",
    "print(\" \")\n",
    "\n",
    "#Para buscar valores recordar que en python comienza de cero por lo tanto:\n",
    "\n",
    "print(\"El resultado es 5 porque busco los que estan en la posición 1, 1 RESULTADO: \", M[1][1])\n",
    "print(\"El resultado es 1 porque busco los que estan en la posición 0, 0 RESULTADO: \", M[0][0])\n",
    "print(\"El resultado es la primera fila ya que esta en la posición 0: \", M[0])\n",
    "print(\"Para hacer 2 veces la matriz, se duplico: \", 2*M) \n",
    "print(\" \")"
   ]
  },
  {
   "cell_type": "code",
   "execution_count": null,
   "metadata": {},
   "outputs": [],
   "source": [
    "# Con el dtype puedo escoger que tipo deve tener si entero, real, complex, float ou otros\n",
    "M = np.array([[1,2,3],[4,5,6],[7,8,9]], dtype = complex) # Numeros complejos\n",
    "print(M)\n",
    "print(\" \")\n",
    "\n",
    "M = np.array([[1,2,3],[4,5,6],[7,8,9]], dtype = float) # Numeros reales\n",
    "print(M)\n",
    "print(\" \")\n",
    "\n",
    "print(\"Matriz de ceros: \", np.zeros((2,3))) \n",
    "print(\"Matriz de unos: \", np.ones((3,5))) \n",
    "print(\"Para saber las dimensiones de una matriz usar shape: \", np.shape(M)) \n",
    "print(\" \")\n",
    "\n",
    "#Define una matriz:\n",
    "A = np.array([[1,2], [3,4]])\n",
    "B = np.array([[3,0], [1,-1]])\n",
    "print(\"Suma es: \", A+B)\n",
    "print(\" \")\n",
    "\n",
    "# Para multriplicar matriz no hacer A*B porque da un resultado equivocado usar lo siguiente:\n",
    "print(\"Multiplicar matriz\", A.dot(B)) # Forma correcta\n",
    "print(\" \")\n",
    "\n",
    "print(\"Para transponer una matriz\", A.transpose())\n",
    "print(\"Tengo la matriz: \", A, \"Suma de los elementos de la diagonal de la matriz\", A.trace())"
   ]
  },
  {
   "cell_type": "code",
   "execution_count": null,
   "metadata": {},
   "outputs": [],
   "source": [
    "print(\"Sea una matriz \", A)\n",
    "print(\"Rango de la matriz: \", np.linalg.matrix_rank(A))\n",
    "print(\"Elevar a un numero la matriz en este caso a 5\", np.linalg.matrix_power(A,5))\n",
    "print(\"Calcular la determinante de la matriz: \", np.linalg.det(A) )\n",
    "print(\"funcion inversa de la matriz A \", np.linalg.inv(A))\n",
    "print(\"Para verificar que es verdadera la inversa\", np.linalg.inv(A).dot(A)) \n",
    "print(\" \")\n",
    "\n",
    "#Ejemplo de matriz que no es invertible\n",
    "x = np.array([[1,2,3], [4,5,6], [7,8,9]])\n",
    "print(\"Un valor muy cerca de 0: \", np.linalg.det(x))\n",
    "print(\"Da rango 2 siendo una 3x3: \", np.linalg.matrix_rank(x))\n",
    "print(\"Valores muy proximos de ceros: \", np.linalg.inv(x))\n",
    "\n",
    "#Nunca se podra hacer la inversa de una matriz cuadrada o de un rango de que tenga filas y columnas diferentes\n",
    "# print(\"Da error: \", np.linalg.inv(np.array([[1,2,3], [4,5,6]])))\n",
    "#La matriz de arriba da error. por ser la inversa no compatible de la matriz."
   ]
  },
  {
   "cell_type": "markdown",
   "metadata": {},
   "source": [
    "## Aceder a la fila o columna de un Array/Matriz"
   ]
  },
  {
   "cell_type": "code",
   "execution_count": null,
   "metadata": {},
   "outputs": [],
   "source": [
    "#Sea la matriz:\n",
    "M = np.array([[1,2,3],[4,5,6],[7,8,9]], dtype = float)\n",
    "\n",
    "#Para aceder a una fila es directo basta con hacer el siguiente comando:\n",
    "print(M[0])\n",
    "\n",
    "print(' ')\n",
    "\n",
    "# Para aceder a 1 columna de un array/matriz se deve hacer bucles\n",
    "for row in M:\n",
    "    print(row[0]) #Aqui acedo a la primera columna de la matriz, \n",
    "    #donde me imprime cada item de row que va por fila hasta la ultima de la columna 0"
   ]
  },
  {
   "cell_type": "code",
   "execution_count": null,
   "metadata": {},
   "outputs": [],
   "source": []
  },
  {
   "cell_type": "markdown",
   "metadata": {},
   "source": [
    "# Graficando en Python - Uso de la libreria Matplotlib"
   ]
  },
  {
   "cell_type": "code",
   "execution_count": null,
   "metadata": {},
   "outputs": [],
   "source": [
    "#Antes de iniciar cualquier grafica se debe hacer:\n",
    "%matplotlib inline #Función para que aparesca siempre los graficos\n",
    "import matplotlib.pyplot as plt #1 de las librerias para graficas - Investigar otras"
   ]
  },
  {
   "cell_type": "code",
   "execution_count": null,
   "metadata": {},
   "outputs": [],
   "source": [
    "## Une los puntos con una recta siempre usar la misma cantidad de puntos para x y para y si no da error\n",
    "x = [1,2,3,4] #Vector de datos\n",
    "#Cuando solo se suministra 1 vector de datos se considera como los datos del eje de las Y\n",
    "#En x genera una lista automatica que comienza de 0 hasta la intercepción de y=4\n",
    "#El angulo que considera siempre es de 45\n",
    "#Siempre en python los vectores de rango(Eje x) comienzan en 0, para su defecto no es 1, solo aplica para las y\n",
    "plt.plot(x) #Graficando x recta \n",
    "plt.xlabel(\"Eje de abcisas\") #Etiqueta del eje x\n",
    "plt.ylabel(\"Eje de ordenadas\") #Etiqueta del eje y\n",
    "plt.show() # Siempre colocar al final de toda la cadena de instrucciones."
   ]
  },
  {
   "cell_type": "code",
   "execution_count": null,
   "metadata": {},
   "outputs": [],
   "source": [
    "#Vectores de dato eje x e y\n",
    "x= [1,2,3,4]\n",
    "y = [1,4,9,16]\n",
    "#Grafico\n",
    "plt.plot(x,y, #Grafico con los vectores x e y\n",
    "         \"ro\") # El 'r' = color rojo, 'o' para el circulito.\n",
    "#Para cambiar la distribución de los ejes\n",
    "plt.axis([0,6, #Para incrementar el tamaño d la vision X = 0 hasta 6 - EJES X\n",
    "          0, 20]) #Para incrementar el tamaño d la vision Y = 0 hasta 20 - EJES Y\n",
    "plt.show()"
   ]
  },
  {
   "cell_type": "code",
   "execution_count": null,
   "metadata": {},
   "outputs": [],
   "source": [
    "#Importo libreria numpy\n",
    "import numpy as np\n",
    "\n",
    "#Creo un Array\n",
    "#Con np.arange(inicio,fin,intervalos) = Forma rapida de crear secuencias en python\n",
    "data = np.arange(0.0, 10.0, #Va desde 0.0 hasta 10.0\n",
    "                 0.2) #Intervalos de 0.2 en 0.2 \n",
    "print(data)\n",
    "\n",
    "#Grafico \n",
    "plt.plot(data, data, \"r--\", #Grafico linea 1\n",
    "         #Aqui creo una recta porque x=y en puntos de encuentro\n",
    "         # Color rojo 'r', guion con '--'\n",
    "         data , data**2, \"bs\", #Grafico linea 2\n",
    "         #Con x = data e y = data**2 grafico de color azul \"b\" y cuadritos 's'\n",
    "         data, data**3,\"g^\") #Grafico linea 3\n",
    "         #Con x = data e y = data**3 grafico de color verde \"g\" y triangulitos '^'\n",
    "plt.show()"
   ]
  },
  {
   "cell_type": "code",
   "execution_count": null,
   "metadata": {},
   "outputs": [],
   "source": [
    "#Funcion linewidth para modificar el grosor de la grafica\n",
    "plt.plot(x,y, \n",
    "         linewidth = 3.0)"
   ]
  },
  {
   "cell_type": "code",
   "execution_count": null,
   "metadata": {},
   "outputs": [],
   "source": [
    "## line, = es para guardar la grafica en esa variable\n",
    "line, = plt.plot(x,y, \n",
    "                 '-') #No especifico el color aqui informo que la grafica sea una linea con '-'\n",
    "line.set_antialiased(False) #Para convertir todos los puntos en union entre lineas"
   ]
  },
  {
   "cell_type": "code",
   "execution_count": null,
   "metadata": {},
   "outputs": [],
   "source": [
    "#Creo una grafica dentro de un parametro\n",
    "lines = plt.plot(data, data, #Linea 1 Recta\n",
    "                 data ,data**2) #Linea 2 Parabola\n",
    "\n",
    "#Altera propiedades globales de las graficas\n",
    "plt.setp(lines, #Grafica de nombre lines\n",
    "         color =\"r\", #Hago que el color sea rojo de ambas lineas\n",
    "         linewidth = 3.0) #El grosor de 3 para ambas lineas"
   ]
  },
  {
   "cell_type": "code",
   "execution_count": null,
   "metadata": {},
   "outputs": [],
   "source": [
    "## Trabajando directamente \n",
    "#Es la misma forma en que se trabaja en matlab\n",
    "lines = plt.plot(data, data, \n",
    "                 data ,data**2)\n",
    "\n",
    "plt.setp(lines, #Grafica\n",
    "         \"color\", \"r\", #Agregando el color rojo\n",
    "         \"linewidth\", 2.0) #Agregando el grosor de las lineas"
   ]
  },
  {
   "cell_type": "code",
   "execution_count": null,
   "metadata": {},
   "outputs": [],
   "source": [
    "##Alpha es para la transparencia de la linea\n",
    "plt.plot(x,y, \n",
    "         alpha = 0.2) "
   ]
  },
  {
   "cell_type": "code",
   "execution_count": null,
   "metadata": {},
   "outputs": [],
   "source": [
    "## cada punto es un + y la separación de :\n",
    "plt.plot(x,y, \n",
    "         marker = \"+\", #Hace que las intercepciones sea un +\n",
    "         linestyle = \":\") #Tipo de linea - lo cambio por puntitos :"
   ]
  },
  {
   "cell_type": "code",
   "execution_count": null,
   "metadata": {},
   "outputs": [],
   "source": [
    "## parametros de python para graficas - Imprime todos los comandos\n",
    "plt.setp(lines)"
   ]
  },
  {
   "cell_type": "code",
   "execution_count": null,
   "metadata": {},
   "outputs": [],
   "source": [
    "## Defino mi variable \n",
    "def f(x):\n",
    "    return np.exp(-x)*np.cos(2*np.pi*x) # Creo la función f(x)=(e^-x)*cos(2pi*x)\n",
    "\n",
    "x1 = np.arange(0, 5.0, #Array desde 0 hasta 5.0\n",
    "               0.1) #Intervalo de 0.1\n",
    "x2 = np.arange(0, 5.0, #Array desde 0 hasta 5.0\n",
    "               0.2) #Intervalo de 0.2\n",
    "\n",
    "plt.figure(1) ##Para crear una figura conjunta \n",
    "\n",
    "#Grafica 1\n",
    "plt.subplot(2,1, # Indica el numero de filas y columnas 2 = filas y 1 = Columna\n",
    "            1) # 1 significa que es el PRIMER DIBUJO\n",
    "\n",
    "plt.plot(x1, f(x1), 'ro', #Linea 1 con x= x1 e y = f(x1) donde \n",
    "                         #visualmente es \"r\" color rojo y 'o' para que se represente en circuilitos\n",
    "         x2, f(x2), 'k') #Linea 2 con x= x2 e y = f(x2) donde\n",
    "                        #visualmente es \"r\" color rojo y 'o' para que se represente en circuilitos\n",
    "\n",
    "#Grafica 2\n",
    "plt.subplot(2,1,# Indica el numero de filas y columnas 2 = filas y 1 = Columna\n",
    "            2) # 2 significa que es el SEGUNDO DIBUJO dibujo\n",
    "\n",
    "#Este es para rellenar el grafico de abajo. 2 filas 1 columna dibujo 2\n",
    "plt.plot(x2, f(x2), #Mismo grafico pero x = x2 e y = f(x2)\n",
    "         'g--') #Color verde con linea de trazo\n",
    "plt.show()"
   ]
  },
  {
   "cell_type": "code",
   "execution_count": null,
   "metadata": {},
   "outputs": [],
   "source": [
    "#Creo 2 graficos en 1 figura\n",
    "plt.figure(1)\n",
    "plt.subplot(2,1,1) #Grafico 1 de figura 1\n",
    "plt.plot([1,2,3])\n",
    "\n",
    "plt.subplot(2,1,2) #Grafico 2 de figura 1\n",
    "plt.plot([4,5,6])\n",
    "\n",
    "#Creo 1 grafico en 1 figura\n",
    "plt.figure(2)\n",
    "plt.plot([4,5,6]) #Grafico 3 de figura 2\n",
    "\n",
    "#Despues de hacer todo puedo volver a la figura 1 para adicionar parametros\n",
    "plt.figure(1) #Para llamar la figura 1 y ponerle titulo \n",
    "plt.subplot(2,1, #Identifico cual grafico quiero ponerle el titulo\n",
    "            1) #Escogo el grafico 1 para ponerle titulo (Aparece debajo del grafico 1)\n",
    "plt.title(\"Este es el primer titulo\")\n",
    "plt.show()\n",
    "\n",
    "#El error que aparece abajo no hay de que preocuparse porque igual grafica todo"
   ]
  },
  {
   "cell_type": "markdown",
   "metadata": {},
   "source": [
    "## Nota interesante: AttributeError: 'Rectangle' object has no property 'normed'\n",
    "#### para versiones antiguas de python normed=1 \n",
    "#### density=1 para las versiones actuales de python\n",
    "\n",
    "#### Verifica si no funciona normed=1 intenta con density=1"
   ]
  },
  {
   "cell_type": "code",
   "execution_count": null,
   "metadata": {},
   "outputs": [],
   "source": [
    "mu = 100 #Media\n",
    "sigma = 20 #Desviación tipica\n",
    "\n",
    "x = mu + sigma * np.random.randn(10000)\n",
    "\n",
    "#Generamos histograma\n",
    "# n = Numero de elementos que forma parte del histograma\n",
    "# bins = Se divide ese rango en intervalos de igual tamaño\n",
    "# patches = Cada uno de lo conjunto de datos \n",
    "n, bins, patches = plt.hist(x, #Grafico los datos \n",
    "                            50,#50 divisiones de 50 trocitos de barras verticales\n",
    "                density=1,#Parametro para estandarizar las barras-  \n",
    "                #Opcionalmente, normalizar la altura de las barras para que el área total sea uno. \n",
    "                #En este caso, en lugar de cuentas, el eje  y  representa la densidad de probabilidad.\n",
    "                            facecolor = 'g', #Color verde\n",
    "                            alpha = 0.6) #Un poco transparente\n",
    "\n",
    "\n",
    "plt.xlabel(\"Cociente Intelectual\", #Etiqueta del eje x\n",
    "           fontsize = 14, # fontsize es el tamaño de la fuente.\n",
    "           color = 'green') #Pintando el texto de cociente intelectual en verde\n",
    "\n",
    "plt.ylabel(\"Probabilidad\")#Etiqueta del eje y\n",
    "#Titulo en latex\n",
    "plt.title(r\"Histograma de CI $N(\\mu,\\sigma)$\") #Usa el r antes de las \" para definir un latex\n",
    "plt.text(30, 0.015, #Posición adentro del grafico en x=30, y = 0.015\n",
    "         r'$\\mu= 100, \\ \\sigma=20$') #Texto que quiero que aparesca\n",
    " \n",
    "# Para definir las lineas de la parrilla\n",
    "plt.axis([20,180, #Eje x = van desde 20 hasta 180\n",
    "          0, 0.025]) #Eje y = van desde 0 hasta 0.025\n",
    "\n",
    "plt.grid(True) #Para hacer la parrilla\n",
    "plt.show()"
   ]
  },
  {
   "cell_type": "code",
   "execution_count": null,
   "metadata": {},
   "outputs": [],
   "source": [
    "plt.figure(figsize = (10,6), #Tamaño del cuadro de la grafica - valores en pulgadas\n",
    "           dpi = 90) # dpi los pixeles por pulgada en el grafico - define calidad del grafico\n",
    "plt.subplot(1,1,1) #Defino 1 imagen 1 grafica\n",
    "\n",
    "x = np.arange(0, 10*np.pi, #Creando un array de 0 hasta 10*pi\n",
    "              0.01) # En intervalos de 0.01\n",
    "y = np.cos(x)\n",
    "\n",
    "#Grafico\n",
    "plt.plot(x,y, \n",
    "         lw = 2.0) #Espesor de la linea\n",
    " \n",
    "#Indico el texto y la punta de la flecha\n",
    "plt.annotate('Máximo Local', \n",
    "             xy = (4*np.pi, #Punto de la cresta 4*pi\n",
    "                   1), #Flecha sentido\n",
    "             xytext = (15, 1.5), #Punto donde va el texto x = 15 e y = 1.5\n",
    "             #Defino la propiedad de la flecha y se hace igual a un\n",
    "             #diccionario de datos\n",
    "             arrowprops = dict(facecolor = 'black', #Color negro\n",
    "                                shrink = 0.05)) #Tamaño de la flecha\n",
    "plt.ylim(-2,2) #Limite de la grafica en los ejes Y\n",
    "\n",
    "plt.grid(False) #Para hacer la parrilla nula del ejemplo anterior.\n",
    "plt.show()"
   ]
  },
  {
   "cell_type": "code",
   "execution_count": null,
   "metadata": {},
   "outputs": [],
   "source": [
    "# Libreria para poder modificar los graficos a conveniencia\n",
    "from matplotlib.ticker import NullFormatter\n",
    "\n",
    "# Formar los parametros\n",
    "mu = 0.5 #Constante 1\n",
    "sd = 0.3 #Constante 2\n",
    "y = mu + sd*np.random.randn(1000) #Creo numeros aleatorios a partir de la función marcada\n",
    "y = y[(y>0) & (y<1)] #Creo un rango de 0 hasta 1 en Y\n",
    "y.sort() #ordeno los numeros de forma creciente\n",
    "x= np.arange(len(y)) #Creo un array con la longitud de y\n",
    "# Una vez declarado todo lo anterior se hace la grafica\n",
    "\n",
    "plt.figure(figsize = (10, 8)) #Para hacer la figuras mas grandes (Ancho x alto)\n",
    "plt.subplot(2,2, #Indico que voy a crear 2 filas e 2 columnas \n",
    "            1) #Numero de grafica es 1\n",
    "#Grafico 1\n",
    "plt.plot(x,y) \n",
    "#Hago una escala lineal en x e y para que disminuya la escala\n",
    "plt.yscale('linear') \n",
    "plt.xscale('linear')\n",
    "plt.title('Escala Lineal') #Titulo de la grafica 1\n",
    "plt.grid(True)\n",
    "\n",
    "plt.subplot(2,2,\n",
    "            2) #Numero de grafica es 2\n",
    "#Grafico 2\n",
    "plt.plot(x,y) \n",
    "#Hago una escala logaritmica en el eje de las y\n",
    "plt.yscale('log')\n",
    "plt.title('Escala Logaritmica') #Titulo de la grafica 2\n",
    "plt.grid(True)\n",
    "\n",
    "plt.subplot(2,2,\n",
    "            3) #Numero de grafica es 3\n",
    "#Grafico 3\n",
    "plt.plot(x, \n",
    "         y - y.mean())  #Necesita esa función para tener el desplazamiento vertical correcto\n",
    "#Hago una escala logaritmo simetrico en el eje de las y\n",
    "plt.yscale('symlog', \n",
    "           linthreshy = 0.01) #Se usa para poder ver el resultado correcto con lineas divisorias\n",
    "plt.title('Escala Log Simetrico') #Titulo de la grafica 3\n",
    "plt.grid(True)\n",
    "\n",
    "plt.subplot(2,2,\n",
    "            4) #Numero de grafica es 4\n",
    "#Grafico 4\n",
    "plt.plot(x,y) \n",
    "plt.yscale('logit') #Para grafica de curvas logisticas\n",
    "plt.title('Escala logistica') #Titulo de la grafica 4\n",
    "\n",
    "#Como inicialmente no se puede leer las informaciones de la grafica\n",
    "#Vamos a hacer el comando de abajo para separar las graficas y tener mejor lectura\n",
    "#Para hacer eso se deve from matplotlib.ticker import NullFormatter al inicio del contenido\n",
    "\n",
    "#Anular las divisiones de alguno de los ejes en este caso es del 4 dibujo lado izquierdo\n",
    "plt.gca().yaxis.set_minor_formatter(NullFormatter())\n",
    "plt.grid(True)\n",
    "\n",
    "#Ayuda a mover ligeramente los graficos\n",
    "plt.subplots_adjust(top = 0.92, #porcentaje de la escala en y\n",
    "                    right = 0.95, #porcentaje de la escala en x\n",
    "                    left = 0.1, \n",
    "                    bottom = 0.08,\n",
    "                    hspace = 0.35, # Espacio horizontal entre graficos - Anchura\n",
    "                    wspace = 0.35) # Espacio vertical entre graficos - Altura\n",
    "plt.show()"
   ]
  },
  {
   "cell_type": "code",
   "execution_count": null,
   "metadata": {},
   "outputs": [],
   "source": [
    "#Declaro Variables\n",
    "x =  np.linspace(-np.pi, np.pi, \n",
    "                 256, #Creo 256 digitos\n",
    "                 endpoint = True) #el endpoint es para tomar el ultimo digito\n",
    "S,C = np.sin(x), np.cos(x) #Defino 2 variables\n",
    "\n",
    "# Grafico\n",
    "plt.figure(figsize = (10,8)) # Tamaño del grafico\n",
    "plt.plot(x,S, #Función S seno\n",
    "         color = 'blue', \n",
    "         linewidth = '1.2', \n",
    "         linestyle = '-', #Linea continua\n",
    "         label = 'Seno') #Etiqueta label para usar legend\n",
    "\n",
    "plt.plot(x,C, #Función C Coseno\n",
    "         color = 'green', \n",
    "         linewidth = 1.2, \n",
    "         linestyle = '-', #Linea continua\n",
    "         label = 'Coseno') #Etiqueta label para usar legend\n",
    "\n",
    "# Gestionar dinamicamente el eje x para incrementar un 10% encima del valor original\n",
    "plt.xlim(x.min()*1.1,x.max()*1.1) #Limites en el eje x con 10% a mas abajo del valor mas pequeño de x \n",
    "                                  # tanto del lado derecho (x.max) como del lado izquierdo\n",
    "#Puedo tambien ajustar el eje de las x con plt.xlim(-4,4) Para este caso no se uso porque no queda\n",
    "#la grafica como queremos\n",
    "plt.ylim(-1.2, 1.2) #Limites en el eje y\n",
    "\n",
    "#Cambiando los valores de enteros a valores flotantes en trigonometria\n",
    "\n",
    "#Cantidad de divisiones que se reflea en este caso son 4 con valor flotante usando el plt.xticks EJE X\n",
    "#division en pi, -pi/2, 0, pi e pi/2 que se muestra en la grafica\n",
    "plt.xticks([-np.pi, -np.pi/2, 0 , np.pi, np.pi/2],            \n",
    "           # El valor flotante fue pasado a escale de pi, pi/2 como se ve en el grafico\n",
    "           #Aqui en latex identifico los nombres de cada punto de la grafica son 5 valores\n",
    "           [r'$-\\pi$', r'$-\\pi/2$', r'$0$', r'$\\pi$', r'$\\pi/2$'])  \n",
    "\n",
    "# Cantidad de divisones en y en este caso son 3\n",
    "#Cantidad de divisiones que se reflea en este caso son 4 con valor flotante usando el plt.yticks EJE Y\n",
    "plt.yticks(np.linspace(-1, 1, #Hago las 2 divisiones con los puntos en Y = -1,1\n",
    "                       3, #\n",
    "                       endpoint=True),\n",
    "           #Identifico los nombres de cada punto en Y\n",
    "          ['-1', ' ' , '1'] #Aqui elimino el 0 que refleja en el eje y\n",
    "          ) \n",
    "\n",
    "\n",
    "#Hacer los ejes de coordenadas\n",
    "ax = plt.gca() #Da acceso a los ejes del dibujo actual para modificarlos\n",
    "#-Borro el eje del cuadro de la derecha\n",
    "ax.spines['right'].set_color('none') #Aceso a los bordes del grafico el none para eliminarlos\n",
    "#-Borro el eje del cuadro de larriba\n",
    "ax.spines['top'].set_color('none')\n",
    "\n",
    "#Graficar el sistema de coordenadas x y\n",
    "#Eje de las x incluye la linea\n",
    "ax.xaxis.set_ticks_position('bottom') #Posición de del eje x abajo altero, depues \n",
    "#Altero la posición de abajo de la linea del eje x para el punto 0 del eje Y\n",
    "ax.spines['bottom'].set_position(('data', #Son los datos originales\n",
    "                                  0))  #Es el eje Y en posición 0\n",
    "\n",
    "#Eje de las y incluye la linea\n",
    "ax.yaxis.set_ticks_position('left') #Posición del eje y izquierda altero, depues  \n",
    "#Altero la posición izquierda de la linea del eje y para el punto 0 del eje X\n",
    "ax.spines['left'].set_position(('data', #Son los datos originales\n",
    "                                0)) #Es el eje X en posición 0\n",
    "\n",
    "\n",
    "#Legenda debe declarar una etiqueta label al principio para que funcione\n",
    "plt.legend(loc='upper left')\n",
    "\n",
    "# Para hacer una raya vertical desde el punto de inicio y = 0 en x 2pi/3 hasta y = 0 hasta sin(x0)\n",
    "x0 = 2*np.pi/3\n",
    "\n",
    "# Punto 1 en la grafica azul \n",
    "plt.plot([x0,x0], #Posición del punto x\n",
    "         [0, np.sin(x0)], #Posición de la linea en Y que va desde 0 hasta sen(x0)\n",
    "         color = \"blue\", #Color azul\n",
    "         linewidth = 2.5,  #Grosor de la linea\n",
    "         linestyle = '--') #Tipo de linea\n",
    "\n",
    "# Flecha con la formula\n",
    "#Para hacer el punto gordo en el punto sin(x0)\n",
    "plt.scatter([x0, ], #Posición del punto x no es necesario el otro punto fin\n",
    "            [np.sin(x0), ], #Posición del punto y no es necesario el otro punto fin\n",
    "            50, #Tamaño del punto\n",
    "            color = 'blue') \n",
    "\n",
    "#Inicio del plt anootate\n",
    "plt.annotate(r'$\\sin(\\frac{2\\pi}{3}) = \\frac{\\sqrt{3}}{2}$', #Latex de la formula\n",
    "            \n",
    "            #Coordenadas para agregar la formula \n",
    "            xy = (x0, np.sin(x0)), #posición del texto\n",
    "            xycoords = 'data', #Para que coincidan con los valores de data\n",
    "            \n",
    "             #Como queda muy encima del punto se mueve un poquito con:\n",
    "            xytext = (+20,+40),textcoords = 'offset points', #Se movio x = 20 puntos, y = 40 puntos\n",
    "            #se movio desde el punto original para el ya mencionado antes.\n",
    "             \n",
    "            fontsize = 16, # El tamaño de la letra      \n",
    "            arrowprops = dict(arrowstyle = '->', #Adiciona una flecha desde el texto hasta el punto\n",
    "            #Va dentro de la funcción arrowprops e para definir el tamaño de la flecha\n",
    "            connectionstyle = 'arc3, rad = .5')                          \n",
    "            ) #Fin de plt anootate\n",
    "             \n",
    "             \n",
    "# Punto en la grafica           \n",
    "plt.plot([x0,x0], [0, np.cos(x0)], color = \"green\", linewidth = 2.5, linestyle = '--')\n",
    "# Flecha con la formula\n",
    "plt.scatter([x0, ], [np.cos(x0), ], 50, color = 'green') #Para hacer el punto gordo en el punto sin(x0)\n",
    "plt.annotate(r'$\\cos(\\frac{2\\pi}{3}) = -\\frac{1}{2}$', #Latex de la formula\n",
    "            xy = (x0, np.cos(x0)), xycoords = 'data', #Coordenadas para agregar la formula\n",
    "            xytext = (-90,-60), textcoords = 'offset points', #Se movio x = 5 puntps, y = 10 puntos\n",
    "            fontsize = 16, # El tamaño de la letra      \n",
    "            arrowprops = dict(arrowstyle = '->', #Adiciona una flecha desde el texto hasta el punto\n",
    "            connectionstyle = 'arc3, rad = .5') # arc3 es una curva y el rad es la largura de la recta  \n",
    "            ) #Fin de plt anootate\n",
    "\n",
    "#Para colocar las etiquetas de los numeros mas visible\n",
    "for label in ax.get_xticklabels() + ax.get_yticklabels():\n",
    "    label.set_fontsize(16)\n",
    "    label.set_bbox(dict(facecolor = 'r', edgecolor = 'none', alpha = 1))\n",
    " \n",
    "plt.grid(False)\n",
    "plt.show()"
   ]
  },
  {
   "cell_type": "markdown",
   "metadata": {},
   "source": [
    "#### Funcion original como esta arriba. Aqui elimino el cuadro en blanco que esta al lado del origen\n",
    "#plt.yticks(np.linspace(-1, 1, 3, endpoint=True),['-1' ,' ', '1'] )  El 3 de linnspace lo cambie por 2 y las comillas\n",
    "#### solas ' ' las elimine. Todo como esta abajo."
   ]
  },
  {
   "cell_type": "code",
   "execution_count": null,
   "metadata": {},
   "outputs": [],
   "source": [
    "# En la grafica de abajo muestro como eliminar el recuadro en rojo arriba feo\n",
    "#Declaro Variables\n",
    "x =  np.linspace(-np.pi, np.pi, 256, endpoint = True) #el endpoint es para tomar el ultimo digito\n",
    "S,C = np.sin(x), np.cos(x)\n",
    "# Grafico\n",
    "plt.figure(figsize = (10,8)) # Tamaño del grafico\n",
    "plt.plot(x,S, color = 'blue', linewidth = '1.2', linestyle = '-', label = 'Seno') #Etiqueta label para usar legend\n",
    "plt.plot(x,C, color = 'green', linewidth = 1.2, linestyle = '-', label = 'Coseno')\n",
    "\n",
    "# Gestionar dinamicamente el eje x para incrementar un 10% encima del valor original\n",
    "plt.xlim(x.min()*1.1,x.max()*1.1) #Limites en el eje x con 10% a mas\n",
    "plt.ylim(-1.2, 1.2) #Limites en el eje y\n",
    "#Cambiando los valores de enteros a valores flotantes en trigonometria\n",
    "plt.xticks([-np.pi, -np.pi/2, 0 , np.pi, np.pi/2], #Cantidad de divisiones que se reflea en este caso son 4 con valor flotante\n",
    "           [r'$-\\pi$', r'$-\\pi/2$', r'$0$', r'$\\pi$', r'$\\pi/2$'])  # El valor flotante fue pasado a escale de pi, pi/2 como se ve en el grafico\n",
    "\n",
    "# Cantidad de divisones en y en este caso son 3\n",
    "#Para eliminar un punto se debe quitar del lins\n",
    "\n",
    "# Funcion original como esta arriba. Aqui elimino el cuadro en blanco que esta al lado del origen\n",
    "#plt.yticks(np.linspace(-1, 1, 3, endpoint=True),['-1' ,' ', '1'] ) El 3 de linnspace lo cambie por 2 \n",
    "                                                                 #y las comillas\n",
    "                                                                # solas ' ' las elimine. Todo como esta abajo.\n",
    "\n",
    "plt.yticks(np.linspace(-1, 1, 2, endpoint=True),\n",
    "          ['-1' , '1'] #Aqui elimino el 0 que refleja en el eje y\n",
    "          ) \n",
    "#Hacer los ejes de coordenadas\n",
    "ax = plt.gca() #Da acceso a los ejes del dibujo actual para modificarlos\n",
    "ax.spines['right'].set_color('none') #Aceso a los bordes del grafico el none para eliminarlos\n",
    "ax.spines['top'].set_color('none')\n",
    "#Graficar el sistema de coordenadas x y\n",
    "#Eje de las x incluye la linea\n",
    "ax.xaxis.set_ticks_position('bottom')\n",
    "ax.spines['bottom'].set_position(('data', 0)) \n",
    "\n",
    "#Eje de las y incluye la linea\n",
    "ax.yaxis.set_ticks_position('left')\n",
    "ax.spines['left'].set_position(('data', 0)) \n",
    "\n",
    "for label in ax.get_xticklabels() + ax.get_yticklabels():\n",
    "    label.set_fontsize(16)\n",
    "    label.set_bbox(dict(facecolor = 'r', edgecolor = 'none', alpha = 1))"
   ]
  },
  {
   "cell_type": "markdown",
   "metadata": {},
   "source": [
    "# Data Frame en Python"
   ]
  },
  {
   "cell_type": "code",
   "execution_count": null,
   "metadata": {},
   "outputs": [],
   "source": [
    "#Para cargar data frame en python, cargarlos y usarlos necesitamos la libreria siguiente:\n",
    "import pandas as pd"
   ]
  },
  {
   "cell_type": "code",
   "execution_count": null,
   "metadata": {},
   "outputs": [],
   "source": [
    "#El read csv separa perfectamente los datos que estan separados por coma, lo hace automaticamente. \n",
    "#de otro modo tenemos que especificar. Sigue:\n",
    "df = pd.read_csv(\"Data Sets/olive.txt\", #Busco la carpeta y coloco el nombre del data frame\n",
    "\n",
    "                 #No es necesario colocar todos esos parametros siempre. \n",
    "#a menos que no llame la información correctamente                                 \n",
    "                 delimiter = ' ', #Sirve para ajustar las separaciones\n",
    "                 decimal = '.', #Para que considere las informaciones como numero\n",
    "                 encoding = 'utf8') #Es necesario si da problema la codificación\n",
    "df"
   ]
  },
  {
   "cell_type": "code",
   "execution_count": null,
   "metadata": {},
   "outputs": [],
   "source": [
    "df.head(8) #Para determinar las primeros 8 filas\n",
    "df.tail(8) #Muestra las ultimas 8 filas\n",
    "\n",
    "#Para  elegir información del data frame por NUMERO DE FILA usar el loc\n",
    "print(df.loc[[1]]) #Imprime la fila 1\n",
    "print(' ')\n",
    "print(df.loc[[5]]) #Imprime la fila 5\n",
    "\n",
    "#Para  elegir información del data frame por POSICIÓN usar el iloc\n",
    "print(df.iloc[[0]]) #Imprime la posición 0 = Fila 1\n",
    "print(' ')\n",
    "print(df.iloc[[4]]) #Imprime la posición 4 = Fila 5\n",
    "\n",
    "#Para escoger un conjunto de filas\n",
    "df[12:20] #Muestra de la POSICIÓN 12 hasta la 20\n",
    "\n",
    "# Filas de la 20 a la 95 en saltos de a 5\n",
    "df[20:95:5]"
   ]
  },
  {
   "cell_type": "code",
   "execution_count": null,
   "metadata": {},
   "outputs": [],
   "source": [
    "print(df.X1.sum()) #Para sumar - escribes df. al hacer tabulador aparecen todos los titulos (escoges)\n",
    "            #y finaliza con .sum()\n",
    "print(' ')\n",
    "print(df.X1.mean()) #Calculo la media\n",
    "print(' ')\n",
    "print(df.X1.describe()) #Da un resumen estadistico del data frame"
   ]
  },
  {
   "cell_type": "code",
   "execution_count": null,
   "metadata": {},
   "outputs": [],
   "source": [
    "#Da un resumen estadistico del data frame todo data frame\n",
    "df.describe()\n",
    "\n",
    "#Trasponer la tabla\n",
    "df.describe().transpose()\n",
    "\n",
    "#Tamaño del data frame (Numero de filas, Numero de columnas)\n",
    "df.shape #Es un vector que da 2 valores = Total filas, total columnas"
   ]
  },
  {
   "cell_type": "code",
   "execution_count": null,
   "metadata": {},
   "outputs": [],
   "source": [
    "#Llamando un fichero desdes internet. no fue necesario arreglar los parametros\n",
    "#Porque ya la información viene separada por comas por defecto\n",
    "df2 = pd.read_csv('http://winterolympicsmedals.com/medals.csv')\n",
    "print(df2.shape)\n",
    "print(' ')\n",
    "print(df2)"
   ]
  },
  {
   "cell_type": "code",
   "execution_count": null,
   "metadata": {},
   "outputs": [],
   "source": [
    "# Usando read table (Es la que mas parametros acepta. como no funciona normal. usamos el delimitador)\n",
    "print(pd.read_table('http://winterolympicsmedals.com/medals.csv'))\n",
    "print(' ')\n",
    "#El mas usado para por los parametros es el read_table\n",
    "print(pd.read_table('http://winterolympicsmedals.com/medals.csv', \n",
    "              delimiter = ',')) #Uso el delimitador , para arreglar la tabla"
   ]
  },
  {
   "cell_type": "markdown",
   "metadata": {},
   "source": [
    "#### Creando Datas frame"
   ]
  },
  {
   "cell_type": "code",
   "execution_count": null,
   "metadata": {},
   "outputs": [],
   "source": [
    "# Llamo numpy para poder hacer diccionarios y generar numeros aleatorios\n",
    "import numpy as np\n",
    "#Creando un data frame con numeros aleatorios de 0 hasta 1\n",
    "df = pd.DataFrame({\n",
    "    'A': np.random.rand(10),\n",
    "    'B': np.random.rand(10),\n",
    "    'C': np.random.rand(10), \n",
    "})\n",
    "\n",
    "df\n",
    "\n",
    "print(df.mean()) #Calculo la media de cada columna A, B, C\n",
    "print(' ')\n",
    "#Para calcular la mediana de una columna\n",
    "print(df.mean(axis='columns'))"
   ]
  },
  {
   "cell_type": "code",
   "execution_count": null,
   "metadata": {},
   "outputs": [],
   "source": [
    "#Creando data frame usando Array\n",
    "df3 = pd.DataFrame(\n",
    "    np.array([[1, 2, 3], \n",
    "              [4, 5, 6], \n",
    "              [7, 8, 9]]), #Creo el array\n",
    "    \n",
    "            columns=['a', 'b', 'c']) #Creo los titulos del array\n",
    "df3"
   ]
  },
  {
   "cell_type": "code",
   "execution_count": null,
   "metadata": {},
   "outputs": [],
   "source": [
    "#Creando un data frame a partir de un vector\n",
    "df2 = pd.DataFrame({\n",
    "    'key'   : ['A', 'B', 'C','A', 'B', 'C'], #Creo mi vector llave\n",
    "    'values': range(6) #Genero numeros de 0 hasta 5\n",
    "                   },\n",
    "columns = ('key', 'values')) #Por si no tiene nombr las columnas se las anexamos\n",
    "df2"
   ]
  },
  {
   "cell_type": "code",
   "execution_count": null,
   "metadata": {},
   "outputs": [],
   "source": [
    "print(df2.groupby('key')) #Agrupando variables iguales. - no da resultado solo un codigo\n",
    "print(' ')\n",
    "#Para poder calcular la media por fila devo agrupar las variables\n",
    "print(df2.groupby('key').mean()) #Calculo la media por filas"
   ]
  },
  {
   "cell_type": "markdown",
   "metadata": {},
   "source": [
    "#### Manipulando data frames"
   ]
  },
  {
   "cell_type": "code",
   "execution_count": null,
   "metadata": {},
   "outputs": [],
   "source": [
    "# Para  hacer varias funciones a la vez\n",
    "import pandas as pd\n",
    "import numpy as np\n",
    "\n",
    "df = pd.DataFrame({\n",
    "    'key': ['A', 'B', 'C','A', 'B', 'C'], #Creando un vector \n",
    "    'value1': range(6), #Creo valores del  al 5\n",
    "    'value2': np.random.randint(0,100, #Genero numeros aleatorios del 0 al 100  \n",
    "                                6) #Especifico que oslo quiero 6\n",
    "})\n",
    "\n",
    "#Agrego agrupaciones por columna y uso la función agregate\n",
    "#Agregate toma funcion, string, o lista de operaciones para asi mostrar las informaciones\n",
    "df.groupby('key').aggregate(['min', #Determino el minimo de cada fila\n",
    "                             np.median, #Determino la mediana\n",
    "                             np.mean, #Determino la media\n",
    "                             max]) #Determino el maximo de cada fila"
   ]
  },
  {
   "cell_type": "code",
   "execution_count": null,
   "metadata": {},
   "outputs": [],
   "source": [
    "#AGREGATE-Para agregar los datos por una columna utilizando una de las funciones estándares de Python\n",
    "#Separando los valores que me interesan a partir del uso de un diccionario\n",
    "df.groupby('key').aggregate({\n",
    "    'value1': 'min', #Valores de value 1 el minimo para cada clave\n",
    "    'value2': 'max' #Valores de value 2 el maximo para cada clave\n",
    "    \n",
    "})"
   ]
  },
  {
   "cell_type": "code",
   "execution_count": null,
   "metadata": {},
   "outputs": [],
   "source": [
    "#FUNCIÓN FILTRAR-Para filtrar con una función los datos que cumple en una cierta condición booleana\n",
    "df.groupby('key').std() #Calculo de la desviasión estandar"
   ]
  },
  {
   "cell_type": "code",
   "execution_count": null,
   "metadata": {},
   "outputs": [],
   "source": [
    "#FUNCIÓN FILTRAR DATOS DEFINIENDO UNA FUNCIÓN\n",
    "import pandas as pd\n",
    "import numpy as np\n",
    "\n",
    "df = pd.DataFrame({\n",
    "    'key': ['A', 'B', 'C','A', 'B', 'C'], #Creo el vector\n",
    "    'value1': range(6), #El rango de 0 hasta 5\n",
    "    'value2': np.random.randint(0,100, #Numeros aleatorios de 0 hasta 100\n",
    "                                6) #Que me de solo 6 resultados\n",
    "})\n",
    "\n",
    "#Defino una función filtro\n",
    "def filter_func(x):\n",
    "    return x['value2'].std()>5 #Quiero que calcule la desviación estandar\n",
    "                               # y de eso quiero que solo me muestre los valores mayores a 5\n",
    "\n",
    "df.groupby('key').filter(filter_func) #Llamo mi función filtro"
   ]
  },
  {
   "cell_type": "code",
   "execution_count": null,
   "metadata": {},
   "outputs": [],
   "source": [
    "#FUNCIÓN TRANSFOM-Transform para cambiar una columna para transformar una de o todas las \n",
    "                  #columnas en base a otra función en estecaso creada con una lambda o la\n",
    "                  #función haploide para vosotros mismos hacer agregados entre diferentes\n",
    "                  #columnas Una vez habiendo hecho el GRUB voy por la columna de datos \n",
    "                  #que os interese agrupar.\n",
    "\n",
    "#Obtener un resultado reducido del data frame. sin modificarlo\n",
    "#Es usado para no tener que hacer funciones separadamente del data frame\n",
    "#Es decir con esto no necesito usar el (def funcion(x))\n",
    "\n",
    "#Agrupo Key                   Aplico la función \n",
    "df.groupby('key').transform(lambda x: x- x.mean())\n",
    "#Aqui tomo x de cada dato y aplico = x-media(x) para cada valor de key \n",
    "#Hacer x-media(x) se denomina centralizar los datos en estadistica"
   ]
  },
  {
   "cell_type": "code",
   "execution_count": null,
   "metadata": {},
   "outputs": [],
   "source": [
    "#FUNCIÓN APPLY - OBJETO PANDAS\n",
    "#Tiene que tomar un data frame y devolver un objeto pandas o bien un objeto,\n",
    "#data frame o un objeto series que también es un objeto de pandas o un número \n",
    "#o un escalar de acuerdo\n",
    "\n",
    "import pandas as pd\n",
    "import numpy as np\n",
    "\n",
    "df = pd.DataFrame({\n",
    "    'key': ['A', 'B', 'C','A', 'B', 'C'], #Creo el vector\n",
    "    'value1': range(6), #El rango de 0 hasta 5\n",
    "    'value2': np.random.randint(0,100, #Numeros aleatorios de 0 hasta 100\n",
    "                                6) #Que me de solo 6 resultados\n",
    "})\n",
    "\n",
    "def norm_by_col2(x): #Normalización de la segunda columna de datos de x\n",
    "    x['value1'] /= x['value2'].sum()  # es lo mismo que hacer x[value1] / x[value2].sum()\n",
    "    return x\n",
    "df.groupby('key').apply(norm_by_col2)"
   ]
  },
  {
   "cell_type": "markdown",
   "metadata": {},
   "source": [
    "#### Agrupando datos"
   ]
  },
  {
   "cell_type": "code",
   "execution_count": null,
   "metadata": {},
   "outputs": [],
   "source": [
    "#Agrupando valores a partir de una lista generada.\n",
    "L = [0,1,0,1,2,0] #Genero una lista de valores\n",
    "print(df)\n",
    "\n",
    "print(' ')\n",
    "#A partir de la lista junte el data frame para hacer sumas\n",
    "print(df.groupby(L).sum()) # 84+26+91 = 201 Valores de la lista que tienen 0 - (Posición 0,2 y 5)\n",
    "                    # 21+52 = 124 Valores de la lista que tienen 1 - (Posición 1 y 3)\n",
    "                    # 75 = 63 Valores de la lista que tienen 2 - (Posición 4)\n",
    "print(' ')\n",
    "# Si realizo la suma por nombre de variable\n",
    "#Tendria como resultado la union de cada una de ellas\n",
    "#A = 84+75\n",
    "#B = 21+75\n",
    "#C = 26+91\n",
    "print(df.groupby('key').sum())\n",
    "\n",
    "print(' ')\n",
    "\n",
    "#Pasando todo un vector como parametro de la función\n",
    "print(df.groupby(df['key']).sum())\n",
    "\n",
    "#Las dos funciones abajo dan el mismo valor pero son diferentes\n",
    "#df.groupby('key').sum() - A la función grupby le paso un string que es el identificador\n",
    "                          #de cada una de las columnas de datos\n",
    "#Es decir va por fila toma los valores los identifica, los agrupa y da el resultado\n",
    "\n",
    "#df.groupby(df['key']).sum()- Aqui le paso los valores de las columnas de datos que para este caso se llama key\n",
    "#Busca la columna key ve los valores los agrupa y da el resultado"
   ]
  },
  {
   "cell_type": "code",
   "execution_count": null,
   "metadata": {},
   "outputs": [],
   "source": [
    "#OTRAS FUNCIONES PARA EL GROUPBY\n",
    "#Pase a minusculas el indice del df2\n",
    "print(df2.groupby(str.lower).mean())\n",
    "print(' ')\n",
    "\n",
    "#Combinación de 2 indices - Agrupación de 2 factores diferentes\n",
    "            #Indico una lista = [str.lower, mapping]\n",
    "print(df2.groupby([str.lower,  #Para el primero str lower\n",
    "                   mapping]).mean()) #Para el segundo mapping"
   ]
  },
  {
   "cell_type": "markdown",
   "metadata": {},
   "source": [
    "#### Crear data frame y juntarlo con graficos(usando matplotlib)"
   ]
  },
  {
   "cell_type": "code",
   "execution_count": null,
   "metadata": {},
   "outputs": [],
   "source": [
    "import numpy as np\n",
    "years = [year for year in range(1990, 2020)]\n",
    "deads = [(y + np.random.uniform(0,100)-1850) for y in years]\n",
    "\n",
    "#Creando el data frame con pandas\n",
    "df = pd.DataFrame({\n",
    "    'year': years,\n",
    "    'deads': deads\n",
    "    \n",
    "})\n",
    "df.head()"
   ]
  },
  {
   "cell_type": "code",
   "execution_count": null,
   "metadata": {},
   "outputs": [],
   "source": [
    "#Llamo la función plot para dibujar\n",
    "#Para guardar el grafico donde lo desees\n",
    "my_plot = df.plot(x = 'year', #Eje de las X\n",
    "                  y = 'deads', #Eje de las Y\n",
    "                  figsize = (10, 8)) #Tamaño del grafico\n",
    "\n",
    "#Para guardar el grafico\n",
    "my_fig = my_plot.get_figure() #Convierto la imagen en una variable\n",
    "my_fig.savefig('GuardandomiPrimerGrafico') #Guardo el grafico en la misma carpeta donde tengo este documento"
   ]
  },
  {
   "cell_type": "code",
   "execution_count": null,
   "metadata": {},
   "outputs": [],
   "source": [
    "#Llamo la función plot para dibujar\n",
    "df.plot(kind = \"scatter\", #Tipo de grafico que sea por puntos\n",
    "        x = 'year', #Eje de las X\n",
    "        y = 'deads', #Eje de las Y\n",
    "        figsize = (10, 8)) #Tamaño del grafico"
   ]
  },
  {
   "cell_type": "code",
   "execution_count": null,
   "metadata": {},
   "outputs": [],
   "source": []
  },
  {
   "cell_type": "markdown",
   "metadata": {},
   "source": [
    "# Sección 13 estudio de planetas"
   ]
  },
  {
   "cell_type": "code",
   "execution_count": null,
   "metadata": {},
   "outputs": [],
   "source": [
    "import seaborn as ab\n",
    "import pandas as pd\n",
    "\n",
    "planets = ab.load_dataset('planets') #llamanado el data set\n",
    "print(planets.shape) #1035 planetas con 6 variables diferentes\n",
    "print(planets.head())\n",
    "\n",
    "print(planets.describe())#aqui considera los NA como estudio\n",
    "print(' ')\n",
    "print(planets.dropna().describe()) #Haciendo un drecribe para tener todos los datos estadisticos\n",
    "#Hice el dropna para eliminar los na del data set\n",
    "\n",
    "print(planets.distance.sum()) #La variable distance sumo todas\n",
    "print(planets.distance.prod()) #La variable distance las multiplico da infinito\n",
    "print(planets.distance.mad()) #Desviación de la media absoluta\n",
    "print(planets.distance.var()) #Calculo del a varianza\n",
    "print(planets.distance.std()) #Calculo de la desviación estandar\n",
    "\n",
    "#Función method = Para que metodo forma parte de dicha agrupación\n",
    "planets.groupby('method') #Invovamos un objeto generico de pandas para hacer lo siguiente=\n",
    "print(planets.groupby('method')['orbital_period'].median()) #Calculo la mediana\n",
    "#En este caso para calcular el periodo orbital el que es mas preciso es el metodo\n",
    "#Orbital brightness modulation 0.34 dias, \n",
    "#sigue transit 5.71 dias y despues van los demas - \n",
    "#los valores son referentes a dias para el calculo del periodo orbital\n",
    "\n",
    "#Función method = Para que metodo forma parte de dicha agrupación\n",
    "#va desde group mi variable y cada fila de planets.groupby('method')\n",
    "for (method, group) in planets.groupby('method'):\n",
    "    print('{0:30s} shape ={1}'.format(method, group.shape)) \n",
    "    #La primera variable que va a invocar sustituira la primera 0:30\n",
    "    #La segunda variable sustituira la segunda 1\n",
    "\n",
    "#Referente al codigo\n",
    "#para cada uno de los métodos utilizados 'for (method,''\n",
    "#y el grupo de datos 'for (method, group)''\n",
    "#en cuestión 'for (method, group) in planets.groupby('method'):''\n",
    "#vamos a sacar el método y el tamaño de datos por tanto usando la técnica\n",
    "\n",
    "#Referente al resultado\n",
    "#Astrometry pues sólo hay dos planetas que se hayan calculado.\n",
    "#Vemos que el metodo mas comun es velocidad radial porque tiene mas observaciones\n",
    "#La menos usada es pulsation timming variations porque solo se uso en 1 planeta\n",
    "\n",
    "#Usando la función described para usar 1 conjunto de datos\n",
    "#Describir para cada metodo como se comporta la variable Años 'year'\n",
    "planets.groupby('method')['year'].describe()\n",
    "\n",
    "#A//B = Cociente de la división entera\n",
    "decade = 10*(planets['year']//10) #Calculo la decada \n",
    "decade = decade.astype(str)+'s' #Converti una variable numerica para factor de agrupación\n",
    "                                #Le agrege una s al final para que se identifique como decada\n",
    "decade.name = 'decade' #Le estoy dando un nombre porque vamos añadir una columna adicional al data frame\n",
    "\n",
    "#Metodo de agrupación por año de descubrimiento y por metodo\n",
    "#grouby para agrupar por metodo\n",
    "#Corchete para indicar una lista\n",
    "\n",
    "\n",
    "\n",
    "print(planets.groupby(['method', #Primero agrupo por metodo (method)\n",
    "                 decade])['number'].sum()) # y agrego el vecto de 'decadas'\n",
    "                                    #Nos quedamos con el numero de descubrimientos 'number'\n",
    "                                    #Sumo la variables\n",
    "\n",
    "#El resultado son la cantidad de descubrimientos por decadas y tipo de metodo ejemplo"
   ]
  },
  {
   "cell_type": "code",
   "execution_count": null,
   "metadata": {},
   "outputs": [],
   "source": [
    "#Función unastack es para convertir en una tabla\n",
    "print(planets.groupby(['method', #Primero agrupo por metodo (method)\n",
    "                 decade])['number'].sum().unstack()) # y agrego el vecto de 'decadas'\n",
    "                                    #Nos quedamos con el numero de descubrimientos 'number'\n",
    "                                    #Sumo la variables\n",
    "print(' ')\n",
    "#Se observa que aparecieron muchos NAN eso significa que no se descubrieron planetas\n",
    "#En esas decadas para ese metodo. para eliminarlo usa la función fillna(0)\n",
    "print(planets.groupby(['method', #Primero agrupo por metodo (method)\n",
    "                 decade])['number'].sum().unstack().fillna(0)) # y agrego el vecto de 'decadas'\n",
    "                                    #Nos quedamos con el numero de descubrimientos 'number'\n",
    "                                    #Sumo la variables"
   ]
  },
  {
   "cell_type": "markdown",
   "metadata": {},
   "source": [
    "#### Diagrama de caja y bigotes"
   ]
  },
  {
   "cell_type": "code",
   "execution_count": null,
   "metadata": {},
   "outputs": [],
   "source": [
    "import matplotlib.pyplot as plt\n",
    "\n",
    "np.random.seed(19880519) #Estos son para que los datos aleatorios que genere sean igual a los del curso\n",
    "\n",
    "dist1 = 100*np.random.rand(50) #50 numeros aleatorios entre 0 y 1 - Pero al multiplicarlo por 100\n",
    "                                #El resultado sera entre 0 y 100 el estudio\n",
    "dist2 = 50*np.ones(25) #Genera un vector de 1 una cantidad de 25 numeros. \n",
    "                    #Al multiplicarlo por 50 sera 25 numeros de valor 50\n",
    "dist3 = 100+100*np.random.rand(10) #Creo 10 outlaiers por arriba \n",
    "                            #Multiplico x 100 para que sean valores de 0 hasta 100\n",
    "                            #Le sumo 100 para que queden numeros entre 100 y 200 despues de la transformación\n",
    "dist4 = -100*np.random.rand(10) #Creo 10 outlaiers por abajo \n",
    "                            #Multiplico x -100 para que sean valores de 0 hasta -100 \n",
    "\n",
    "#Lo concateno usando numpy Para juntar las 4 distribuciones ya creadas\n",
    "data = np.concatenate((dist1, dist2, dist3, dist4))\n",
    "\n",
    "#Grafico\n",
    "fig1, ax1 = plt.subplots()\n",
    "ax1.set_title('boxplot básico')\n",
    "ax1.boxplot(data)\n",
    "\n",
    "#Parametro notch = T para que aparezcan muescas\n",
    "fig2, ax2 = plt.subplots()\n",
    "ax2.set_title('boxplot básico')\n",
    "ax2.boxplot(data, notch = True)\n",
    "\n",
    "#parametro flierprops = Para especificar los ouliers \n",
    "\n",
    "#Con el uso de diccionario los outliers convierto en diamante y los pinto en verde\n",
    "green_diamond = dict(markerfacecolor = 'g', #Color verde\n",
    "                    marker = 'D') #Convierto los circulos en diamantes\n",
    "\n",
    "fig3, ax3 = plt.subplots()\n",
    "ax3.set_title('boxplot con outliers personalizados')\n",
    "ax3.boxplot(data, #llamo los valores para el diagrama\n",
    "            flierprops=green_diamond) #Convierto los outliers en diamantes de color verde\n",
    "\n",
    "#Volteando la grafica a vertical usando vert = False\n",
    "# Función whis = (numero 0.xx) Para que los bigotes se alejen o se acerquen de la caja\n",
    "#Con el uso de diccionario los outliers convierto en cuadrados y los pinto en rojo\n",
    "red_square = dict(markerfacecolor = 'r', #Color rojo\n",
    "                    marker = 's') #Convierto los circulos en cuadrados\n",
    "\n",
    "fig3a, ax3a = plt.subplots()\n",
    "ax3a.set_title('boxplot con outliers personalizados')\n",
    "ax3a.boxplot(data, #llamo los valores para el diagrama\n",
    "             vert = False, #Convierto el boxplot en vertical\n",
    "             whis = 0.75, #Función para determinar el tamaño de los bigotes en este caso\n",
    "                            # Los bigotes ahora son mas pequeños ou mas cerca de la caja\n",
    "            flierprops=red_square) #Convierto los outliers en cuadrados de color rojo\n",
    "\n",
    "# Eliminando outliers del grafico con el parametro showfliers = False\n",
    "\n",
    "fig4, ax4 = plt.subplots()\n",
    "ax4.set_title('boxplot sin outliers')\n",
    "ax4.boxplot(data, #llamos los datos para el grafico\n",
    "           showfliers = False) #Elimino los outliers\n",
    "\n"
   ]
  },
  {
   "cell_type": "code",
   "execution_count": null,
   "metadata": {},
   "outputs": [],
   "source": [
    "#Haciendo varios boxplots en 1 mismo grafico\n",
    "\n",
    "dist1 = 100*np.random.rand(50) #50 numeros aleatorios entre 0 y 1 - Pero al multiplicarlo por 100\n",
    "                                #El resultado sera entre 0 y 100 el estudio\n",
    "dist2 = 40*np.ones(25) #Genera un vector de 1 una cantidad de 25 numeros. \n",
    "                    #Al multiplicarlo por 50 sera 25 numeros de valor 50\n",
    "dist3 = 100+100*np.random.rand(10) #Creo 10 outlaiers por arriba \n",
    "                            #Multiplico x 100 para que sean valores de 0 hasta 100\n",
    "                            #Le sumo 100 para que queden numeros entre 100 y 200 despues de la transformación\n",
    "dist4 = -100*np.random.rand(10) #Creo 10 outlaiers por abajo \n",
    "                            #Multiplico x -100 para que sean valores de 0 hasta -100 \n",
    "data2 = np.concatenate((dist1,dist2,dist3,dist4))\n",
    "\n",
    "#Grafico\n",
    "data.shape = (-1,1) #Modifico el conjunto de datos para convertirlos en un array bidimensional\n",
    "data2.shape = (-1,1)#Modifico el conjunto de datos para convertirlos en un array bidimensional\n",
    "                            #data2 el primer 2 puntos (:) Para escoger todos los datos\n",
    "                            \n",
    "#Función flatten() es para convertir los arrays de 2 dimensiones para 1 sola. Si no se hace eso\n",
    "#No va a graficar y va arrojar un error de que tiene mas de 2 dimensiones las informaciones\n",
    "fulldata = [data.flatten(), data2.flatten(), data2[::2,#El segundo (:) donde queda :: es para que los valores sean de 2 en 2\n",
    "                             0].flatten()]# El 0 es para que tome la primera columna\n",
    "\n",
    "fig7, ax7 = plt.subplots()\n",
    "ax7.set_title(\"Múltiples muestras de diferentes naturaleza\")\n",
    "ax7.boxplot(fulldata)\n",
    "plt.show()\n"
   ]
  },
  {
   "cell_type": "code",
   "execution_count": null,
   "metadata": {},
   "outputs": [],
   "source": [
    "#Ejemplo de grafica multiples de cajas\n",
    "\n",
    "import matplotlib.pyplot as plt\n",
    "import numpy as np\n",
    "X1 = np.random.normal(0, 1, 500) #Datos 1\n",
    "X2 = np.random.normal(0.3, 1, 500) #Datos 2\n",
    "\n",
    "# Showing multiple boxplots on the same window\n",
    "plt.boxplot((X1, X2), #Grafico\n",
    "            notch=True, #Para mostrar las muescas\n",
    "            sym=\"o\", #Para que muestre los outliers\n",
    "            labels=[\"Set 1\", \"Set 2\"]) #Para etiquetar las graficas\n",
    "plt.show() #Dibujar las graficas"
   ]
  },
  {
   "cell_type": "code",
   "execution_count": null,
   "metadata": {},
   "outputs": [],
   "source": [
    "#3 graficas del data set seaborn queson los planetas\n",
    "from numpy.random import seed\n",
    "from numpy.random import randn\n",
    "seed(1)\n",
    "\n",
    "import seaborn as sns\n",
    "\n",
    "x = [randn(1000),5*randn(100),10*randn(1000)]\n",
    "\n",
    "ax = sns.boxplot(data=x)"
   ]
  },
  {
   "cell_type": "code",
   "execution_count": null,
   "metadata": {},
   "outputs": [],
   "source": [
    "#Grafica multiple con 3 cajas \n",
    "\n",
    "from numpy.random import seed\n",
    "from numpy.random import randn\n",
    "seed(1)\n",
    "\n",
    "x = [randn(1000),5*randn(100),10*randn(1000)]\n",
    "plt.boxplot(x)"
   ]
  },
  {
   "cell_type": "code",
   "execution_count": null,
   "metadata": {},
   "outputs": [],
   "source": []
  },
  {
   "cell_type": "code",
   "execution_count": null,
   "metadata": {},
   "outputs": [],
   "source": [
    "# Python = np.ptp(cw) = Rstudio = diff(range(cw))\n",
    "# https://numpy.org/doc/stable/reference/generated/numpy.ptp.html"
   ]
  },
  {
   "cell_type": "code",
   "execution_count": 2,
   "metadata": {},
   "outputs": [
    {
     "data": {
      "text/plain": [
       "9"
      ]
     },
     "execution_count": 2,
     "metadata": {},
     "output_type": "execute_result"
    }
   ],
   "source": [
    "import numpy as np\n",
    "temp = [10,1,1,1,1,1,1,2,1,1,1,1,1,1,1,3,10]\n",
    "np.ptp(temp)\n"
   ]
  },
  {
   "cell_type": "code",
   "execution_count": null,
   "metadata": {},
   "outputs": [],
   "source": []
  },
  {
   "cell_type": "code",
   "execution_count": null,
   "metadata": {},
   "outputs": [],
   "source": []
  }
 ],
 "metadata": {
  "kernelspec": {
   "display_name": "Python 3",
   "language": "python",
   "name": "python3"
  },
  "language_info": {
   "codemirror_mode": {
    "name": "ipython",
    "version": 3
   },
   "file_extension": ".py",
   "mimetype": "text/x-python",
   "name": "python",
   "nbconvert_exporter": "python",
   "pygments_lexer": "ipython3",
   "version": "3.8.5"
  }
 },
 "nbformat": 4,
 "nbformat_minor": 4
}
