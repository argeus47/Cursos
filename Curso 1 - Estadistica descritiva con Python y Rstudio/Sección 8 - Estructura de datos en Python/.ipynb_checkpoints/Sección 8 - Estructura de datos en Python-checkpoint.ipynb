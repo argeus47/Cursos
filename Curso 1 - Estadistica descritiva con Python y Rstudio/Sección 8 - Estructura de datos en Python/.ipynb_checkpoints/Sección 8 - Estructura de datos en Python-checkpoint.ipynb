{
 "cells": [
  {
   "cell_type": "markdown",
   "metadata": {},
   "source": [
    "# Listas\n",
    "Son contenedores que permiten almacenar una colección de objetos en un orden determinado. \n",
    "Se puede acceder, altearar o eliminar os objetos de forma sencilla\n",
    "Se sabe que las listas y los arrais estan dentro de corchetes [...]"
   ]
  },
  {
   "cell_type": "code",
   "execution_count": 25,
   "metadata": {},
   "outputs": [],
   "source": [
    "L1 = [] #Lista vacia\n",
    "L2 = ['a','b','c','d'] # Lista con valores iniciales\n",
    "L3 = [1,2,3,4,5] # Lista con numeros enteros\n",
    "L4 = ['a', 2, True, 'ARTURO CASTRO'] # Lista mezclada con los 4 diferentes tipos de caracteres\n",
    "L5 = [0]*10\n"
   ]
  },
  {
   "cell_type": "code",
   "execution_count": 26,
   "metadata": {},
   "outputs": [
    {
     "name": "stdout",
     "output_type": "stream",
     "text": [
      "[0, 0, 0, 0, 0, 0, 0, 0, 0, 0]\n",
      "a\n"
     ]
    }
   ],
   "source": [
    "print(L5) # Aparece 10 veces el 0\n",
    "print(L2[0]) # Las listas en python comienzan en 0 en este caso va a dar resultado \"a\""
   ]
  },
  {
   "cell_type": "code",
   "execution_count": 27,
   "metadata": {},
   "outputs": [
    {
     "data": {
      "text/plain": [
       "['a', 'b', 'c', 5]"
      ]
     },
     "execution_count": 27,
     "metadata": {},
     "output_type": "execute_result"
    }
   ],
   "source": [
    "L2[3] = 5 # Esto es para cambiar la posición 4 el valor por otro \n",
    "L2"
   ]
  },
  {
   "cell_type": "code",
   "execution_count": 28,
   "metadata": {},
   "outputs": [
    {
     "name": "stdout",
     "output_type": "stream",
     "text": [
      "['a', 'b', 'c']\n",
      "[5, 4, 3, 5]\n"
     ]
    }
   ],
   "source": [
    "print(L2[0:3]) # Da como resultado los valores comprendidos de 0 hasta 3\n",
    "L2[0:3] = (5,4,3) # PAra alterar los valores de los primeros 3\n",
    "print(L2)"
   ]
  },
  {
   "cell_type": "code",
   "execution_count": 29,
   "metadata": {},
   "outputs": [
    {
     "name": "stdout",
     "output_type": "stream",
     "text": [
      "[5, 4, 3, 5, 9]\n",
      "[5, 4, 5, 9]\n",
      "4\n"
     ]
    }
   ],
   "source": [
    "L2.append(9) # Añade un nuevo elemento al final de la lista\n",
    "print(L2)\n",
    "L2.remove(3) # Elimina el primer parametro que sea igual al que se quiere eliminar en este caso es el numero 3\n",
    "print(L2)\n",
    "print(len(L2)) # Longitud de la lista"
   ]
  },
  {
   "cell_type": "code",
   "execution_count": 42,
   "metadata": {},
   "outputs": [
    {
     "name": "stdout",
     "output_type": "stream",
     "text": [
      "[3.1415, 3, 2, 1, 0]\n",
      "1\n",
      "2\n"
     ]
    }
   ],
   "source": [
    "L5 = [0,1,2,3,3.1415]\n",
    "L5.reverse() #Aparecen los objetos de la lista al contrario\n",
    "print(L5)\n",
    "print(L5.count(0)) #Cuenta la cantidad de objetos que tiene la lista\n",
    "print(L5.index(2)) #Imprime el index que esta en la posición 2"
   ]
  },
  {
   "cell_type": "code",
   "execution_count": 46,
   "metadata": {},
   "outputs": [
    {
     "name": "stdout",
     "output_type": "stream",
     "text": [
      "[2, 4, 6, 8, 10]\n",
      "[1, 2, 3, 4, 5, 6, 7, 8, 9, 10]\n",
      "[1, 3, 5, 7, 9]\n",
      "10\n"
     ]
    }
   ],
   "source": [
    "L6= [1,2,3,4,5,6,7,8,9,10]\n",
    "print(L6[1::2]) # Para determinar los valores a cada 2 espacios (De 1 en adelante : selecionando de : 2 en 2)\n",
    "#Por eso tiene :: - Determino los elementos de la posición impar\n",
    "print(L6[:]) #Al hacer eso es para colocar toda la lista\n",
    "print(L6[::2]) #Puedo sacar los elementos pares de la lista\n",
    "print(L6[-1]) # Da como resultado el ultimo elemento"
   ]
  },
  {
   "cell_type": "code",
   "execution_count": 31,
   "metadata": {},
   "outputs": [
    {
     "data": {
      "text/plain": [
       "False"
      ]
     },
     "execution_count": 31,
     "metadata": {},
     "output_type": "execute_result"
    }
   ],
   "source": [
    "20 in L6 # Con esto me da de resultado una condición boolena que si se cumple dice TRUE y si no es verdad \n",
    "#dice FALSE"
   ]
  },
  {
   "cell_type": "markdown",
   "metadata": {},
   "source": [
    "# Bucles\n",
    "Los bucles *for* iteran sobre una colección {una lista, un string, un objeto iterable}"
   ]
  },
  {
   "cell_type": "code",
   "execution_count": 32,
   "metadata": {},
   "outputs": [
    {
     "name": "stdout",
     "output_type": "stream",
     "text": [
      "1\n",
      "2\n",
      "3\n",
      "4\n",
      "5\n",
      "6\n",
      "7\n",
      "8\n",
      "9\n",
      "10\n"
     ]
    }
   ],
   "source": [
    "#El codigo que escribo dentro del for se ejecuta para cada numero de la lista\n",
    "L6= [1,2,3,4,5,6,7,8,9,10]\n",
    "for numero in L6: #Va desde numero que inicia en 0 hasta L6 que tiene valores del 1 al 10\n",
    "    print(numero) #Para cada numero de la lista L6 se imprime"
   ]
  },
  {
   "cell_type": "code",
   "execution_count": 2,
   "metadata": {},
   "outputs": [
    {
     "name": "stdout",
     "output_type": "stream",
     "text": [
      "0\n",
      "1\n",
      "2\n",
      "3\n",
      "4\n",
      "5\n",
      "6\n",
      "7\n",
      "8\n",
      "9\n"
     ]
    }
   ],
   "source": [
    "#Hacer range(10) = range(0,10)\n",
    "for x in range(10): #Aqui puedo hacer una lista sin incluir el ultimo valor\n",
    "    print(x) #Los resultados son del 0 al 9"
   ]
  },
  {
   "cell_type": "code",
   "execution_count": 3,
   "metadata": {},
   "outputs": [
    {
     "name": "stdout",
     "output_type": "stream",
     "text": [
      "A\n",
      "r\n",
      "t\n",
      "u\n",
      "r\n",
      "o\n",
      " \n",
      "C\n",
      "a\n",
      "s\n",
      "t\n",
      "r\n",
      "o\n"
     ]
    }
   ],
   "source": [
    "#Se puede hacer tambien para los caracteres\n",
    "for c in \"Arturo Castro\": #va recociendo cada posición del string que tengo\n",
    "    print(c)"
   ]
  },
  {
   "cell_type": "code",
   "execution_count": 6,
   "metadata": {},
   "outputs": [
    {
     "name": "stdout",
     "output_type": "stream",
     "text": [
      "3.36\n"
     ]
    }
   ],
   "source": [
    "notas = [3.5, 4.9, 5.2, 1.2, 2] # Calculo de la media arimetica ejemplo\n",
    "suma = 0\n",
    "for nota in notas: #Cada nota dentro de la lista de notas\n",
    "    suma = suma + nota #toma el valor que tuviera más la nueva nota un acumulador\n",
    "print(round(   #Round para dejar solo con 2 cifras significativas en este caso\n",
    "    suma/len(notas), #Determino la media donde len da como resultado la longitud de la lista\n",
    "    3))  #Para colocar 2 cifras significativas es necesario colocar 3 porque considera el 1er numero siempre"
   ]
  },
  {
   "cell_type": "markdown",
   "metadata": {},
   "source": [
    "# Bucle *While* \n",
    "Se repite hasta que la condición booleana deja de ser verdadera"
   ]
  },
  {
   "cell_type": "code",
   "execution_count": 7,
   "metadata": {},
   "outputs": [
    {
     "name": "stdout",
     "output_type": "stream",
     "text": [
      "0\n",
      "1\n",
      "2\n",
      "3\n",
      "4\n",
      "5\n",
      "6\n",
      "7\n",
      "8\n",
      "9\n"
     ]
    }
   ],
   "source": [
    "#Siempre ejecutar el fragmento de codigo desde que la condición sea verdadera para evitar bucles infinitos\n",
    "count = 0\n",
    "while count < 10: #Mientras while count sea < 10 imprimir count\n",
    "    \n",
    "    #Primero va el print y despues el count porque comienza de 0 y despues de eso necesita agregarle 1\n",
    "    #Si coloco el count antes comenzaria en 1 porque se ejecutaria la suma de primero\n",
    "    \n",
    "    print(count)\n",
    "    #Despues de imprimir el 0 el count va a sumarle 1 unidad para volver a verificar en el ciclo while\n",
    "    #Si se cumple vuelve y le suma otro 1 para que el valor 0+1=1 y ahi vuelve a preguntar si es <10 y asi va\n",
    "    #Hasta llegar a 10\n",
    "    count +=1 # Hago esto para que lo incremente de 1 en 1, si no se convierte en bucle infinito "
   ]
  },
  {
   "cell_type": "code",
   "execution_count": 11,
   "metadata": {},
   "outputs": [
    {
     "name": "stdout",
     "output_type": "stream",
     "text": [
      "0 2\n",
      "1 3\n",
      "2 5\n",
      "3 7\n",
      "4 11\n",
      "5 13\n",
      "6 17\n",
      "7 19\n",
      "8 23\n",
      "9 29\n"
     ]
    }
   ],
   "source": [
    "primos = [2,3,5,7,11,13,17,19,23,29]\n",
    "#Para poner la posición de 1 lado y el valor del otro usamos los siguientes comandos\n",
    "#idx, (variable del valor) in enmumerate(nombre de la lista) Ejemplo:\n",
    "for idx, p in enumerate(primos):\n",
    "    print(idx, p)"
   ]
  },
  {
   "cell_type": "code",
   "execution_count": 13,
   "metadata": {},
   "outputs": [
    {
     "name": "stdout",
     "output_type": "stream",
     "text": [
      "0 2\n",
      "1 3\n",
      "2 5\n",
      "3 7\n",
      "4 11\n",
      "5 13\n",
      "6 17\n",
      "7 19\n",
      "8 23\n",
      "9 29\n"
     ]
    }
   ],
   "source": [
    "#Para determinar las posiciones pares o impares \n",
    "for idx in range(len(primos)):\n",
    "    # primos[idx] con esa función caso sólo se recorre la posición de los objetos \n",
    "    #para luego acceder al valor de los mismos \n",
    "    print(idx, primos[idx]) #Aqui obtengo los indices, las posiciones de cada elemento de la lista primos"
   ]
  },
  {
   "cell_type": "code",
   "execution_count": null,
   "metadata": {},
   "outputs": [],
   "source": [
    "# Criba de Eratóstenes hecha por mi limitada hasta 20\n",
    "#Te doy una pista: usa dos bucles, uno par ael dividendo y otro para el divisor y así poder comprobar el resto\n",
    "x = int(input('Introduce un numero natural para determinar cuales son primos: '))\n",
    "\n",
    "n = []\n",
    "for n in range(2, x):\n",
    "    i = []\n",
    "    for i in range(2, n):\n",
    "        if n%i ==0:\n",
    "            break\n",
    "    else:\n",
    "        print(n)"
   ]
  },
  {
   "cell_type": "code",
   "execution_count": null,
   "metadata": {},
   "outputs": [],
   "source": [
    "#Otro ejemplo de criba\n",
    "i = 2\n",
    "while(i < 100):\n",
    "    j = 2\n",
    "    while(j <= (i/j)):\n",
    "        if not(i%j): break\n",
    "        j = j + 1\n",
    "    if (j > i/j) : print(i), \n",
    "    i = i + 1"
   ]
  },
  {
   "cell_type": "code",
   "execution_count": null,
   "metadata": {},
   "outputs": [],
   "source": [
    "#Otro ejemplo de criba 2\n",
    "n = int(input('Introduce un numero natural: '))\n",
    "def criba(n): \n",
    "    \n",
    "    x1 = []\n",
    "    for num in range(2, n):\n",
    "        x1.append(num)\n",
    "                \n",
    "    x2 = []\n",
    "    for num in x1:  \n",
    "        x2.append(num)\n",
    "        \n",
    "    for index, num in enumerate(x1):\n",
    "        if index < len(x1) - 1:                \n",
    "            next_index = index + 1\n",
    "            while next_index < len(x1):\n",
    "                if x1[next_index] % num == 0 and x1[next_index] in x2:                \n",
    "                    x2.remove(x1[next_index])\n",
    "                                    \n",
    "                next_index = next_index + 1    \n",
    "                            \n",
    "    return x2            \n",
    "0                \n",
    "print(criba(n))  "
   ]
  },
  {
   "cell_type": "markdown",
   "metadata": {},
   "source": [
    "# Tupla\n",
    "Colección de objetos que no puede modificarse, (Tiene tamaño y contenido fijo)\n",
    "se sabe porque esta dentro de un parentices (...)"
   ]
  },
  {
   "cell_type": "code",
   "execution_count": 14,
   "metadata": {},
   "outputs": [
    {
     "name": "stdout",
     "output_type": "stream",
     "text": [
      "3 5 2 3.1412\n"
     ]
    }
   ],
   "source": [
    "# asignando variables en una tupla donde \n",
    "t1= (3,5,2,3.1412) # Hago la tupla inicialmente\n",
    "a,b,c,d = t1 # Asigno variables a cada tupla\n",
    "print(a,b,c,d) # Imprimo las variables"
   ]
  },
  {
   "cell_type": "code",
   "execution_count": 15,
   "metadata": {},
   "outputs": [
    {
     "name": "stdout",
     "output_type": "stream",
     "text": [
      "[3, 5, 2, 3.1412]\n",
      "(1, 2, 3, 4, 5, 6, 7)\n"
     ]
    }
   ],
   "source": [
    "# Convertir una tupla en lista\n",
    "L1 = list(t1)\n",
    "print(L1) # Se sabe que es una lista porque esta dentro de corchetes\n",
    "\n",
    "# Convertir una lista en tupla \n",
    "L2 = [1,2,3,4,5,6,7]\n",
    "t2 = tuple(L2)\n",
    "print(t2) # Se sabe que es una tupla porque esta dentro de parentises"
   ]
  },
  {
   "cell_type": "code",
   "execution_count": 16,
   "metadata": {},
   "outputs": [
    {
     "name": "stdout",
     "output_type": "stream",
     "text": [
      "['Hola', 'como', 'estas']\n",
      "['hola ocmo estas']\n"
     ]
    }
   ],
   "source": [
    "# Función split separa una cadena de letras (Str) con apostrofos ejemple:\n",
    "print(\"Hola como estas\".split(\" \")) #  \" debe tener solo espacio entre las comillas o no resulta\"\n",
    "print(\"hola ocmo estas\".split(\"  \")) # tiene mas de 1 espacio por eso no da el resultado correcto"
   ]
  },
  {
   "cell_type": "code",
   "execution_count": 18,
   "metadata": {},
   "outputs": [
    {
     "name": "stdout",
     "output_type": "stream",
     "text": [
      "ingrese un rango: 5\n",
      "Ingrese un valor: 1\n",
      "Ingrese un valor: 2\n",
      "Ingrese un valor: 3\n",
      "Ingrese un valor: 9\n",
      "Ingrese un valor: 7\n",
      "Los valores ingresados de la lista son:  ['1', '2', '3', '9', '7']\n",
      "Los valores convertidos en tupla son:  ('1', '2', '3', '9', '7')\n"
     ]
    }
   ],
   "source": [
    "# hacer un programa que permita leer del teclado toda una colección de numeros, separados por el caracter \n",
    "# de la coma, utilice la función split para para pasarlo primero a lista, y luego utiliza a función tupla \n",
    "# para convertirlo en una tupla de objetos\n",
    "r = int(input(\"ingrese un rango: \"))\n",
    "\n",
    "lista = []\n",
    "for i in range(1, r+1):\n",
    "    valor = str(input(\"Ingrese un valor: \"))#Hice un casting pase de entero a string y \n",
    "    lista.append(valor)                     #para cambiarlo nuevamente solo debo hacerlo \n",
    "                                            # int(y escribir la variable adentro)\n",
    "tupla = tuple(lista)\n",
    "\n",
    "print(\"Los valores ingresados de la lista son: \", lista)\n",
    "print(\"Los valores convertidos en tupla son: \", tupla )"
   ]
  },
  {
   "cell_type": "code",
   "execution_count": 19,
   "metadata": {},
   "outputs": [
    {
     "name": "stdout",
     "output_type": "stream",
     "text": [
      "Ingrese los numeros separandolos con comas ,1,2,3,9,7\n",
      "['1', '2', '3', '9', '7']\n",
      "('1', '2', '3', '9', '7')\n"
     ]
    }
   ],
   "source": [
    "# Otra forma de hacer el ejercicio anterior.\n",
    "\n",
    "numeros = input(\"Ingrese los numeros separandolos con comas ,\")\n",
    "numerosL = numeros.split(\",\")\n",
    "print(numerosL)\n",
    "numerosT = tuple(numerosL)\n",
    "print(numerosT)"
   ]
  },
  {
   "cell_type": "markdown",
   "metadata": {},
   "source": [
    "# Diccionario\n",
    "Colección no ordenada de pares de valores: claves <-> Valores. Se indexa no por posición, si no utilizando las claves."
   ]
  },
  {
   "cell_type": "code",
   "execution_count": null,
   "metadata": {},
   "outputs": [],
   "source": [
    "nombre = input(\"Ingrese un nombre: \")\n",
    "numero = int(input(\"Ingrese un numero: \"))\n",
    "decimal = float(input(\"Ingrese un numero decimal: \"))\n",
    "\n",
    "#al hacer un %s es un Pleiss Wolder de que quiero sustituir lo que\n",
    "#sea que vaya aquí en la zona del porcentaje por una variable de tipo string\n",
    "print(\"Hola %s\"%nombre)  #Uso ese %s de la manera que esta para añadir una variable tipo string.\n",
    "\n",
    "#al hacer un %d es un Pleiss Wolder de que quiero sustituir lo que\n",
    "#sea que vaya aquí en la zona del porcentaje por una variable de tipo int\n",
    "print(\"Esto es para un numero %d\"%numero) # Se usa el %d para añadir una variable tipo numero entera\n",
    "\n",
    "#al hacer un %f es un Pleiss Wolder de que quiero sustituir lo que\n",
    "#sea que vaya aquí en la zona del porcentaje por una variable de tipo flotante\n",
    "print(\"Esto es para un numero %f\"%decimal) # Se usa el %f para añadir una variable tipo flotante\n",
    "\n",
    "#al hacer un %.3f es un Pleiss Wolder de que quiero sustituir lo que\n",
    "#sea que vaya aquí en la zona del porcentaje \n",
    "#por una variable de tipo flotante pero con la cantidad de decimales que necesitas\n",
    "print(\"Esto es para un numero %.3f\"%decimal) # Se usa el %f para añadir una variable tipo flotante y \n",
    "                                             #antes de la f \n",
    "                                             #agregar un punto y la cantidad de decimales que desea \n",
    "                                             #en este caso con 3 decimales por eso queda como .3"
   ]
  },
  {
   "cell_type": "code",
   "execution_count": 20,
   "metadata": {},
   "outputs": [
    {
     "data": {
      "text/plain": [
       "10"
      ]
     },
     "execution_count": 20,
     "metadata": {},
     "output_type": "execute_result"
    }
   ],
   "source": [
    "# Mejor manera de organizar un diccionario:\n",
    "diccionario = {\n",
    "    \"A\": 10, \n",
    "    \"E\": 40, \n",
    "    \"I\": 30, \n",
    "    \"O\": 34, \n",
    "    \"U\":32\n",
    "}\n",
    "\n",
    "#Imprimir los valores\n",
    "diccionario[\"A\"]"
   ]
  },
  {
   "cell_type": "code",
   "execution_count": 29,
   "metadata": {},
   "outputs": [
    {
     "data": {
      "text/plain": [
       "{'E': 40, 'I': 30, 'O': 34, 'U': 32, 'A': 100}"
      ]
     },
     "execution_count": 29,
     "metadata": {},
     "output_type": "execute_result"
    }
   ],
   "source": [
    "# Para alterar el valor si esta mal puede ser:\n",
    "diccionario[\"A\"]= 100\n",
    "diccionario"
   ]
  },
  {
   "cell_type": "code",
   "execution_count": 30,
   "metadata": {},
   "outputs": [
    {
     "name": "stdout",
     "output_type": "stream",
     "text": [
      "dict_keys(['E', 'I', 'O', 'U', 'A'])\n",
      "dict_values([40, 30, 34, 32, 100])\n",
      "{'E': 40, 'I': 30, 'O': 34, 'U': 32}\n"
     ]
    }
   ],
   "source": [
    "print(diccionario.keys()) # Para saber cuales son las claves\n",
    "print(diccionario.values()) # Para saber cada valor que posse el diccionario\n",
    "# Para eliminar valores puede ser con la funcion del\n",
    "\n",
    "del diccionario[\"A\"] \n",
    "print(diccionario)"
   ]
  },
  {
   "cell_type": "code",
   "execution_count": 32,
   "metadata": {},
   "outputs": [
    {
     "name": "stdout",
     "output_type": "stream",
     "text": [
      "4\n",
      "True\n"
     ]
    }
   ],
   "source": [
    "#Para hacer condicionales y determinar longitud \n",
    "print(len(diccionario)) #Resultado la longitud del diccionario\n",
    "print('E' in diccionario) #Condición booleana si esta informa TRUE si no esta informa FALSE"
   ]
  },
  {
   "cell_type": "markdown",
   "metadata": {},
   "source": [
    "# Libreria Numpy y los arrays\n",
    "En los numpy haciendo los arrays los datos deben ser homogeneos no mixturar string con float o int"
   ]
  },
  {
   "cell_type": "code",
   "execution_count": 3,
   "metadata": {},
   "outputs": [],
   "source": [
    "#Aqui pra llamarla solo hacer import numpy\n",
    "#Como son muchas letras de reduce a np\n",
    "import numpy as np\n",
    "\n",
    "# Otra forma de poder llarmar la libreria y reduzir la nomenclatura para llarmar es>:\n",
    " #from numpy import *\n",
    "# A veces no es bueno porque puede tener porque puede tener igualdades con otras librerias"
   ]
  },
  {
   "cell_type": "markdown",
   "metadata": {},
   "source": [
    "Array:\n",
    "Son las estructuras de datos n dimensionales que posteriormente \n",
    "manipulamos con la librería numpy."
   ]
  },
  {
   "cell_type": "code",
   "execution_count": 5,
   "metadata": {},
   "outputs": [
    {
     "name": "stdout",
     "output_type": "stream",
     "text": [
      "[1 2 3 4 5 6 7 8 9]\n",
      "[1. 2. 3. 4. 5. 6. 7. 8. 9.]\n"
     ]
    }
   ],
   "source": [
    "L1 = [1,2,3,4,5,6,7,8,9] #Se definen lista entre corchete\n",
    "x1 = np.array(L1)# Lo convierto en un array\n",
    "print(x1)\n",
    "x2 = np.array(L1, dtype= 'float32') #Defino el array para que sea tipo flotante\n",
    "print(x2)"
   ]
  },
  {
   "cell_type": "markdown",
   "metadata": {},
   "source": [
    "Tipos de numeros\n",
    "\n",
    "- bool_ = Data type que se puede usar\n",
    "\n",
    "- int_ (Entero por defecto segun el sistema operativo), intc (Numero entero por defecto de c)\n",
    ", intp (Entero que se usa para indexar), int8 (Enteros de 8 bits), int16(Enteros de 16 bits), \n",
    "int32(Enteros de 32 bits), int64 (Enteros de 64 bits)\n",
    "\n",
    "- uint8, uint16, uint32, uint64 = (enteros sin signo)\n",
    "\n",
    "- float_ (Toma por defecto el que tiene por el sistema), float16, float32, float64 (+/-9999999999e9999) \n",
    "Todos tienen los bits para precisión donde guarda información para signo, exponente y mantiza. \n",
    "\n",
    "- complex_, complex64, complex128 (a+bi, a,b $\\in$ float_) = Son los numeros complejos con parte imaginaria"
   ]
  },
  {
   "cell_type": "code",
   "execution_count": 9,
   "metadata": {},
   "outputs": [
    {
     "name": "stdout",
     "output_type": "stream",
     "text": [
      "[[0. 0. 0. 0.]\n",
      " [0. 0. 0. 0.]\n",
      " [0. 0. 0. 0.]]\n",
      " \n",
      "[[1. 1. 1.]\n",
      " [1. 1. 1.]\n",
      " [1. 1. 1.]\n",
      " [1. 1. 1.]]\n"
     ]
    }
   ],
   "source": [
    "#para crear matrices ou arrays tiene 2 maneras:\n",
    "print(np.zeros((3,4)))\n",
    "print(' ')\n",
    "print(np.ones((4,3)))"
   ]
  },
  {
   "cell_type": "code",
   "execution_count": 10,
   "metadata": {},
   "outputs": [
    {
     "name": "stdout",
     "output_type": "stream",
     "text": [
      "[0 1 2 3 4 5 6 7 8 9]\n",
      "[ 3.  4.  5.  6.  7.  8.  9. 10. 11.]\n",
      "[4.  4.1 4.2 4.3 4.4 4.5 4.6 4.7 4.8 4.9]\n"
     ]
    }
   ],
   "source": [
    "print(np.arange(10)) #Para crear un array de 10 numeros contando del 0 al 9\n",
    "print(np.arange(3,12, dtype=np.float)) #Creo array.Se pueden decidir los rangos en este caso de 3 hasta 12\n",
    "print(np.arange(4, 5, 0.1)) # De 4 hasta 5 en intervalos de 0.1"
   ]
  },
  {
   "cell_type": "code",
   "execution_count": 13,
   "metadata": {},
   "outputs": [
    {
     "data": {
      "text/plain": [
       "array([1.        , 1.54545455, 2.09090909, 2.63636364, 3.18181818,\n",
       "       3.72727273, 4.27272727, 4.81818182, 5.36363636, 5.90909091,\n",
       "       6.45454545, 7.        ])"
      ]
     },
     "execution_count": 13,
     "metadata": {},
     "output_type": "execute_result"
    }
   ],
   "source": [
    "#También una variante de arange parecida es Linspace \n",
    "#es una función que sirve para crear una arange raíz con el número \n",
    "#especificado de elementos separados de forma equivalente \n",
    "#entre el valor de inicio y el valor de 100.\n",
    "\n",
    "np.linspace(1., 7., #Inicia en 1 y acaba en 7\n",
    "            12) #Genero 12 numeros diferentes entre el intervalo pasado"
   ]
  },
  {
   "cell_type": "code",
   "execution_count": 14,
   "metadata": {},
   "outputs": [
    {
     "data": {
      "text/plain": [
       "array([[1., 0., 0., 0., 0.],\n",
       "       [0., 1., 0., 0., 0.],\n",
       "       [0., 0., 1., 0., 0.],\n",
       "       [0., 0., 0., 1., 0.],\n",
       "       [0., 0., 0., 0., 1.]])"
      ]
     },
     "execution_count": 14,
     "metadata": {},
     "output_type": "execute_result"
    }
   ],
   "source": [
    "#Para poder crear la matriz identidad\n",
    "np.eye(5) #Crea una matrix de 5x5 con una diagonal de 1 - Indico el tamaño de la matriz"
   ]
  },
  {
   "cell_type": "code",
   "execution_count": 16,
   "metadata": {},
   "outputs": [
    {
     "name": "stdout",
     "output_type": "stream",
     "text": [
      "[[0. 0. 0.]\n",
      " [0. 0. 0.]\n",
      " [0. 0. 0.]\n",
      " [0. 0. 0.]\n",
      " [0. 0. 0.]\n",
      " [0. 0. 0.]\n",
      " [0. 0. 0.]\n",
      " [0. 0. 0.]]\n",
      " \n",
      "[[0. 0. 0. 0.]\n",
      " [0. 0. 0. 0.]\n",
      " [0. 0. 0. 0.]\n",
      " [0. 0. 0. 0.]\n",
      " [0. 0. 0. 0.]\n",
      " [0. 0. 0. 0.]]\n",
      " \n",
      "[[ 0  1  2  3]\n",
      " [ 4  5  6  7]\n",
      " [ 8  9 10 11]\n",
      " [12 13 14 15]\n",
      " [16 17 18 19]\n",
      " [20 21 22 23]]\n"
     ]
    }
   ],
   "source": [
    "#Se pueden modificar las matrices ou arrays:\n",
    "x = np.zeros((8,3)) #Cre una matriz de 8 filas y 3 columnas\n",
    "print(x)\n",
    "print(' ')\n",
    "print(x.reshape((6,4))) #Redestribuyo la matrix x en 6 filas e 4 columnas\n",
    "print(' ')\n",
    "#Cambiando el valor para 24 valores de arange\n",
    "x1 = np.arange((24)) # Aqui creo un Arange de 1 fila con 24 numeros\n",
    "print(x1.reshape(6,4)) #Convierto ese arange de 1 fila para 6 filas y 4 columans"
   ]
  },
  {
   "cell_type": "code",
   "execution_count": 18,
   "metadata": {},
   "outputs": [
    {
     "name": "stdout",
     "output_type": "stream",
     "text": [
      "[[1 2 3 4]\n",
      " [5 6 7 8]]\n",
      " \n",
      "[1 2 3 4 5 6 7 8]\n",
      " \n",
      "[1 2 3 4 5 6 7 8]\n",
      "[1 2 3 4 5 6 7 8]\n",
      " \n",
      "[[1 5]\n",
      " [2 6]\n",
      " [3 7]\n",
      " [4 8]]\n",
      " \n"
     ]
    },
    {
     "data": {
      "text/plain": [
       "array([[1, 2, 3],\n",
       "       [4, 5, 6],\n",
       "       [7, 8, 1],\n",
       "       [2, 3, 4],\n",
       "       [5, 6, 7]])"
      ]
     },
     "execution_count": 18,
     "metadata": {},
     "output_type": "execute_result"
    }
   ],
   "source": [
    "#Para entender como funciona la función ravel sigue:\n",
    "x = np.array(([1,2,3,4], [5,6,7,8])) #Creo una matriz de 2 filas y 4 columnas\n",
    "print(x)\n",
    "print(' ')\n",
    "\n",
    "# Para aplanar la matriz anterior solo hago:\n",
    "print(np.ravel(x)) #Convierto la matriz de 2 filas 4 columnas en 1 de 1 fila \n",
    "print(' ')\n",
    "\n",
    "#Otra forma de manipular el array es con flatten:\n",
    "print(x.flatten()) # Este es una copia del array por lo tanto si lo altero no sucede nada con el original\n",
    "print(np.ravel(x)) #Convierto la matriz de 2 filas 4 columnas en 1 de 1 fila \n",
    "print(' ')\n",
    "\n",
    "# Para transporner de filas a columnas\n",
    "print(np.transpose(x))\n",
    "print(' ')\n",
    "# Para hacer una matriz aplicando el resize llega hasta el ultimo valor y comienza nuevamente:\n",
    "np.resize(x,(5,3)) #Hazme un resize de x de 5 filas y 3 columnas"
   ]
  },
  {
   "cell_type": "markdown",
   "metadata": {},
   "source": [
    "### Ejercicios array\n",
    "1. Crear un array de datos con valores entre 5 y 100\n",
    "2. Crear una matriz 4x4 con los valores desde 0 hasta 15\n",
    "3. Crear la identidad 7x7\n",
    "4. Crear un array de 20 elementos y transformarlos en una matrix 5x4\n",
    "5. Crear un array con 20 números con los valores entre 0 y 5 espaciados de forma uniforme"
   ]
  },
  {
   "cell_type": "code",
   "execution_count": null,
   "metadata": {},
   "outputs": [],
   "source": [
    "np.arange(5,101) # Respuesta 1"
   ]
  },
  {
   "cell_type": "code",
   "execution_count": null,
   "metadata": {},
   "outputs": [],
   "source": [
    "matrix = np.arange((16)) # Respuesta 2\n",
    "print(np.resize(matrix, (4,4)))"
   ]
  },
  {
   "cell_type": "code",
   "execution_count": null,
   "metadata": {},
   "outputs": [],
   "source": [
    "np.eye(7,7) # Respuesta 3"
   ]
  },
  {
   "cell_type": "code",
   "execution_count": null,
   "metadata": {},
   "outputs": [],
   "source": [
    "m = np.arange((21)) # respuesta de la 4\n",
    "print(np.resize(m, (5,4)))"
   ]
  },
  {
   "cell_type": "code",
   "execution_count": null,
   "metadata": {},
   "outputs": [],
   "source": [
    "np.linspace(1. , 5. , 20) # Respuesta de la 5"
   ]
  },
  {
   "cell_type": "code",
   "execution_count": null,
   "metadata": {},
   "outputs": [],
   "source": []
  },
  {
   "cell_type": "markdown",
   "metadata": {},
   "source": [
    "# Propiedades de los arrays\n",
    "Aqui vamos a ver las cosas que podemos hacer con los arrays e informaciones que podemos tener\n",
    "Dimensiones, tipo de dato entre otras mas..."
   ]
  },
  {
   "cell_type": "code",
   "execution_count": 21,
   "metadata": {},
   "outputs": [
    {
     "name": "stdout",
     "output_type": "stream",
     "text": [
      "[[ 0  1  2  3]\n",
      " [ 4  5  6  7]\n",
      " [ 8  9 10 11]]\n",
      "2\n",
      " \n",
      "(3, 4)\n",
      " \n",
      "12\n",
      " \n",
      "int64\n",
      " \n",
      "8\n",
      " \n",
      "<memory at 0x7f6785c73ee0>\n",
      " \n",
      "[ 8  9 10 11]\n",
      " \n",
      "9\n",
      " \n",
      "[[ 0  1  2]\n",
      " [ 3  4  5]\n",
      " [ 6  7  8]\n",
      " [ 9 10 11]]\n",
      " \n",
      "Para imprimir una minimatriz de 1:3 columna y 0:2 en fila:  [[3 4]\n",
      " [6 7]]\n",
      " \n",
      "[ 0  1  2  3  4  5  6  7  8  9 10 11]\n",
      "[3 4 5 6 7]\n",
      "Del rango 1 al 7 en intervalos de 2 es:  [1 3 5]\n",
      " \n",
      "[10  9  8  7]\n",
      " \n"
     ]
    }
   ],
   "source": [
    "x = np.arange(12)\n",
    "x = x.reshape((3,4))\n",
    "print(x)\n",
    "\n",
    "\n",
    "print(x.ndim) # Para saber el numero de dimensiones\n",
    "print(\" \")\n",
    "\n",
    "print(x.shape) # Para saber cuales son las dimensiones\n",
    "print(\" \")\n",
    "\n",
    "print(x.size) # Cantidad de elementos que tiene la matriz\n",
    "print(\" \")\n",
    "\n",
    "print(x.dtype) # Tipo de dato que tiene la matriz\n",
    "print(\" \")\n",
    "\n",
    "print(x.itemsize) # Da como valor la cantidad de bits en información que ocupa en el ordenador\n",
    "print(\" \")\n",
    "\n",
    "print(x.data) # Da el valor el lugar de la ram donde almaceno la matriz\n",
    "print(\" \")\n",
    "\n",
    "print(x[2]) # Para saber los valores de la columna 2 de la matriz \n",
    "            #(recordando que tien columna 0 columna 1 y columna 2)\n",
    "print(\" \")\n",
    "\n",
    "print(x[2,1]) # Valor columna 2 y fila 1\n",
    "print(\" \")\n",
    "\n",
    "x.shape = (4,3)# Para redimencionar la matriz\n",
    "print(x) # Para redimencionar la matriz\n",
    "print(\" \")\n",
    "\n",
    "# Para imprimir una minimatriz de 1:3 columna y 0:2 en fila\n",
    "print(\"Para imprimir una minimatriz de 1:3 columna y 0:2 en fila: \", x[1:3, 0:2]) \n",
    "print(\" \")\n",
    "\n",
    "y = np.arange(12) #Determino un array para luego sacar los numeros del 1 al 7 en intervalos de 2\n",
    "print(y)\n",
    "print(y[3:8]) #llamo el array desde la posición 3 hasta la 8\n",
    "print(\"Del rango 1 al 7 en intervalos de 2 es: \", y[1:7:2])\n",
    "print(\" \")\n",
    "\n",
    "z = np.arange(10, 6, -1) # Para hacer un array en forma decreciente\n",
    "print(z)\n",
    "print(\" \")"
   ]
  },
  {
   "cell_type": "code",
   "execution_count": 23,
   "metadata": {},
   "outputs": [
    {
     "name": "stdout",
     "output_type": "stream",
     "text": [
      "[ 0  1  2  3  4  5  6  7  8  9 10 11 12 13 14 15 16 17 18 19 20 21 22 23\n",
      " 24 25 26 27 28 29 30 31 32 33 34 35 36 37 38 39 40 41 42 43 44 45 46 47\n",
      " 48 49]\n",
      "Del valor de los 50 numeros de x ahora determino los mayores a 30 [31 32 33 34 35 36 37 38 39 40 41 42 43 44 45 46 47 48 49]\n",
      " \n",
      "Para terner la condicion booleana sigue:  [ True  True  True  True  True  True  True  True  True  True  True  True\n",
      "  True  True  True  True  True  True  True  True  True  True  True  True\n",
      "  True False False False False False False False False False False False\n",
      " False False False False False False False False False False False False\n",
      " False False]\n",
      "Para tener los valores de la condicion booleana sigue:  [ 0  1  2  3  4  5  6  7  8  9 10 11 12 13 14 15 16 17 18 19 20 21 22 23\n",
      " 24]\n",
      " \n",
      "[ 0  1  2  3  4  5  6  7  8  9 10 11  1  1  1  1  1  1  1  1  1  1  1  1\n",
      " 24 25 26 27 28 29 30 31 32 33 34 35 36 37 38 39 40 41 42 43 44 45 46 47\n",
      " 48 49]\n",
      " \n",
      "[  0   1   2   3   4   5   6   7   8   9  10  11   1 150 155 160   1   1\n",
      "   1   1   1   1   1   1  24  25  26  27  28  29  30  31  32  33  34  35\n",
      "  36  37  38  39  40  41  42  43  44  45  46  47  48  49]\n"
     ]
    }
   ],
   "source": [
    "#Numpy es flexible y se pueden determinar valores por condición booleana \n",
    "x = np.arange(50)\n",
    "print(x)\n",
    "print(\"Del valor de los 50 numeros de x ahora determino los mayores a 30\", x[x>30])\n",
    "print(\" \")\n",
    "\n",
    "# Para determinar los valores hay otra manera:\n",
    "cond = (x<25) #Creo un vector logico\n",
    "print(\"Para terner la condicion booleana sigue: \", cond)\n",
    "print(\"Para tener los valores de la condicion booleana sigue: \", x[cond])\n",
    "print(\" \")\n",
    "\n",
    "#Para assignar valores en un intervalo del array\n",
    "x[12:24] = 1 # de la posición 12 hasta la 24 el valor va  a ser 1\n",
    "print(x)\n",
    "print(\" \")\n",
    "\n",
    "# Para alterar un conjunto de valores se hace:\n",
    "x[13:16] = [150,155,160]\n",
    "print(x) # nuevos valores alterados de la posición 13 a la 16"
   ]
  },
  {
   "cell_type": "code",
   "execution_count": 25,
   "metadata": {},
   "outputs": [
    {
     "name": "stdout",
     "output_type": "stream",
     "text": [
      "[  0   1   2   3   4   5   6   7   8   9  10  11   1 150 155 160   1   1\n",
      "   1   1   1   1   1   1  24  25  26  27  28  29  30  31  32  33  34  35\n",
      "  36  37  38  39  40  41  42  43  44  45  46  47  48  49]\n",
      "int64\n",
      " \n",
      "[  0   1   2   3   4   3   6   7   8   9  10  11   1 150 155 160   1   1\n",
      "   1   1   1   1   1   1  24  25  26  27  28  29  30  31  32  33  34  35\n",
      "  36  37  38  39  40  41  42  43  44  45  46  47  48  49]\n"
     ]
    }
   ],
   "source": [
    "#Numpy el tipo de dato tiene que ser homogeneo, no existe heterogeneidodad. Ejepmlo:\n",
    "print(x) #Array original\n",
    "print(x.dtype) #Determino el tipo de dato\n",
    "print(' ')\n",
    "#Altero el dato 5 para 3.1415\n",
    "x[5] = 3.1415\n",
    "print(x) #Aqui aparece que el dato 5 vale 3 eso es en razon de que numpy no acepta la heterogeneidad\n",
    "#Deven ser todos iguales para que los valores aparescan correctamente\n",
    "#Es decir si tienes numeros enteros e intentas cambiarlo por un flotante\n",
    "#Numpy va a tomar es el numero entero ya que no acepta los decimales en el array."
   ]
  },
  {
   "cell_type": "markdown",
   "metadata": {},
   "source": [
    "# Copia y vistas de arrays"
   ]
  },
  {
   "cell_type": "code",
   "execution_count": null,
   "metadata": {},
   "outputs": [],
   "source": [
    "x = np.arange(10)\n",
    "y = x #Aqui le cambio la nomenclatura de x para y\n",
    "y.shape = (2,5) # Redimensionar la matriz\n",
    "\n",
    "print(x)\n",
    "print(\" \")\n",
    "\n",
    "# Hago una copia de x\n",
    "z = x.copy() #Comparte información pero no propiedades porque si se altera no muda el original\n",
    "print(z)\n",
    "print(\" \")\n",
    "\n",
    "#Realizo una pregunta\n",
    "print(z is x) # Va a decir que es falsa porque en realidad es una copia y no el valor original\n",
    "print(\" \")\n",
    "\n",
    "#Cuando se crea una vista comparte la información, no propiedades. \n",
    "#Pero si se modifica la vista el original lo modifica\n",
    "t = x.view() #Genero la vista de x (NO ES COPIA)\n",
    "print(t)\n",
    "#Altero la vista que tengo\n",
    "t.shape = (5,2)\n",
    "print(\"Va a mostrar el valor alterado de 5 filas y 2 columnas\", t)\n",
    "print(\"Va a mostrar mi x original\", x)\n",
    "print(\" \")\n",
    "\n",
    "# Si saco la mini matriz con un nuevo valor esta adopta una nueva variable que no me afecta\n",
    "# La original ejemplo:\n",
    "s = x[0:2, 1:3] #Estoy seleccionando una vista del array ya creado antes\n",
    "#Aqui el objeto S se ha quedado desvinculado del objeto x\n",
    "#Puedo alterar todo si yo quiero\n",
    "print(\"La nueva matriz con valor s es: \", s)\n",
    "s[:] = 5\n",
    "print(\"El nuevo s con valor 5 es: \", s)\n",
    "print(\"Mi valor original de x se modifica\",x )\n",
    "print(\"Mi valor de z que es una copia permanece igual: \", z)\n",
    "\n",
    "#Las vistas son parte del conjunto global con parte de la información pero con propiedades diferentes"
   ]
  },
  {
   "cell_type": "code",
   "execution_count": null,
   "metadata": {},
   "outputs": [],
   "source": []
  },
  {
   "cell_type": "markdown",
   "metadata": {},
   "source": [
    "#  Potencial de numpy"
   ]
  },
  {
   "cell_type": "markdown",
   "metadata": {},
   "source": [
    "## Funciones universales (ufunc)\n",
    "- Unarias sqrt, sin, cos, **2\n",
    "- Binarias: maximum,  minimum"
   ]
  },
  {
   "cell_type": "code",
   "execution_count": 1,
   "metadata": {},
   "outputs": [
    {
     "name": "stdout",
     "output_type": "stream",
     "text": [
      "[0 1 2 3 4 5 6 7 8 9]\n",
      "Suma:  [ 3  4  5  6  7  8  9 10 11 12]\n",
      "Resta:  [-3 -2 -1  0  1  2  3  4  5  6]\n",
      "Multiplicación:  [ 0  3  6  9 12 15 18 21 24 27]\n",
      "División:  [0.         0.33333333 0.66666667 1.         1.33333333 1.66666667\n",
      " 2.         2.33333333 2.66666667 3.        ]\n",
      " \n",
      "[0.         2.0943951  4.1887902  6.28318531]\n",
      "[ 0.00000000e+00  8.66025404e-01 -8.66025404e-01 -2.44929360e-16]\n",
      "[ 1.  -0.5 -0.5  1. ]\n",
      " \n",
      "[1.00000000e+00 2.71828183e+00 7.38905610e+00 2.00855369e+01\n",
      " 5.45981500e+01 1.48413159e+02 4.03428793e+02 1.09663316e+03\n",
      " 2.98095799e+03 8.10308393e+03]\n",
      "[  1.   2.   4.   8.  16.  32.  64. 128. 256. 512.]\n",
      "[    1     3     9    27    81   243   729  2187  6561 19683]\n",
      "[ 0  1  4  9 16 25 36 49 64 81]\n",
      " \n",
      "45\n",
      "45\n",
      "4.5\n",
      "4.5\n",
      "2.8722813232690143\n",
      "8.25\n",
      "0\n",
      "9\n",
      "0\n",
      "9\n",
      "0.08549999999999999\n",
      " \n",
      "True\n",
      "True\n",
      " \n",
      "[[0.07806931 0.86088522 0.61265388 0.93528963 0.80016223]\n",
      " [0.36985111 0.38847118 0.45348389 0.39441868 0.8905252 ]\n",
      " [0.87281111 0.17452185 0.2429156  0.36080888 0.291109  ]]\n",
      "Para la suma de todos los valores de la variable z:  7.72597679446326\n",
      "Para la suma por columnas de z:  [1.32073154 1.42387826 1.30905337 1.69051719 1.98179644]\n",
      "Para la suma por filas de z:  [3.28706028 2.49675007 1.94216645]\n",
      " \n"
     ]
    },
    {
     "data": {
      "text/plain": [
       "<function RandomState.seed>"
      ]
     },
     "execution_count": 1,
     "metadata": {},
     "output_type": "execute_result"
    }
   ],
   "source": [
    "import numpy as np\n",
    "x = np.arange(10)\n",
    "print(x)\n",
    "print(\"Suma: \", x+3)\n",
    "print(\"Resta: \", x-3)\n",
    "print(\"Multiplicación: \", x*3)\n",
    "print(\"División: \", x/3)\n",
    "print(\" \")\n",
    "\n",
    "#Propiedades trigonometricas hiperbolicas y asi\n",
    "alpha = np.linspace(0, 2*np.pi, 4) # Valores de 0 a 2 pi con 4 espacios\n",
    "print(alpha)\n",
    "print(np.sin(alpha))\n",
    "print(np.cos(alpha))\n",
    "print(\" \")\n",
    "\n",
    "# operaciones exponenciales\n",
    "print(np.exp(x))# Se eleva (e) a cada elemento del vector\n",
    "print(np.exp2(x)) # Potencia base 2\n",
    "print(np.power(3,x)) # potencia de 3\n",
    "print(np.power(x,2)) # el cuadrado de cada valor de x\n",
    "print(\" \")\n",
    "\n",
    "#En estadistica\n",
    "print(np.sum(x)) # Para sumar los valores del x\n",
    "print(np.prod(x)) #Determina el productor de x\n",
    "print(np.nansum(x)) # Elimina los NAN si esta dentro de esa lista\n",
    "print(np.mean(x)) # La mediana\n",
    "print(np.median(x)) # La mediana\n",
    "print(np.std(x)) # Desviasion tipica o varianza\n",
    "print(np.var(x)) # Varianza\n",
    "print(np.min(x)) # El minimo de la lista\n",
    "print(np.max(x)) # El maximo de la lista\n",
    "print(np.argmin(x)) # Indica la posición que tiene el valor mas pequeño\n",
    "print(np.argmax(x)) # Indica la posición que tiene el valor mas grande\n",
    "print(np.percentile(x, q=0.95)) # Calcula el percentir en este caso el 95\n",
    "print(\" \")\n",
    "\n",
    "y = np.array([True, True, True] )\n",
    "print(np.any(y)) # Si tiene al menos 1 verdadero da true\n",
    "print(np.all(y)) # si tiene 1 falso da falso\n",
    "print(\" \")\n",
    "\n",
    "#para sumar por filas o por columnas\n",
    "z = np.random.random((3,5)) # 3 filas y 5 columnas de datos aleatorios\n",
    "print(z)\n",
    "print(\"Para la suma de todos los valores de la variable z: \", z.sum())\n",
    "print(\"Para la suma por columnas de z: \", z.sum(axis=0))\n",
    "print(\"Para la suma por filas de z: \", z.sum(axis=1))\n",
    "print(\" \")\n",
    "\n",
    "#Parammetro semilla aleatoria\n",
    "np.random.seed(1988) #Establesco como randon el mismo conjunto de valores para no cambiarlo\n",
    "#Esto es para tener los mismos valores aleatorios siempre (deve estar antes de generar el aleatorio)"
   ]
  },
  {
   "cell_type": "code",
   "execution_count": null,
   "metadata": {},
   "outputs": [],
   "source": []
  },
  {
   "cell_type": "markdown",
   "metadata": {},
   "source": [
    "# Un poco de algebra lineal con python"
   ]
  },
  {
   "cell_type": "markdown",
   "metadata": {},
   "source": [
    "### Tema 1 - Matriz\n",
    "Crear una matriz usando la libreria 'numpy'"
   ]
  },
  {
   "cell_type": "code",
   "execution_count": 3,
   "metadata": {},
   "outputs": [
    {
     "name": "stdout",
     "output_type": "stream",
     "text": [
      "[1, 2, 3]\n",
      " \n",
      "[[1], [2], [3]]\n",
      " \n",
      "[[1, 2, 3], [4, 5, 6], [7, 8, 9]]\n",
      " \n",
      "El resultado es 5 porque busco los que estan en la posición 1, 1 RESULTADO:  5\n",
      "El resultado es 1 porque busco los que estan en la posición 0, 0 RESULTADO:  1\n",
      "El resultado es la primera fila ya que esta en la posición 0:  [1, 2, 3]\n",
      "Para hacer 2 veces la matriz, se duplico:  [[1, 2, 3], [4, 5, 6], [7, 8, 9], [1, 2, 3], [4, 5, 6], [7, 8, 9]]\n",
      " \n"
     ]
    }
   ],
   "source": [
    "row = [1,2,3] # 1 corchete crea un vector fila\n",
    "print(row)\n",
    "print(\" \")\n",
    "\n",
    "col = [[1],[2],[3]] # 2 corchetes para que sea solo la columna, donde cada corchete es una fila.\n",
    "print(col)\n",
    "print(\" \")\n",
    "\n",
    "M = [[1,2,3], \n",
    "     [4,5,6], \n",
    "     [7,8,9]] #Matriz ya hecha 3x3 donde cada corchete es una fila\n",
    "print(M)\n",
    "print(\" \")\n",
    "\n",
    "#Para buscar valores recordar que en python comienza de cero por lo tanto:\n",
    "\n",
    "print(\"El resultado es 5 porque busco los que estan en la posición 1, 1 RESULTADO: \", M[1][1])\n",
    "print(\"El resultado es 1 porque busco los que estan en la posición 0, 0 RESULTADO: \", M[0][0])\n",
    "print(\"El resultado es la primera fila ya que esta en la posición 0: \", M[0])\n",
    "print(\"Para hacer 2 veces la matriz, se duplico: \", 2*M) \n",
    "print(\" \")"
   ]
  },
  {
   "cell_type": "code",
   "execution_count": 4,
   "metadata": {},
   "outputs": [
    {
     "name": "stdout",
     "output_type": "stream",
     "text": [
      "[[1.+0.j 2.+0.j 3.+0.j]\n",
      " [4.+0.j 5.+0.j 6.+0.j]\n",
      " [7.+0.j 8.+0.j 9.+0.j]]\n",
      " \n",
      "[[1. 2. 3.]\n",
      " [4. 5. 6.]\n",
      " [7. 8. 9.]]\n",
      " \n",
      "Matriz de ceros:  [[0. 0. 0.]\n",
      " [0. 0. 0.]]\n",
      "Matriz de unos:  [[1. 1. 1. 1. 1.]\n",
      " [1. 1. 1. 1. 1.]\n",
      " [1. 1. 1. 1. 1.]]\n",
      "Para saber las dimensiones de una matriz usar shape:  (3, 3)\n",
      " \n",
      "Suma es:  [[4 2]\n",
      " [4 3]]\n",
      " \n",
      "Multiplicar matriz [[ 5 -2]\n",
      " [13 -4]]\n",
      " \n",
      "Para transponer una matriz [[1 3]\n",
      " [2 4]]\n",
      "Tengo la matriz:  [[1 2]\n",
      " [3 4]] Suma de los elementos de la diagonal de la matriz 5\n"
     ]
    }
   ],
   "source": [
    "# Con el dtype puedo escoger que tipo deve tener si entero, real, complex, float ou otros\n",
    "M = np.array([[1,2,3],[4,5,6],[7,8,9]], dtype = complex) # Numeros complejos\n",
    "print(M)\n",
    "print(\" \")\n",
    "\n",
    "M = np.array([[1,2,3],[4,5,6],[7,8,9]], dtype = float) # Numeros reales\n",
    "print(M)\n",
    "print(\" \")\n",
    "\n",
    "print(\"Matriz de ceros: \", np.zeros((2,3))) \n",
    "print(\"Matriz de unos: \", np.ones((3,5))) \n",
    "print(\"Para saber las dimensiones de una matriz usar shape: \", np.shape(M)) \n",
    "print(\" \")\n",
    "\n",
    "#Define una matriz:\n",
    "A = np.array([[1,2], [3,4]])\n",
    "B = np.array([[3,0], [1,-1]])\n",
    "print(\"Suma es: \", A+B)\n",
    "print(\" \")\n",
    "\n",
    "# Para multriplicar matriz no hacer A*B porque da un resultado equivocado usar lo siguiente:\n",
    "print(\"Multiplicar matriz\", A.dot(B)) # Forma correcta\n",
    "print(\" \")\n",
    "\n",
    "print(\"Para transponer una matriz\", A.transpose())\n",
    "print(\"Tengo la matriz: \", A, \"Suma de los elementos de la diagonal de la matriz\", A.trace())"
   ]
  },
  {
   "cell_type": "code",
   "execution_count": 5,
   "metadata": {},
   "outputs": [
    {
     "name": "stdout",
     "output_type": "stream",
     "text": [
      "Sea una matriz  [[1 2]\n",
      " [3 4]]\n",
      "Rango de la matriz:  2\n",
      "Elevar a un numero la matriz en este caso a 5 [[1069 1558]\n",
      " [2337 3406]]\n",
      "Calcular la determinante de la matriz:  -2.0000000000000004\n",
      "funcion inversa de la matriz A  [[-2.   1. ]\n",
      " [ 1.5 -0.5]]\n",
      "Para verificar que es verdadera la inversa [[1.0000000e+00 4.4408921e-16]\n",
      " [0.0000000e+00 1.0000000e+00]]\n",
      " \n",
      "Un valor muy cerca de 0:  -9.51619735392994e-16\n",
      "Da rango 2 siendo una 3x3:  2\n",
      "Valores muy proximos de ceros:  [[ 3.15251974e+15 -6.30503948e+15  3.15251974e+15]\n",
      " [-6.30503948e+15  1.26100790e+16 -6.30503948e+15]\n",
      " [ 3.15251974e+15 -6.30503948e+15  3.15251974e+15]]\n"
     ]
    }
   ],
   "source": [
    "print(\"Sea una matriz \", A)\n",
    "print(\"Rango de la matriz: \", np.linalg.matrix_rank(A))\n",
    "print(\"Elevar a un numero la matriz en este caso a 5\", np.linalg.matrix_power(A,5))\n",
    "print(\"Calcular la determinante de la matriz: \", np.linalg.det(A) )\n",
    "print(\"funcion inversa de la matriz A \", np.linalg.inv(A))\n",
    "print(\"Para verificar que es verdadera la inversa\", np.linalg.inv(A).dot(A)) \n",
    "print(\" \")\n",
    "\n",
    "#Ejemplo de matriz que no es invertible\n",
    "x = np.array([[1,2,3], [4,5,6], [7,8,9]])\n",
    "print(\"Un valor muy cerca de 0: \", np.linalg.det(x))\n",
    "print(\"Da rango 2 siendo una 3x3: \", np.linalg.matrix_rank(x))\n",
    "print(\"Valores muy proximos de ceros: \", np.linalg.inv(x))\n",
    "\n",
    "#Nunca se podra hacer la inversa de una matriz cuadrada o de un rango de que tenga filas y columnas diferentes\n",
    "# print(\"Da error: \", np.linalg.inv(np.array([[1,2,3], [4,5,6]])))\n",
    "#La matriz de arriba da error. por ser la inversa no compatible de la matriz."
   ]
  },
  {
   "cell_type": "code",
   "execution_count": 8,
   "metadata": {},
   "outputs": [
    {
     "name": "stdout",
     "output_type": "stream",
     "text": [
      "[1. 2. 3.]\n",
      " \n",
      "1.0\n",
      "4.0\n",
      "7.0\n"
     ]
    }
   ],
   "source": [
    "#Sea la matriz:\n",
    "M = np.array([[1,2,3],[4,5,6],[7,8,9]], dtype = float)\n",
    "\n",
    "#Para aceder a una fila es directo basta con hacer el siguiente comando:\n",
    "print(M[0])\n",
    "\n",
    "print(' ')\n",
    "\n",
    "# Para aceder a 1 columna de un array/matriz se deve hacer bucles\n",
    "for row in M:\n",
    "    print(row[0]) #Aqui acedo a la primera columna de la matriz, \n",
    "    #donde me imprime cada item de row que va por fila hasta la ultima de la columna 0"
   ]
  },
  {
   "cell_type": "code",
   "execution_count": null,
   "metadata": {},
   "outputs": [],
   "source": []
  },
  {
   "cell_type": "code",
   "execution_count": null,
   "metadata": {},
   "outputs": [],
   "source": []
  }
 ],
 "metadata": {
  "kernelspec": {
   "display_name": "Python 3",
   "language": "python",
   "name": "python3"
  },
  "language_info": {
   "codemirror_mode": {
    "name": "ipython",
    "version": 3
   },
   "file_extension": ".py",
   "mimetype": "text/x-python",
   "name": "python",
   "nbconvert_exporter": "python",
   "pygments_lexer": "ipython3",
   "version": "3.8.5"
  }
 },
 "nbformat": 4,
 "nbformat_minor": 4
}
