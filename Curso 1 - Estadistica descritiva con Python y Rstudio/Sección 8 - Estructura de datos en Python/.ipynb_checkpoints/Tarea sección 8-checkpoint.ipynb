{
 "cells": [
  {
   "cell_type": "markdown",
   "metadata": {},
   "source": [
    "# Responde a las preguntas incorporando el codigo en Python que demuestre que lo has practicado correctamente\n",
    "# Preguntas de esta tarea"
   ]
  },
  {
   "cell_type": "markdown",
   "metadata": {},
   "source": [
    "### 1) Crea una función que reciba los tres coeficientes a, b y c para resolver una ecuación de segundo grado. Muestra la solución por pantalla y ayúdate de la librería Math para acceder a la función raíz cuadrada."
   ]
  },
  {
   "cell_type": "code",
   "execution_count": 5,
   "metadata": {},
   "outputs": [
    {
     "name": "stdout",
     "output_type": "stream",
     "text": [
      "Ingrese el valor de x^2: 1\n",
      "Ingrese el valor de x: 5\n",
      "Ingrese el valor de c: 1\n",
      " \n",
      "Por dar un resultado real sigue: \n",
      " \n",
      "Valor del lado positivo:  -0.20871215252208009\n",
      "Valor del lado negativo:  -4.7912878474779195\n"
     ]
    }
   ],
   "source": [
    "import math\n",
    "\n",
    "a = int(input(\"Ingrese el valor de x^2: \"))\n",
    "b = int(input(\"Ingrese el valor de x: \"))\n",
    "c = int(input(\"Ingrese el valor de c: \"))\n",
    "raiz = (b**2) - (4*a*c)\n",
    "\n",
    "while raiz<0:\n",
    "    \n",
    "    print(\"la raiz es negativa por lo tanto no hay solución real. Intentalo nuevamente: \")\n",
    "    \n",
    "    a = int(input(\"Ingrese el valor de x^2: \"))\n",
    "    b = int(input(\"Ingrese el valor de x: \"))\n",
    "    c = int(input(\"Ingrese el valor de c: \"))\n",
    "    raiz = (b**2) - (4*a*c)\n",
    "        \n",
    "else:\n",
    "    \n",
    "    x1 = (-b+ math.sqrt(raiz)) / (2*a)\n",
    "    x2 = (-b- math.sqrt(raiz)) / (2*a)\n",
    "    print(\" \")\n",
    "    print(\"Por dar un resultado real sigue: \")\n",
    "    print(\" \")\n",
    "    print(\"Valor del lado positivo o solución 1: \", x1)\n",
    "    print(\"Valor del lado negativo o solución 2: \", x2)\n",
    "    \n",
    "    "
   ]
  },
  {
   "cell_type": "code",
   "execution_count": null,
   "metadata": {},
   "outputs": [],
   "source": []
  },
  {
   "cell_type": "markdown",
   "metadata": {},
   "source": [
    "### 2) Crea una función que lea una frase de teclado y nos diga si es o no un palíndromo (frase que se lee igual de izquierda a derecha o al revés como por ejemplo La ruta nos aportó otro paso natural.)"
   ]
  },
  {
   "cell_type": "code",
   "execution_count": 4,
   "metadata": {},
   "outputs": [
    {
     "name": "stdout",
     "output_type": "stream",
     "text": [
      "ingrese una frase o palabra que sea palindromo: aba\n",
      " \n",
      "palabra palindromo ['a', 'b', 'a']\n",
      "palabra palindromo ['a', 'b', 'a']\n",
      "Programa finalizado\n"
     ]
    }
   ],
   "source": [
    "import unicodedata\n",
    "\n",
    "x = str(input(\"ingrese una frase o palabra que sea palindromo: \"))\n",
    "print(\" \")\n",
    "#Elimino las tildes\n",
    "trans_tab = dict.fromkeys(map(ord, u'\\u0301\\u0308'), None)\n",
    "x = unicodedata.normalize('NFKC', unicodedata.normalize('NFKD', x).translate(trans_tab))\n",
    "\n",
    "x = x.replace(\" \", \"\") # Elimino los espacios\n",
    "x = x.lower() # Elimino las mayusculas\n",
    "x = list(x) # Lo convierto en lista\n",
    "x1 = x.copy() # Hago una copia para comparar\n",
    "\n",
    "r = list(reversed(x1)) # Invierto las posiciones\n",
    "\n",
    "\n",
    "while x != r:\n",
    "    \n",
    "    print(\"No es una frase palindromo vuelve intentarlo\")\n",
    "    \n",
    "    x = str(input(\"ingrese una frase o palabra que sea palindromo: \"))\n",
    "    print(\" \")\n",
    "    #Elimino las tildes\n",
    "    trans_tab = dict.fromkeys(map(ord, u'\\u0301\\u0308'), None)\n",
    "    x = unicodedata.normalize('NFKC', unicodedata.normalize('NFKD', x).translate(trans_tab))\n",
    "    \n",
    "    x = x.replace(\" \", \"\") # Elimino los espacios\n",
    "    x = x.lower() # Elimino las mayusculas\n",
    "    x = list(x) # Lo convierto en lista\n",
    "    x1 = x.copy() # Hago una copia para comparar\n",
    "    r = list(reversed(x1)) # Invierto las posiciones\n",
    "    \n",
    "else:\n",
    "    \n",
    "    print(\"palabra palindromo\", x)\n",
    "    print(\"palabra palindromo\", r)\n",
    "    print(\"Programa finalizado\")"
   ]
  },
  {
   "cell_type": "code",
   "execution_count": null,
   "metadata": {},
   "outputs": [],
   "source": []
  },
  {
   "cell_type": "markdown",
   "metadata": {},
   "source": [
    "### 3) Crea un diccionario que tenga por claves los números del 1 al 10 y como valores sus raíces cuadradas"
   ]
  },
  {
   "cell_type": "code",
   "execution_count": null,
   "metadata": {},
   "outputs": [],
   "source": [
    "import math\n",
    "\n",
    "diccionario = {\n",
    "    1: math.sqrt(1), \n",
    "    2: math.sqrt(2), \n",
    "    3: math.sqrt(3), \n",
    "    4: math.sqrt(4), \n",
    "    5: math.sqrt(5),\n",
    "    6: math.sqrt(6),\n",
    "    7: math.sqrt(7),\n",
    "    8: math.sqrt(8),\n",
    "    9: math.sqrt(9),\n",
    "    10: math.sqrt(10),\n",
    "}\n",
    "\n",
    "\n",
    "\n",
    "t = int(input(\"Introduce un numero del 1 al 10 para saber que valor en raiz cuadrada tiene: \"))\n",
    "print(\"Recordando que puede salir escribiendo -1\")\n",
    "print(diccionario.get(t)) # el .get se usa para buscar el resultado de la clave del diccionario.\n",
    "\n",
    "while t !=-1:\n",
    "    t = int(input(\"Introduce un numero del 1 al 10 para saber que valor en raiz cuadrada tiene: \"))\n",
    "    print(\"Recordando que puede salir del bucle escribiendo -1\")\n",
    "    z = diccionario.get(t)\n",
    "    \n",
    "    if z == None:\n",
    "        print(\" \")    \n",
    "    else:\n",
    "        print(z)\n",
    "    \n",
    "else:\n",
    "    print(\"Fin del programa\")"
   ]
  },
  {
   "cell_type": "code",
   "execution_count": null,
   "metadata": {},
   "outputs": [],
   "source": []
  },
  {
   "cell_type": "markdown",
   "metadata": {},
   "source": [
    "### 4) Crea un diccionario que tenga como claves las letras del alfabeto castellano y como valores los símbolos del código morse (los tienes todos en la Wikipedia). A continuación crea un programa que lea una frase del teclado y te la convierta a Morse utilizando el diccionario anterior."
   ]
  },
  {
   "cell_type": "code",
   "execution_count": 30,
   "metadata": {},
   "outputs": [
    {
     "name": "stdout",
     "output_type": "stream",
     "text": [
      "ingrese una frase o palabra que sea palindromo: mamáguevo\n",
      " \n",
      "mamaguevo\n",
      "Codigo morse es:  [' -- ', '.-', ' -- ', '.-', '--.', '..- ', '.  ', '...-', '--- ']\n"
     ]
    }
   ],
   "source": [
    "import unicodedata\n",
    "morse = {\n",
    "    \"A\": \".-\"   ,  \"K\": \"-.- \" , \"U\": \"..- \", \"5\": \" .....\",\n",
    "    \"B\": \"-...\" ,  \"L\": \".-..\" , \"V\": \"...-\", \"6\": \"-....\" ,\n",
    "    \"C\": \"-.-.\" ,  \"M\": \" -- \" , \"W\": \" .--\", \"7\": \" --...\",\n",
    "    \"D\": \"-..\"  ,  \"N\": \"-.\"   , \"X\": \"-..-\", \"8\": \"---..\" ,\n",
    "    \"E\": \".  \"  , \"O\": \"--- \"  , \"Y\": \"-.--\", \"9\": \" ----.\",\n",
    "    \"F\": \"..-.\" , \"P\": \".--.\"  , \"Z\": \"--..\", \"0\": \"---- \" ,\n",
    "    \"G\": \"--.\"  , \"Q\": \"--.- \" , \"1\": \".----\" ,\n",
    "    \"H\": \"....\" , \"R\": \".-.  \" , \"2\": \"..---\" ,\n",
    "    \"I\": \"..  \" , \"S\": \"... \"  , \"3\": \"...--\" ,\n",
    "    \"J\": \".---\" , \"T\": \"- \"    , \"4\": \"....-\" ,\n",
    "    }\n",
    "\n",
    "\n",
    "x = str(input(\"ingrese una frase o palabra que sea palindromo: \"))\n",
    "print(\" \")\n",
    "\n",
    "#Elimino las tildes\n",
    "trans_tab = dict.fromkeys(map(ord, u'\\u0301\\u0308'), None)\n",
    "x = unicodedata.normalize('NFKC', unicodedata.normalize('NFKD', x).translate(trans_tab))\n",
    "t = x.upper()\n",
    "print(x)\n",
    "\n",
    "morse1 = []\n",
    "for i in t:\n",
    "    \n",
    "    if i in morse:\n",
    "        morse1.append(morse[i])\n",
    "        \n",
    "    elif i == \" \":\n",
    "        morse1.append(\" \")\n",
    "        \n",
    "        \n",
    "print(\"Codigo morse es: \", morse1)"
   ]
  },
  {
   "cell_type": "code",
   "execution_count": null,
   "metadata": {},
   "outputs": [],
   "source": []
  },
  {
   "cell_type": "markdown",
   "metadata": {},
   "source": [
    "### 5) Crea una función que dados dos diccionarios nos diga que claves están presentes en ambos."
   ]
  },
  {
   "cell_type": "code",
   "execution_count": 6,
   "metadata": {},
   "outputs": [
    {
     "name": "stdout",
     "output_type": "stream",
     "text": [
      "NLos 2 diccionarios juntos tienen las siguientes claves:  dict_keys(['a', 'b', 'c', 'd', 'e', 'f'])\n"
     ]
    }
   ],
   "source": [
    "dic1 = {'a' : 1, 'b' : 2, 'c' : 3 , 'd' : 4}\n",
    "dic2 = {'c' : 6, 'b' : 5, 'e' : 9 , 'f' : 10}\n",
    "dic1.update(dic2)\n",
    "\n",
    "claves = dic1.keys()\n",
    "\n",
    "print(\"NLos 2 diccionarios juntos tienen las siguientes claves: \", claves)"
   ]
  },
  {
   "cell_type": "code",
   "execution_count": null,
   "metadata": {},
   "outputs": [],
   "source": []
  },
  {
   "cell_type": "markdown",
   "metadata": {},
   "source": [
    "### 6) Crea una función que dado un número N nos diga si es primo o no (tiene que ir dividiendo por todos los números x comprendidos entre 2 y el propio número N menos uno y ver si el cociente de N/x tiene resto entero o no)."
   ]
  },
  {
   "cell_type": "code",
   "execution_count": 3,
   "metadata": {},
   "outputs": [
    {
     "name": "stdout",
     "output_type": "stream",
     "text": [
      "Insere un numero para determinar si es primo o no: 10\n",
      "2 Es un numero primo\n",
      "3 Es un numero primo\n",
      "4 No es un numero primo\n",
      "5 Es un numero primo\n",
      "6 No es un numero primo\n",
      "7 Es un numero primo\n",
      "8 No es un numero primo\n",
      "9 No es un numero primo\n"
     ]
    }
   ],
   "source": [
    "n = int(input(\"Insere un numero para determinar si es primo o no: \"))\n",
    "\n",
    "i = 2\n",
    "while(i < n):\n",
    "    j = 2\n",
    "    while(j <= (i/j)):\n",
    "        if not(i%j):\n",
    "            print(i, \"No es un numero primo\")\n",
    "            break\n",
    "        j = j + 1\n",
    "    if (j > i/j): \n",
    "        print(i, \"Es un numero primo\")\n",
    "    i = i + 1"
   ]
  },
  {
   "cell_type": "markdown",
   "metadata": {},
   "source": [
    "### 7) Investiga la documentación de la clase string y crea un método que lea una frase del teclado y escriba la primera letra de cada palabra en Mayúscula."
   ]
  },
  {
   "cell_type": "code",
   "execution_count": 1,
   "metadata": {},
   "outputs": [
    {
     "name": "stdout",
     "output_type": "stream",
     "text": [
      "Escribe  -1 para salir del programa\n",
      " \n",
      "Ingrese una frase: pato\n",
      "Pato\n",
      "Ingrese una frase: pato gay\n",
      " \n",
      "Pato Gay\n",
      "Ingrese una frase: patitisisisismno\n",
      " \n",
      "Patitisisisismno\n",
      "Ingrese una frase: -1\n",
      " \n",
      "-1\n"
     ]
    }
   ],
   "source": [
    "#### El método title() escribe en mayúsculas solo la primera letra de cada palabra, como en los títulos:\n",
    "\n",
    "print(\"Escribe  -1 para salir del programa\")\n",
    "print(\" \")\n",
    "x = str(input(\"Ingrese una frase: \"))\n",
    "t = x.capitalize() # Para convertir la primera letra en mayuscula solo en el caso de ser 1 palabra\n",
    "t = x.title()\n",
    "print(t)\n",
    "\n",
    "while x!= '-1':\n",
    "    x = str(input(\"Ingrese una frase: \"))\n",
    "    t = x.capitalize()\n",
    "    t = x.title()\n",
    "    print(\" \")\n",
    "    print(t)"
   ]
  },
  {
   "cell_type": "markdown",
   "metadata": {},
   "source": [
    "### 8) Crea una función que calcule el máximo común divisor de dos números introducidos por el usuario por teclado."
   ]
  },
  {
   "cell_type": "code",
   "execution_count": 1,
   "metadata": {},
   "outputs": [
    {
     "name": "stdout",
     "output_type": "stream",
     "text": [
      "Calculo del maximo comun divisor (MCD)\n",
      " \n",
      "Ingrese el valor Mayor: 270\n",
      "Ingrese el valor Menor: 192\n",
      " \n",
      "Divisor:  192 Resto:  78\n",
      "Divisor:  78 Resto:  36\n",
      "Divisor:  36 Resto:  6\n",
      "Divisor:  6 Resto:  0\n",
      " \n",
      "Resultado del MCD es:  6\n"
     ]
    }
   ],
   "source": [
    "print(\"Calculo del maximo comun divisor (MCD)\")\n",
    "print(\" \")\n",
    "\n",
    "a = int(input(\"Ingrese el valor Mayor: \"))\n",
    "b = int(input(\"Ingrese el valor Menor: \"))\n",
    "\n",
    "print(\" \")\n",
    "\n",
    "resto = 0\n",
    "\n",
    "while b > 0:\n",
    "    if a>b:\n",
    "        resto = b\n",
    "        b = a % b\n",
    "        a = resto\n",
    "        print(\"Divisor: \", a, \"Resto: \", b)\n",
    "\n",
    "    else:\n",
    "        print(\"No cumple la condicion inicial de valores mayor a 0 o no posee MCD\")\n",
    "        break\n",
    "          \n",
    "if a>b:\n",
    "    print(\" \")    \n",
    "    print(\"Resultado del MCD es: \", a)"
   ]
  },
  {
   "cell_type": "code",
   "execution_count": null,
   "metadata": {},
   "outputs": [],
   "source": []
  },
  {
   "cell_type": "markdown",
   "metadata": {},
   "source": [
    "### 9) Investiga el Cifrado del César y crea una función que lo reproduzca en Python. Cada letra del mensaje original se desplaza tres posiciones en el alfabeto estándar. La A se convierte en la D, la B se convierte en la E, la C se convierte en la F... y cuando se acaba el alfabeto se le vuelve a dar la vuelta: la X se convierte en la A, la Y en la B y la X en la C. Los números no sufren ninguna modificación."
   ]
  },
  {
   "cell_type": "code",
   "execution_count": 94,
   "metadata": {},
   "outputs": [
    {
     "name": "stdout",
     "output_type": "stream",
     "text": [
      "Ingrese el texto nuevo para codificar: hola bb\n",
      "HOLA BB\n",
      "Texto cifrado:  KRÑD EE\n"
     ]
    }
   ],
   "source": [
    "import unicodedata\n",
    "\n",
    "x = str(input(\"Ingrese el texto nuevo para codificar: \"))\n",
    "trans_tab = dict.fromkeys(map(ord, u'\\u0301\\u0308'), None)\n",
    "x = unicodedata.normalize('NFKC', unicodedata.normalize('NFKD', x).translate(trans_tab))\n",
    "t = x.upper()\n",
    "print(t) # t es el mensaje a codificar\n",
    "\n",
    "abc = 'ABCDEFGHIJKLMNÑOPQRSTUVWXYZ'\n",
    "\n",
    "clave = 3 \n",
    "\n",
    "cifrado = '' \n",
    "\n",
    "for letra in t:\n",
    "    if letra in abc:\n",
    "        suma = abc.index(letra) \n",
    "        \n",
    "        # E(x) = x+3*mod(27)\n",
    "        suma = suma + clave \n",
    "        modulo = suma % len(abc) \n",
    "        \n",
    "        cifrado += abc[modulo]\n",
    "        \n",
    "    else:\n",
    "        cifrado += letra\n",
    "        \n",
    "print(\"Texto cifrado es: \", cifrado)"
   ]
  },
  {
   "cell_type": "code",
   "execution_count": null,
   "metadata": {},
   "outputs": [],
   "source": []
  },
  {
   "cell_type": "markdown",
   "metadata": {},
   "source": [
    "### 10) Dado una lista de nombres de persona, escribe un algoritmo que los ordene de tres formas diferentes:\n",
    "\n",
    "#### A. De forma alfabética\n",
    "#### B. De forma alfabética invertida\n",
    "#### C. De nombre más corto al más largo.\n",
    "        "
   ]
  },
  {
   "cell_type": "code",
   "execution_count": 56,
   "metadata": {},
   "outputs": [
    {
     "name": "stdout",
     "output_type": "stream",
     "text": [
      "Orden de nombres. Para salir del programa usar -1\n",
      " \n",
      "Introduzca un nombre: asdasdasd\n",
      "Introduzca un nombre: asda\n",
      "Introduzca un nombre: qweqwrqwr\n",
      "Introduzca un nombre: asdasd\n",
      "Introduzca un nombre: asdas dasdasd\n",
      "Introduzca un nombre: -1\n",
      "Introduzca un nombre: ç\n",
      "['-1', 'Asda', 'Asdasd', 'Asdasdasd', 'Qweqwrqwr', 'Asdas Dasdasd']\n",
      "Ordenar alfabeticamente:  ['-1', 'Asda', 'Asdas Dasdasd', 'Asdasd', 'Asdasdasd', 'Qweqwrqwr']\n",
      "Ordenar alfabeticamente invertida:  ['Qweqwrqwr', 'Asdasdasd', 'Asdasd', 'Asdas Dasdasd', 'Asda', '-1']\n",
      "Orden del nombre mas corto al mas largo:  ['-1', 'Asda', 'Asdasd', 'Asdasdasd', 'Qweqwrqwr', 'Asdas Dasdasd']\n",
      "Fin del programa\n"
     ]
    }
   ],
   "source": [
    "import unicodedata\n",
    "print(\"Orden de nombres. Para salir del programa usar -1\")\n",
    "\n",
    "print(\" \")\n",
    "\n",
    "nombre = str(input(\"Introduzca un nombre: \"))\n",
    "trans_tab = dict.fromkeys(map(ord, u'\\u0301\\u0308'), None)\n",
    "nombre = unicodedata.normalize('NFKC', unicodedata.normalize('NFKD', nombre).translate(trans_tab))\n",
    "t = nombre.title()\n",
    "\n",
    "nombre1 = [t, ]\n",
    "\n",
    "while t != '-1':\n",
    "    \n",
    "    t = str(input(\"Introduzca un nombre: \"))\n",
    "    \n",
    "    if not t == \"-1\":\n",
    "        nombre1.append(t.title())\n",
    "        orden = nombre1\n",
    "        orden.sort(key=len)\n",
    "    \n",
    "else:\n",
    "    print(nombre1)\n",
    "    print(\"Ordenar alfabeticamente: \", sorted(nombre1))\n",
    "    print(\"Ordenar alfabeticamente invertida: \", sorted(nombre1, reverse = True))\n",
    "    print(\"Orden del nombre mas corto al mas largo: \", orden )\n",
    "    print(\"Fin del programa\")\n",
    "\n"
   ]
  }
 ],
 "metadata": {
  "kernelspec": {
   "display_name": "Python 3",
   "language": "python",
   "name": "python3"
  },
  "language_info": {
   "codemirror_mode": {
    "name": "ipython",
    "version": 3
   },
   "file_extension": ".py",
   "mimetype": "text/x-python",
   "name": "python",
   "nbconvert_exporter": "python",
   "pygments_lexer": "ipython3",
   "version": "3.8.5"
  }
 },
 "nbformat": 4,
 "nbformat_minor": 4
}
