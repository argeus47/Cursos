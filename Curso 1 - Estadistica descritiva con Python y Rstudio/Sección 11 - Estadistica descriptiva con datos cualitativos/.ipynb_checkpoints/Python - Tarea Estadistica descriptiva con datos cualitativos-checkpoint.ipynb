{
 "cells": [
  {
   "cell_type": "markdown",
   "metadata": {},
   "source": [
    "### 1- Dad la instrucción que defina la tabla de frecuencias absolutas de un vector llamado \"alumnos\""
   ]
  },
  {
   "cell_type": "code",
   "execution_count": 1,
   "metadata": {},
   "outputs": [
    {
     "name": "stdout",
     "output_type": "stream",
     "text": [
      "Tabla de frecuencias absolutas:\n",
      "   alumnos\n",
      "0       39\n",
      "1       22\n",
      "2       29\n",
      "3       19\n",
      "4       19\n",
      "5       39\n"
     ]
    }
   ],
   "source": [
    "import pandas as pd\n",
    "import numpy as np\n",
    "tarea = pd.DataFrame({\n",
    "    'alumnos' : np.random.randint(15,40,6),   \n",
    "})\n",
    "\n",
    "x = tarea\n",
    "print('Tabla de frecuencias absolutas:')\n",
    "print(x)"
   ]
  },
  {
   "cell_type": "markdown",
   "metadata": {},
   "source": [
    "### 2- Con una sola instrucción, definid la tabla de frecuencias relativas de un vector llamado \"edades\""
   ]
  },
  {
   "cell_type": "code",
   "execution_count": 2,
   "metadata": {},
   "outputs": [
    {
     "data": {
      "text/html": [
       "<div>\n",
       "<style scoped>\n",
       "    .dataframe tbody tr th:only-of-type {\n",
       "        vertical-align: middle;\n",
       "    }\n",
       "\n",
       "    .dataframe tbody tr th {\n",
       "        vertical-align: top;\n",
       "    }\n",
       "\n",
       "    .dataframe thead th {\n",
       "        text-align: right;\n",
       "    }\n",
       "</style>\n",
       "<table border=\"1\" class=\"dataframe\">\n",
       "  <thead>\n",
       "    <tr style=\"text-align: right;\">\n",
       "      <th></th>\n",
       "      <th>edades</th>\n",
       "    </tr>\n",
       "  </thead>\n",
       "  <tbody>\n",
       "    <tr>\n",
       "      <th>0</th>\n",
       "      <td>0.050000</td>\n",
       "    </tr>\n",
       "    <tr>\n",
       "      <th>1</th>\n",
       "      <td>0.150000</td>\n",
       "    </tr>\n",
       "    <tr>\n",
       "      <th>2</th>\n",
       "      <td>0.028571</td>\n",
       "    </tr>\n",
       "    <tr>\n",
       "      <th>3</th>\n",
       "      <td>0.271429</td>\n",
       "    </tr>\n",
       "    <tr>\n",
       "      <th>4</th>\n",
       "      <td>0.092857</td>\n",
       "    </tr>\n",
       "    <tr>\n",
       "      <th>5</th>\n",
       "      <td>0.042857</td>\n",
       "    </tr>\n",
       "  </tbody>\n",
       "</table>\n",
       "</div>"
      ],
      "text/plain": [
       "     edades\n",
       "0  0.050000\n",
       "1  0.150000\n",
       "2  0.028571\n",
       "3  0.271429\n",
       "4  0.092857\n",
       "5  0.042857"
      ]
     },
     "execution_count": 2,
     "metadata": {},
     "output_type": "execute_result"
    }
   ],
   "source": [
    "import pandas as pd\n",
    "import numpy as np\n",
    "\n",
    "pd.DataFrame({\n",
    "    'edades' : np.random.randint(0,40,6),   \n",
    "})/pd.DataFrame({\n",
    "    'edades' : np.random.randint(0,40,6),   \n",
    "}).sum()"
   ]
  },
  {
   "cell_type": "markdown",
   "metadata": {},
   "source": [
    "### 3- Con una sola instrucción, definid la tabla bidimensional conjunta de frecuencias absolutas de dos vectores llamados \"altura\" y \"peso\", de forma que las filas correspondan a \"altura\" y las columnas a \"peso\""
   ]
  },
  {
   "cell_type": "code",
   "execution_count": 3,
   "metadata": {},
   "outputs": [
    {
     "data": {
      "text/html": [
       "<div>\n",
       "<style scoped>\n",
       "    .dataframe tbody tr th:only-of-type {\n",
       "        vertical-align: middle;\n",
       "    }\n",
       "\n",
       "    .dataframe tbody tr th {\n",
       "        vertical-align: top;\n",
       "    }\n",
       "\n",
       "    .dataframe thead th {\n",
       "        text-align: right;\n",
       "    }\n",
       "</style>\n",
       "<table border=\"1\" class=\"dataframe\">\n",
       "  <thead>\n",
       "    <tr style=\"text-align: right;\">\n",
       "      <th>col_0</th>\n",
       "      <th>altura</th>\n",
       "      <th>All</th>\n",
       "    </tr>\n",
       "    <tr>\n",
       "      <th>peso</th>\n",
       "      <th></th>\n",
       "      <th></th>\n",
       "    </tr>\n",
       "  </thead>\n",
       "  <tbody>\n",
       "    <tr>\n",
       "      <th>60</th>\n",
       "      <td>5</td>\n",
       "      <td>5</td>\n",
       "    </tr>\n",
       "    <tr>\n",
       "      <th>62</th>\n",
       "      <td>3</td>\n",
       "      <td>3</td>\n",
       "    </tr>\n",
       "    <tr>\n",
       "      <th>88</th>\n",
       "      <td>6</td>\n",
       "      <td>6</td>\n",
       "    </tr>\n",
       "    <tr>\n",
       "      <th>97</th>\n",
       "      <td>4</td>\n",
       "      <td>4</td>\n",
       "    </tr>\n",
       "    <tr>\n",
       "      <th>101</th>\n",
       "      <td>2</td>\n",
       "      <td>2</td>\n",
       "    </tr>\n",
       "    <tr>\n",
       "      <th>All</th>\n",
       "      <td>20</td>\n",
       "      <td>20</td>\n",
       "    </tr>\n",
       "  </tbody>\n",
       "</table>\n",
       "</div>"
      ],
      "text/plain": [
       "col_0  altura  All\n",
       "peso              \n",
       "60          5    5\n",
       "62          3    3\n",
       "88          6    6\n",
       "97          4    4\n",
       "101         2    2\n",
       "All        20   20"
      ]
     },
     "execution_count": 3,
     "metadata": {},
     "output_type": "execute_result"
    }
   ],
   "source": [
    "import pandas as pd\n",
    "import numpy as np\n",
    "x = pd.DataFrame({\n",
    "                    'peso'   : [60,62,88,97,101,60,60,62,88,88,88,88,101,60,60,62,88,97,97,97],\n",
    "                    'altura' : np.random.uniform(1.5,2,20)\n",
    "                })\n",
    "pd.crosstab(index = x['peso'],\n",
    "                  columns = 'altura',\n",
    "                  margins = True)"
   ]
  },
  {
   "cell_type": "markdown",
   "metadata": {},
   "source": [
    "### 4- Con una sola instrucción, definid la tabla bidimensional conjunta de frecuencias relativas calculadas dentro del total, de dos vectores llamados \"edad\" y \"altura\", de forma que las filas correspondan a \"altura\" y las columnas a \"edad\""
   ]
  },
  {
   "cell_type": "code",
   "execution_count": 4,
   "metadata": {},
   "outputs": [
    {
     "data": {
      "text/html": [
       "<div>\n",
       "<style scoped>\n",
       "    .dataframe tbody tr th:only-of-type {\n",
       "        vertical-align: middle;\n",
       "    }\n",
       "\n",
       "    .dataframe tbody tr th {\n",
       "        vertical-align: top;\n",
       "    }\n",
       "\n",
       "    .dataframe thead th {\n",
       "        text-align: right;\n",
       "    }\n",
       "</style>\n",
       "<table border=\"1\" class=\"dataframe\">\n",
       "  <thead>\n",
       "    <tr style=\"text-align: right;\">\n",
       "      <th>col_0</th>\n",
       "      <th>altura</th>\n",
       "      <th>All</th>\n",
       "    </tr>\n",
       "    <tr>\n",
       "      <th>peso</th>\n",
       "      <th></th>\n",
       "      <th></th>\n",
       "    </tr>\n",
       "  </thead>\n",
       "  <tbody>\n",
       "    <tr>\n",
       "      <th>60</th>\n",
       "      <td>0.125</td>\n",
       "      <td>0.125</td>\n",
       "    </tr>\n",
       "    <tr>\n",
       "      <th>62</th>\n",
       "      <td>0.075</td>\n",
       "      <td>0.075</td>\n",
       "    </tr>\n",
       "    <tr>\n",
       "      <th>88</th>\n",
       "      <td>0.150</td>\n",
       "      <td>0.150</td>\n",
       "    </tr>\n",
       "    <tr>\n",
       "      <th>97</th>\n",
       "      <td>0.100</td>\n",
       "      <td>0.100</td>\n",
       "    </tr>\n",
       "    <tr>\n",
       "      <th>101</th>\n",
       "      <td>0.050</td>\n",
       "      <td>0.050</td>\n",
       "    </tr>\n",
       "    <tr>\n",
       "      <th>All</th>\n",
       "      <td>0.500</td>\n",
       "      <td>0.500</td>\n",
       "    </tr>\n",
       "  </tbody>\n",
       "</table>\n",
       "</div>"
      ],
      "text/plain": [
       "col_0  altura    All\n",
       "peso                \n",
       "60      0.125  0.125\n",
       "62      0.075  0.075\n",
       "88      0.150  0.150\n",
       "97      0.100  0.100\n",
       "101     0.050  0.050\n",
       "All     0.500  0.500"
      ]
     },
     "execution_count": 4,
     "metadata": {},
     "output_type": "execute_result"
    }
   ],
   "source": [
    "import pandas as pd\n",
    "import numpy as np\n",
    "x = pd.DataFrame({\n",
    "                    'peso'   : [60,62,88,97,101,60,60,62,88,88,88,88,101,60,60,62,88,97,97,97],\n",
    "                    'altura' : np.random.uniform(1.5,2,20)\n",
    "                })\n",
    "\n",
    "pd.crosstab(index = x['peso'],\n",
    "                  columns = 'altura',\n",
    "                  margins = True) / pd.crosstab(index = x['peso'], columns = 'altura',  margins = True).sum()"
   ]
  },
  {
   "cell_type": "markdown",
   "metadata": {},
   "source": [
    "#### 5- Con una sola instrucción, dibujad un diagrama de barras básico de un vector llamado \"edad\""
   ]
  },
  {
   "cell_type": "code",
   "execution_count": 5,
   "metadata": {},
   "outputs": [
    {
     "data": {
      "image/png": "[encoded data removed]",
      "text/plain": [
       "<Figure size 432x288 with 1 Axes>"
      ]
     },
     "metadata": {
      "needs_background": "light"
     },
     "output_type": "display_data"
    }
   ],
   "source": [
    "import matplotlib.pyplot as plt\n",
    "import numpy as np\n",
    "\n",
    "plt.bar(np.arange(6), np.random.randint(15,40,6))\n",
    "plt.show()"
   ]
  },
  {
   "cell_type": "markdown",
   "metadata": {},
   "source": [
    "#### 6- Con una sola instrucción, dibujad un diagrama circular básico de un vector llamado \"alumnos\""
   ]
  },
  {
   "cell_type": "code",
   "execution_count": 6,
   "metadata": {},
   "outputs": [
    {
     "data": {
      "image/png": "[encoded data removed]",
      "text/plain": [
       "<Figure size 432x288 with 1 Axes>"
      ]
     },
     "metadata": {},
     "output_type": "display_data"
    }
   ],
   "source": [
    "import matplotlib.pyplot as plt\n",
    "import numpy as np\n",
    "\n",
    "plt.pie(np.random.randint(15,40,6), labels = ['A','B','C','D','E','F'])\n",
    "plt.show()"
   ]
  },
  {
   "cell_type": "markdown",
   "metadata": {},
   "source": [
    "### 7- La tabla \"DNase\" es uno de los data frames que tiene predefinidos R. Dad la instrucción que dibuje un diagrama de barras básico de la variable \"density\" de este mismo data frame"
   ]
  },
  {
   "cell_type": "code",
   "execution_count": 7,
   "metadata": {},
   "outputs": [
    {
     "name": "stdout",
     "output_type": "stream",
     "text": [
      "     Run        conc density\n",
      "1      1  0.04882812   0.017\n",
      "2      1  0.04882812   0.018\n",
      "3      1   0.1953125   0.121\n",
      "4      1   0.1953125   0.124\n",
      "5      1    0.390625   0.206\n",
      "..   ...         ...     ...\n",
      "172   11       3.125    0.98\n",
      "173   11        6.25   1.421\n",
      "174   11        6.25   1.385\n",
      "175   11        12.5   1.715\n",
      "176   11        12.5   1.721\n",
      "\n",
      "[176 rows x 3 columns]\n"
     ]
    },
    {
     "data": {
      "image/png": "[encoded data removed]",
      "text/plain": [
       "<Figure size 432x288 with 1 Axes>"
      ]
     },
     "metadata": {
      "needs_background": "light"
     },
     "output_type": "display_data"
    }
   ],
   "source": [
    "import matplotlib.pyplot as plt\n",
    "import pandas as pd\n",
    "import numpy as np\n",
    "\n",
    "# 1ro baje desde R el data frame y lo guarde como DNase.txt y luego llame la función  desde python. con:\n",
    "#```{r}\n",
    "#x = DNase\n",
    "#head(x)\n",
    "#write.table(x, file = \"Dropbox/DATA SCIENCE 2/Sección 11 - Estadistica descriptiva con datos cualitativos/DNase-Arturo.txt\") \n",
    "#```\n",
    "\n",
    "df = pd.read_csv('DNase-Arturo.txt', delimiter = ' ', decimal = '#', encoding = 'utf8')\n",
    "\n",
    "print(df)\n",
    "\n",
    "pd.crosstab(index = df['Run'],\n",
    "                  columns = 'density',\n",
    "                  margins = True)\n",
    "\n",
    "x = df['Run']\n",
    "y = df['density']\n",
    "\n",
    "plt.bar(x  , y )\n",
    "plt.title('Diagrama de barras de la densidad')\n",
    "plt.yticks([])\n",
    "plt.xlabel('Density')\n",
    "plt.xticks(x) #Obliga a mostrar todos los valores del eje x\n",
    "\n",
    "plt.show()"
   ]
  },
  {
   "cell_type": "code",
   "execution_count": null,
   "metadata": {},
   "outputs": [],
   "source": []
  }
 ],
 "metadata": {
  "kernelspec": {
   "display_name": "Python 3",
   "language": "python",
   "name": "python3"
  },
  "language_info": {
   "codemirror_mode": {
    "name": "ipython",
    "version": 3
   },
   "file_extension": ".py",
   "mimetype": "text/x-python",
   "name": "python",
   "nbconvert_exporter": "python",
   "pygments_lexer": "ipython3",
   "version": "3.8.5"
  }
 },
 "nbformat": 4,
 "nbformat_minor": 4
}
