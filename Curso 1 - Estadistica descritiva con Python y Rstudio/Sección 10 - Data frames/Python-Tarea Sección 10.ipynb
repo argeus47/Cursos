{
 "cells": [
  {
   "cell_type": "markdown",
   "metadata": {},
   "source": [
    "Carga el CSV de la carpeta de datos del tema llamado run.csv y responde a las siguientes preguntas.\n",
    "Preguntas de esta tarea"
   ]
  },
  {
   "cell_type": "code",
   "execution_count": null,
   "metadata": {},
   "outputs": [],
   "source": []
  },
  {
   "cell_type": "code",
   "execution_count": 4,
   "metadata": {},
   "outputs": [
    {
     "data": {
      "text/html": [
       "<div>\n",
       "<style scoped>\n",
       "    .dataframe tbody tr th:only-of-type {\n",
       "        vertical-align: middle;\n",
       "    }\n",
       "\n",
       "    .dataframe tbody tr th {\n",
       "        vertical-align: top;\n",
       "    }\n",
       "\n",
       "    .dataframe thead th {\n",
       "        text-align: right;\n",
       "    }\n",
       "</style>\n",
       "<table border=\"1\" class=\"dataframe\">\n",
       "  <thead>\n",
       "    <tr style=\"text-align: right;\">\n",
       "      <th></th>\n",
       "      <th>Unnamed: 0</th>\n",
       "      <th>pulso.antes</th>\n",
       "      <th>pulso.despues</th>\n",
       "      <th>hace.deporte</th>\n",
       "      <th>fuma</th>\n",
       "      <th>genero</th>\n",
       "      <th>altura</th>\n",
       "      <th>peso</th>\n",
       "      <th>tipo.actividad</th>\n",
       "    </tr>\n",
       "  </thead>\n",
       "  <tbody>\n",
       "    <tr>\n",
       "      <th>0</th>\n",
       "      <td>1</td>\n",
       "      <td>48</td>\n",
       "      <td>54</td>\n",
       "      <td>no</td>\n",
       "      <td>si</td>\n",
       "      <td>H</td>\n",
       "      <td>68</td>\n",
       "      <td>150</td>\n",
       "      <td>nula</td>\n",
       "    </tr>\n",
       "    <tr>\n",
       "      <th>1</th>\n",
       "      <td>2</td>\n",
       "      <td>54</td>\n",
       "      <td>56</td>\n",
       "      <td>no</td>\n",
       "      <td>si</td>\n",
       "      <td>H</td>\n",
       "      <td>69</td>\n",
       "      <td>145</td>\n",
       "      <td>moderada</td>\n",
       "    </tr>\n",
       "    <tr>\n",
       "      <th>2</th>\n",
       "      <td>3</td>\n",
       "      <td>54</td>\n",
       "      <td>50</td>\n",
       "      <td>no</td>\n",
       "      <td>no</td>\n",
       "      <td>H</td>\n",
       "      <td>69</td>\n",
       "      <td>160</td>\n",
       "      <td>moderada</td>\n",
       "    </tr>\n",
       "    <tr>\n",
       "      <th>3</th>\n",
       "      <td>4</td>\n",
       "      <td>58</td>\n",
       "      <td>70</td>\n",
       "      <td>si</td>\n",
       "      <td>no</td>\n",
       "      <td>H</td>\n",
       "      <td>72</td>\n",
       "      <td>145</td>\n",
       "      <td>moderada</td>\n",
       "    </tr>\n",
       "    <tr>\n",
       "      <th>4</th>\n",
       "      <td>5</td>\n",
       "      <td>58</td>\n",
       "      <td>58</td>\n",
       "      <td>no</td>\n",
       "      <td>no</td>\n",
       "      <td>H</td>\n",
       "      <td>66</td>\n",
       "      <td>135</td>\n",
       "      <td>intensa</td>\n",
       "    </tr>\n",
       "  </tbody>\n",
       "</table>\n",
       "</div>"
      ],
      "text/plain": [
       "   Unnamed: 0  pulso.antes  pulso.despues hace.deporte fuma genero altura  \\\n",
       "0           1           48             54           no   si      H     68   \n",
       "1           2           54             56           no   si      H     69   \n",
       "2           3           54             50           no   no      H     69   \n",
       "3           4           58             70           si   no      H     72   \n",
       "4           5           58             58           no   no      H     66   \n",
       "\n",
       "   peso tipo.actividad  \n",
       "0   150           nula  \n",
       "1   145       moderada  \n",
       "2   160       moderada  \n",
       "3   145       moderada  \n",
       "4   135        intensa  "
      ]
     },
     "execution_count": 4,
     "metadata": {},
     "output_type": "execute_result"
    }
   ],
   "source": [
    "import pandas as pd\n",
    "import numpy as np\n",
    "\n",
    "df = pd.read_csv('../Python/run.txt', delimiter = ',', decimal = '#', encoding = 'utf8')\n",
    "df.head()\n"
   ]
  },
  {
   "cell_type": "code",
   "execution_count": null,
   "metadata": {},
   "outputs": [],
   "source": []
  },
  {
   "cell_type": "code",
   "execution_count": 14,
   "metadata": {},
   "outputs": [
    {
     "data": {
      "text/html": [
       "<div>\n",
       "<style scoped>\n",
       "    .dataframe tbody tr th:only-of-type {\n",
       "        vertical-align: middle;\n",
       "    }\n",
       "\n",
       "    .dataframe tbody tr th {\n",
       "        vertical-align: top;\n",
       "    }\n",
       "\n",
       "    .dataframe thead th {\n",
       "        text-align: right;\n",
       "    }\n",
       "</style>\n",
       "<table border=\"1\" class=\"dataframe\">\n",
       "  <thead>\n",
       "    <tr style=\"text-align: right;\">\n",
       "      <th></th>\n",
       "      <th>count</th>\n",
       "      <th>mean</th>\n",
       "      <th>std</th>\n",
       "      <th>min</th>\n",
       "      <th>25%</th>\n",
       "      <th>50%</th>\n",
       "      <th>75%</th>\n",
       "      <th>max</th>\n",
       "    </tr>\n",
       "  </thead>\n",
       "  <tbody>\n",
       "    <tr>\n",
       "      <th>Unnamed: 0</th>\n",
       "      <td>92.0</td>\n",
       "      <td>46.500000</td>\n",
       "      <td>26.702060</td>\n",
       "      <td>1.0</td>\n",
       "      <td>23.75</td>\n",
       "      <td>46.5</td>\n",
       "      <td>69.25</td>\n",
       "      <td>92.0</td>\n",
       "    </tr>\n",
       "    <tr>\n",
       "      <th>pulso.antes</th>\n",
       "      <td>92.0</td>\n",
       "      <td>72.869565</td>\n",
       "      <td>11.008705</td>\n",
       "      <td>48.0</td>\n",
       "      <td>64.00</td>\n",
       "      <td>71.0</td>\n",
       "      <td>80.00</td>\n",
       "      <td>100.0</td>\n",
       "    </tr>\n",
       "    <tr>\n",
       "      <th>pulso.despues</th>\n",
       "      <td>92.0</td>\n",
       "      <td>80.000000</td>\n",
       "      <td>17.093794</td>\n",
       "      <td>50.0</td>\n",
       "      <td>68.00</td>\n",
       "      <td>76.0</td>\n",
       "      <td>85.00</td>\n",
       "      <td>140.0</td>\n",
       "    </tr>\n",
       "    <tr>\n",
       "      <th>peso</th>\n",
       "      <td>92.0</td>\n",
       "      <td>145.152174</td>\n",
       "      <td>23.739398</td>\n",
       "      <td>95.0</td>\n",
       "      <td>125.00</td>\n",
       "      <td>145.0</td>\n",
       "      <td>155.50</td>\n",
       "      <td>215.0</td>\n",
       "    </tr>\n",
       "  </tbody>\n",
       "</table>\n",
       "</div>"
      ],
      "text/plain": [
       "               count        mean        std   min     25%    50%     75%  \\\n",
       "Unnamed: 0      92.0   46.500000  26.702060   1.0   23.75   46.5   69.25   \n",
       "pulso.antes     92.0   72.869565  11.008705  48.0   64.00   71.0   80.00   \n",
       "pulso.despues   92.0   80.000000  17.093794  50.0   68.00   76.0   85.00   \n",
       "peso            92.0  145.152174  23.739398  95.0  125.00  145.0  155.50   \n",
       "\n",
       "                 max  \n",
       "Unnamed: 0      92.0  \n",
       "pulso.antes    100.0  \n",
       "pulso.despues  140.0  \n",
       "peso           215.0  "
      ]
     },
     "execution_count": 14,
     "metadata": {},
     "output_type": "execute_result"
    }
   ],
   "source": [
    "df.describe().transpose() #no tiene los datos de (hace.deporte, fuma, genero, altura, peso, tipo.actividad)"
   ]
  },
  {
   "cell_type": "markdown",
   "metadata": {},
   "source": [
    "## Indica cuantos estudiantes formaron parte del estudio de deporte"
   ]
  },
  {
   "cell_type": "code",
   "execution_count": 81,
   "metadata": {},
   "outputs": [
    {
     "data": {
      "text/plain": [
       "92"
      ]
     },
     "execution_count": 81,
     "metadata": {},
     "output_type": "execute_result"
    }
   ],
   "source": [
    "df['Unnamed: 0'].max()"
   ]
  },
  {
   "cell_type": "code",
   "execution_count": null,
   "metadata": {},
   "outputs": [],
   "source": []
  },
  {
   "cell_type": "markdown",
   "metadata": {},
   "source": [
    "## Indica cuantos individuos son hombres y cuantos son mujeres"
   ]
  },
  {
   "cell_type": "code",
   "execution_count": 72,
   "metadata": {},
   "outputs": [
    {
     "data": {
      "text/plain": [
       "genero\n",
       "H    57\n",
       "M    35\n",
       "dtype: int64"
      ]
     },
     "execution_count": 72,
     "metadata": {},
     "output_type": "execute_result"
    }
   ],
   "source": [
    "df.groupby('genero').size()"
   ]
  },
  {
   "cell_type": "code",
   "execution_count": null,
   "metadata": {},
   "outputs": [],
   "source": []
  },
  {
   "cell_type": "markdown",
   "metadata": {},
   "source": [
    "## Calcula el porcentaje medio de variación del pulso por minuto entre antes y después de hacer ejercicio y compara el valor de los que hacen ejercicio habitualmente y los que no. ¿Observas mucha diferencia?"
   ]
  },
  {
   "cell_type": "code",
   "execution_count": null,
   "metadata": {},
   "outputs": [],
   "source": []
  },
  {
   "cell_type": "code",
   "execution_count": 58,
   "metadata": {},
   "outputs": [
    {
     "name": "stdout",
     "output_type": "stream",
     "text": [
      "CV Pulso antes:  15.107 CV Pulso despues:  21.367\n"
     ]
    }
   ],
   "source": [
    "# Estudio de las 92 muestras. Forma global\n",
    "## CV <10%           Existe poca variabilidad\n",
    "## 10% < CV < 33%    Existe una variabilidad aceptable\n",
    "## 33% < CV < 50%    Existe una variabilidad excesiva pero aceptable\n",
    "## CV > 50%          Existe una variabilidad excesiva\n",
    "\n",
    "import pandas as pd\n",
    "import numpy as np\n",
    "\n",
    "df = pd.read_csv('../Python/run.txt', delimiter = ',', decimal = '#', encoding = 'utf8')\n",
    "#Pulso antes\n",
    "antesstd = df['pulso.antes'].std()\n",
    "antesmean = df['pulso.antes'].mean()\n",
    "cvantes = round((antesstd/antesmean)*100,3)\n",
    "\n",
    "#Pulso despues\n",
    "despuesstd= df['pulso.despues'].std()\n",
    "despuesmean = df['pulso.despues'].mean()\n",
    "cvdespues = round((despuesstd/despuesmean)*100,3)\n",
    "\n",
    "print(\"CV Pulso antes: \", cvantes,\n",
    "     'CV Pulso despues: ', cvdespues)"
   ]
  },
  {
   "cell_type": "markdown",
   "metadata": {},
   "source": [
    "###### Antes de hacer ejercicios existe poca variabilidad, pero despues hay un cambio significativo en la pulsación"
   ]
  },
  {
   "cell_type": "code",
   "execution_count": null,
   "metadata": {},
   "outputs": [],
   "source": []
  },
  {
   "cell_type": "code",
   "execution_count": 61,
   "metadata": {},
   "outputs": [
    {
     "name": "stdout",
     "output_type": "stream",
     "text": [
      "tamaño de la población a estudiar:  hace.deporte\n",
      "no    57\n",
      "si    35\n",
      "dtype: int64\n",
      " \n",
      "Datos de los que SI hacen deportes antes y depues\n",
      "CV de pulso Antes:  15.538 % CV de pulso Despues:  20.476 %\n",
      " \n",
      "Datos de los que NO hacen deportes antes y depues\n",
      "CV de pulso Antes:  14.936 % CV de pulso Despues:  13.757 %\n",
      " \n",
      "Diferencia del CV de los que hacen ejercicios y los que no:  6.719\n"
     ]
    }
   ],
   "source": [
    "# Estudio de las 92 muestras. Pero clasificado entre los que si hacen deportes y los que no hacen deporte.\n",
    "## CV <10%           Existe poca variabilidad\n",
    "## 10% < CV < 33%    Existe una variabilidad aceptable\n",
    "## 33% < CV < 50%    Existe una variabilidad excesiva pero aceptable\n",
    "## CV > 50%          Existe una variabilidad excesiva\n",
    "\n",
    "import pandas as pd\n",
    "import numpy as np\n",
    "\n",
    "df = pd.read_csv('../Python/run.txt', delimiter = ',', decimal = '#', encoding = 'utf8')\n",
    "print('tamaño de la población a estudiar: ', df.groupby('hace.deporte').size())\n",
    "dfsi = df[df['hace.deporte'] == 'si']\n",
    "dfno = df[df['hace.deporte'] == 'no']\n",
    "print(' ')\n",
    "\n",
    "#los que si hacen ejercicios, pulso antes\n",
    "STDantessi = dfsi['pulso.antes'].std()\n",
    "MEANDantessi = dfsi['pulso.antes'].mean()\n",
    "cvsiantes = round((STDantessi/MEANDantessi)*100,3)\n",
    "#los que si hacen ejercicios, pulso despues\n",
    "STDDespuessi = dfsi['pulso.despues'].std()\n",
    "MEANDespuessi = dfsi['pulso.despues'].mean()\n",
    "cvsidespues = round((STDDespuessi/MEANDespuessi)*100,3)\n",
    "\n",
    "#Los que no hacen ejercicios, pulso antes\n",
    "STDantesno = dfno['pulso.antes'].std()\n",
    "MEANDantesno = dfno['pulso.antes'].mean()\n",
    "cvnoantes = round((STDantesno/MEANDantesno)*100,3)\n",
    "#Los que no hacen ejercicios, pulso despues\n",
    "STDDespuesno = dfno['pulso.despues'].std()\n",
    "MEANDespuesno = dfno['pulso.despues'].mean()\n",
    "cvnodespues = round((STDDespuesno/MEANDespuesno)*100,3)\n",
    "\n",
    "print(\"Datos de los que SI hacen deportes antes y depues\")\n",
    "print('CV de pulso Antes: ', cvsiantes, '%',\n",
    "    'CV de pulso Despues: ', cvsidespues, '%' )\n",
    "print(\" \")\n",
    "print(\"Datos de los que NO hacen deportes antes y depues\")\n",
    "print('CV de pulso Antes: ', cvnoantes, '%' ,\n",
    "    'CV de pulso Despues: ', cvnodespues, '%' )\n",
    "print(' ')\n",
    "print('Diferencia del CV de los que hacen ejercicios y los que no: ',round((cvsidespues-cvnodespues), 3))"
   ]
  },
  {
   "cell_type": "markdown",
   "metadata": {},
   "source": [
    "###### Al principio cuando estan en reposo no hay diferencia significativa entre los pulsos, pero despues de hacer ejercicios si, ya que se ve la diferencia entre los que si hacen ejercicios y los que no hacen ejercicios tiene una variación de 6,719 "
   ]
  },
  {
   "cell_type": "code",
   "execution_count": null,
   "metadata": {},
   "outputs": [],
   "source": []
  },
  {
   "cell_type": "markdown",
   "metadata": {},
   "source": [
    "\n",
    "## Calcula el porcentaje medio de variación del pulso por minuto entre antes y después de hacer ejercicio  para los estudiantes que hacen ejercicio habitualmente y compara el valor de los hombres con el de las mujeres. ¿Observas mucha diferencia?"
   ]
  },
  {
   "cell_type": "code",
   "execution_count": 82,
   "metadata": {},
   "outputs": [
    {
     "name": "stdout",
     "output_type": "stream",
     "text": [
      "tamaño de la población a estudiar:  hace.deporte\n",
      "no    57\n",
      "si    35\n",
      "dtype: int64\n",
      "tamaño de la población a estudiar:  genero\n",
      "H    57\n",
      "M    35\n",
      "dtype: int64\n",
      " \n",
      "CV del hombre antes:  12.657 ,CV de la mujer antes:  16.448\n",
      " \n",
      "CV del hombre despues:  15.733 ,CV de la mujer despues:  15.417\n"
     ]
    }
   ],
   "source": [
    "## CV <10%           Existe poca variabilidad\n",
    "## 10% < CV < 33%    Existe una variabilidad aceptable\n",
    "## 33% < CV < 50%    Existe una variabilidad excesiva pero aceptable\n",
    "## CV > 50%          Existe una variabilidad excesiva\n",
    "\n",
    "import pandas as pd\n",
    "import numpy as np\n",
    "\n",
    "df = pd.read_csv('../Python/run.txt', delimiter = ',', decimal = '#', encoding = 'utf8')\n",
    "\n",
    "# Hombres que hacen deporte\n",
    "t = (df['hace.deporte'] == 'si') & (df['genero'] == 'H')\n",
    "dfH = df[t]\n",
    "\n",
    "# Mujeres que hacen deporte\n",
    "t = (df['hace.deporte'] == 'si') & (df['genero'] == 'M')\n",
    "dfM = df[t]\n",
    "\n",
    "# CV Para hombres\n",
    "#Pulso antes\n",
    "antesstdH = dfH['pulso.antes'].std()\n",
    "antesmeanH = dfH['pulso.antes'].mean()\n",
    "cvantesH = round((antesstdH/antesmeanH)*100,3)\n",
    "\n",
    "#Pulso despues\n",
    "despuesstdH= dfH['pulso.despues'].std()\n",
    "despuesmeanH = dfH['pulso.despues'].mean()\n",
    "cvdespuesH = round((despuesstdH/despuesmeanH)*100,3)\n",
    "\n",
    "# CV para Mujeres\n",
    "#Pulso antes\n",
    "antesstdM = dfM['pulso.antes'].std()\n",
    "antesmeanH = dfM['pulso.antes'].mean()\n",
    "cvantesM = round((antesstdM/antesmeanH)*100,3)\n",
    "\n",
    "#Pulso despues\n",
    "despuesstdM= dfM['pulso.despues'].std()\n",
    "despuesmeanM = dfH['pulso.despues'].mean()\n",
    "cvdespuesM = round((despuesstdM/despuesmeanM)*100,3)\n",
    "print(' ')\n",
    "print('CV del hombre antes: ', cvantesH, \n",
    "      ',CV de la mujer antes: ',cvantesM )\n",
    "print(' ')\n",
    "print('CV del hombre despues: ', cvdespuesH, \n",
    "      ',CV de la mujer despues: ',cvdespuesM )"
   ]
  },
  {
   "cell_type": "markdown",
   "metadata": {},
   "source": [
    "###### Antes de la competición siempre hay una diferencia significativa entre hombres y mujeres referente a la variación de la pulsación, Pero despues de la competición la pulsación tiene poca variación. "
   ]
  },
  {
   "cell_type": "code",
   "execution_count": null,
   "metadata": {},
   "outputs": [],
   "source": []
  },
  {
   "cell_type": "markdown",
   "metadata": {},
   "source": [
    "## Calcula el porcentaje medio de variación del pulso por minuto entre antes y después de hacer ejercicio para los estudiantes que no hacen ejercicio habitualmente y compara el valor de los fumadores con los no fumadores. ¿Observas mucha diferencia?"
   ]
  },
  {
   "cell_type": "code",
   "execution_count": 88,
   "metadata": {},
   "outputs": [
    {
     "name": "stdout",
     "output_type": "stream",
     "text": [
      " \n",
      "CV Fumador antes:  19.018 ,CV NO Fumador antes:  13.02\n",
      " \n",
      "CV Fumador despues:  16.985 ,CV NO Fumador despues:  12.219\n"
     ]
    }
   ],
   "source": [
    "## CV <10%           Existe poca variabilidad\n",
    "## 10% < CV < 33%    Existe una variabilidad aceptable\n",
    "## 33% < CV < 50%    Existe una variabilidad excesiva pero aceptable\n",
    "## CV > 50%          Existe una variabilidad excesiva\n",
    "\n",
    "import pandas as pd\n",
    "import numpy as np\n",
    "\n",
    "df = pd.read_csv('../Python/run.txt', delimiter = ',', decimal = '#', encoding = 'utf8')\n",
    "\n",
    "# fumadores que no hacen deporte\n",
    "tfsi = (df['hace.deporte'] == 'no') & (df['fuma'] == 'si')\n",
    "sifuma = df[tfsi]\n",
    "\n",
    "# No fumadores que no hacen deporte\n",
    "tfno = (df['hace.deporte'] == 'no') & (df['fuma'] == 'no')\n",
    "nofuma = df[tfno]\n",
    "\n",
    "\n",
    "# CV Fumadores\n",
    "#Pulso antes\n",
    "antesstdSi = sifuma['pulso.antes'].std()\n",
    "antesmeanSi = sifuma['pulso.antes'].mean()\n",
    "cvantesSi = round((antesstdSi/antesmeanSi)*100,3)\n",
    "\n",
    "#Pulso despues\n",
    "despuesstdSi= sifuma['pulso.despues'].std()\n",
    "despuesmeanSi = sifuma['pulso.despues'].mean()\n",
    "cvdespuesSi = round((despuesstdSi/despuesmeanSi)*100,3)\n",
    "\n",
    "\n",
    "# CV NO Fumadores\n",
    "#Pulso antes\n",
    "antesstdNO = nofuma['pulso.antes'].std()\n",
    "antesmeanNO = nofuma['pulso.antes'].mean()\n",
    "cvantesNO = round((antesstdNO/antesmeanNO)*100,3)\n",
    "\n",
    "#Pulso despues\n",
    "despuesstdNO= nofuma['pulso.despues'].std()\n",
    "despuesmeanNO = nofuma['pulso.despues'].mean()\n",
    "cvdespuesNO = round((despuesstdNO/despuesmeanNO)*100,3)\n",
    "\n",
    "\n",
    "print(' ')\n",
    "print('CV Fumador antes: ', cvantesSi, \n",
    "      ',CV NO Fumador antes: ',cvantesNO )\n",
    "print(' ')\n",
    "print('CV Fumador despues: ', cvdespuesSi, \n",
    "      ',CV NO Fumador despues: ',cvdespuesNO )"
   ]
  },
  {
   "cell_type": "markdown",
   "metadata": {},
   "source": [
    "###### Hay una variación significativa para el fumador antes y despues de hacer ejercicios. Con respecto al los que no fuman no hay variación significativa"
   ]
  },
  {
   "cell_type": "code",
   "execution_count": null,
   "metadata": {},
   "outputs": [],
   "source": []
  },
  {
   "cell_type": "markdown",
   "metadata": {},
   "source": [
    "## Calcula el porcentaje medio de variación del pulso por minuto entre antes y después de hacer ejercicio de todos los estudiantes según el tipo de actividad física que realizan. ¿Observas alguna diferencia?"
   ]
  },
  {
   "cell_type": "code",
   "execution_count": 115,
   "metadata": {},
   "outputs": [
    {
     "name": "stdout",
     "output_type": "stream",
     "text": [
      " \n",
      "CV nula antes:  nan ,CV nula despues:  nan\n",
      " \n",
      "CV suave antes:  13.17 ,CV suave despues:  13.17\n",
      " \n",
      "CV moderada antes:  15.102 ,CV moderada despues:  15.102\n",
      " \n",
      "CV intensa antes:  13.449 ,CV intensa despues:  13.449\n"
     ]
    }
   ],
   "source": [
    "## CV <10%           Existe poca variabilidad\n",
    "## 10% < CV < 33%    Existe una variabilidad aceptable\n",
    "## 33% < CV < 50%    Existe una variabilidad excesiva pero aceptable\n",
    "## CV > 50%          Existe una variabilidad excesiva\n",
    "\n",
    "import pandas as pd\n",
    "import numpy as np\n",
    "\n",
    "df = pd.read_csv('../Python/run.txt', delimiter = ',', decimal = '#', encoding = 'utf8')\n",
    "\n",
    "# Nula\n",
    "nula = (df['tipo.actividad'] == 'nula')\n",
    "dfnula = df[nula]\n",
    "\n",
    "# Suave\n",
    "suave = (df['tipo.actividad'] == 'suave')\n",
    "dfsuave = df[suave]\n",
    "\n",
    "# Moderada\n",
    "moderada = (df['tipo.actividad'] == 'moderada')\n",
    "dfmoderada = df[moderada]\n",
    "\n",
    "# Intensa\n",
    "intensa = (df['tipo.actividad'] == 'intensa')\n",
    "dfintensa = df[intensa]\n",
    "\n",
    "# CV Nula\n",
    "#Pulso antes\n",
    "antesstdnula = dfnula['pulso.antes'].std()\n",
    "antesmeannula = dfnula['pulso.antes'].mean()\n",
    "cvantesnula = round((antesstdnula/antesmeannula)*100,3)\n",
    "\n",
    "#Pulso despues\n",
    "despuesstdnula= dfnula['pulso.despues'].std()\n",
    "despuesmeannula = dfnula['pulso.despues'].mean()\n",
    "cvdespuesnula = round((despuesstdnula/despuesmeannula)*100,3)\n",
    "\n",
    "print(' ')\n",
    "print('CV nula antes: ', cvantesnula, \n",
    "      ',CV nula despues: ',cvantesnula )\n",
    "\n",
    "\n",
    "# CV Suave\n",
    "#Pulso antes\n",
    "antesstdsuave = dfsuave['pulso.antes'].std()\n",
    "antesmeansuave = dfsuave['pulso.antes'].mean()\n",
    "cvantessuave = round((antesstdsuave/antesmeansuave)*100,3)\n",
    "\n",
    "#Pulso despues\n",
    "despuesstdsuave= dfsuave['pulso.despues'].std()\n",
    "despuesmeansuave = dfsuave['pulso.despues'].mean()\n",
    "cvdespuessuave = round((despuesstdsuave/despuesmeansuave)*100,3)\n",
    "\n",
    "print(' ')\n",
    "print('CV suave antes: ', cvantessuave, \n",
    "      ',CV suave despues: ',cvantessuave )\n",
    "\n",
    "\n",
    "# CV Moderada\n",
    "#Pulso antes\n",
    "antesstdmoderada = dfmoderada['pulso.antes'].std()\n",
    "antesmeanmoderada = dfmoderada['pulso.antes'].mean()\n",
    "cvantesmoderada = round((antesstdmoderada/antesmeanmoderada)*100,3)\n",
    "\n",
    "#Pulso despues\n",
    "despuesstdmoderada= dfmoderada['pulso.despues'].std()\n",
    "despuesmeanmoderada = dfmoderada['pulso.despues'].mean()\n",
    "cvdespuesmoderada = round((despuesstdmoderada/despuesmeanmoderada)*100,3)\n",
    "\n",
    "print(' ')\n",
    "print('CV moderada antes: ', cvantesmoderada, \n",
    "      ',CV moderada despues: ',cvantesmoderada )\n",
    "\n",
    "# CV Intensa\n",
    "#Pulso antes\n",
    "antesstdintensa = dfintensa['pulso.antes'].std()\n",
    "antesmeanintensa = dfintensa['pulso.antes'].mean()\n",
    "cvantesintensa = round((antesstdintensa/antesmeanintensa)*100,3)\n",
    "\n",
    "#Pulso despues\n",
    "despuesstdintensa= dfintensa['pulso.despues'].std()\n",
    "despuesmeanintensa = dfintensa['pulso.despues'].mean()\n",
    "cvdespuesintensa = round((despuesstdintensa/despuesmeanintensa)*100,3)\n",
    "\n",
    "print(' ')\n",
    "print('CV intensa antes: ', cvantesintensa, \n",
    "      ',CV intensa despues: ',cvantesintensa )"
   ]
  },
  {
   "cell_type": "markdown",
   "metadata": {},
   "source": [
    "###### No es significativo por lo que existe poca variabilidad "
   ]
  },
  {
   "cell_type": "code",
   "execution_count": null,
   "metadata": {},
   "outputs": [],
   "source": []
  },
  {
   "cell_type": "code",
   "execution_count": null,
   "metadata": {},
   "outputs": [],
   "source": []
  },
  {
   "cell_type": "code",
   "execution_count": null,
   "metadata": {},
   "outputs": [],
   "source": []
  },
  {
   "cell_type": "code",
   "execution_count": null,
   "metadata": {},
   "outputs": [],
   "source": []
  }
 ],
 "metadata": {
  "kernelspec": {
   "display_name": "Python 3",
   "language": "python",
   "name": "python3"
  },
  "language_info": {
   "codemirror_mode": {
    "name": "ipython",
    "version": 3
   },
   "file_extension": ".py",
   "mimetype": "text/x-python",
   "name": "python",
   "nbconvert_exporter": "python",
   "pygments_lexer": "ipython3",
   "version": "3.7.6"
  }
 },
 "nbformat": 4,
 "nbformat_minor": 4
}
