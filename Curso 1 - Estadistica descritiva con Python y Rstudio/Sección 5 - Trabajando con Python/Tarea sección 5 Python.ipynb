{
 "cells": [
  {
   "cell_type": "markdown",
   "metadata": {},
   "source": [
    "###### 1) Escribe una secuencia de instrucciones que permitan leer un número real por pantalla y que muestre si el número es positivo o no."
   ]
  },
  {
   "cell_type": "code",
   "execution_count": null,
   "metadata": {},
   "outputs": [],
   "source": [
    "import math\n",
    "\n",
    "x = float(input('Introduce un numero real: '))\n",
    "\n",
    "if x <= 0:\n",
    "\n",
    "    print(\"Usted introdujo un numero negativo valor X= \", x)\n",
    "\n",
    "    print(\"Hasta la próxima\")\n",
    "\n",
    "elif x >= 0:\n",
    "\n",
    "    print(\"Usted introdujo un numero positivo valor X= \", x)\n",
    "\n",
    "    print(\"Hasta la próxima\")"
   ]
  },
  {
   "cell_type": "markdown",
   "metadata": {},
   "source": [
    "###### 2) Escribe una secuencia de instrucciones que permitan leer un número real por pantalla y que muestre si el número está en el rango entre -5 y 5\n",
    "\n"
   ]
  },
  {
   "cell_type": "code",
   "execution_count": null,
   "metadata": {},
   "outputs": [],
   "source": [
    "import math\n",
    "\n",
    "x = int(input('Introduce un numero real: '))\n",
    "\n",
    "if x>= -5 and x <= 5:\n",
    "\n",
    "    print(\"Usted introdujo un numero en el rango [-5, 5]: \", x)\n",
    "\n",
    "    print(\"Hasta la próxima\")\n",
    "\n",
    "\n",
    "elif  -5< x  or  x> 5:\n",
    "\n",
    "    print(\"Usted introdujo un numero fuera del rango [-5, 5] \", x)\n",
    "\n",
    "    print(\"Hasta la próxima\")"
   ]
  },
  {
   "cell_type": "markdown",
   "metadata": {},
   "source": [
    "###### 3) Escribe una secuencia de instrucciones que permitan leer las coordenadas de un punto (x, y) e indique en cuál de los cuatro cuadrantes se encuentra dicho punto."
   ]
  },
  {
   "cell_type": "code",
   "execution_count": null,
   "metadata": {},
   "outputs": [],
   "source": [
    "x = float(input('Introduce un numero real para el Eje X: '))\n",
    "y = float(input('Introduce un numero real para el Eje y: '))\n",
    "\n",
    "\n",
    "if x> 0 and y>0:\n",
    "\n",
    "    print(\"Esta en el I cuadrante del eje cartesiano\")\n",
    "\n",
    "if x<0 and y>0:\n",
    "\n",
    "    print(\"Esta en el II cuadrante del eje cartesiano\")\n",
    "\n",
    "elif x<0 and y < 0:\n",
    "\n",
    "    print(\"Esta en el III cuadrante del eje cartesiano\")\n",
    "\n",
    "elif x>0 and y <0:\n",
    "\n",
    "    print(\"Esta en el IV cuadrante del eje cartesiano\")\n",
    "\n",
    "else:\n",
    "\n",
    "    print(\" \")"
   ]
  },
  {
   "cell_type": "markdown",
   "metadata": {},
   "source": [
    "###### 4) Escribe una secuencia de instrucciones que permitan leer dos números enteros y muestre el cociente de la división entera y el resto."
   ]
  },
  {
   "cell_type": "code",
   "execution_count": null,
   "metadata": {},
   "outputs": [],
   "source": [
    "import math\n",
    "\n",
    "a = int(input('Introduce un numero entero a: '))\n",
    "b = int(input('Introduce un numero entero b: '))\n",
    "\n",
    "c =  a//b\n",
    "\n",
    "print(\"El cociente de la division entera es c=\", c)\n",
    "\n",
    "r = a%b\n",
    "\n",
    "print(\"El resto de la division entera es r=\", r)\n",
    "\n",
    "print(\"Fin\")"
   ]
  },
  {
   "cell_type": "markdown",
   "metadata": {},
   "source": [
    "###### 5) Escribe una secuencia de instrucciones que permitan leer un número entero es cuadrado perfecto o no (piensa la mejor forma de hacerlo con lo que has aprendido hasta ahora)"
   ]
  },
  {
   "cell_type": "code",
   "execution_count": null,
   "metadata": {},
   "outputs": [],
   "source": [
    "import math\n",
    "x = int(input('Introduce un numero entero x: '))\n",
    "\n",
    "t = math.sqrt(x)\n",
    "\n",
    "if t == int(t):\n",
    "\n",
    "    print(\"Es un cuadrado perfecto\")\n",
    "\n",
    "else:\n",
    "\n",
    "     print(\"No es un cuadrado perfecto\")"
   ]
  },
  {
   "cell_type": "markdown",
   "metadata": {},
   "source": [
    "###### 6) Escribe una expresión que permita determinar si un número entero positivo puede corresponder a un año bisiesto o no. Se consideran años bisiestos aquellos cuyo número es divisible por cuatro excepto los años que son múltiplos de 100, a no ser que lo sean de 400 (por ejemplo el año 2000 fue bisiesto pero el 2100 no lo será)."
   ]
  },
  {
   "cell_type": "code",
   "execution_count": null,
   "metadata": {},
   "outputs": [],
   "source": [
    "import math\n",
    "x = int(input('Introduce un numero entero x: '))\n",
    "\n",
    "if x%4 == 0:\n",
    "\n",
    "    print(\"El año\", x, \"es bisiesto\")\n",
    "\n",
    "elif x%100 == 0 and x%400 == 0:\n",
    "\n",
    "    print(\"El año\", x, \"es bisiesto\")\n",
    "\n",
    "else:\n",
    "\n",
    "    print(\"No es un año bisiesto, vuelve a intentarlo\")"
   ]
  },
  {
   "cell_type": "markdown",
   "metadata": {},
   "source": [
    "###### 7) Busca la imagen de un tablero de ajedrez en Google y fíjate en la nomenclatura de las casillas. Escribe una expresión lea una letra y un número de teclado correspondiente a una casilla de un tablero de ajedrez y nos indique si esta casilla es negra o blanca"
   ]
  },
  {
   "cell_type": "code",
   "execution_count": null,
   "metadata": {},
   "outputs": [],
   "source": [
    "import math\n",
    "n = int(input(\"Introduce un numero del 1 al 8 del tablero de ajedrez: \"))\n",
    "\n",
    "while 8<=n:\n",
    "\n",
    "    print(\"Numero incorrecto, vuelve a intentarlo\")\n",
    "\n",
    "    n = int(input(\"Introduce un numero del 1 al 8 del tablero de ajedrez: \"))\n",
    "\n",
    "x = str(n)   \n",
    "\n",
    "y = str(input(\"Introduce una letra de la A hasta la H del tablero de ajedrez: \"))\n",
    "\n",
    "#while\n",
    "\n",
    "t= y.upper()\n",
    "\n",
    "# NEGRAS\n",
    "\n",
    "N1 = ['B1', 'D1', 'F1', 'H1', 'A2', 'C2', 'E2', 'G2', \n",
    "      'B3', 'D3', 'F3', 'H3', 'A4', 'C4', 'E4', 'G4', \n",
    "      'B5', 'D5', 'F5', 'H5', 'A6', 'C6', 'E6', 'G6', \n",
    "      'B7', 'D7', 'F7', 'H7', 'A8', 'C8', 'E8', 'G8']\n",
    "\n",
    "if (t+x) in N1:\n",
    "\n",
    "    print(\"El cuadro es negro\", t+x)\n",
    "\n",
    "else:\n",
    "\n",
    "    print(\"El cuadro es blanco\")"
   ]
  },
  {
   "cell_type": "code",
   "execution_count": null,
   "metadata": {},
   "outputs": [],
   "source": []
  },
  {
   "cell_type": "code",
   "execution_count": null,
   "metadata": {},
   "outputs": [],
   "source": []
  }
 ],
 "metadata": {
  "kernelspec": {
   "display_name": "Python 3",
   "language": "python",
   "name": "python3"
  },
  "language_info": {
   "codemirror_mode": {
    "name": "ipython",
    "version": 3
   },
   "file_extension": ".py",
   "mimetype": "text/x-python",
   "name": "python",
   "nbconvert_exporter": "python",
   "pygments_lexer": "ipython3",
   "version": "3.8.5"
  }
 },
 "nbformat": 4,
 "nbformat_minor": 4
}
