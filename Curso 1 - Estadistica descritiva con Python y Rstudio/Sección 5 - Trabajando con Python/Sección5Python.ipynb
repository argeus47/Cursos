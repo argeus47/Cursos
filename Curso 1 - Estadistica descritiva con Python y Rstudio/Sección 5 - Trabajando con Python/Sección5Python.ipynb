{
 "cells": [
  {
   "cell_type": "markdown",
   "metadata": {},
   "source": [
    "# Sección 5 - Trabajando con Python"
   ]
  },
  {
   "cell_type": "markdown",
   "metadata": {},
   "source": [
    "## Constantes en Phyton"
   ]
  },
  {
   "cell_type": "code",
   "execution_count": 5,
   "metadata": {},
   "outputs": [],
   "source": [
    "import math #Es necesario para poder hacer las funciones abajo:"
   ]
  },
  {
   "cell_type": "code",
   "execution_count": 2,
   "metadata": {},
   "outputs": [
    {
     "data": {
      "text/plain": [
       "3.141592653589793"
      ]
     },
     "execution_count": 2,
     "metadata": {},
     "output_type": "execute_result"
    }
   ],
   "source": [
    "math.pi"
   ]
  },
  {
   "cell_type": "code",
   "execution_count": 3,
   "metadata": {},
   "outputs": [
    {
     "data": {
      "text/plain": [
       "2.718281828459045"
      ]
     },
     "execution_count": 3,
     "metadata": {},
     "output_type": "execute_result"
    }
   ],
   "source": [
    "math.e"
   ]
  },
  {
   "cell_type": "code",
   "execution_count": 4,
   "metadata": {},
   "outputs": [
    {
     "data": {
      "text/plain": [
       "6.283185307179586"
      ]
     },
     "execution_count": 4,
     "metadata": {},
     "output_type": "execute_result"
    }
   ],
   "source": [
    "math.tau"
   ]
  },
  {
   "cell_type": "code",
   "execution_count": 5,
   "metadata": {},
   "outputs": [
    {
     "data": {
      "text/plain": [
       "6.283185307179586"
      ]
     },
     "execution_count": 5,
     "metadata": {},
     "output_type": "execute_result"
    }
   ],
   "source": [
    "2*math.pi"
   ]
  },
  {
   "cell_type": "code",
   "execution_count": 6,
   "metadata": {},
   "outputs": [],
   "source": [
    "tau = 2*math.pi #Definiendo variable"
   ]
  },
  {
   "cell_type": "code",
   "execution_count": 7,
   "metadata": {},
   "outputs": [
    {
     "data": {
      "text/plain": [
       "6.283185307179586"
      ]
     },
     "execution_count": 7,
     "metadata": {},
     "output_type": "execute_result"
    }
   ],
   "source": [
    "tau"
   ]
  },
  {
   "cell_type": "code",
   "execution_count": 8,
   "metadata": {},
   "outputs": [
    {
     "data": {
      "text/plain": [
       "inf"
      ]
     },
     "execution_count": 8,
     "metadata": {},
     "output_type": "execute_result"
    }
   ],
   "source": [
    "math.inf #Numero infinito"
   ]
  },
  {
   "cell_type": "code",
   "execution_count": 9,
   "metadata": {},
   "outputs": [
    {
     "data": {
      "text/plain": [
       "-inf"
      ]
     },
     "execution_count": 9,
     "metadata": {},
     "output_type": "execute_result"
    }
   ],
   "source": [
    "-math.inf #Numero - infinito"
   ]
  },
  {
   "cell_type": "code",
   "execution_count": 10,
   "metadata": {},
   "outputs": [
    {
     "data": {
      "text/plain": [
       "nan"
      ]
     },
     "execution_count": 10,
     "metadata": {},
     "output_type": "execute_result"
    }
   ],
   "source": [
    "math.nan #Valor que da cuando no se puede calcular una función"
   ]
  },
  {
   "cell_type": "code",
   "execution_count": 11,
   "metadata": {},
   "outputs": [
    {
     "data": {
      "text/plain": [
       "2.23606797749979"
      ]
     },
     "execution_count": 11,
     "metadata": {},
     "output_type": "execute_result"
    }
   ],
   "source": [
    "math.sqrt(5) #Raiz cuadrada."
   ]
  },
  {
   "cell_type": "markdown",
   "metadata": {},
   "source": [
    "## Operaciones aritmeticas de redondeo"
   ]
  },
  {
   "cell_type": "markdown",
   "metadata": {},
   "source": [
    "###### Representación numérica"
   ]
  },
  {
   "cell_type": "markdown",
   "metadata": {},
   "source": [
    "Son sumas normales ejemplo:"
   ]
  },
  {
   "cell_type": "code",
   "execution_count": 12,
   "metadata": {},
   "outputs": [
    {
     "name": "stdout",
     "output_type": "stream",
     "text": [
      "4\n",
      "-2\n",
      "6\n",
      "0.6\n"
     ]
    }
   ],
   "source": [
    "print(2+2)\n",
    "print(3-5)\n",
    "print(3*2)\n",
    "print(3/5)\n"
   ]
  },
  {
   "cell_type": "code",
   "execution_count": 14,
   "metadata": {},
   "outputs": [
    {
     "data": {
      "text/plain": [
       "4"
      ]
     },
     "execution_count": 14,
     "metadata": {},
     "output_type": "execute_result"
    }
   ],
   "source": [
    "math.ceil(math.pi) #Función para redondear hacia arriba"
   ]
  },
  {
   "cell_type": "code",
   "execution_count": 15,
   "metadata": {},
   "outputs": [
    {
     "data": {
      "text/plain": [
       "2"
      ]
     },
     "execution_count": 15,
     "metadata": {},
     "output_type": "execute_result"
    }
   ],
   "source": [
    "math.floor(math.e) #Función para redondear hacia abajo"
   ]
  },
  {
   "cell_type": "code",
   "execution_count": 17,
   "metadata": {},
   "outputs": [
    {
     "data": {
      "text/plain": [
       "3"
      ]
     },
     "execution_count": 17,
     "metadata": {},
     "output_type": "execute_result"
    }
   ],
   "source": [
    "math.trunc(math.pi) #Trunca los valores, es decir quita los decimales"
   ]
  },
  {
   "cell_type": "code",
   "execution_count": 18,
   "metadata": {},
   "outputs": [
    {
     "data": {
      "text/plain": [
       "16"
      ]
     },
     "execution_count": 18,
     "metadata": {},
     "output_type": "execute_result"
    }
   ],
   "source": [
    "4**2 #Para elevar numeros hay que usar 2 asteriscos"
   ]
  },
  {
   "cell_type": "code",
   "execution_count": 19,
   "metadata": {},
   "outputs": [
    {
     "data": {
      "text/plain": [
       "24"
      ]
     },
     "execution_count": 19,
     "metadata": {},
     "output_type": "execute_result"
    }
   ],
   "source": [
    "math.factorial(4) #Para realizar factorial en una función"
   ]
  },
  {
   "cell_type": "code",
   "execution_count": 20,
   "metadata": {},
   "outputs": [
    {
     "data": {
      "text/plain": [
       "1.0"
      ]
     },
     "execution_count": 20,
     "metadata": {},
     "output_type": "execute_result"
    }
   ],
   "source": [
    "math.fmod(7,3) #Da el resto de la división math.fmod(dividendo,divisor) = 7/3"
   ]
  },
  {
   "cell_type": "code",
   "execution_count": 8,
   "metadata": {},
   "outputs": [
    {
     "data": {
      "text/plain": [
       "1.0"
      ]
     },
     "execution_count": 8,
     "metadata": {},
     "output_type": "execute_result"
    }
   ],
   "source": [
    "math.remainder(7,3)#Da el resto de la división math.fmod(dividendo,divisor) = 7/3"
   ]
  },
  {
   "cell_type": "code",
   "execution_count": 21,
   "metadata": {},
   "outputs": [
    {
     "data": {
      "text/plain": [
       "1"
      ]
     },
     "execution_count": 21,
     "metadata": {},
     "output_type": "execute_result"
    }
   ],
   "source": [
    "7%3 #Se puede hallar el resto pero solo aplica para resultados enteros."
   ]
  },
  {
   "cell_type": "code",
   "execution_count": 1,
   "metadata": {},
   "outputs": [
    {
     "data": {
      "text/plain": [
       "10"
      ]
     },
     "execution_count": 1,
     "metadata": {},
     "output_type": "execute_result"
    }
   ],
   "source": [
    "20//2 #Da como resultado el cociente de la división entera"
   ]
  },
  {
   "cell_type": "code",
   "execution_count": 6,
   "metadata": {},
   "outputs": [
    {
     "data": {
      "text/plain": [
       "(0.14159265358979312, 3.0)"
      ]
     },
     "execution_count": 6,
     "metadata": {},
     "output_type": "execute_result"
    }
   ],
   "source": [
    "math.modf(math.pi) #Separa la parte decimal de la parte entera"
   ]
  },
  {
   "cell_type": "code",
   "execution_count": 9,
   "metadata": {},
   "outputs": [
    {
     "data": {
      "text/plain": [
       "12"
      ]
     },
     "execution_count": 9,
     "metadata": {},
     "output_type": "execute_result"
    }
   ],
   "source": [
    "math.gcd(24,36) #Da como resultado el MCD = maximo comun divisor"
   ]
  },
  {
   "cell_type": "code",
   "execution_count": 10,
   "metadata": {},
   "outputs": [
    {
     "data": {
      "text/plain": [
       "True"
      ]
     },
     "execution_count": 10,
     "metadata": {},
     "output_type": "execute_result"
    }
   ],
   "source": [
    "math.isfinite(math.pi) #Pregunta si es finito el numero"
   ]
  },
  {
   "cell_type": "code",
   "execution_count": 11,
   "metadata": {},
   "outputs": [
    {
     "data": {
      "text/plain": [
       "False"
      ]
     },
     "execution_count": 11,
     "metadata": {},
     "output_type": "execute_result"
    }
   ],
   "source": [
    "math.isinf(math.pi) #Pregunta si es infinito el numero"
   ]
  },
  {
   "cell_type": "code",
   "execution_count": 12,
   "metadata": {},
   "outputs": [
    {
     "data": {
      "text/plain": [
       "False"
      ]
     },
     "execution_count": 12,
     "metadata": {},
     "output_type": "execute_result"
    }
   ],
   "source": [
    "math.isnan(math.pi) #Pregunta si es Not-A-Number (não é um número)"
   ]
  },
  {
   "cell_type": "code",
   "execution_count": 13,
   "metadata": {},
   "outputs": [
    {
     "data": {
      "text/plain": [
       "False"
      ]
     },
     "execution_count": 13,
     "metadata": {},
     "output_type": "execute_result"
    }
   ],
   "source": [
    "math.sqrt(2)**2 == 2 #El signo == es usado para comparar 2 valores si son exacteamente iguales o no"
   ]
  },
  {
   "cell_type": "code",
   "execution_count": 14,
   "metadata": {},
   "outputs": [
    {
     "data": {
      "text/plain": [
       "True"
      ]
     },
     "execution_count": 14,
     "metadata": {},
     "output_type": "execute_result"
    }
   ],
   "source": [
    "math.isclose(math.sqrt(2)**2, 2) #Da como resultado si el valor esta suficientemene cerca del otro"
   ]
  },
  {
   "cell_type": "markdown",
   "metadata": {},
   "source": [
    "## Operaciones de entrada y salida"
   ]
  },
  {
   "cell_type": "markdown",
   "metadata": {},
   "source": [
    "Un IDE es un Integrated Environment es decir un entorno de desarrollo integrado.\n",
    "\n",
    "Se trata de la palabra para definir una aplicación informática que nos proporcione un servicio integral\n",
    "\n",
    "para facilitar la tarea de desarrollo de programación en el campo del software particular habéis visto"
   ]
  },
  {
   "cell_type": "markdown",
   "metadata": {},
   "source": [
    "###### IO = Entrada y salida de datos"
   ]
  },
  {
   "cell_type": "code",
   "execution_count": 15,
   "metadata": {},
   "outputs": [
    {
     "name": "stdout",
     "output_type": "stream",
     "text": [
      "5\n"
     ]
    }
   ],
   "source": [
    "x = 5\n",
    "print(x)"
   ]
  },
  {
   "cell_type": "code",
   "execution_count": 16,
   "metadata": {},
   "outputs": [
    {
     "name": "stdout",
     "output_type": "stream",
     "text": [
      "El valor de X es: 5\n"
     ]
    }
   ],
   "source": [
    "print(\"El valor de X es: \"+str(x)) #Hicimos un casting, converti un numero entero \n",
    "                                   #para un string Aplica para los numeros"
   ]
  },
  {
   "cell_type": "code",
   "execution_count": 39,
   "metadata": {},
   "outputs": [
    {
     "name": "stdout",
     "output_type": "stream",
     "text": [
      "La variable es un caracter = h\n"
     ]
    }
   ],
   "source": [
    "z = 'h'\n",
    "print('La variable es un caracter = ' +z) #Aplica para los caractereres solamente"
   ]
  },
  {
   "cell_type": "code",
   "execution_count": 17,
   "metadata": {},
   "outputs": [
    {
     "name": "stdout",
     "output_type": "stream",
     "text": [
      "Introduce aqui tu nombre:  Arturiño\n"
     ]
    }
   ],
   "source": [
    "texto = input(\"Introduce aqui tu nombre:  \") #Para pedir datos al usuario. Convierte automaticamente a string"
   ]
  },
  {
   "cell_type": "code",
   "execution_count": 18,
   "metadata": {},
   "outputs": [
    {
     "data": {
      "text/plain": [
       "'Arturiño'"
      ]
     },
     "execution_count": 18,
     "metadata": {},
     "output_type": "execute_result"
    }
   ],
   "source": [
    "texto"
   ]
  },
  {
   "cell_type": "code",
   "execution_count": 19,
   "metadata": {},
   "outputs": [
    {
     "name": "stdout",
     "output_type": "stream",
     "text": [
      "Introduce aqui tu edad:  30\n"
     ]
    }
   ],
   "source": [
    "numero = int(input(\"Introduce aqui tu edad:  \")) #Para pedir datos al usuario.\n",
    "                                                 #Convierte automaticamente a numero (int)"
   ]
  },
  {
   "cell_type": "code",
   "execution_count": 24,
   "metadata": {},
   "outputs": [
    {
     "name": "stdout",
     "output_type": "stream",
     "text": [
      "haciendo una prueba con numero 30 / 5 = 6\n"
     ]
    }
   ],
   "source": [
    "print(\"haciendo una prueba con numero 30 / 5 =\", numero//x)"
   ]
  },
  {
   "cell_type": "code",
   "execution_count": 37,
   "metadata": {},
   "outputs": [
    {
     "name": "stdout",
     "output_type": "stream",
     "text": [
      "Hay 3 tipos de valores\n",
      "5 = Es un numero\n",
      "j = Es un caracter\n",
      "3.141592653589793 = Es un flotante\n",
      "True = Es un valor booleano\n"
     ]
    }
   ],
   "source": [
    "print('Hay 3 tipos de valores')\n",
    "x = 5\n",
    "x1 = 'j'\n",
    "x2 = math.pi\n",
    "x3 = True\n",
    "print(x, \"= Es un numero\")\n",
    "print(x1, '= Es un caracter')\n",
    "print(x2, '= Es un flotante')\n",
    "print(x3 , '= Es un valor booleano')"
   ]
  },
  {
   "cell_type": "markdown",
   "metadata": {},
   "source": [
    "###### Operadores de decisión"
   ]
  },
  {
   "cell_type": "markdown",
   "metadata": {},
   "source": [
    "si condiciones booleana para aplicar es necesario poner un tabulador. ejemplo\n",
    "    codigo que se ejecuta si la condición es verdad.\n",
    "    ..\n",
    "    ..\n",
    "    ..\n",
    "siguiente codigo que se ejecuta."
   ]
  },
  {
   "cell_type": "code",
   "execution_count": 48,
   "metadata": {},
   "outputs": [
    {
     "name": "stdout",
     "output_type": "stream",
     "text": [
      "Escribe un número: 5\n",
      "Escribiste el numero 5\n"
     ]
    }
   ],
   "source": [
    "x = int(input('Escribe un número: '))\n",
    "if x == 5: #El condiciónal que si se cumple pasa para la segunda linea y la ejecuta\n",
    "    print('Escribiste el numero 5')"
   ]
  },
  {
   "cell_type": "code",
   "execution_count": 51,
   "metadata": {},
   "outputs": [
    {
     "name": "stdout",
     "output_type": "stream",
     "text": [
      "Escribe un número: 124312\n",
      " \n",
      "El numero que escribiste es mayor o igual que 10\n"
     ]
    }
   ],
   "source": [
    "x = int(input('Escribe un número: '))\n",
    "print(' ')\n",
    "if x < 5: #Se cumple si el numero que agregaron es menor que 5\n",
    "    print(\"Escribiste un numero menor que 5\")\n",
    "elif x < 10: #Se cumple si el numero es mayor que 5 pero menor que 10\n",
    "    print('Haz escrito un número menor que 10 y mayor o igual a 5')\n",
    "else: #Finaliza con un caso por defecto en este caso si es mayor que 10\n",
    "    print('El numero que escribiste es mayor o igual que 10')\n"
   ]
  },
  {
   "cell_type": "code",
   "execution_count": 53,
   "metadata": {},
   "outputs": [
    {
     "name": "stdout",
     "output_type": "stream",
     "text": [
      "Escribe un número: 15\n"
     ]
    }
   ],
   "source": [
    "x = int(input('Escribe un número: '))\n",
    "if x > 0 and x <10: #Ejemplo de condición booleana si se cumple el valor de 0 hasta 10 ejecuta el comando de abajo.\n",
    "                    #Aplica solo si se cumplen las 2 funciones\n",
    "    print('Has escrito un numero en el rango de [0 , 10]')"
   ]
  },
  {
   "cell_type": "code",
   "execution_count": 55,
   "metadata": {},
   "outputs": [
    {
     "name": "stdout",
     "output_type": "stream",
     "text": [
      "Escribe un número: 15\n",
      "Tu numero escrito no se encuentra dentro del rango [0 , 10]\n"
     ]
    }
   ],
   "source": [
    "x = int(input('Escribe un número: '))\n",
    "if x < 0 or x >10: #Ejemplo de condición booleana si se cumple el valor de menor a cero ou mayor a 10 \n",
    "                   #ejecuta el comando de abajo.\n",
    "                   #Aplica solo si se cumple 1 sola\n",
    "    print('Tu numero escrito no se encuentra dentro del rango [0 , 10]')"
   ]
  },
  {
   "cell_type": "markdown",
   "metadata": {},
   "source": [
    "# Funciones matemáticas"
   ]
  },
  {
   "cell_type": "code",
   "execution_count": 12,
   "metadata": {},
   "outputs": [],
   "source": [
    "import math "
   ]
  },
  {
   "cell_type": "code",
   "execution_count": 2,
   "metadata": {},
   "outputs": [
    {
     "data": {
      "text/plain": [
       "20.085536923187668"
      ]
     },
     "execution_count": 2,
     "metadata": {},
     "output_type": "execute_result"
    }
   ],
   "source": [
    "math.exp(3)  # Es el valor de e^3"
   ]
  },
  {
   "cell_type": "code",
   "execution_count": 5,
   "metadata": {},
   "outputs": [
    {
     "data": {
      "text/plain": [
       "1.718281828459045"
      ]
     },
     "execution_count": 5,
     "metadata": {},
     "output_type": "execute_result"
    }
   ],
   "source": [
    "math.expm1(1) # es lo mismo que decir math.e - 1"
   ]
  },
  {
   "cell_type": "code",
   "execution_count": 4,
   "metadata": {},
   "outputs": [
    {
     "data": {
      "text/plain": [
       "1.718281828459045"
      ]
     },
     "execution_count": 4,
     "metadata": {},
     "output_type": "execute_result"
    }
   ],
   "source": [
    "math.e - 1"
   ]
  },
  {
   "cell_type": "code",
   "execution_count": 10,
   "metadata": {},
   "outputs": [
    {
     "name": "stdout",
     "output_type": "stream",
     "text": [
      "2.4849066497880004\n",
      "3.5849625007211565\n"
     ]
    }
   ],
   "source": [
    "print(math.log(12)) # Cuando se hace esa función es el ln = logaritmo neperiano pra mudar la base deves:\n",
    "print(math.log(12, 2) )#Es logaritmo de 12 con base 2"
   ]
  },
  {
   "cell_type": "code",
   "execution_count": 18,
   "metadata": {},
   "outputs": [
    {
     "name": "stdout",
     "output_type": "stream",
     "text": [
      "-0.8011526357338304\n",
      "-1.0\n",
      "1.633123935319537e+16\n",
      "1.5707963267948966\n",
      "0.0\n",
      "0.7853981633974483\n"
     ]
    }
   ],
   "source": [
    "print(math.sin(180)) #Seno de 180 esta en radianes\n",
    "print(math.cos(math.pi)) #Coseno de pi\n",
    "print(math.tan(math.pi/2)) #Tangente de pi/2\n",
    "print(math.asin(1)) #Radianes arc seno\n",
    "print(math.acos(1)) #Arc coseno en radianes\n",
    "print(math.atan(1)) #Arc tangente"
   ]
  },
  {
   "cell_type": "code",
   "execution_count": 20,
   "metadata": {},
   "outputs": [
    {
     "name": "stdout",
     "output_type": "stream",
     "text": [
      "45.0\n",
      "1.0471975511965976\n"
     ]
    }
   ],
   "source": [
    "print(math.degrees(math.atan(1)) ) #Convierte de radianes a grados\n",
    "print(math.radians(60))#Convierte los valores de grados para radianes"
   ]
  },
  {
   "cell_type": "code",
   "execution_count": 21,
   "metadata": {},
   "outputs": [
    {
     "name": "stdout",
     "output_type": "stream",
     "text": [
      "1.0471975511965976\n",
      "0.5000000000000001\n"
     ]
    }
   ],
   "source": [
    "print(math.radians(60)) #60 grados lo pasa a radianes\n",
    "print(math.cos(math.radians(60))) #Da el resultado de radianes para la distancia en cm que seria 1/2"
   ]
  },
  {
   "cell_type": "code",
   "execution_count": 30,
   "metadata": {},
   "outputs": [
    {
     "name": "stdout",
     "output_type": "stream",
     "text": [
      "5.0\n",
      "5.0\n",
      "0.9272952180016122\n",
      "53.13010235415598\n"
     ]
    }
   ],
   "source": [
    "print(math.hypot(3,4))  # Saber el valor de un vector 3 = Ancho = eje 'x' y 4 = alto = eje 'y'\n",
    "                 #da como valor tambien la hipotenusa recordando que h^2 = a^2+b^2 Ejeplo:\n",
    "print(math.sqrt(3**2+4**2))\n",
    "#Podemos calcular tambien el angulo de ese vector\n",
    "print(math.atan2(4, 3)) #Se deve invertir es el eje de las 'Y' primero y despues el eje de las 'X' \n",
    "                #y el resultado siempre va a ser de -pi hasta pi\n",
    "#Como el resultado es en radianes lo paso a grados:\n",
    "print(math.degrees(math.atan2(4, 3)))"
   ]
  },
  {
   "cell_type": "markdown",
   "metadata": {},
   "source": [
    "###### Funciones hiperbolicas"
   ]
  },
  {
   "cell_type": "code",
   "execution_count": 37,
   "metadata": {},
   "outputs": [
    {
     "name": "stdout",
     "output_type": "stream",
     "text": [
      "0.0\n",
      "1.0\n",
      "0.0\n",
      "0.0\n",
      "0.0\n"
     ]
    }
   ],
   "source": [
    "print(math.sinh(0))\n",
    "print(math.cosh(0))\n",
    "print(math.tanh(0))\n",
    "print(math.asinh(0))\n",
    "# print(math.acosh(0)) No existe esa función da error arc coseno hiperbolico\n",
    "print(math.atanh(0))\n"
   ]
  },
  {
   "cell_type": "markdown",
   "metadata": {},
   "source": [
    "la función gamma o la función ERF (math.erf(0)) o la función de error \n",
    "está la función de x que se utiliza típicamente para funciones estadísticas relacionadas con la distribución\n",
    "normal a la hora de calcular la distribución normal.\n",
    "Se pasa por la función de error.\n",
    "Entonces la función de error de 0 cero o la función de error punto de Pi punto Pi sería cero coma nueve\n",
    "nueve nueve nueve casi 1\n",
    "Se utiliza para ya os digo se utiliza sobre todo para obtener la función de\n",
    "distribución acumulada de la distribución normal.\n",
    "Cuando trabajamos con de distribuciones normales con campanas de Gauss muchas veces aparece la función ERF"
   ]
  },
  {
   "cell_type": "code",
   "execution_count": 40,
   "metadata": {},
   "outputs": [
    {
     "name": "stdout",
     "output_type": "stream",
     "text": [
      "0.9999911238536323\n",
      "8.876146367641612e-06\n",
      "1.0\n"
     ]
    }
   ],
   "source": [
    "print(math.erf(math.pi) )\n",
    "print(math.erfc(math.pi)) #función complementaria de erf si la sumo con erf da 1 de resultado. ejempl:\n",
    "\n",
    "print(math.erfc(math.pi)+math.erf(math.pi) )"
   ]
  },
  {
   "cell_type": "code",
   "execution_count": 43,
   "metadata": {},
   "outputs": [
    {
     "name": "stdout",
     "output_type": "stream",
     "text": [
      "24.0\n",
      "24\n"
     ]
    }
   ],
   "source": [
    "print(math.gamma(5)) #se denomina como el factorial generalizado da como resultado el factorial de 4\n",
    "print(4*3*2*1 ) #Ejemplo del factorial de 4"
   ]
  },
  {
   "cell_type": "markdown",
   "metadata": {},
   "source": [
    "# Como definir funciones en Python"
   ]
  },
  {
   "cell_type": "code",
   "execution_count": 48,
   "metadata": {},
   "outputs": [
    {
     "data": {
      "text/plain": [
       "7"
      ]
     },
     "execution_count": 48,
     "metadata": {},
     "output_type": "execute_result"
    }
   ],
   "source": [
    "#Creo una clase que va a ser operaciones se definen con parentices y dentro la letra object\n",
    "#defino abajo el metodo de suma para la clase operaciones\n",
    "#La diferencia es que ahora esta dentro de la clase operaciones\n",
    "#Dentro de la clase el 1er parametro es self y despues van las variables que van a realizar la función\n",
    "class Operaciones(object):\n",
    "    def suma(self, x, y):\n",
    "        self.resultado = x+y\n",
    "        return self.resultado\n",
    "    \n",
    "#En esta se puede usar para una serie grande de funciones para tener resultados.\n",
    "operinstance = Operaciones() #Se crea el objeto de la clase\n",
    "operinstance.suma(3,4) #Se invoca la clase"
   ]
  },
  {
   "cell_type": "code",
   "execution_count": 49,
   "metadata": {},
   "outputs": [
    {
     "data": {
      "text/plain": [
       "7"
      ]
     },
     "execution_count": 49,
     "metadata": {},
     "output_type": "execute_result"
    }
   ],
   "source": [
    "# Ejemplo 1\n",
    "def suma1(x, y): #Defino una función suma, que los valores 'x, y' los sume\n",
    "    return x+y\n",
    "#Es limitado para hacer los calculos\n",
    "suma1(3,4) #Resultado de la def suma1"
   ]
  },
  {
   "cell_type": "code",
   "execution_count": 50,
   "metadata": {},
   "outputs": [
    {
     "data": {
      "text/plain": [
       "(7, -3)"
      ]
     },
     "execution_count": 50,
     "metadata": {},
     "output_type": "execute_result"
    }
   ],
   "source": [
    "# Ejemplo 2\n",
    "#Usando 2 funciones\n",
    "def sumaresta(x,y):\n",
    "    suma = x+y #Función suma\n",
    "    resta = x-y #Función resta\n",
    "    return(suma,resta) #Para poder tener el retorno de ambas funciones deve estar \n",
    "                       # definida las respuestas en el return\n",
    "\n",
    "sumaresta(2,5) #Valor para operacionalizar"
   ]
  },
  {
   "cell_type": "code",
   "execution_count": 1,
   "metadata": {},
   "outputs": [],
   "source": [
    "# Ejemplo 3\n",
    "def saludar():\n",
    "    print('Hola estoy programando')\n",
    "    return\n",
    "\n",
    "saludar()"
   ]
  },
  {
   "cell_type": "code",
   "execution_count": 6,
   "metadata": {},
   "outputs": [],
   "source": [
    "# Ejemplo 4\n",
    "def saludar():\n",
    "    name = str(input('Introduce tu nombre: '))\n",
    "    if name: #Aplica si un nombre fue introducido\n",
    "        print('Hola '+name) #Puede ustar el + porque es string\n",
    "    else:  #Aplica si no introducen nada\n",
    "        print('Hola estoy programando')\n",
    "    return"
   ]
  },
  {
   "cell_type": "code",
   "execution_count": 8,
   "metadata": {},
   "outputs": [
    {
     "name": "stdout",
     "output_type": "stream",
     "text": [
      "Introduce tu nombre: arturo\n",
      "Hola arturo\n"
     ]
    }
   ],
   "source": [
    "# Ejemplo 4 continuación\n",
    "saludar() #Da como resultado lo anterior realizado"
   ]
  },
  {
   "cell_type": "code",
   "execution_count": 11,
   "metadata": {},
   "outputs": [],
   "source": [
    "# Ejemplo 5\n",
    "def buscapares():\n",
    "    for x in range(10):  #Para cada x en el rango de 10\n",
    "                         #En este la x vale 1 despues pasa para 2 y asi hasta 10\n",
    "        if x % 2 == 0: #Función para determinar un par (Aplica para todo numero que tenga resto = 0)\n",
    "            return\n",
    "    print('Fin de la ejecución')\n",
    "buscapares() #No da como resultado nada porque en la primera que encuentre un numero par\n",
    "             # el programa va a finalizar devido al return en la posición que esta"
   ]
  },
  {
   "cell_type": "markdown",
   "metadata": {},
   "source": [
    "###### Argumentos\n",
    "Por ejemplo si vosotros queréis sumar los elementos que tienen un vector o calcular sus cuadrados pues\n",
    "típicamente no sabéis si el vector va a traer dos coordenadas tres coordenadas o 58 coordenadas.\n",
    "Ese es el caso donde cuando no sabemos el número exacto de argumentos que queremos pasarle a una función\n",
    "conviene utilizar la sintaxis de asterisco delante de un argumento."
   ]
  },
  {
   "cell_type": "code",
   "execution_count": 17,
   "metadata": {},
   "outputs": [
    {
     "name": "stdout",
     "output_type": "stream",
     "text": [
      "15\n",
      "15\n"
     ]
    }
   ],
   "source": [
    "# Ejemplo 6\n",
    "# Se puede hacer una suma de argumentos o varios numeros a la vez ejemplo\n",
    "def suma(*args):\n",
    "    return sum(args) #sum() = Es una función ya definida en python que suma todos los elementos del vector\n",
    "                    #o colección de datos automaticamente.\n",
    "                    #El asterisco no es necesario ya que se uso al principio como parametro de la letra args\n",
    "        \n",
    "print(suma(1,2,3,4,5)) #Suma del argumento, con ese * hace que acepte argumentos de longitud variable\n",
    "                        #Es decir puede tener 5 numeros como pueden ser 10, 20 ou mas ou menos de 5.\n",
    "print(1+2+3+4+5) #Comprobación de la suma del argumento\n"
   ]
  },
  {
   "cell_type": "code",
   "execution_count": 18,
   "metadata": {},
   "outputs": [],
   "source": [
    "# Ejemplo 7\n",
    "def sumacuadrados(*datos):\n",
    "    total = 0 #Total de la suma inicialmente comienza en 0\n",
    "    for d in datos: #Con esto hace que cada numero va a elevarse al cuadrado, es decir:\n",
    "                    #d dentro de datos es:\n",
    "        total = total + d**2 #un acumulador donde:\n",
    "                            #1ra vez que corre total = 0\n",
    "                            #2da vez que corre total = 1 y asi sucesivamente va acumulando y incrementando el valor\n",
    "                            \n",
    "    return total  #Cuando acaba el bucle lo cierro."
   ]
  },
  {
   "cell_type": "code",
   "execution_count": 20,
   "metadata": {},
   "outputs": [
    {
     "data": {
      "text/plain": [
       "20"
      ]
     },
     "execution_count": 20,
     "metadata": {},
     "output_type": "execute_result"
    }
   ],
   "source": [
    "#Continuación del ejemplo 7\n",
    "sumacuadrados(2,4) # es lo mismo que decir 2^2+4^2 = 20"
   ]
  },
  {
   "cell_type": "markdown",
   "metadata": {},
   "source": [
    "total = total + d**2 Esa sintaxis puede definirse tambien como:\n",
    "total += d**2 Va a valer lo mismo"
   ]
  },
  {
   "cell_type": "markdown",
   "metadata": {},
   "source": [
    "###### Funciones anónimas tambien denominadas lambda"
   ]
  },
  {
   "cell_type": "code",
   "execution_count": 24,
   "metadata": {},
   "outputs": [
    {
     "data": {
      "text/plain": [
       "6"
      ]
     },
     "execution_count": 24,
     "metadata": {},
     "output_type": "execute_result"
    }
   ],
   "source": [
    "#Ej. 1\n",
    "doble = lambda x:x*2 #Defino la función para que el valor de doble realize la operación\n",
    "                    #x * 2 Donde x es cualquier numero agregado\n",
    "doble(3) # En este caso es 3x2"
   ]
  },
  {
   "cell_type": "code",
   "execution_count": 25,
   "metadata": {},
   "outputs": [
    {
     "data": {
      "text/plain": [
       "9"
      ]
     },
     "execution_count": 25,
     "metadata": {},
     "output_type": "execute_result"
    }
   ],
   "source": [
    "#Ej. 2\n",
    "cuadrado = lambda x:x**2 #Aqui determino el cuadrado de algun numero\n",
    "cuadrado(3) #En este caso es 3^2"
   ]
  },
  {
   "cell_type": "code",
   "execution_count": 27,
   "metadata": {},
   "outputs": [
    {
     "data": {
      "text/plain": [
       "5"
      ]
     },
     "execution_count": 27,
     "metadata": {},
     "output_type": "execute_result"
    }
   ],
   "source": [
    "#Ej. 3\n",
    "suma = lambda x, y : x+y  #se refere a la funcion suma dado 2 parametros 'x' e 'y' realizan la operación x+y\n",
    "suma(3,2) #Da como resultado 5"
   ]
  },
  {
   "cell_type": "markdown",
   "metadata": {},
   "source": [
    "###### Ej. 4 de uso de lambda para filtrar datos:\n",
    "\n",
    "Paquete functools herramientas de funciones que es un paquete básico y que viene instalado\n",
    "de serie en Python por defecto."
   ]
  },
  {
   "cell_type": "code",
   "execution_count": 29,
   "metadata": {},
   "outputs": [
    {
     "data": {
      "text/plain": [
       "[5, 6, 7, 8, 9]"
      ]
     },
     "execution_count": 29,
     "metadata": {},
     "output_type": "execute_result"
    }
   ],
   "source": [
    "from functools import reduce #Se denomina el paquete y se importa la función que ser equier\n",
    "z = (1,2,3,4,5,6,7,8,9) #Vector de datos\n",
    "filtrar_dato = list(filter(lambda x: (x*2>8), z)) #Filtro datos que todo numero multiplicado por 2\n",
    "                                                  #si es mayor a 8 de mi resultado\n",
    "filtrar_dato #Aqui da 5,6,7,8,9 todos esos numeros multiplicados por 2 da mayor a 8"
   ]
  },
  {
   "cell_type": "code",
   "execution_count": 30,
   "metadata": {},
   "outputs": [
    {
     "data": {
      "text/plain": [
       "[2, 4, 6, 8, 10, 12, 14, 16, 18]"
      ]
     },
     "execution_count": 30,
     "metadata": {},
     "output_type": "execute_result"
    }
   ],
   "source": [
    "# Ej. 5\n",
    "#Puedo usar la lambda para mapear y transformar los datos en este caso multiplicarlo por 2 y me de ese resultado\n",
    "mapped_data = list(map(lambda x:x*2, z) )\n",
    "mapped_data #Aqui me da como resultado todos los numeros que estan en Z y los multiplica por 2 y me da el resultado"
   ]
  },
  {
   "cell_type": "code",
   "execution_count": null,
   "metadata": {},
   "outputs": [],
   "source": [
    "Por ejemplo si quiero sumar todos lo único que tendría que hacer es X Massi dado el resultado de la\n",
    "suma parcial anterior con el nuevo dato actual Sumo ambos.\n"
   ]
  },
  {
   "cell_type": "code",
   "execution_count": 34,
   "metadata": {},
   "outputs": [
    {
     "data": {
      "text/plain": [
       "45"
      ]
     },
     "execution_count": 34,
     "metadata": {},
     "output_type": "execute_result"
    }
   ],
   "source": [
    "#Recordando que z = data en estos ejemplos\n",
    "reduce_data = reduce(lambda x, y: x+y, z)  #suma parcial anterior 'x', con el nuevo dato 'y:x+y' actual, Sumo ambos\n",
    " #Esto me sumará al vector entero si se lo pasa como parámetro Aqui para data.\n",
    "\n",
    "reduce_data\n",
    "#Lo que hace es \n",
    "#1ra corrida toma 0 (Valor inicial)+ 1 = 1(nuevo valor), \n",
    "#1+2 = 3 (Nuevo valor) \n",
    "#3(Se convierte en el valor antiguo para la nueva operación) +3 = 6 (Nuevo valor)\n",
    "#6(Se convierte en el valor antiguo para la nueva operación) + 4 = 10 ... y asi va hasta convertirse en 45"
   ]
  },
  {
   "cell_type": "markdown",
   "metadata": {},
   "source": [
    "Recursos adicionales de Python\n",
    "\n",
    "Aquí tenéis 3 links que os serán de utilidad a la hora de trabajar con Python. Echadles un ojo\n",
    "\n",
    "\n",
    "https://www.datacamp.com/community/data-science-cheatsheets\n",
    "\n",
    "https://github.com/ml874/Data-Science-Cheatsheet/blob/master/data-science-cheatsheet.pdf\n",
    "\n",
    "https://github.com/FavioVazquez/ds-cheatsheets"
   ]
  },
  {
   "cell_type": "code",
   "execution_count": null,
   "metadata": {},
   "outputs": [],
   "source": []
  },
  {
   "cell_type": "code",
   "execution_count": null,
   "metadata": {},
   "outputs": [],
   "source": []
  },
  {
   "cell_type": "code",
   "execution_count": null,
   "metadata": {},
   "outputs": [],
   "source": []
  },
  {
   "cell_type": "code",
   "execution_count": null,
   "metadata": {},
   "outputs": [],
   "source": []
  },
  {
   "cell_type": "code",
   "execution_count": null,
   "metadata": {},
   "outputs": [],
   "source": []
  },
  {
   "cell_type": "code",
   "execution_count": null,
   "metadata": {},
   "outputs": [],
   "source": []
  },
  {
   "cell_type": "code",
   "execution_count": null,
   "metadata": {},
   "outputs": [],
   "source": []
  },
  {
   "cell_type": "code",
   "execution_count": null,
   "metadata": {},
   "outputs": [],
   "source": []
  },
  {
   "cell_type": "code",
   "execution_count": null,
   "metadata": {},
   "outputs": [],
   "source": []
  },
  {
   "cell_type": "code",
   "execution_count": null,
   "metadata": {},
   "outputs": [],
   "source": []
  },
  {
   "cell_type": "code",
   "execution_count": null,
   "metadata": {},
   "outputs": [],
   "source": []
  },
  {
   "cell_type": "code",
   "execution_count": null,
   "metadata": {},
   "outputs": [],
   "source": []
  },
  {
   "cell_type": "code",
   "execution_count": null,
   "metadata": {},
   "outputs": [],
   "source": []
  },
  {
   "cell_type": "code",
   "execution_count": null,
   "metadata": {},
   "outputs": [],
   "source": []
  },
  {
   "cell_type": "code",
   "execution_count": 26,
   "metadata": {},
   "outputs": [],
   "source": []
  },
  {
   "cell_type": "code",
   "execution_count": null,
   "metadata": {},
   "outputs": [],
   "source": []
  },
  {
   "cell_type": "code",
   "execution_count": null,
   "metadata": {},
   "outputs": [],
   "source": []
  },
  {
   "cell_type": "code",
   "execution_count": null,
   "metadata": {},
   "outputs": [],
   "source": []
  },
  {
   "cell_type": "code",
   "execution_count": null,
   "metadata": {},
   "outputs": [],
   "source": []
  },
  {
   "cell_type": "code",
   "execution_count": null,
   "metadata": {},
   "outputs": [],
   "source": []
  },
  {
   "cell_type": "code",
   "execution_count": null,
   "metadata": {},
   "outputs": [],
   "source": []
  },
  {
   "cell_type": "code",
   "execution_count": null,
   "metadata": {},
   "outputs": [],
   "source": []
  },
  {
   "cell_type": "code",
   "execution_count": null,
   "metadata": {},
   "outputs": [],
   "source": []
  },
  {
   "cell_type": "code",
   "execution_count": null,
   "metadata": {},
   "outputs": [],
   "source": []
  },
  {
   "cell_type": "code",
   "execution_count": null,
   "metadata": {},
   "outputs": [],
   "source": []
  },
  {
   "cell_type": "code",
   "execution_count": null,
   "metadata": {},
   "outputs": [],
   "source": []
  },
  {
   "cell_type": "code",
   "execution_count": null,
   "metadata": {},
   "outputs": [],
   "source": []
  },
  {
   "cell_type": "code",
   "execution_count": null,
   "metadata": {},
   "outputs": [],
   "source": []
  },
  {
   "cell_type": "code",
   "execution_count": null,
   "metadata": {},
   "outputs": [],
   "source": []
  },
  {
   "cell_type": "code",
   "execution_count": null,
   "metadata": {},
   "outputs": [],
   "source": []
  },
  {
   "cell_type": "code",
   "execution_count": null,
   "metadata": {},
   "outputs": [],
   "source": []
  },
  {
   "cell_type": "code",
   "execution_count": null,
   "metadata": {},
   "outputs": [],
   "source": []
  },
  {
   "cell_type": "code",
   "execution_count": null,
   "metadata": {},
   "outputs": [],
   "source": []
  },
  {
   "cell_type": "code",
   "execution_count": null,
   "metadata": {},
   "outputs": [],
   "source": []
  },
  {
   "cell_type": "code",
   "execution_count": null,
   "metadata": {},
   "outputs": [],
   "source": []
  },
  {
   "cell_type": "code",
   "execution_count": null,
   "metadata": {},
   "outputs": [],
   "source": []
  },
  {
   "cell_type": "code",
   "execution_count": null,
   "metadata": {},
   "outputs": [],
   "source": []
  },
  {
   "cell_type": "code",
   "execution_count": null,
   "metadata": {},
   "outputs": [],
   "source": []
  },
  {
   "cell_type": "code",
   "execution_count": null,
   "metadata": {},
   "outputs": [],
   "source": []
  },
  {
   "cell_type": "code",
   "execution_count": null,
   "metadata": {},
   "outputs": [],
   "source": []
  },
  {
   "cell_type": "code",
   "execution_count": null,
   "metadata": {},
   "outputs": [],
   "source": []
  },
  {
   "cell_type": "code",
   "execution_count": null,
   "metadata": {},
   "outputs": [],
   "source": []
  },
  {
   "cell_type": "code",
   "execution_count": null,
   "metadata": {},
   "outputs": [],
   "source": []
  },
  {
   "cell_type": "code",
   "execution_count": null,
   "metadata": {},
   "outputs": [],
   "source": []
  },
  {
   "cell_type": "code",
   "execution_count": null,
   "metadata": {},
   "outputs": [],
   "source": []
  },
  {
   "cell_type": "code",
   "execution_count": null,
   "metadata": {},
   "outputs": [],
   "source": []
  },
  {
   "cell_type": "code",
   "execution_count": null,
   "metadata": {},
   "outputs": [],
   "source": []
  },
  {
   "cell_type": "code",
   "execution_count": null,
   "metadata": {},
   "outputs": [],
   "source": []
  },
  {
   "cell_type": "code",
   "execution_count": null,
   "metadata": {},
   "outputs": [],
   "source": []
  },
  {
   "cell_type": "code",
   "execution_count": null,
   "metadata": {},
   "outputs": [],
   "source": []
  },
  {
   "cell_type": "code",
   "execution_count": null,
   "metadata": {},
   "outputs": [],
   "source": []
  },
  {
   "cell_type": "code",
   "execution_count": null,
   "metadata": {},
   "outputs": [],
   "source": []
  },
  {
   "cell_type": "code",
   "execution_count": null,
   "metadata": {},
   "outputs": [],
   "source": []
  },
  {
   "cell_type": "code",
   "execution_count": null,
   "metadata": {},
   "outputs": [],
   "source": []
  }
 ],
 "metadata": {
  "kernelspec": {
   "display_name": "Python 3",
   "language": "python",
   "name": "python3"
  },
  "language_info": {
   "codemirror_mode": {
    "name": "ipython",
    "version": 3
   },
   "file_extension": ".py",
   "mimetype": "text/x-python",
   "name": "python",
   "nbconvert_exporter": "python",
   "pygments_lexer": "ipython3",
   "version": "3.8.5"
  }
 },
 "nbformat": 4,
 "nbformat_minor": 4
}
