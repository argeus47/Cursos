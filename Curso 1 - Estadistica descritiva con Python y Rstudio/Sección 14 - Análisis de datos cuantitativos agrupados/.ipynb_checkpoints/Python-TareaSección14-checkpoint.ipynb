{
 "cells": [
  {
   "cell_type": "markdown",
   "metadata": {},
   "source": [
    "* Da el algoritmo para reproducir el proceso de generación de clases y sus marcas respectivo para el número de clases obtenido con la regla de la Scott en  Python."
   ]
  },
  {
   "cell_type": "code",
   "execution_count": 1,
   "metadata": {},
   "outputs": [
    {
     "data": {
      "text/html": [
       "<div>\n",
       "<style scoped>\n",
       "    .dataframe tbody tr th:only-of-type {\n",
       "        vertical-align: middle;\n",
       "    }\n",
       "\n",
       "    .dataframe tbody tr th {\n",
       "        vertical-align: top;\n",
       "    }\n",
       "\n",
       "    .dataframe thead th {\n",
       "        text-align: right;\n",
       "    }\n",
       "</style>\n",
       "<table border=\"1\" class=\"dataframe\">\n",
       "  <thead>\n",
       "    <tr style=\"text-align: right;\">\n",
       "      <th></th>\n",
       "      <th>input</th>\n",
       "      <th>color</th>\n",
       "      <th>spine</th>\n",
       "      <th>width</th>\n",
       "      <th>satell</th>\n",
       "      <th>weight</th>\n",
       "    </tr>\n",
       "  </thead>\n",
       "  <tbody>\n",
       "    <tr>\n",
       "      <th>0</th>\n",
       "      <td>1</td>\n",
       "      <td>3</td>\n",
       "      <td>3</td>\n",
       "      <td>28.3</td>\n",
       "      <td>8</td>\n",
       "      <td>3050</td>\n",
       "    </tr>\n",
       "    <tr>\n",
       "      <th>1</th>\n",
       "      <td>2</td>\n",
       "      <td>4</td>\n",
       "      <td>3</td>\n",
       "      <td>22.5</td>\n",
       "      <td>0</td>\n",
       "      <td>1550</td>\n",
       "    </tr>\n",
       "    <tr>\n",
       "      <th>2</th>\n",
       "      <td>3</td>\n",
       "      <td>2</td>\n",
       "      <td>1</td>\n",
       "      <td>26.0</td>\n",
       "      <td>9</td>\n",
       "      <td>2300</td>\n",
       "    </tr>\n",
       "    <tr>\n",
       "      <th>3</th>\n",
       "      <td>4</td>\n",
       "      <td>4</td>\n",
       "      <td>3</td>\n",
       "      <td>24.8</td>\n",
       "      <td>0</td>\n",
       "      <td>2100</td>\n",
       "    </tr>\n",
       "    <tr>\n",
       "      <th>4</th>\n",
       "      <td>5</td>\n",
       "      <td>4</td>\n",
       "      <td>3</td>\n",
       "      <td>26.0</td>\n",
       "      <td>4</td>\n",
       "      <td>2600</td>\n",
       "    </tr>\n",
       "    <tr>\n",
       "      <th>...</th>\n",
       "      <td>...</td>\n",
       "      <td>...</td>\n",
       "      <td>...</td>\n",
       "      <td>...</td>\n",
       "      <td>...</td>\n",
       "      <td>...</td>\n",
       "    </tr>\n",
       "    <tr>\n",
       "      <th>168</th>\n",
       "      <td>169</td>\n",
       "      <td>4</td>\n",
       "      <td>3</td>\n",
       "      <td>26.1</td>\n",
       "      <td>3</td>\n",
       "      <td>2750</td>\n",
       "    </tr>\n",
       "    <tr>\n",
       "      <th>169</th>\n",
       "      <td>170</td>\n",
       "      <td>4</td>\n",
       "      <td>3</td>\n",
       "      <td>29.0</td>\n",
       "      <td>4</td>\n",
       "      <td>3275</td>\n",
       "    </tr>\n",
       "    <tr>\n",
       "      <th>170</th>\n",
       "      <td>171</td>\n",
       "      <td>2</td>\n",
       "      <td>1</td>\n",
       "      <td>28.0</td>\n",
       "      <td>0</td>\n",
       "      <td>2625</td>\n",
       "    </tr>\n",
       "    <tr>\n",
       "      <th>171</th>\n",
       "      <td>172</td>\n",
       "      <td>5</td>\n",
       "      <td>3</td>\n",
       "      <td>27.0</td>\n",
       "      <td>0</td>\n",
       "      <td>2625</td>\n",
       "    </tr>\n",
       "    <tr>\n",
       "      <th>172</th>\n",
       "      <td>173</td>\n",
       "      <td>3</td>\n",
       "      <td>2</td>\n",
       "      <td>24.5</td>\n",
       "      <td>0</td>\n",
       "      <td>2000</td>\n",
       "    </tr>\n",
       "  </tbody>\n",
       "</table>\n",
       "<p>173 rows × 6 columns</p>\n",
       "</div>"
      ],
      "text/plain": [
       "     input  color  spine  width  satell  weight\n",
       "0        1      3      3   28.3       8    3050\n",
       "1        2      4      3   22.5       0    1550\n",
       "2        3      2      1   26.0       9    2300\n",
       "3        4      4      3   24.8       0    2100\n",
       "4        5      4      3   26.0       4    2600\n",
       "..     ...    ...    ...    ...     ...     ...\n",
       "168    169      4      3   26.1       3    2750\n",
       "169    170      4      3   29.0       4    3275\n",
       "170    171      2      1   28.0       0    2625\n",
       "171    172      5      3   27.0       0    2625\n",
       "172    173      3      2   24.5       0    2000\n",
       "\n",
       "[173 rows x 6 columns]"
      ]
     },
     "execution_count": 1,
     "metadata": {},
     "output_type": "execute_result"
    }
   ],
   "source": [
    "import pandas as pd #Libreria para cargar un data frame\n",
    "df = pd.read_csv('https://raw.githubusercontent.com/argeus47/r-basic/master/data/datacrab.txt', #Busco el archivo\n",
    "                 #No es necesario colocar todos esos parametros siempre. \n",
    "                 #a menos que no llame la información correctamente                                 \n",
    "                 delimiter = ' ', #Sirve para ajustar las separaciones\n",
    "                 decimal = '.', #Para que considere las informaciones como numero\n",
    "                 encoding = 'utf8') #Es necesario si da problema la codificación\n",
    "df"
   ]
  },
  {
   "cell_type": "code",
   "execution_count": 2,
   "metadata": {},
   "outputs": [
    {
     "data": {
      "text/plain": [
       "0      28.3\n",
       "1      22.5\n",
       "2      26.0\n",
       "3      24.8\n",
       "4      26.0\n",
       "       ... \n",
       "168    26.1\n",
       "169    29.0\n",
       "170    28.0\n",
       "171    27.0\n",
       "172    24.5\n",
       "Name: width, Length: 173, dtype: float64"
      ]
     },
     "execution_count": 2,
     "metadata": {},
     "output_type": "execute_result"
    }
   ],
   "source": [
    "cw = df['width'] #Separo la variable de estudio en este caso es toda la columna de peso\n",
    "cw"
   ]
  },
  {
   "cell_type": "code",
   "execution_count": 3,
   "metadata": {},
   "outputs": [],
   "source": [
    "#Para empezar a determinar todas las formulas de estadisticas devemos usar lo siguiente:\n",
    "# Python = np.ptp(cw) = Rstudio = diff(range(cw))\n",
    "import statistics as sta\n",
    "import math\n",
    "import sympy as sp\n",
    "import numpy as np"
   ]
  },
  {
   "cell_type": "markdown",
   "metadata": {},
   "source": [
    "# Regla de Scott"
   ]
  },
  {
   "cell_type": "code",
   "execution_count": 65,
   "metadata": {},
   "outputs": [
    {
     "name": "stdout",
     "output_type": "stream",
     "text": [
      "Amplitud teorica (As)=  1.3247740490966646\n",
      "Calculo para el numero de clases:  10.0\n"
     ]
    }
   ],
   "source": [
    "# 1 Paso Calculo de la clase con la regla de scott\n",
    "n = len(cw) #Longitud de la lista\n",
    "As = 3.5*sta.stdev(cw)*math.pow(n, (-1/3))  #Amplitud teorica\n",
    "\n",
    "#Otra forma de calcular:\n",
    "print('Amplitud teorica (As)= ', 3.5*cw.std()*cw.size**(-1/3))\n",
    "print('Calculo para el numero de clases: ', np.ceil(np.ptp(cw)/As))"
   ]
  },
  {
   "cell_type": "code",
   "execution_count": 5,
   "metadata": {},
   "outputs": [
    {
     "data": {
      "text/plain": [
       "1.25"
      ]
     },
     "execution_count": 5,
     "metadata": {},
     "output_type": "execute_result"
    }
   ],
   "source": [
    "# 2 Paso Amplitud de los intervalos\n",
    "Ci = np.ceil(np.ptp(cw)/As) #Numero de clases\n",
    "Am = np.ptp(cw)/Ci #Amplitud para los intervalos\n",
    "Am #Como no se puede tener 2 cifras significativas para el calculo aplico:"
   ]
  },
  {
   "cell_type": "code",
   "execution_count": 7,
   "metadata": {},
   "outputs": [],
   "source": [
    "def round_up(n, decimals=0):\n",
    "    multiplier = 10 ** decimals\n",
    "    return math.ceil(n * multiplier) / multiplier"
   ]
  },
  {
   "cell_type": "code",
   "execution_count": 8,
   "metadata": {},
   "outputs": [
    {
     "data": {
      "text/plain": [
       "1.3"
      ]
     },
     "execution_count": 8,
     "metadata": {},
     "output_type": "execute_result"
    }
   ],
   "source": [
    "Am = round_up(1.25, 1)\n",
    "Am #Amplitud de intervalos"
   ]
  },
  {
   "cell_type": "code",
   "execution_count": 9,
   "metadata": {},
   "outputs": [
    {
     "name": "stdout",
     "output_type": "stream",
     "text": [
      "Valor minimo:  20.95\n"
     ]
    }
   ],
   "source": [
    "# 3 Paso Calculando los extremos de los intervalos\n",
    "\n",
    "L1 = min(cw)-1/2*0.1\n",
    "print('Valor minimo: ',L1)"
   ]
  },
  {
   "cell_type": "code",
   "execution_count": 62,
   "metadata": {},
   "outputs": [
    {
     "data": {
      "text/plain": [
       "[20.95, 22.25, 23.55, 24.85, 26.15, 27.45, 28.75, 30.05, 31.35, 32.65]"
      ]
     },
     "execution_count": 62,
     "metadata": {},
     "output_type": "execute_result"
    }
   ],
   "source": [
    "L2 = L1 + Am\n",
    "L3 = L2 + Am\n",
    "L4 = L3 + Am\n",
    "L5 = L4 + Am\n",
    "L6 = L5 + Am\n",
    "L7 = L6 + Am\n",
    "L8 = L7 + Am\n",
    "L9 = L8 + Am\n",
    "L10 = L9 + Am\n",
    "L11 = L10 + Am\n",
    "X = [L1,L2,L3,L4,L5,L6,L7,L8,L9,L10] #Como tiene muchas cifras significativas \n",
    "                                         #la redondeo a solamente 3 cifras\n",
    "L= [round(num, 2) for num in X]\n",
    "L"
   ]
  },
  {
   "cell_type": "code",
   "execution_count": 63,
   "metadata": {
    "scrolled": true
   },
   "outputs": [
    {
     "data": {
      "text/plain": [
       "[20.95,\n",
       " 22.25,\n",
       " 23.55,\n",
       " 24.85,\n",
       " 26.15,\n",
       " 27.45,\n",
       " 28.75,\n",
       " 30.049999999999997,\n",
       " 31.35,\n",
       " 32.65]"
      ]
     },
     "execution_count": 63,
     "metadata": {},
     "output_type": "execute_result"
    }
   ],
   "source": [
    "#Lista por extensión\n",
    "[n*Am #Multiplico n que es la cantidad de muestras a estudiar * Am que es la amplitud de intervalos\n",
    " + L1 \n",
    " for n in range(0,10)] #Aplico el for desde la posición n hasta el 11"
   ]
  },
  {
   "cell_type": "code",
   "execution_count": 64,
   "metadata": {},
   "outputs": [
    {
     "data": {
      "text/plain": [
       "[20.95,\n",
       " 22.25,\n",
       " 23.55,\n",
       " 24.85,\n",
       " 26.150000000000002,\n",
       " 27.450000000000003,\n",
       " 28.750000000000004,\n",
       " 30.050000000000004,\n",
       " 31.350000000000005,\n",
       " 32.650000000000006]"
      ]
     },
     "execution_count": 64,
     "metadata": {},
     "output_type": "execute_result"
    }
   ],
   "source": [
    "lista=[L1]\n",
    "for i in range(9):\n",
    "    lista.append(lista[i]+Am)\n",
    "lista"
   ]
  },
  {
   "cell_type": "code",
   "execution_count": 31,
   "metadata": {},
   "outputs": [
    {
     "data": {
      "text/plain": [
       "21.6"
      ]
     },
     "execution_count": 31,
     "metadata": {},
     "output_type": "execute_result"
    }
   ],
   "source": [
    "# 4 Paso Calculando las marcas de clase\n",
    "X1= (L[0]+L[1])/2\n",
    "X1"
   ]
  },
  {
   "cell_type": "code",
   "execution_count": 32,
   "metadata": {},
   "outputs": [
    {
     "data": {
      "text/plain": [
       "[21.6, 22.9, 24.2, 25.5, 26.8, 28.1, 29.4, 30.7, 32.0, 33.3]"
      ]
     },
     "execution_count": 32,
     "metadata": {},
     "output_type": "execute_result"
    }
   ],
   "source": [
    "X2 = X1 + Am\n",
    "X3 = X2 + Am\n",
    "X4 = X3 + Am\n",
    "X5 = X4 + Am\n",
    "X6 = X5 + Am\n",
    "X7 = X6 + Am\n",
    "X8 = X7 + Am\n",
    "X9 = X8 + Am\n",
    "X10 = X9 + Am\n",
    "T = [X1,X2,X3,X4,X5,X6,X7,X8,X9,X10]\n",
    "X= [round(num, 2) for num in T]\n",
    "X"
   ]
  },
  {
   "cell_type": "code",
   "execution_count": 34,
   "metadata": {},
   "outputs": [
    {
     "data": {
      "text/plain": [
       "[21.6,\n",
       " 22.900000000000002,\n",
       " 24.200000000000003,\n",
       " 25.5,\n",
       " 26.8,\n",
       " 28.1,\n",
       " 29.400000000000002,\n",
       " 30.700000000000003,\n",
       " 32.0,\n",
       " 33.300000000000004]"
      ]
     },
     "execution_count": 34,
     "metadata": {},
     "output_type": "execute_result"
    }
   ],
   "source": [
    "#Lista por extensión\n",
    "[n*Am #Multiplico n que es la cantidad de muestras a estudiar * Am que es la amplitud de intervalos\n",
    " + X1 \n",
    " for n in range(0,10)] #Aplico el for desde la posición n hasta el 11"
   ]
  },
  {
   "cell_type": "code",
   "execution_count": 36,
   "metadata": {},
   "outputs": [
    {
     "data": {
      "text/plain": [
       "[21.6,\n",
       " 22.900000000000002,\n",
       " 24.200000000000003,\n",
       " 25.500000000000004,\n",
       " 26.800000000000004,\n",
       " 28.100000000000005,\n",
       " 29.400000000000006,\n",
       " 30.700000000000006,\n",
       " 32.00000000000001,\n",
       " 33.300000000000004]"
      ]
     },
     "execution_count": 36,
     "metadata": {},
     "output_type": "execute_result"
    }
   ],
   "source": [
    "lista2=[X1]\n",
    "for i in range(9):\n",
    "    lista2.append(lista2[i]+Am)\n",
    "lista2"
   ]
  },
  {
   "cell_type": "code",
   "execution_count": null,
   "metadata": {},
   "outputs": [],
   "source": []
  },
  {
   "cell_type": "markdown",
   "metadata": {},
   "source": [
    "# Regla de la Raiz"
   ]
  },
  {
   "cell_type": "code",
   "execution_count": 124,
   "metadata": {},
   "outputs": [
    {
     "name": "stdout",
     "output_type": "stream",
     "text": [
      "Regla de la raiz:\n",
      "Paso 1 = Cantidad de clases: 14\n",
      "Paso 2 = Amplitud teorica:  1.3\n",
      "Paso 3 = Valor minimo:  20.95\n",
      "Paso 3 = Extremo de los intervalos [20.95, 22.25, 23.55, 24.85, 26.15, 27.45, 28.75, 30.05, 31.35, 32.65, 33.95, 35.25, 36.55, 37.85]\n",
      "Paso 4 = Valor minimo:  21.6\n",
      "Paso 4 = Marca de clases [21.6, 22.9, 24.2, 25.5, 26.8, 28.1, 29.4, 30.7, 32.0, 33.3, 34.6, 35.9, 37.2, 38.5]\n"
     ]
    }
   ],
   "source": [
    "#Paso 1 Determino la cantidad de clases\n",
    "print('Regla de la raiz:')\n",
    "n = len(cw) #Determino la longitud\n",
    "k1 = math.ceil(math.sqrt(n)) #Calculo la raiz cuadrada de la longitud redondeada para arriba.\n",
    "print('Paso 1 = Cantidad de clases:',k1)\n",
    "\n",
    "# 2 Paso Amplitud de los intervalos\n",
    "\n",
    "Ciraiz = np.ceil(np.ptp(cw)/k1)\n",
    "Amraiz = round(3.5*cw.std()*cw.size**(-1/3), 1)\n",
    "print('Paso 2 = Amplitud teorica: ', Amraiz)\n",
    "\n",
    "# 3 Paso Calculando los extremos de los intervalos\n",
    "\n",
    "L1 = min(cw)-1/2*0.1\n",
    "print('Paso 3 = Valor minimo: ',L1)\n",
    "#Lista por extensión\n",
    "Extremo = [n*Amraiz #Multiplico n que es la cantidad de muestras a estudiar * Am que es la amplitud de intervalos\n",
    " + L1 \n",
    " for n in range(0,14)] #Aplico el for desde la posición n hasta el 11\n",
    "\n",
    "ExtremoRaiz = [round(num, 2) for num in Extremo] #Cambio las cifras significativas para 1\n",
    "\n",
    "print('Paso 3 = Extremo de los intervalos', ExtremoRaiz)\n",
    "\n",
    "# 4 Paso Calculando las marcas de clase\n",
    "X1raiz= (L[0]+L[1])/2\n",
    "print('Paso 4 = Valor minimo: ',X1raiz)\n",
    "\n",
    "lista2raiz=[X1raiz]\n",
    "for i in range(0, 13):\n",
    "    lista2raiz.append(lista2raiz[i]+Am)\n",
    "    \n",
    "raiz = [round(num, 2) for num in lista2raiz] #Cambio las cifras significativas para 1\n",
    "\n",
    "print('Paso 4 = Marca de clases', raiz)\n"
   ]
  },
  {
   "cell_type": "markdown",
   "metadata": {},
   "source": [
    "# Regla de sturges"
   ]
  },
  {
   "cell_type": "code",
   "execution_count": 125,
   "metadata": {},
   "outputs": [
    {
     "name": "stdout",
     "output_type": "stream",
     "text": [
      "Regla de sturges:\n",
      "Paso 1 = Cantidad de clases: 9\n",
      "Paso 2 = Amplitud teorica:  1.3\n",
      "Paso 3 = Valor minimo:  20.95\n",
      "Paso 3 = Extremo de los intervalos [20.95, 22.25, 23.55, 24.85, 26.15, 27.45, 28.75, 30.05, 31.35]\n",
      "Paso 4 = Valor minimo:  21.6\n",
      "Paso 4 = Marca de clases [21.6, 22.9, 24.2, 25.5, 26.8, 28.1, 29.4, 30.7, 32.0]\n"
     ]
    }
   ],
   "source": [
    "#Paso 1 Determino la cantidad de clases\n",
    "print('Regla de sturges:')\n",
    "n = len(cw) #Determino la longitud\n",
    "k2 = math.ceil(1+math.log(n,2))\n",
    "print('Paso 1 = Cantidad de clases:',k2)\n",
    "\n",
    "# 2 Paso Amplitud de los intervalos\n",
    "\n",
    "Cist = np.ceil(np.ptp(cw)/k2)\n",
    "Amst = round(3.5*cw.std()*cw.size**(-1/3), 1)\n",
    "print('Paso 2 = Amplitud teorica: ', Amst)\n",
    "\n",
    "# 3 Paso Calculando los extremos de los intervalos\n",
    "\n",
    "L1 = min(cw)-1/2*0.1\n",
    "print('Paso 3 = Valor minimo: ',L1)\n",
    "#Lista por extensión\n",
    "Extremost = [n*Amst #Multiplico n que es la cantidad de muestras a estudiar * Am que es la amplitud de intervalos\n",
    " + L1 \n",
    " for n in range(0,k2)] #Aplico el for desde la posición n hasta el 11\n",
    "\n",
    "Extremost = [round(num, 2) for num in Extremost] #Cambio las cifras significativas para 1\n",
    "\n",
    "print('Paso 3 = Extremo de los intervalos', Extremost)\n",
    "\n",
    "# 4 Paso Calculando las marcas de clase\n",
    "X1st= (L[0]+L[1])/2\n",
    "print('Paso 4 = Valor minimo: ',X1st)\n",
    "\n",
    "lista2st=[X1st]\n",
    "for i in range(0, 8):\n",
    "    lista2st.append(lista2st[i]+Amst)\n",
    "    \n",
    "sturges = [round(num, 2) for num in lista2st] #Cambio las cifras significativas para 1\n",
    "\n",
    "print('Paso 4 = Marca de clases', sturges)"
   ]
  },
  {
   "cell_type": "markdown",
   "metadata": {},
   "source": [
    "# Regla de  Freedman-Diaconis"
   ]
  },
  {
   "cell_type": "code",
   "execution_count": 127,
   "metadata": {},
   "outputs": [
    {
     "name": "stdout",
     "output_type": "stream",
     "text": [
      "Regla de Freedman-Diaconis:\n",
      "Paso 1 = Cantidad de clases: 13.0\n",
      "Paso 2 = Amplitud para los intervalos 0.97\n",
      "Paso 3 = Valor minimo:  20.95\n",
      "Paso 3 = Extremo de los intervalos [20.95, 21.92, 22.89, 23.86, 24.83, 25.8, 26.77, 27.74, 28.71, 29.68, 30.65, 31.62, 32.59]\n",
      "Paso 4 = Valor minimo:  21.6\n",
      "Paso 4 = Marca de clases [21.6, 22.57, 23.54, 24.51, 25.48, 26.45, 27.42, 28.39, 29.36, 30.33, 31.3, 32.27, 33.24]\n"
     ]
    }
   ],
   "source": [
    "#Paso 1 Determino la cantidad de clases \n",
    "print('Regla de Freedman-Diaconis:')\n",
    "n = len(cw) #Determino la longitud\n",
    "Afd= round(2*(np.percentile(cw, q=75) - np.percentile(cw, q=25))*math.pow(n, (-1/3)),2) #Amplitud teorica\n",
    "CiAfd = np.ceil(np.ptp(cw)/Afd) #Cantidad de clases\n",
    "print('Paso 1 = Cantidad de clases:',CiAfd)\n",
    "\n",
    "# 2 Paso Amplitud de los intervalos\n",
    "def round_up(n, decimals=0):\n",
    "    multiplier = 10 ** decimals\n",
    "    return math.ceil(n * multiplier) / multiplier\n",
    "\n",
    "AmAfd = round_up(np.ptp(cw)/CiAfd, 2)\n",
    "print('Paso 2 = Amplitud para los intervalos',AmAfd)\n",
    "\n",
    "\n",
    "# 3 Paso Calculando los extremos de los intervalos\n",
    "\n",
    "L1 = min(cw)-1/2*0.1\n",
    "print('Paso 3 = Valor minimo: ',L1)\n",
    "#Lista por extensión\n",
    "Extremofd = [n*AmAfd #Multiplico n que es la cantidad de muestras a estudiar * Am que es la amplitud de intervalos\n",
    "     + L1 \n",
    "    for n in range(0,int(CiAfd))] #Aplico el for desde la posición n hasta el 11\n",
    "\n",
    "Extremofd = [round(num, 2) for num in Extremofd] #Cambio las cifras significativas para 1\n",
    "\n",
    "print('Paso 3 = Extremo de los intervalos', Extremofd)\n",
    "\n",
    "# 4 Paso Calculando las marcas de clase\n",
    "X1fd= (L[0]+L[1])/2\n",
    "print('Paso 4 = Valor minimo: ',X1fd)\n",
    "\n",
    "lista2fd=[X1fd]\n",
    "for i in range(0, 12):\n",
    "    lista2fd.append(lista2fd[i]+AmAfd)\n",
    "    \n",
    "Freedman = [round(num, 2) for num in lista2fd] #Cambio las cifras significativas para 1\n",
    "\n",
    "print('Paso 4 = Marca de clases', Freedman)"
   ]
  },
  {
   "cell_type": "code",
   "execution_count": null,
   "metadata": {},
   "outputs": [],
   "source": []
  },
  {
   "cell_type": "code",
   "execution_count": null,
   "metadata": {},
   "outputs": [],
   "source": []
  }
 ],
 "metadata": {
  "kernelspec": {
   "display_name": "Python 3",
   "language": "python",
   "name": "python3"
  },
  "language_info": {
   "codemirror_mode": {
    "name": "ipython",
    "version": 3
   },
   "file_extension": ".py",
   "mimetype": "text/x-python",
   "name": "python",
   "nbconvert_exporter": "python",
   "pygments_lexer": "ipython3",
   "version": "3.8.5"
  }
 },
 "nbformat": 4,
 "nbformat_minor": 4
}
