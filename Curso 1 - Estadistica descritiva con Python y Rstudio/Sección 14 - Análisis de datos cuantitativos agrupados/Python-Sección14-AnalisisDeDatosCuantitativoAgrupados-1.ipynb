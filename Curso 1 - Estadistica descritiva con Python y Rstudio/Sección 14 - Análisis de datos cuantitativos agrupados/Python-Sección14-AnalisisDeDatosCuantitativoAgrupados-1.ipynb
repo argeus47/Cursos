{
 "cells": [
  {
   "cell_type": "markdown",
   "metadata": {},
   "source": [
    "## Histogramas en Python a mano"
   ]
  },
  {
   "cell_type": "markdown",
   "metadata": {},
   "source": [
    "#### Histogramas sin el uso de librerias"
   ]
  },
  {
   "cell_type": "code",
   "execution_count": 1,
   "metadata": {},
   "outputs": [],
   "source": [
    "x = (0,1,1,1,2,2,3,7,7,7,25)"
   ]
  },
  {
   "cell_type": "code",
   "execution_count": 2,
   "metadata": {},
   "outputs": [],
   "source": [
    "#Defino una funcion que un conteo de elementos devuelva un diccionario\n",
    "def count_elements(seq) -> dict:\n",
    "\n",
    "#En python para dejar comentarios dentro de una función tambien es posible \n",
    "#escrbiendo 3comillas(\"\"\") al inicio para abrir\n",
    "#y 3 al final para cerrar Ej.\n",
    "    \"\"\"\n",
    "    Función que cuenta las frecuencias de aparición \n",
    "    de cada elemento de la secuencia, creando un diccionario \n",
    "    como si fuese una tabla de frecuencias\n",
    "    \"\"\"\n",
    "    hist = {} #Diccionario vacio\n",
    "    #Para cada uno de los elementos, los indices que aparecen en el interior de la secuencia\n",
    "    for i in seq:\n",
    "        hist[i] = hist.get(i, 0)+1 #Con get obtengo el objeto con clave dentro del histograma, \n",
    "                              #y si no existe agrega cero\n",
    "    return hist"
   ]
  },
  {
   "cell_type": "code",
   "execution_count": 3,
   "metadata": {},
   "outputs": [],
   "source": [
    "fAbs = count_elements(x)"
   ]
  },
  {
   "cell_type": "code",
   "execution_count": 4,
   "metadata": {},
   "outputs": [
    {
     "data": {
      "text/plain": [
       "{0: 1, 1: 3, 2: 2, 3: 1, 7: 3, 25: 1}"
      ]
     },
     "execution_count": 4,
     "metadata": {},
     "output_type": "execute_result"
    }
   ],
   "source": [
    "fAbs #Aqui da el valor de las frecuencias absolutas\n",
    "#eso es en razon que el diciconario me informa la cantidad de veces que\n",
    "#aparece cada numero, ej.\n",
    "#0 aparece 1 vez\n",
    "# 1 aparece 3 vezes\n",
    "# 2 aparece 2 vezes .... 25 aparece 1 vez"
   ]
  },
  {
   "cell_type": "markdown",
   "metadata": {},
   "source": [
    "Por lo tanto fijaros que la función count_elements devuelve un diccionario con claves, los elementos\n",
    "únicos que forman parte de la secuencia y las frecuencias el count la frecuencia absoluta como los valores\n",
    "del mismo. Fijaros que lo estoy trabajando a mano, lo estoy construyendo mi propia función mi propio numpy\n",
    "y por así decir fijaros que a la vez que hacemos el bucle \"for i\" de la secuencia a la vez que voy recorriendo\n",
    "la instrucción más importante que tengo señalada aquí de color azul \n",
    "\n",
    "Explicación de la función: hist[i] = hist.get(i, 0)+1\n",
    "HIST para la clave [i]  es igual a HIST punto get que el que hubiera en la posición [i] y si no hay devuelve un cero y añade L1 que se podría traducir:\n",
    "como por cada elemento de la secuencia incrementa su valor correspondiente del diccionario HIST en una unidad"
   ]
  },
  {
   "cell_type": "code",
   "execution_count": 5,
   "metadata": {},
   "outputs": [],
   "source": []
  },
  {
   "cell_type": "code",
   "execution_count": 7,
   "metadata": {},
   "outputs": [
    {
     "data": {
      "text/plain": [
       "Counter({0: 1, 1: 3, 2: 2, 3: 1, 7: 3, 25: 1})"
      ]
     },
     "execution_count": 7,
     "metadata": {},
     "output_type": "execute_result"
    }
   ],
   "source": [
    "#Forma automatica usando libreria\n",
    "from collections import Counter\n",
    "fAbs2 = Counter(x)\n",
    "fAbs2"
   ]
  },
  {
   "cell_type": "code",
   "execution_count": 9,
   "metadata": {},
   "outputs": [
    {
     "data": {
      "text/plain": [
       "True"
      ]
     },
     "execution_count": 9,
     "metadata": {},
     "output_type": "execute_result"
    }
   ],
   "source": [
    "#Para verificar si los itens del diccionario fAbs es igual al diccionario fAbs2\n",
    "fAbs.items() == fAbs2.items()"
   ]
  },
  {
   "cell_type": "code",
   "execution_count": null,
   "metadata": {},
   "outputs": [],
   "source": []
  },
  {
   "cell_type": "code",
   "execution_count": 10,
   "metadata": {},
   "outputs": [],
   "source": [
    "# Ascci estandar de caracteres internacional\n",
    "def ascci_histogram(seq) -> None:\n",
    "    \"\"\"\n",
    "    Un histograma de frecuencias absolutas\n",
    "    colocado en horizontal y con caracteres ASCII\n",
    "    \"\"\"\n",
    "    fAbs = count_elements(seq)\n",
    "    #Cada clave k en la versión ordenada (sort) de las frecuencias absolutas\n",
    "    for k in sorted(fAbs):\n",
    "              #Desde 0 hasta 5d digitos, espacio, 1 valor {1} - > formateamos la propia clave con .format\n",
    "                                            # y se multiplica por la frecuencia absoluta para el parametro k\n",
    "        print('{0:5d} {1}' .format(k, '+'*fAbs[k])) #\n",
    "    "
   ]
  },
  {
   "cell_type": "markdown",
   "metadata": {},
   "source": [
    "{0:5d} Reservo 5 espacios para el digito en cuestion, para la clave del elemento\n",
    "depues:\n",
    "agrego el simbolo +\n",
    "'+' tantas vezes como indique la frecuencia absoluta de la clave = '+'*fAbs[k]"
   ]
  },
  {
   "cell_type": "code",
   "execution_count": 11,
   "metadata": {},
   "outputs": [
    {
     "name": "stdout",
     "output_type": "stream",
     "text": [
      "    0 +\n",
      "    1 +++\n",
      "    2 ++\n",
      "    3 +\n",
      "    7 +++\n",
      "   25 +\n"
     ]
    }
   ],
   "source": [
    "ascci_histogram(x) #Provando la función Ascci"
   ]
  },
  {
   "cell_type": "code",
   "execution_count": 15,
   "metadata": {},
   "outputs": [
    {
     "data": {
      "text/plain": [
       "[1,\n",
       " 1,\n",
       " 1,\n",
       " 1,\n",
       " 1,\n",
       " 1,\n",
       " 1,\n",
       " 1,\n",
       " 1,\n",
       " 2,\n",
       " 2,\n",
       " 2,\n",
       " 2,\n",
       " 2,\n",
       " 2,\n",
       " 2,\n",
       " 2,\n",
       " 2,\n",
       " 2,\n",
       " 2,\n",
       " 2,\n",
       " 3,\n",
       " 3,\n",
       " 3,\n",
       " 3,\n",
       " 3,\n",
       " 3,\n",
       " 3,\n",
       " 3,\n",
       " 3,\n",
       " 3,\n",
       " 3,\n",
       " 3,\n",
       " 3,\n",
       " 3,\n",
       " 3,\n",
       " 3,\n",
       " 3,\n",
       " 3,\n",
       " 3,\n",
       " 3,\n",
       " 5,\n",
       " 5,\n",
       " 5,\n",
       " 5,\n",
       " 5,\n",
       " 5,\n",
       " 5,\n",
       " 5,\n",
       " 5,\n",
       " 5,\n",
       " 7,\n",
       " 7,\n",
       " 7,\n",
       " 7,\n",
       " 7,\n",
       " 7,\n",
       " 7,\n",
       " 7,\n",
       " 7,\n",
       " 7,\n",
       " 7,\n",
       " 7,\n",
       " 8,\n",
       " 8,\n",
       " 8,\n",
       " 8,\n",
       " 8,\n",
       " 8,\n",
       " 8,\n",
       " 8,\n",
       " 8,\n",
       " 8,\n",
       " 8,\n",
       " 8,\n",
       " 9,\n",
       " 9,\n",
       " 9,\n",
       " 9,\n",
       " 9,\n",
       " 9,\n",
       " 9,\n",
       " 9,\n",
       " 9,\n",
       " 9,\n",
       " 9,\n",
       " 9,\n",
       " 9,\n",
       " 9,\n",
       " 9,\n",
       " 10,\n",
       " 10,\n",
       " 10,\n",
       " 10,\n",
       " 10,\n",
       " 10,\n",
       " 10,\n",
       " 10,\n",
       " 10,\n",
       " 10,\n",
       " 10,\n",
       " 10,\n",
       " 10,\n",
       " 10]"
      ]
     },
     "execution_count": 15,
     "metadata": {},
     "output_type": "execute_result"
    }
   ],
   "source": [
    "import random\n",
    "random.seed(2019)\n",
    "vals = [1,2,3,5,7,8,9,10] #valores del eje x\n",
    "#Frecuencias absolutas es: un array generado con un random que es entre 5 y 20\n",
    "#For para cada _ (Barra baja ou para cada valor que este disponible en el array vals)\n",
    "\n",
    "# Es decir: Para cada uno de los valores que esta en el conjunto vals, \n",
    "                        #se generara un numero aleatorio entre 5 y 20\n",
    "freqs = (random.randint(5,20) for _ in vals) #Esto genera datos\n",
    "\n",
    "data = [] #Voy a crear un array vacio\n",
    "#For para cada calve k, y valor (v)\n",
    "#dentro de juntar la par zip\n",
    "#Función zip es usada para juntar 2 arrays por cada lado diferente y correrlos a la par\n",
    "for k, v in zip(vals, freqs):\n",
    "#La variable k tomara cada uno de los valores que esta en vals\n",
    "#la variable v tomara cada uno de los valores que se va a generar en freqs\n",
    "    data.extend([k]*v)\n",
    "\n",
    "data #imprimo el valor"
   ]
  },
  {
   "cell_type": "code",
   "execution_count": 16,
   "metadata": {},
   "outputs": [
    {
     "name": "stdout",
     "output_type": "stream",
     "text": [
      "    1 +++++++++\n",
      "    2 ++++++++++++\n",
      "    3 ++++++++++++++++++++\n",
      "    5 ++++++++++\n",
      "    7 ++++++++++++\n",
      "    8 ++++++++++++\n",
      "    9 +++++++++++++++\n",
      "   10 ++++++++++++++\n"
     ]
    }
   ],
   "source": [
    "#Ahora para contar cuantos datos hay en el histograma anterior aplico la funcion assci\n",
    "ascci_histogram(data) #Frecuencias absolutas con resultado +"
   ]
  },
  {
   "cell_type": "code",
   "execution_count": null,
   "metadata": {},
   "outputs": [],
   "source": []
  },
  {
   "cell_type": "markdown",
   "metadata": {},
   "source": [
    "### Histogramas con NumPy "
   ]
  },
  {
   "cell_type": "code",
   "execution_count": 7,
   "metadata": {},
   "outputs": [
    {
     "data": {
      "text/plain": [
       "array([14.935,  9.278, 10.855, 10.968, 14.294,  8.459, 11.555, 14.926,\n",
       "       14.316,  9.373])"
      ]
     },
     "execution_count": 7,
     "metadata": {},
     "output_type": "execute_result"
    }
   ],
   "source": [
    "import numpy as np\n",
    "np.random.seed(2019)\n",
    "\n",
    "np.set_printoptions(precision = 3) #Para tener valores solo con 3 decimales\n",
    "\n",
    "#distribuciń la place, \n",
    "x = np.random.laplace(loc = 10, #centrada en 10\n",
    "                     scale = 3, #Factor de escala 3\n",
    "                     size = 1000) #cantidad de muestras 1000\n",
    "x[:10]"
   ]
  },
  {
   "cell_type": "code",
   "execution_count": 17,
   "metadata": {},
   "outputs": [
    {
     "name": "stdout",
     "output_type": "stream",
     "text": [
      "[  1   0   0   8  48 194 542 167  31   9]\n",
      " \n",
      "[-19.167 -14.642 -10.118  -5.593  -1.069   3.455   7.98   12.504  17.029\n",
      "  21.553  26.077]\n",
      " \n",
      "10 11\n"
     ]
    }
   ],
   "source": [
    "#Agrupamos la informacion en intervalos\n",
    "#Objeto hist\n",
    "      #Divisiones usando el objeto hist\n",
    "hist, bin_edges = np.histogram(x)\n",
    "\n",
    "print(hist) #Va a mostrar las frecuencias de cada una de las divisiones\n",
    "\n",
    "print(' ')\n",
    "\n",
    "print(bin_edges) #Para consultar las divisiones\n",
    "\n",
    "#esto se lee:\n",
    "#-19.167 -14.642 hay 1 observación\n",
    "#-14.642 -10.118 hay 0 observación\n",
    "#-10.118  -5.593 hay 0 observación\n",
    "#.... \n",
    "#21.553  26.077 hay 9 observación\n",
    "\n",
    "print(' ')\n",
    "\n",
    "print(hist.size, bin_edges.size) #Aparecen la cantidad de divisiones \n",
    "#y es cerrados por la izquierda y abiertos por la derecha"
   ]
  },
  {
   "cell_type": "code",
   "execution_count": 19,
   "metadata": {},
   "outputs": [
    {
     "data": {
      "text/plain": [
       "array([-19.167, -14.642, -10.118,  -5.593,  -1.069,   3.455,   7.98 ,\n",
       "        12.504,  17.029,  21.553,  26.077])"
      ]
     },
     "execution_count": 19,
     "metadata": {},
     "output_type": "execute_result"
    }
   ],
   "source": [
    "#Obteniendo los valores automaticos de la linea anterior con procedimientos a mano\n",
    "min_edge = x.min() #Valor minimo\n",
    "max_edge = x.max() #Valor maximo\n",
    "\n",
    "n_bins = 10 #Python simula automaticamente ya 10 divisiones\n",
    "bin_edges = np.linspace(start = min_edge,\n",
    "                        stop = max_edge,\n",
    "                        num = n_bins+1,\n",
    "                        endpoint=True) #Incluir el ultimo valor\n",
    "bin_edges"
   ]
  },
  {
   "cell_type": "code",
   "execution_count": 28,
   "metadata": {},
   "outputs": [
    {
     "name": "stdout",
     "output_type": "stream",
     "text": [
      "[1 3 2 1 0 0 0 3 0 0 0 0 0 0 0 0 0 0 0 0 0 0 0 0 0 1]\n",
      " \n",
      "[1 3 2 1 0 0 0 3 0 0 0 0 0 0 0 0 0 0 0 0 0 0 0 0 0 1]\n",
      " \n",
      "True\n",
      " \n"
     ]
    },
    {
     "data": {
      "text/plain": [
       "{0: 1, 1: 3, 2: 2, 3: 1, 7: 3, 25: 1}"
      ]
     },
     "execution_count": 28,
     "metadata": {},
     "output_type": "execute_result"
    }
   ],
   "source": [
    "# bincount solo cuenta los objetos con numeros enteros\n",
    "x1 = (0,1,1,1,2,2,3,7,7,7,25)\n",
    "bcount = np.bincount(x1) #Conteo de los datos por numero\n",
    "print(bcount)\n",
    "\n",
    "print(' ')\n",
    "\n",
    "#Haciendo de forma manual la operacion np.bicount\n",
    "hist, _=np.histogram(x1,\n",
    "                     range = (0, max(x1)),\n",
    "                     bins = max(x1)+1)\n",
    "\n",
    "print(hist)\n",
    "\n",
    "print(' ')\n",
    "\n",
    "#Para verificar que son exactamente iguales bcount y hist hago:\n",
    "print(np.array_equal(bcount,hist)) #Da verdadero significa que son exactamente iguales bcount e hist\n",
    "\n",
    "print(' ')\n",
    "\n",
    "#Creo un diccionario agrupando con zip asi verifico cuantos valores hay de cada numero\n",
    "dict(zip(np.unique(x1),\n",
    "        bcount[bcount.nonzero()]))"
   ]
  },
  {
   "cell_type": "code",
   "execution_count": null,
   "metadata": {},
   "outputs": [],
   "source": []
  },
  {
   "cell_type": "markdown",
   "metadata": {},
   "source": [
    "### Histogramas con Matplotlib y Pandas"
   ]
  },
  {
   "cell_type": "code",
   "execution_count": 3,
   "metadata": {},
   "outputs": [],
   "source": [
    "import matplotlib.pyplot as plt\n",
    "import pandas as pd\n",
    "import numpy as np"
   ]
  },
  {
   "cell_type": "code",
   "execution_count": 42,
   "metadata": {},
   "outputs": [
    {
     "data": {
      "text/plain": [
       "(0.0, 140.0)"
      ]
     },
     "execution_count": 42,
     "metadata": {},
     "output_type": "execute_result"
    },
    {
     "data": {
      "image/png": "[encoded data removed]",
      "text/plain": [
       "<Figure size 432x288 with 1 Axes>"
      ]
     },
     "metadata": {
      "needs_background": "light"
     },
     "output_type": "display_data"
    }
   ],
   "source": [
    "np.random.seed(2019)\n",
    "np.set_printoptions(precision = 3) #Para tener valores solo con 3 decimales\n",
    "\n",
    "#distribuciń la place, \n",
    "x = np.random.laplace(loc = 10, #centrada en 10\n",
    "                     scale = 3, #Factor de escala 3\n",
    "                     size = 1000) #cantidad de muestras 1000\n",
    "\n",
    "#Graficando el histograma\n",
    "n, bins, patches = plt.hist(x = x, #Datos a graficar\n",
    "                            #Para efectos de la grafica el bins auto utiliza regla de\n",
    "                            #freedman ou scot, pero si queremos informar un valor solo escribimos\n",
    "                            #El numero para que haga la grafica con los valores que queramos.\n",
    "                            #Ejemplo, cambiamos 'auto' por un numero 13 y el grafica solamente con 13 variables\n",
    "                           bins = 'auto', #valor por defecto para elegir las divisiones del histograma\n",
    "                           color = '#0505a5', #color en exadecimal\n",
    "                           alpha = 0.75,#Transparencia para que tenga 3/4 de color\n",
    "                           rwidth = 0.85) # grosor de las lineas\n",
    "\n",
    "plt.grid(axis = 'y', #Rayas horizontales\n",
    "         alpha = 0.5) #Transparencia de las rayas horizontales\n",
    "plt.xlabel('Valor')\n",
    "plt.ylabel('Frecuencia')\n",
    "plt.title(\"Histogramade Frecuencias\")\n",
    "plt.text(-10,80, r'$\\mu = 10, \\ b= 3$')\n",
    "#Se adiciona el siguiente codigo para que en el momento de graficar\n",
    "#Tenga los valores en y 10 puntos por encima del valor maximo de la tabla de valores\n",
    "#De esa forma aparece la grafica dentro del cuadro correctamente\n",
    "maxfreq = n.max()\n",
    "plt.ylim(ymax=np.ceil(maxfreq/10)*10 if maxfreq%10 else maxfreq + 10 )"
   ]
  },
  {
   "cell_type": "code",
   "execution_count": 40,
   "metadata": {},
   "outputs": [
    {
     "name": "stdout",
     "output_type": "stream",
     "text": [
      "[  1.   0.   0.   0.   0.   0.   0.   0.   0.   0.   0.   0.   0.   0.\n",
      "   0.   0.   0.   0.   0.   0.   3.   0.   4.   5.   8.   4.   7.  12.\n",
      "  13.  15.  15.  23.  39.  53.  62.  81. 113. 132.  92.  77.  54.  42.\n",
      "  35.  31.  20.  14.   9.  10.   3.   5.   5.   4.   3.   1.   2.   0.\n",
      "   2.   1.]\n",
      " \n",
      "[-19.167 -18.387 -17.606 -16.826 -16.046 -15.266 -14.486 -13.706 -12.926\n",
      " -12.146 -11.366 -10.586  -9.806  -9.026  -8.246  -7.466  -6.685  -5.905\n",
      "  -5.125  -4.345  -3.565  -2.785  -2.005  -1.225  -0.445   0.335   1.115\n",
      "   1.895   2.675   3.455   4.236   5.016   5.796   6.576   7.356   8.136\n",
      "   8.916   9.696  10.476  11.256  12.036  12.816  13.596  14.376  15.157\n",
      "  15.937  16.717  17.497  18.277  19.057  19.837  20.617  21.397  22.177\n",
      "  22.957  23.737  24.517  25.297  26.077]\n",
      " \n",
      "<BarContainer object of 58 artists>\n"
     ]
    }
   ],
   "source": [
    "print(n) #Contiene las frecuencias de cada una de las divisiones\n",
    "\n",
    "print(' ')\n",
    "\n",
    "print(bins) #Extremos de cada uno de los datos del histograma\n",
    "\n",
    "print(' ')\n",
    "\n",
    "print(patches) #Una lista de los 50 objetos del histograma"
   ]
  },
  {
   "cell_type": "code",
   "execution_count": 21,
   "metadata": {},
   "outputs": [
    {
     "data": {
      "image/png": "[encoded data removed]",
      "text/plain": [
       "<Figure size 432x288 with 1 Axes>"
      ]
     },
     "metadata": {
      "needs_background": "light"
     },
     "output_type": "display_data"
    }
   ],
   "source": [
    "# Histograma de pandas usando series (colecciones de datos)\n",
    "size, scale = 1000, 10\n",
    "data = pd.Series(np.random.gamma(scale, size = size))\n",
    "data.plot.hist(grid = True, #Para que agrege rejillas\n",
    "               bins = 20, #20 divisiones\n",
    "               rwidth = 0.9, #Grosor de las lineas\n",
    "               color ='#d52675')\n",
    "plt.title('Distribución Gamma')\n",
    "plt.xlabel('Valores')\n",
    "plt.ylabel('Frecuencias')\n",
    "plt.grid(axis = 'y',\n",
    "         alpha = 0.75)"
   ]
  },
  {
   "cell_type": "markdown",
   "metadata": {},
   "source": [
    "Tarea importar algun data frame e invocar la función plot.hist para ver representada\n",
    "los diferentes histogramas para cada uno de los datos del data Frame"
   ]
  },
  {
   "cell_type": "code",
   "execution_count": null,
   "metadata": {},
   "outputs": [],
   "source": []
  },
  {
   "cell_type": "markdown",
   "metadata": {},
   "source": [
    "### Funciones de densidad en Python"
   ]
  },
  {
   "cell_type": "code",
   "execution_count": 4,
   "metadata": {},
   "outputs": [
    {
     "data": {
      "text/html": [
       "<div>\n",
       "<style scoped>\n",
       "    .dataframe tbody tr th:only-of-type {\n",
       "        vertical-align: middle;\n",
       "    }\n",
       "\n",
       "    .dataframe tbody tr th {\n",
       "        vertical-align: top;\n",
       "    }\n",
       "\n",
       "    .dataframe thead th {\n",
       "        text-align: right;\n",
       "    }\n",
       "</style>\n",
       "<table border=\"1\" class=\"dataframe\">\n",
       "  <thead>\n",
       "    <tr style=\"text-align: right;\">\n",
       "      <th></th>\n",
       "      <th>x1</th>\n",
       "      <th>x2</th>\n",
       "    </tr>\n",
       "  </thead>\n",
       "  <tbody>\n",
       "    <tr>\n",
       "      <th>min</th>\n",
       "      <td>-4.07</td>\n",
       "      <td>14.43</td>\n",
       "    </tr>\n",
       "    <tr>\n",
       "      <th>max</th>\n",
       "      <td>26.06</td>\n",
       "      <td>26.20</td>\n",
       "    </tr>\n",
       "    <tr>\n",
       "      <th>mean</th>\n",
       "      <td>9.90</td>\n",
       "      <td>20.10</td>\n",
       "    </tr>\n",
       "    <tr>\n",
       "      <th>std</th>\n",
       "      <td>4.81</td>\n",
       "      <td>1.99</td>\n",
       "    </tr>\n",
       "  </tbody>\n",
       "</table>\n",
       "</div>"
      ],
      "text/plain": [
       "         x1     x2\n",
       "min   -4.07  14.43\n",
       "max   26.06  26.20\n",
       "mean   9.90  20.10\n",
       "std    4.81   1.99"
      ]
     },
     "execution_count": 4,
     "metadata": {},
     "output_type": "execute_result"
    }
   ],
   "source": [
    "mu = 10, 20 #Media\n",
    "sigma = 5,2  #Desviación estandar\n",
    "dist =pd.DataFrame(np.random.normal(loc =mu,\n",
    "                                   scale = sigma,\n",
    "                                   size = (1000, 2)), columns = ['x1', 'x2'])\n",
    "dist.agg(['min', 'max', 'mean', 'std']).round(decimals = 2)"
   ]
  },
  {
   "cell_type": "code",
   "execution_count": 5,
   "metadata": {},
   "outputs": [
    {
     "data": {
      "image/png": "[encoded data removed]",
      "text/plain": [
       "<Figure size 432x288 with 1 Axes>"
      ]
     },
     "metadata": {
      "needs_background": "light"
     },
     "output_type": "display_data"
    }
   ],
   "source": [
    "fig, ax = plt.subplots()\n",
    "\n",
    "#Grafica las 2 lineas, la azul y la naranja\n",
    "dist.plot.kde(ax = ax,\n",
    "              legend = False,\n",
    "              title = 'Histograma de dos normales')\n",
    "\n",
    "#Grafica las barras, la verde y la roja\n",
    "dist.plot.hist(density = True,\n",
    "               ax = ax)\n",
    "\n",
    "ax.set_ylabel('Probabilidad') #Nombre de probabilidad en el eje Y\n",
    "\n",
    "#Rejilla gris en el eje de las Y\n",
    "ax.grid(axis = 'y',\n",
    "        alpha = 0.75)\n",
    "ax.set_facecolor('#d5d5d5') #Color de fondo"
   ]
  },
  {
   "cell_type": "code",
   "execution_count": 15,
   "metadata": {},
   "outputs": [
    {
     "data": {
      "text/plain": [
       "Text(-2.5, 0.35, '$f(x) = \\\\frac{e^{(-x^2)/2}}{\\\\sqrt{2/pi}}$')"
      ]
     },
     "execution_count": 15,
     "metadata": {},
     "output_type": "execute_result"
    },
    {
     "data": {
      "image/png": "[encoded data removed]",
      "text/plain": [
       "<Figure size 432x288 with 1 Axes>"
      ]
     },
     "metadata": {
      "needs_background": "light"
     },
     "output_type": "display_data"
    }
   ],
   "source": [
    "#Forma analitica de la distribución normal (Parte avanzada del curso)\n",
    "\n",
    "from scipy import stats\n",
    "\n",
    "dist = stats.norm() #Distribución normal teorica N(0,1) - exp(-x**2/2)/sqrt(2*pi)\n",
    "sample = dist.rvs(size = 1000)\n",
    "x = np.linspace(start = stats.norm.ppf(0.01),\n",
    "                stop = stats.norm.ppf(0.99),\n",
    "                num  = 250)\n",
    "gkde = stats.gaussian_kde(dataset = sample) #Valores que salen de la muestra\n",
    "\n",
    "fig, ax = plt.subplots()\n",
    "\n",
    "#Grafica original a partir de los datos generados aleatoriamente.\n",
    "ax.plot(x,\n",
    "       dist.pdf(x),\n",
    "       linestyle = 'solid',\n",
    "       c = 'red',\n",
    "       lw = 3,\n",
    "       alpha = 0.8,\n",
    "       label = 'Distribución normal teorica')\n",
    "\n",
    "#La grafica aproximada que sale a partir de la muestra\n",
    "ax.plot(x, gkde.evaluate(x), \n",
    "        linestyle = 'dashed',\n",
    "        c = 'green',\n",
    "       lw = 2,\n",
    "       label = 'PDF estimada con GKDE')\n",
    "ax.legend(loc = 'best',\n",
    "         frameon = False)\n",
    "ax.set_title('Normal analítica vs estimada')\n",
    "ax.set_ylabel('Probabilidad')\n",
    "ax.text(-2.5, 0.35, #Ajuste del texto en el eje x = -2,5 y = 0,35\n",
    "        r'$f(x) = \\frac{e^{(-x^2)/2}}{\\sqrt{2/pi}}$', #texto en markdawon\n",
    "       fontsize = 20) #Tanaño del texto"
   ]
  },
  {
   "cell_type": "code",
   "execution_count": 17,
   "metadata": {},
   "outputs": [
    {
     "name": "stdout",
     "output_type": "stream",
     "text": [
      "-2.3263478740408408\n",
      "2.3263478740408408\n"
     ]
    }
   ],
   "source": [
    "print(stats.norm.ppf(0.01)) #Percenti 1 de la normal\n",
    "print(stats.norm.ppf(0.99)) #Percentil 99 de la normal"
   ]
  },
  {
   "cell_type": "code",
   "execution_count": null,
   "metadata": {},
   "outputs": [],
   "source": []
  },
  {
   "cell_type": "markdown",
   "metadata": {},
   "source": [
    "### Otras alternativas para representar histogramas"
   ]
  },
  {
   "cell_type": "markdown",
   "metadata": {},
   "source": [
    "#### Histogramas con Seaborn"
   ]
  },
  {
   "cell_type": "code",
   "execution_count": 16,
   "metadata": {},
   "outputs": [],
   "source": [
    "import seaborn as sb"
   ]
  },
  {
   "cell_type": "code",
   "execution_count": 22,
   "metadata": {},
   "outputs": [
    {
     "name": "stderr",
     "output_type": "stream",
     "text": [
      "/home/arturo/anaconda3/lib/python3.8/site-packages/seaborn/distributions.py:2551: FutureWarning: `distplot` is a deprecated function and will be removed in a future version. Please adapt your code to use either `displot` (a figure-level function with similar flexibility) or `histplot` (an axes-level function for histograms).\n",
      "  warnings.warn(msg, FutureWarning)\n"
     ]
    },
    {
     "data": {
      "text/plain": [
       "<AxesSubplot:ylabel='Density'>"
      ]
     },
     "execution_count": 22,
     "metadata": {},
     "output_type": "execute_result"
    },
    {
     "data": {
      "image/png": "[encoded data removed]",
      "text/plain": [
       "<Figure size 432x288 with 1 Axes>"
      ]
     },
     "metadata": {
      "needs_background": "light"
     },
     "output_type": "display_data"
    }
   ],
   "source": [
    "data = pd.Series(np.random.gamma(scale, size = size)) #Función realizada en ejercicio pasado\n",
    "sb.distplot(data) #Grafica"
   ]
  },
  {
   "cell_type": "code",
   "execution_count": 25,
   "metadata": {},
   "outputs": [
    {
     "name": "stderr",
     "output_type": "stream",
     "text": [
      "/home/arturo/anaconda3/lib/python3.8/site-packages/seaborn/distributions.py:2551: FutureWarning: `distplot` is a deprecated function and will be removed in a future version. Please adapt your code to use either `displot` (a figure-level function with similar flexibility) or `histplot` (an axes-level function for histograms).\n",
      "  warnings.warn(msg, FutureWarning)\n"
     ]
    },
    {
     "data": {
      "text/plain": [
       "<AxesSubplot:ylabel='Density'>"
      ]
     },
     "execution_count": 25,
     "metadata": {},
     "output_type": "execute_result"
    },
    {
     "data": {
      "image/png": "[encoded data removed]",
      "text/plain": [
       "<Figure size 432x288 with 1 Axes>"
      ]
     },
     "metadata": {},
     "output_type": "display_data"
    }
   ],
   "source": [
    "np.random.seed(2019)\n",
    "#distribuciń la place, \n",
    "x = np.random.laplace(loc = 10, #centrada en 10\n",
    "                     scale = 3, #Factor de escala 3\n",
    "                     size = 1000) #cantidad de muestras 1000\n",
    "sb.set_style('darkgrid') #Agrego una rejilla oscura en el fondo\n",
    "sb.distplot(x) #Grafica"
   ]
  },
  {
   "cell_type": "code",
   "execution_count": 29,
   "metadata": {},
   "outputs": [
    {
     "name": "stderr",
     "output_type": "stream",
     "text": [
      "/home/arturo/anaconda3/lib/python3.8/site-packages/seaborn/distributions.py:2551: FutureWarning: `distplot` is a deprecated function and will be removed in a future version. Please adapt your code to use either `displot` (a figure-level function with similar flexibility) or `histplot` (an axes-level function for histograms).\n",
      "  warnings.warn(msg, FutureWarning)\n"
     ]
    },
    {
     "data": {
      "text/plain": [
       "<AxesSubplot:ylabel='Density'>"
      ]
     },
     "execution_count": 29,
     "metadata": {},
     "output_type": "execute_result"
    },
    {
     "data": {
      "image/png": "[encoded data removed]",
      "text/plain": [
       "<Figure size 432x288 with 1 Axes>"
      ]
     },
     "metadata": {},
     "output_type": "display_data"
    }
   ],
   "source": [
    "sb.distplot(data, #Conjunto de datos a graficar\n",
    "           fit = stats.laplace) #Para que grafique las lineas laplace"
   ]
  },
  {
   "cell_type": "code",
   "execution_count": 30,
   "metadata": {},
   "outputs": [
    {
     "name": "stderr",
     "output_type": "stream",
     "text": [
      "/home/arturo/anaconda3/lib/python3.8/site-packages/seaborn/distributions.py:2551: FutureWarning: `distplot` is a deprecated function and will be removed in a future version. Please adapt your code to use either `displot` (a figure-level function with similar flexibility) or `histplot` (an axes-level function for histograms).\n",
      "  warnings.warn(msg, FutureWarning)\n"
     ]
    },
    {
     "data": {
      "text/plain": [
       "<AxesSubplot:>"
      ]
     },
     "execution_count": 30,
     "metadata": {},
     "output_type": "execute_result"
    },
    {
     "data": {
      "image/png": "[encoded data removed]",
      "text/plain": [
       "<Figure size 432x288 with 1 Axes>"
      ]
     },
     "metadata": {},
     "output_type": "display_data"
    }
   ],
   "source": [
    "sb.distplot(data, #Conjunto de datos a graficar\n",
    "            fit = stats.laplace,#Para que grafique las lineas laplace\n",
    "            kde = False)  #Elimina la grafica de la distribución de comparación\n",
    "\n",
    "#Realiza la distribución de bonda y ajuste para ver que grafica se adapta mas a los datos de estudio"
   ]
  },
  {
   "cell_type": "code",
   "execution_count": null,
   "metadata": {},
   "outputs": [],
   "source": []
  },
  {
   "cell_type": "code",
   "execution_count": 32,
   "metadata": {},
   "outputs": [
    {
     "name": "stdout",
     "output_type": "stream",
     "text": [
      "9    1817\n",
      "8    1650\n",
      "7    1520\n",
      "6    1288\n",
      "5    1096\n",
      "4     877\n",
      "3     705\n",
      "2     528\n",
      "1     364\n",
      "0     155\n",
      "dtype: int64\n",
      " \n",
      "9    0.1817\n",
      "8    0.1650\n",
      "7    0.1520\n",
      "6    0.1288\n",
      "5    0.1096\n",
      "4    0.0877\n",
      "3    0.0705\n",
      "2    0.0528\n",
      "1    0.0364\n",
      "0    0.0155\n",
      "dtype: float64\n"
     ]
    }
   ],
   "source": [
    "data2 = np.random.choice(np.arange(10),\n",
    "                         size = 10000,\n",
    "                         p = np.linspace(1,11,10)/60)\n",
    "\n",
    "#Transformo en objeto series\n",
    "s = pd.Series(data2)\n",
    "print(s.value_counts()) #Frecuencias absolutas\n",
    "\n",
    "print(' ')\n",
    "\n",
    "print(s.value_counts(normalize=True)) #Frecuencias relativas"
   ]
  },
  {
   "cell_type": "code",
   "execution_count": 36,
   "metadata": {},
   "outputs": [
    {
     "name": "stdout",
     "output_type": "stream",
     "text": [
      "0            infancia\n",
      "1            infancia\n",
      "2            infancia\n",
      "3            infancia\n",
      "4            infancia\n",
      "5            infancia\n",
      "6            infancia\n",
      "7            infancia\n",
      "8     preadolescencia\n",
      "9     preadolescencia\n",
      "10       adolescencia\n",
      "11       adolescencia\n",
      "12       adolescencia\n",
      "13      universitario\n",
      "14             adulto\n",
      "15             adulto\n",
      "16             adulto\n",
      "17             adulto\n",
      "18             adulto\n",
      "dtype: category\n",
      "Categories (5, object): ['infancia' < 'preadolescencia' < 'adolescencia' < 'universitario' < 'adulto']\n",
      " \n",
      "infancia           8\n",
      "adulto             5\n",
      "adolescencia       3\n",
      "preadolescencia    2\n",
      "universitario      1\n",
      "dtype: int64\n"
     ]
    }
   ],
   "source": [
    "ages = pd.Series([1,1,3,5,6,8,9,10,12,15,18,18,18,20,25,30,40,51,52])\n",
    "bins = (0,10,15,18,21,np.inf) #Extremos de los intervalos para dividir la información\n",
    "labels = ('infancia', 'preadolescencia','adolescencia','universitario','adulto')\n",
    "groups = pd.cut(ages,\n",
    "               bins = bins, #Lo considera como factores ordenados\n",
    "               labels = labels)\n",
    "print(groups)\n",
    "\n",
    "print(' ')\n",
    "\n",
    "print(groups.value_counts())"
   ]
  },
  {
   "cell_type": "code",
   "execution_count": 38,
   "metadata": {},
   "outputs": [
    {
     "data": {
      "text/html": [
       "<div>\n",
       "<style scoped>\n",
       "    .dataframe tbody tr th:only-of-type {\n",
       "        vertical-align: middle;\n",
       "    }\n",
       "\n",
       "    .dataframe tbody tr th {\n",
       "        vertical-align: top;\n",
       "    }\n",
       "\n",
       "    .dataframe thead th {\n",
       "        text-align: right;\n",
       "    }\n",
       "</style>\n",
       "<table border=\"1\" class=\"dataframe\">\n",
       "  <thead>\n",
       "    <tr style=\"text-align: right;\">\n",
       "      <th></th>\n",
       "      <th>age</th>\n",
       "      <th>groups</th>\n",
       "    </tr>\n",
       "  </thead>\n",
       "  <tbody>\n",
       "    <tr>\n",
       "      <th>0</th>\n",
       "      <td>1</td>\n",
       "      <td>infancia</td>\n",
       "    </tr>\n",
       "    <tr>\n",
       "      <th>1</th>\n",
       "      <td>1</td>\n",
       "      <td>infancia</td>\n",
       "    </tr>\n",
       "    <tr>\n",
       "      <th>2</th>\n",
       "      <td>3</td>\n",
       "      <td>infancia</td>\n",
       "    </tr>\n",
       "    <tr>\n",
       "      <th>3</th>\n",
       "      <td>5</td>\n",
       "      <td>infancia</td>\n",
       "    </tr>\n",
       "    <tr>\n",
       "      <th>4</th>\n",
       "      <td>6</td>\n",
       "      <td>infancia</td>\n",
       "    </tr>\n",
       "    <tr>\n",
       "      <th>5</th>\n",
       "      <td>8</td>\n",
       "      <td>infancia</td>\n",
       "    </tr>\n",
       "    <tr>\n",
       "      <th>6</th>\n",
       "      <td>9</td>\n",
       "      <td>infancia</td>\n",
       "    </tr>\n",
       "    <tr>\n",
       "      <th>7</th>\n",
       "      <td>10</td>\n",
       "      <td>infancia</td>\n",
       "    </tr>\n",
       "    <tr>\n",
       "      <th>8</th>\n",
       "      <td>12</td>\n",
       "      <td>preadolescencia</td>\n",
       "    </tr>\n",
       "    <tr>\n",
       "      <th>9</th>\n",
       "      <td>15</td>\n",
       "      <td>preadolescencia</td>\n",
       "    </tr>\n",
       "    <tr>\n",
       "      <th>10</th>\n",
       "      <td>18</td>\n",
       "      <td>adolescencia</td>\n",
       "    </tr>\n",
       "    <tr>\n",
       "      <th>11</th>\n",
       "      <td>18</td>\n",
       "      <td>adolescencia</td>\n",
       "    </tr>\n",
       "    <tr>\n",
       "      <th>12</th>\n",
       "      <td>18</td>\n",
       "      <td>adolescencia</td>\n",
       "    </tr>\n",
       "    <tr>\n",
       "      <th>13</th>\n",
       "      <td>20</td>\n",
       "      <td>universitario</td>\n",
       "    </tr>\n",
       "    <tr>\n",
       "      <th>14</th>\n",
       "      <td>25</td>\n",
       "      <td>adulto</td>\n",
       "    </tr>\n",
       "    <tr>\n",
       "      <th>15</th>\n",
       "      <td>30</td>\n",
       "      <td>adulto</td>\n",
       "    </tr>\n",
       "    <tr>\n",
       "      <th>16</th>\n",
       "      <td>40</td>\n",
       "      <td>adulto</td>\n",
       "    </tr>\n",
       "    <tr>\n",
       "      <th>17</th>\n",
       "      <td>51</td>\n",
       "      <td>adulto</td>\n",
       "    </tr>\n",
       "    <tr>\n",
       "      <th>18</th>\n",
       "      <td>52</td>\n",
       "      <td>adulto</td>\n",
       "    </tr>\n",
       "  </tbody>\n",
       "</table>\n",
       "</div>"
      ],
      "text/plain": [
       "    age           groups\n",
       "0     1         infancia\n",
       "1     1         infancia\n",
       "2     3         infancia\n",
       "3     5         infancia\n",
       "4     6         infancia\n",
       "5     8         infancia\n",
       "6     9         infancia\n",
       "7    10         infancia\n",
       "8    12  preadolescencia\n",
       "9    15  preadolescencia\n",
       "10   18     adolescencia\n",
       "11   18     adolescencia\n",
       "12   18     adolescencia\n",
       "13   20    universitario\n",
       "14   25           adulto\n",
       "15   30           adulto\n",
       "16   40           adulto\n",
       "17   51           adulto\n",
       "18   52           adulto"
      ]
     },
     "execution_count": 38,
     "metadata": {},
     "output_type": "execute_result"
    }
   ],
   "source": [
    "#Concatenando ages y groups\n",
    "pd.concat((ages,groups), \n",
    "                   #Creo un diccionario para agregar el titulo\n",
    "           axis = 1).rename(columns = {0:'age', 1:'groups'})"
   ]
  },
  {
   "cell_type": "code",
   "execution_count": null,
   "metadata": {},
   "outputs": [],
   "source": []
  }
 ],
 "metadata": {
  "kernelspec": {
   "display_name": "Python 3",
   "language": "python",
   "name": "python3"
  },
  "language_info": {
   "codemirror_mode": {
    "name": "ipython",
    "version": 3
   },
   "file_extension": ".py",
   "mimetype": "text/x-python",
   "name": "python",
   "nbconvert_exporter": "python",
   "pygments_lexer": "ipython3",
   "version": "3.8.5"
  }
 },
 "nbformat": 4,
 "nbformat_minor": 4
}
